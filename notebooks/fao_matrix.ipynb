{
 "cells": [
  {
   "cell_type": "code",
   "execution_count": null,
   "id": "7cb95f1a-fafe-402e-8414-b17de6a56160",
   "metadata": {},
   "outputs": [],
   "source": [
    "import os\n",
    "os.getcwd()\n",
    "os.chdir(\"..\")\n",
    "import utils.functions as fc\n",
    "import utils.fao as fao"
   ]
  },
  {
   "cell_type": "code",
   "execution_count": null,
   "id": "66c41d68-c811-4a51-9cc1-9b0f93f75276",
   "metadata": {},
   "outputs": [],
   "source": [
    "from importlib import reload\n",
    "fao = reload(fao)\n",
    "fc = reload(fc)"
   ]
  },
  {
   "cell_type": "code",
   "execution_count": null,
   "id": "ed0fa848-a477-4b4c-9c7c-2a9934c94c4d",
   "metadata": {},
   "outputs": [],
   "source": [
    "fao_df = fao.import_fao_matrix()"
   ]
  },
  {
   "cell_type": "code",
   "execution_count": null,
   "id": "239ad309-dc2c-43fe-a568-11dc4b0ef3f2",
   "metadata": {},
   "outputs": [],
   "source": [
    "fao_df_ukr = fao.extract_ukraine_exports(fao_df)"
   ]
  },
  {
   "cell_type": "code",
   "execution_count": null,
   "id": "3ac54462-1de3-44f4-b7da-d4f3afa77343",
   "metadata": {},
   "outputs": [],
   "source": [
    "import utils.export as export\n",
    "export.export2minio(\"cereal_export_by_ukraine_2019.csv\", fao_df_ukr, \"projet-hackathon-un-2022/open-data/FAO/\")"
   ]
  }
 ],
 "metadata": {
  "kernelspec": {
   "display_name": "Python 3 (ipykernel)",
   "language": "python",
   "name": "python3"
  },
  "language_info": {
   "codemirror_mode": {
    "name": "ipython",
    "version": 3
   },
   "file_extension": ".py",
   "mimetype": "text/x-python",
   "name": "python",
   "nbconvert_exporter": "python",
   "pygments_lexer": "ipython3",
   "version": "3.10.4"
  }
 },
 "nbformat": 4,
 "nbformat_minor": 5
}
