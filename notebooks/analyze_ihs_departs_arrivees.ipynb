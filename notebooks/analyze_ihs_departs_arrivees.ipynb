{
 "cells": [
  {
   "cell_type": "code",
   "execution_count": 13,
   "id": "5af23c40-ade4-4c59-81fd-77222ff61637",
   "metadata": {},
   "outputs": [
    {
     "data": {
      "text/plain": [
       "'/home/onyxia/work'"
      ]
     },
     "execution_count": 13,
     "metadata": {},
     "output_type": "execute_result"
    }
   ],
   "source": [
    "import os\n",
    "os.getcwd()"
   ]
  },
  {
   "cell_type": "code",
   "execution_count": 14,
   "id": "a7152815-3848-4991-8b2f-e0a25583b51a",
   "metadata": {},
   "outputs": [],
   "source": [
    "os.chdir(\"..\")\n",
    "import utils.functions as fc\n",
    "import utils.indicators as indic"
   ]
  },
  {
   "cell_type": "code",
   "execution_count": 35,
   "id": "b0b8fda6-f99b-4d23-8195-3bdc128763bd",
   "metadata": {},
   "outputs": [],
   "source": [
    "from importlib import reload\n",
    "fc = reload(fc)\n",
    "indic = reload(indic)"
   ]
  },
  {
   "cell_type": "code",
   "execution_count": 5,
   "id": "11332f55-ada8-4805-bca8-c836d4f5277a",
   "metadata": {},
   "outputs": [],
   "source": [
    "ship_data_enriched = fc.create_ship_data_enriched()"
   ]
  },
  {
   "cell_type": "code",
   "execution_count": 6,
   "id": "a19cb760-00d9-4d20-b5d3-f8a006138849",
   "metadata": {},
   "outputs": [],
   "source": [
    "ais = fc.read_ais_parquet()"
   ]
  },
  {
   "cell_type": "code",
   "execution_count": 7,
   "id": "02e098a1-75cb-40b8-adcb-dcf36fc9df32",
   "metadata": {},
   "outputs": [
    {
     "data": {
      "text/plain": [
       "(4406590, 6)"
      ]
     },
     "execution_count": 7,
     "metadata": {},
     "output_type": "execute_result"
    }
   ],
   "source": [
    "ais.shape"
   ]
  },
  {
   "cell_type": "code",
   "execution_count": 8,
   "id": "faea1e6b-dcc9-474d-9236-54039705d37f",
   "metadata": {},
   "outputs": [],
   "source": [
    "ais_enriched = fc.enrich_AIS_data(ais, ship_data_enriched)"
   ]
  },
  {
   "cell_type": "code",
   "execution_count": 18,
   "id": "0968e1c4-b968-4f37-86bf-0695aff17431",
   "metadata": {},
   "outputs": [],
   "source": [
    "#ais_enriched = fc.filter_cargo(ais_enriched)"
   ]
  },
  {
   "cell_type": "code",
   "execution_count": 9,
   "id": "cd84dee9-edbe-45eb-8d43-3a556d114c03",
   "metadata": {},
   "outputs": [
    {
     "data": {
      "text/plain": [
       "(3326041, 125)"
      ]
     },
     "execution_count": 9,
     "metadata": {},
     "output_type": "execute_result"
    }
   ],
   "source": [
    "ais_enriched.shape"
   ]
  },
  {
   "cell_type": "code",
   "execution_count": 16,
   "id": "1193ffc9-3143-4987-99ef-637c6d9c8d66",
   "metadata": {},
   "outputs": [
    {
     "name": "stderr",
     "output_type": "stream",
     "text": [
      "/home/onyxia/work/hackathon-un-2022/utils/indicators.py:14: FutureWarning: The error_bad_lines argument has been deprecated and will be removed in a future version. Use on_bad_lines in the future.\n",
      "\n",
      "\n",
      "  ais_enriched = pd.merge(ais_enriched, mmsi_number, on=[\"Digit\"], how=\"left\")\n"
     ]
    },
    {
     "name": "stdout",
     "output_type": "stream",
     "text": [
      "Classification of flag country\n",
      "Russian Federation                                                                   387\n",
      "Republic of Türkiye                                                                  158\n",
      "Panama (Republic of)                                                                 120\n",
      "Malta                                                                                 70\n",
      "Liberia (Republic of)                                                                 54\n",
      "Romania                                                                               47\n",
      "Marshall Islands (Republic of the)                                                    47\n",
      "Bulgaria (Republic of)                                                                36\n",
      "Ukraine                                                                               26\n",
      "Comoros (Union of the)                                                                21\n",
      "Sierra Leone                                                                          20\n",
      "Tanzania (United Republic of)                                                         18\n",
      "Belize                                                                                15\n",
      "Georgia                                                                               13\n",
      "Greece                                                                                12\n",
      "Togolese Republic                                                                     12\n",
      "New Zealand - Cook Islands                                                             9\n",
      "Singapore (Republic of)                                                                8\n",
      "Palau (Republic of)                                                                    8\n",
      "Vanuatu (Republic of)                                                                  7\n",
      "Saint Vincent and the Grenadines                                                       7\n",
      "Antigua and Barbuda                                                                    6\n",
      "Bahamas (Commonwealth of the)                                                          6\n",
      "China (People's Republic of) - Hong Kong (Special Administrative Region of China)      6\n",
      "Netherlands (Kingdom of the)                                                           6\n",
      "Norway                                                                                 6\n",
      "Portugal - Madeira                                                                     6\n",
      "Moldova (Republic of)                                                                  5\n",
      "Azerbaijan (Republic of)                                                               5\n",
      "Cyprus (Republic of)                                                                   4\n",
      "United Kingdom of Great Britain and Northern Ireland - Cayman Islands                  4\n",
      "Saint Kitts and Nevis (Federation of)                                                  4\n",
      "Egypt (Arab Republic of)                                                               3\n",
      "Denmark                                                                                2\n",
      "Germany (Federal Republic of)                                                          2\n",
      "China (People's Republic of)                                                           2\n",
      "Slovak Republic                                                                        2\n",
      "Italy                                                                                  2\n",
      "Barbados                                                                               2\n",
      "Syrian Arab Republic                                                                   1\n",
      "Pakistan (Islamic Republic of)                                                         1\n",
      "Lebanon                                                                                1\n",
      "United Kingdom of Great Britain and Northern Ireland - Gibraltar                       1\n",
      "Tuvalu                                                                                 1\n",
      "Honduras (Republic of)                                                                 1\n",
      "Serbia (Republic of)                                                                   1\n",
      "Croatia (Republic of)                                                                  1\n",
      "Switzerland (Confederation of)                                                         1\n",
      "Name: origin_flag, dtype: int64\n",
      "Number of missing origin flag\n",
      "(0, 127)\n"
     ]
    }
   ],
   "source": [
    "# function qui assigne le pays d'origine\n",
    "ais_enriched2, origin_countries = indic.assign_country_flag(ais_enriched)"
   ]
  },
  {
   "cell_type": "code",
   "execution_count": 17,
   "id": "dc6270d7-5b3e-4c1f-9696-07aab070c44e",
   "metadata": {},
   "outputs": [
    {
     "data": {
      "text/plain": [
       "1177"
      ]
     },
     "execution_count": 17,
     "metadata": {},
     "output_type": "execute_result"
    }
   ],
   "source": [
    "ais_enriched2[\"mmsi\"].nunique()"
   ]
  },
  {
   "cell_type": "code",
   "execution_count": 36,
   "id": "c99b8070-a845-4a2c-9a78-e404c14c64eb",
   "metadata": {},
   "outputs": [
    {
     "name": "stdout",
     "output_type": "stream",
     "text": [
      "Number of unique destination ports\n",
      "4003\n",
      "shape of ais\n",
      "(3326041, 129)\n",
      "shape of ais filtered with no na destination\n",
      "(3040578, 129)\n",
      "Fuzzy matching in process\n"
     ]
    },
    {
     "name": "stderr",
     "output_type": "stream",
     "text": [
      "/home/onyxia/work/hackathon-un-2022/utils/indicators.py:145: SettingWithCopyWarning: \n",
      "A value is trying to be set on a copy of a slice from a DataFrame.\n",
      "Try using .loc[row_indexer,col_indexer] = value instead\n",
      "\n",
      "See the caveats in the documentation: https://pandas.pydata.org/pandas-docs/stable/user_guide/indexing.html#returning-a-view-versus-a-copy\n",
      "  res_fuz_match2[\"true_match\"] = np.nan\n",
      "/home/onyxia/work/hackathon-un-2022/utils/indicators.py:150: SettingWithCopyWarning: \n",
      "A value is trying to be set on a copy of a slice from a DataFrame.\n",
      "Try using .loc[row_indexer,col_indexer] = value instead\n",
      "\n",
      "See the caveats in the documentation: https://pandas.pydata.org/pandas-docs/stable/user_guide/indexing.html#returning-a-view-versus-a-copy\n",
      "  res_fuz_match2[\"matched_destination_country\"] = np.nan\n"
     ]
    },
    {
     "name": "stdout",
     "output_type": "stream",
     "text": [
      "Classification of destination countries\n",
      "Turkey           73\n",
      "Russia           73\n",
      "Germany          51\n",
      "Romania          43\n",
      "Ukraine          39\n",
      "                 ..\n",
      "Peru              1\n",
      "Cote D'Ivoire     1\n",
      "Madagascar        1\n",
      "The Bahamas       1\n",
      "Colombia          1\n",
      "Name: matched_destination_country, Length: 86, dtype: int64\n",
      "Percentage of boat with matched countries\n",
      "0.655933762649494\n"
     ]
    }
   ],
   "source": [
    "ais_enriched3, res_fuz_match2 = indic.fuzzy_match_destination_country(ais_enriched2)"
   ]
  },
  {
   "cell_type": "code",
   "execution_count": 37,
   "id": "4ec8587a-ed86-4722-965b-ba3ba287cc41",
   "metadata": {},
   "outputs": [
    {
     "data": {
      "text/html": [
       "<div>\n",
       "<style scoped>\n",
       "    .dataframe tbody tr th:only-of-type {\n",
       "        vertical-align: middle;\n",
       "    }\n",
       "\n",
       "    .dataframe tbody tr th {\n",
       "        vertical-align: top;\n",
       "    }\n",
       "\n",
       "    .dataframe thead th {\n",
       "        text-align: right;\n",
       "    }\n",
       "</style>\n",
       "<table border=\"1\" class=\"dataframe\">\n",
       "  <thead>\n",
       "    <tr style=\"text-align: right;\">\n",
       "      <th></th>\n",
       "      <th>mmsi</th>\n",
       "      <th>matched_destination_country</th>\n",
       "      <th>matched_destination_port</th>\n",
       "      <th>ratio1</th>\n",
       "      <th>raw_port_destination</th>\n",
       "    </tr>\n",
       "  </thead>\n",
       "  <tbody>\n",
       "    <tr>\n",
       "      <th>0</th>\n",
       "      <td>207008000</td>\n",
       "      <td>Georgia</td>\n",
       "      <td>POTI</td>\n",
       "      <td>100.000000</td>\n",
       "      <td>POTI</td>\n",
       "    </tr>\n",
       "    <tr>\n",
       "      <th>1</th>\n",
       "      <td>207037000</td>\n",
       "      <td>Bulgaria</td>\n",
       "      <td>VARNA</td>\n",
       "      <td>100.000000</td>\n",
       "      <td>VARNA</td>\n",
       "    </tr>\n",
       "    <tr>\n",
       "      <th>2</th>\n",
       "      <td>207038000</td>\n",
       "      <td>Denmark</td>\n",
       "      <td>ODENSE</td>\n",
       "      <td>83.333333</td>\n",
       "      <td>OPENSEA</td>\n",
       "    </tr>\n",
       "    <tr>\n",
       "      <th>3</th>\n",
       "      <td>207133000</td>\n",
       "      <td>Bulgaria</td>\n",
       "      <td>VARNA</td>\n",
       "      <td>100.000000</td>\n",
       "      <td>VARNA</td>\n",
       "    </tr>\n",
       "    <tr>\n",
       "      <th>4</th>\n",
       "      <td>207228000</td>\n",
       "      <td>Bulgaria</td>\n",
       "      <td>VARNA</td>\n",
       "      <td>100.000000</td>\n",
       "      <td>VARNA</td>\n",
       "    </tr>\n",
       "  </tbody>\n",
       "</table>\n",
       "</div>"
      ],
      "text/plain": [
       "        mmsi matched_destination_country matched_destination_port      ratio1  \\\n",
       "0  207008000                     Georgia                     POTI  100.000000   \n",
       "1  207037000                    Bulgaria                    VARNA  100.000000   \n",
       "2  207038000                     Denmark                   ODENSE   83.333333   \n",
       "3  207133000                    Bulgaria                    VARNA  100.000000   \n",
       "4  207228000                    Bulgaria                    VARNA  100.000000   \n",
       "\n",
       "  raw_port_destination  \n",
       "0                 POTI  \n",
       "1                VARNA  \n",
       "2              OPENSEA  \n",
       "3                VARNA  \n",
       "4                VARNA  "
      ]
     },
     "execution_count": 37,
     "metadata": {},
     "output_type": "execute_result"
    }
   ],
   "source": [
    "res_fuz_match2.head()"
   ]
  },
  {
   "cell_type": "code",
   "execution_count": 38,
   "id": "c9569814-25ec-4948-9f4c-4b1299814837",
   "metadata": {},
   "outputs": [
    {
     "data": {
      "text/plain": [
       "(713, 5)"
      ]
     },
     "execution_count": 38,
     "metadata": {},
     "output_type": "execute_result"
    }
   ],
   "source": [
    "res_fuz_match2.shape"
   ]
  },
  {
   "cell_type": "code",
   "execution_count": null,
   "id": "fc1c9bb8-c674-42fd-965f-3b4d13ecbf27",
   "metadata": {},
   "outputs": [],
   "source": []
  }
 ],
 "metadata": {
  "kernelspec": {
   "display_name": "Python 3 (ipykernel)",
   "language": "python",
   "name": "python3"
  },
  "language_info": {
   "codemirror_mode": {
    "name": "ipython",
    "version": 3
   },
   "file_extension": ".py",
   "mimetype": "text/x-python",
   "name": "python",
   "nbconvert_exporter": "python",
   "pygments_lexer": "ipython3",
   "version": "3.10.4"
  }
 },
 "nbformat": 4,
 "nbformat_minor": 5
}
