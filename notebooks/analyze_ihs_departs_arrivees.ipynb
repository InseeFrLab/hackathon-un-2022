{
 "cells": [
  {
   "cell_type": "code",
   "execution_count": 48,
   "id": "5af23c40-ade4-4c59-81fd-77222ff61637",
   "metadata": {},
   "outputs": [
    {
     "data": {
      "text/plain": [
       "'/home'"
      ]
     },
     "execution_count": 48,
     "metadata": {},
     "output_type": "execute_result"
    }
   ],
   "source": [
    "import os\n",
    "os.getcwd()"
   ]
  },
  {
   "cell_type": "code",
   "execution_count": 49,
   "id": "a7152815-3848-4991-8b2f-e0a25583b51a",
   "metadata": {},
   "outputs": [],
   "source": [
    "os.chdir(\"..\")\n",
    "import utils.functions as fc\n",
    "import utils.indicators as indic"
   ]
  },
  {
   "cell_type": "code",
   "execution_count": 50,
   "id": "b0b8fda6-f99b-4d23-8195-3bdc128763bd",
   "metadata": {},
   "outputs": [],
   "source": [
    "from importlib import reload\n",
    "fc = reload(fc)\n",
    "indic = reload(indic)"
   ]
  },
  {
   "cell_type": "code",
   "execution_count": 51,
   "id": "11332f55-ada8-4805-bca8-c836d4f5277a",
   "metadata": {},
   "outputs": [],
   "source": [
    "ship_data_enriched = fc.create_ship_data_enriched()"
   ]
  },
  {
   "cell_type": "code",
   "execution_count": 52,
   "id": "a19cb760-00d9-4d20-b5d3-f8a006138849",
   "metadata": {},
   "outputs": [],
   "source": [
    "ais = fc.read_ais_parquet()"
   ]
  },
  {
   "cell_type": "code",
   "execution_count": 53,
   "id": "02e098a1-75cb-40b8-adcb-dcf36fc9df32",
   "metadata": {},
   "outputs": [
    {
     "data": {
      "text/plain": [
       "(4406590, 6)"
      ]
     },
     "execution_count": 53,
     "metadata": {},
     "output_type": "execute_result"
    }
   ],
   "source": [
    "ais.shape"
   ]
  },
  {
   "cell_type": "code",
   "execution_count": 54,
   "id": "faea1e6b-dcc9-474d-9236-54039705d37f",
   "metadata": {},
   "outputs": [],
   "source": [
    "ais_enriched = fc.enrich_AIS_data(ais, ship_data_enriched)"
   ]
  },
  {
   "cell_type": "code",
   "execution_count": 18,
   "id": "0968e1c4-b968-4f37-86bf-0695aff17431",
   "metadata": {},
   "outputs": [],
   "source": [
    "#ais_enriched = fc.filter_cargo(ais_enriched)"
   ]
  },
  {
   "cell_type": "code",
   "execution_count": 11,
   "id": "cd84dee9-edbe-45eb-8d43-3a556d114c03",
   "metadata": {},
   "outputs": [
    {
     "data": {
      "text/plain": [
       "(2634715, 125)"
      ]
     },
     "execution_count": 11,
     "metadata": {},
     "output_type": "execute_result"
    }
   ],
   "source": [
    "ais_enriched.shape"
   ]
  },
  {
   "cell_type": "code",
   "execution_count": 55,
   "id": "1193ffc9-3143-4987-99ef-637c6d9c8d66",
   "metadata": {},
   "outputs": [
    {
     "name": "stderr",
     "output_type": "stream",
     "text": [
      "/home/onyxia/work/hackathon-un-2022/utils/indicators.py:10: FutureWarning: The error_bad_lines argument has been deprecated and will be removed in a future version. Use on_bad_lines in the future.\n",
      "\n",
      "\n",
      "  mmsi_number = pd.read_csv(fs.open(f'{BUCKET}/AIS/mmid.csv',\n"
     ]
    },
    {
     "name": "stdout",
     "output_type": "stream",
     "text": [
      "Classification of origin country\n",
      "Russian Federation                                                                   387\n",
      "Republic of Türkiye                                                                  158\n",
      "Panama (Republic of)                                                                 120\n",
      "Malta                                                                                 70\n",
      "Liberia (Republic of)                                                                 54\n",
      "Romania                                                                               47\n",
      "Marshall Islands (Republic of the)                                                    47\n",
      "Bulgaria (Republic of)                                                                36\n",
      "Ukraine                                                                               26\n",
      "Comoros (Union of the)                                                                21\n",
      "Sierra Leone                                                                          20\n",
      "Tanzania (United Republic of)                                                         18\n",
      "Belize                                                                                15\n",
      "Georgia                                                                               13\n",
      "Greece                                                                                12\n",
      "Togolese Republic                                                                     12\n",
      "New Zealand - Cook Islands                                                             9\n",
      "Singapore (Republic of)                                                                8\n",
      "Palau (Republic of)                                                                    8\n",
      "Vanuatu (Republic of)                                                                  7\n",
      "Saint Vincent and the Grenadines                                                       7\n",
      "Antigua and Barbuda                                                                    6\n",
      "Bahamas (Commonwealth of the)                                                          6\n",
      "China (People's Republic of) - Hong Kong (Special Administrative Region of China)      6\n",
      "Netherlands (Kingdom of the)                                                           6\n",
      "Norway                                                                                 6\n",
      "Portugal - Madeira                                                                     6\n",
      "Moldova (Republic of)                                                                  5\n",
      "Azerbaijan (Republic of)                                                               5\n",
      "Cyprus (Republic of)                                                                   4\n",
      "United Kingdom of Great Britain and Northern Ireland - Cayman Islands                  4\n",
      "Saint Kitts and Nevis (Federation of)                                                  4\n",
      "Egypt (Arab Republic of)                                                               3\n",
      "Denmark                                                                                2\n",
      "Germany (Federal Republic of)                                                          2\n",
      "China (People's Republic of)                                                           2\n",
      "Slovak Republic                                                                        2\n",
      "Italy                                                                                  2\n",
      "Barbados                                                                               2\n",
      "Syrian Arab Republic                                                                   1\n",
      "Pakistan (Islamic Republic of)                                                         1\n",
      "Lebanon                                                                                1\n",
      "United Kingdom of Great Britain and Northern Ireland - Gibraltar                       1\n",
      "Tuvalu                                                                                 1\n",
      "Honduras (Republic of)                                                                 1\n",
      "Serbia (Republic of)                                                                   1\n",
      "Croatia (Republic of)                                                                  1\n",
      "Switzerland (Confederation of)                                                         1\n",
      "Name: origin_country, dtype: int64\n",
      "Number of missing origin country\n",
      "(0, 127)\n"
     ]
    }
   ],
   "source": [
    "# function qui assigne le pays d'origine\n",
    "ais_enriched2, origin_countries = indic.assign_country_origin(ais_enriched)"
   ]
  },
  {
   "cell_type": "code",
   "execution_count": 36,
   "id": "58e97401-9d35-476e-a833-827c4358dc25",
   "metadata": {},
   "outputs": [
    {
     "data": {
      "text/plain": [
       "<pandas._config.config.option_context at 0x7f2319de0700>"
      ]
     },
     "execution_count": 36,
     "metadata": {},
     "output_type": "execute_result"
    }
   ],
   "source": [
    "import pandas as pd\n",
    "pd.option_context('display.max_rows', None)"
   ]
  },
  {
   "cell_type": "code",
   "execution_count": 57,
   "id": "dc6270d7-5b3e-4c1f-9696-07aab070c44e",
   "metadata": {},
   "outputs": [
    {
     "data": {
      "text/plain": [
       "1177"
      ]
     },
     "execution_count": 57,
     "metadata": {},
     "output_type": "execute_result"
    }
   ],
   "source": [
    "ais_enriched3[\"mmsi\"].nunique()"
   ]
  },
  {
   "cell_type": "code",
   "execution_count": 56,
   "id": "06b2e8c7-f540-4a12-b0e8-4a659315bf60",
   "metadata": {},
   "outputs": [
    {
     "name": "stdout",
     "output_type": "stream",
     "text": [
      "Percentage missing destination port\n",
      "0.06966864910790145\n",
      "Number missing destination port\n",
      "82\n",
      "mmsi\n",
      "207008000    [POTI, VARNA, NECOCHEA, CHORNOMORSK, CHERNOMORSK]\n",
      "207037000    [VARNA, SMEDEREVO, VARNA     ORAGE, JP SGM NAK...\n",
      "207038000                              [OPENSEA, PP#23, VARNA]\n",
      "207094000                                               [None]\n",
      "207095000                                               [None]\n",
      "                                   ...                        \n",
      "677075600    [KHERSON/UKRAINE, BANDIRMA/TURKEY, LULA FIELD,...\n",
      "677080700                  [ROSTOV / RUSSIA, BANDIRMA, RU ROV]\n",
      "677085700                           [RASA, ALEXANDRIA, UA NIK]\n",
      "677092400                  [BANGHAZI / LIBYA, 0, JP OIT, None]\n",
      "677096200                      [MISURATA, NLKAM10084HRARE0001]\n",
      "Name: destination, Length: 1177, dtype: object\n",
      "Classification of destination countries\n",
      "Turkey                                           114\n",
      "Russia                                            90\n",
      "Romania                                           51\n",
      "Bulgaria                                          36\n",
      "Ukraine                                           33\n",
      "                                                ... \n",
      "Northern Mariana Islands                           1\n",
      "Hong Kong                                          1\n",
      "Lithuania                                          1\n",
      "Saint Helena, Ascension, and Tristan da Cunha      1\n",
      "Tunisia                                            1\n",
      "Name: destination_country, Length: 72, dtype: int64\n",
      "(622, 2)\n",
      "0.5284621920135939\n"
     ]
    }
   ],
   "source": [
    "# fonction that assigns a destination country\n",
    "ais_enriched3, destination_ports = indic.assign_destination_country(ais_enriched2)"
   ]
  },
  {
   "cell_type": "code",
   "execution_count": 347,
   "id": "190aaa08-a3c7-4ec9-bbaf-712336340ed7",
   "metadata": {},
   "outputs": [],
   "source": [
    "\n",
    "def check_distance_levenshtein(data: pd.DataFrame, variables=None) -> pd.DataFrame:\n",
    "    \"\"\"\n",
    "    Compute levenshtein distance between list of columns of a Pandas DataFrame\n",
    "    Parameters\n",
    "    ----------\n",
    "    data: Pandas dataframe with some columns to be compared\n",
    "    variables: List of variables from which distance will be computed. The first one will be used as benchmark\n",
    "    Returns\n",
    "    -------\n",
    "    Initial dataframe with new columns representing levenshtein ratio (computed using :meth:`rapidfuzz.fuzz.partial_ratio`)\n",
    "    between variables\n",
    "    \"\"\"\n",
    "\n",
    "    if variables is None:\n",
    "        variables = ['libel_clean_relevanc', 'libel_clean_OFF', 'libel_clean_IRI']\n",
    "\n",
    "    data[variables] = data[variables].astype(str)\n",
    "    newvars = [\"ratio{}\".format(str(i)) for i in range(1, len(variables))]\n",
    "    data[newvars] = pd.concat(\n",
    "        [data.apply(lambda x: rapidfuzz.fuzz.partial_ratio(x[variables[0]], x[y]), axis=1) for y in variables[1:]],\n",
    "        axis=1\n",
    "    )\n",
    "    return data\n"
   ]
  },
  {
   "cell_type": "code",
   "execution_count": 358,
   "id": "05584010-8ba0-4161-8ab3-0e957ebc5e41",
   "metadata": {},
   "outputs": [],
   "source": [
    "import numpy as np\n",
    "def fuzzy_match_destination_country(ais_enriched):\n",
    "    ais_enriched3[\"destination_c\"] = (ais_enriched[\"destination\"].replace(\"None\", np.nan)\n",
    "                        .replace('B 2 A', np.nan)\n",
    "                        .replace('J0', np.nan)\n",
    "                        .replace('0', np.nan)\n",
    "                        .replace(',',np.nan)\n",
    "                        .replace('G', np.nan)\n",
    "                        .replace('I0', np.nan)\n",
    "                        .replace('C', np.nan)\n",
    "                        .replace('D', np.nan)\n",
    "                        .replace('C0', np.nan)\n",
    "                        .replace('S0', np.nan).replace('M', np.nan)\n",
    "                        .replace('X', np.nan).replace('A', np.nan)\n",
    "                        .replace('ZRP', np.nan)\n",
    "                        .replace('AT SEA', np.nan)\n",
    "                        .replace(\"$\", np.nan)\n",
    "                        .replace('#HDCR*H!!!)JM0I*!&', np.nan)\n",
    "                        .replace(\"%\", np.nan)\n",
    "                        .replace(\"-\", np.nan).replace('-C>-',np.nan)\n",
    "                        .replace('-C?M',np.nan)\n",
    "                        .replace('-[C?<)RD\\\\K$OQ8)',np.nan)\n",
    "                        .replace( '.',np.nan)\n",
    "                        .replace( '...',np.nan)\n",
    "                        .replace('0XA F3L86F,[E^CON',np.nan)\n",
    "                        .replace('17 B#',np.nan)\n",
    "                        .replace('2',np.nan)\n",
    "                        .replace('3',np.nan)\n",
    "                        .replace('450',np.nan)\n",
    "                        .replace(r'(\\s\\/\\s[a-zA-Z]+)', '', regex=True)\n",
    "                        .replace(r'(\\/[a-zA-Z]+)', '', regex=True)\n",
    "                        .replace('FISHING AREA', np.nan))\n",
    "    list_errors = ['AREA3 FISHING GROUND', 'ARM GAURD ON BOARD',\n",
    " 'ARM GUARD ON BOARD', 'ARM.GUARDS ON BOARD', 'ARMED GUARD ON BOARD', 'ARMED GUARDS ON BOAP',\n",
    " 'ARMED GUARDS ON BOAR', 'ARMED GUARDS ONB', 'ARMED GUARDS ONBOARD', 'ARMED ON BOARD',\n",
    " 'ARMGUARD O.B', 'ARMGUARD ONBOARD', 'ARMS GUARDS ON BOARD']\n",
    "    ais_enriched3.loc[ais_enriched[\"destination_c\"].isin(list_errors), \"destination_c\"] = np.nan\n",
    "    ais_enriched3[\"length_dest\"] = ais_enriched3[\"destination_c\"].str.len()\n",
    "    ais_enriched3.loc[ais_enriched3[\"length_dest\"] == 2, \"destination_c\"] = np.nan\n",
    "    print(\"Number of unique destination ports\")\n",
    "    print(ais_enriched3[\"destination_c\"].nunique())\n",
    "    print(\"shape of ais\")\n",
    "    print(ais_enriched3.shape)\n",
    "    # import port data\n",
    "    ports = pd.read_csv('https://msi.nga.mil/api/publications/download?type=view&key=16920959/SFH00000/UpdatedPub150.csv')\n",
    "    ports = ports.loc[:, [\"Main Port Name\", \"Country Code\"]]\n",
    "    ports[\"Main Port Name\"] = ports[\"Main Port Name\"].str.upper()\n",
    "    ports = ports.rename({\"Main Port Name\" : \"destination\"}, axis=1)\n",
    "    # filter boats with destination ports\n",
    "    ais_enriched4 = ais_enriched3.loc[~ais_enriched3[\"destination_c\"].isna(),:]\n",
    "    print(\"shape of ais filtered with no na destination\")\n",
    "    print(ais_enriched4.shape)\n",
    "    \n",
    "    # select one destination by boat\n",
    "    destination_ais = ais_enriched4.groupby(\"mmsi\")[\"destination_c\"].first()\n",
    "    destination_ais = destination_ais.reset_index().copy()\n",
    "    cart_prod = destination_ais.merge(ports, how='cross')\n",
    "    # fuzzy matching using rapid fuzz\n",
    "    print(\"Fuzzy matching in process\")\n",
    "    res_fuz_match = check_distance_levenshtein(cart_prod, [\"destination_c\", \"destination\"])\n",
    "    idx = res_fuz_match.groupby(['destination_c'])['ratio1'].transform(max) == res_fuz_match['ratio1']\n",
    "    res_fuz_match2 = res_fuz_match[idx]\n",
    "    res_fuz_match2[\"true_match\"] = np.nan\n",
    "    res_fuz_match2.loc[res_fuz_match2[\"ratio1\"]>80, \"true_match\"] = \\\n",
    "        res_fuz_match2.loc[res_fuz_match2[\"ratio1\"]>80, \"destination\"]\n",
    "    return ais_enriched4, res_fuz_match2"
   ]
  },
  {
   "cell_type": "code",
   "execution_count": 359,
   "id": "c99b8070-a845-4a2c-9a78-e404c14c64eb",
   "metadata": {},
   "outputs": [
    {
     "name": "stdout",
     "output_type": "stream",
     "text": [
      "Number of unique destination ports\n",
      "4003\n",
      "shape of ais\n",
      "(3333279, 131)\n",
      "shape of ais filtered with no na destination\n",
      "(3047816, 131)\n",
      "Fuzzy matching in process\n"
     ]
    },
    {
     "name": "stderr",
     "output_type": "stream",
     "text": [
      "/tmp/ipykernel_1585/16609960.py:63: SettingWithCopyWarning: \n",
      "A value is trying to be set on a copy of a slice from a DataFrame.\n",
      "Try using .loc[row_indexer,col_indexer] = value instead\n",
      "\n",
      "See the caveats in the documentation: https://pandas.pydata.org/pandas-docs/stable/user_guide/indexing.html#returning-a-view-versus-a-copy\n",
      "  res_fuz_match2[\"true_match\"] = np.nan\n"
     ]
    }
   ],
   "source": [
    "ais_enriched4, res_fuz_match2 = fuzzy_match_destination_country(ais_enriched3)"
   ]
  },
  {
   "cell_type": "code",
   "execution_count": 360,
   "id": "4ec8587a-ed86-4722-965b-ba3ba287cc41",
   "metadata": {},
   "outputs": [
    {
     "data": {
      "text/html": [
       "<div>\n",
       "<style scoped>\n",
       "    .dataframe tbody tr th:only-of-type {\n",
       "        vertical-align: middle;\n",
       "    }\n",
       "\n",
       "    .dataframe tbody tr th {\n",
       "        vertical-align: top;\n",
       "    }\n",
       "\n",
       "    .dataframe thead th {\n",
       "        text-align: right;\n",
       "    }\n",
       "</style>\n",
       "<table border=\"1\" class=\"dataframe\">\n",
       "  <thead>\n",
       "    <tr style=\"text-align: right;\">\n",
       "      <th></th>\n",
       "      <th>mmsi</th>\n",
       "      <th>destination_c</th>\n",
       "      <th>destination</th>\n",
       "      <th>Country Code</th>\n",
       "      <th>ratio1</th>\n",
       "      <th>true_match</th>\n",
       "    </tr>\n",
       "  </thead>\n",
       "  <tbody>\n",
       "    <tr>\n",
       "      <th>1447</th>\n",
       "      <td>207008000</td>\n",
       "      <td>POTI</td>\n",
       "      <td>POTI</td>\n",
       "      <td>Georgia</td>\n",
       "      <td>100.000000</td>\n",
       "      <td>POTI</td>\n",
       "    </tr>\n",
       "    <tr>\n",
       "      <th>5150</th>\n",
       "      <td>207037000</td>\n",
       "      <td>VARNA</td>\n",
       "      <td>VARNA</td>\n",
       "      <td>Bulgaria</td>\n",
       "      <td>100.000000</td>\n",
       "      <td>VARNA</td>\n",
       "    </tr>\n",
       "    <tr>\n",
       "      <th>7037</th>\n",
       "      <td>207038000</td>\n",
       "      <td>OPENSEA</td>\n",
       "      <td>ODENSE</td>\n",
       "      <td>Denmark</td>\n",
       "      <td>83.333333</td>\n",
       "      <td>ODENSE</td>\n",
       "    </tr>\n",
       "    <tr>\n",
       "      <th>10910</th>\n",
       "      <td>207133000</td>\n",
       "      <td>VARNA</td>\n",
       "      <td>VARNA</td>\n",
       "      <td>Bulgaria</td>\n",
       "      <td>100.000000</td>\n",
       "      <td>VARNA</td>\n",
       "    </tr>\n",
       "    <tr>\n",
       "      <th>13790</th>\n",
       "      <td>207228000</td>\n",
       "      <td>VARNA</td>\n",
       "      <td>VARNA</td>\n",
       "      <td>Bulgaria</td>\n",
       "      <td>100.000000</td>\n",
       "      <td>VARNA</td>\n",
       "    </tr>\n",
       "  </tbody>\n",
       "</table>\n",
       "</div>"
      ],
      "text/plain": [
       "            mmsi destination_c destination Country Code      ratio1 true_match\n",
       "1447   207008000          POTI        POTI      Georgia  100.000000       POTI\n",
       "5150   207037000         VARNA       VARNA     Bulgaria  100.000000      VARNA\n",
       "7037   207038000       OPENSEA      ODENSE      Denmark   83.333333     ODENSE\n",
       "10910  207133000         VARNA       VARNA     Bulgaria  100.000000      VARNA\n",
       "13790  207228000         VARNA       VARNA     Bulgaria  100.000000      VARNA"
      ]
     },
     "execution_count": 360,
     "metadata": {},
     "output_type": "execute_result"
    }
   ],
   "source": [
    "res_fuz_match2.head()"
   ]
  },
  {
   "cell_type": "code",
   "execution_count": 365,
   "id": "859b3d21-319c-4791-90d3-b3be7f6e18a9",
   "metadata": {},
   "outputs": [
    {
     "data": {
      "text/html": [
       "<div>\n",
       "<style scoped>\n",
       "    .dataframe tbody tr th:only-of-type {\n",
       "        vertical-align: middle;\n",
       "    }\n",
       "\n",
       "    .dataframe tbody tr th {\n",
       "        vertical-align: top;\n",
       "    }\n",
       "\n",
       "    .dataframe thead th {\n",
       "        text-align: right;\n",
       "    }\n",
       "</style>\n",
       "<table border=\"1\" class=\"dataframe\">\n",
       "  <thead>\n",
       "    <tr style=\"text-align: right;\">\n",
       "      <th></th>\n",
       "      <th>mmsi</th>\n",
       "      <th>destination_c</th>\n",
       "      <th>destination</th>\n",
       "      <th>Country Code</th>\n",
       "      <th>ratio1</th>\n",
       "      <th>true_match</th>\n",
       "    </tr>\n",
       "  </thead>\n",
       "  <tbody>\n",
       "    <tr>\n",
       "      <th>522536</th>\n",
       "      <td>264900331</td>\n",
       "      <td>HARBOUR TOWAGE CTA</td>\n",
       "      <td>KEY HARBOUR</td>\n",
       "      <td>Canada</td>\n",
       "      <td>77.777778</td>\n",
       "      <td>NaN</td>\n",
       "    </tr>\n",
       "    <tr>\n",
       "      <th>1672578</th>\n",
       "      <td>273395260</td>\n",
       "      <td>CUXHAVEN</td>\n",
       "      <td>WILHELMSHAVEN</td>\n",
       "      <td>Germany</td>\n",
       "      <td>76.923077</td>\n",
       "      <td>NaN</td>\n",
       "    </tr>\n",
       "    <tr>\n",
       "      <th>1032357</th>\n",
       "      <td>273315430</td>\n",
       "      <td>RAVENNA</td>\n",
       "      <td>BREMERHAVEN</td>\n",
       "      <td>Germany</td>\n",
       "      <td>76.923077</td>\n",
       "      <td>NaN</td>\n",
       "    </tr>\n",
       "    <tr>\n",
       "      <th>2573940</th>\n",
       "      <td>518857000</td>\n",
       "      <td>CHALKIS</td>\n",
       "      <td>KYLE OF LOCHALSH</td>\n",
       "      <td>United Kingdom</td>\n",
       "      <td>76.923077</td>\n",
       "      <td>NaN</td>\n",
       "    </tr>\n",
       "    <tr>\n",
       "      <th>851246</th>\n",
       "      <td>271072367</td>\n",
       "      <td>MINDELO</td>\n",
       "      <td>MIDDELFART</td>\n",
       "      <td>Denmark</td>\n",
       "      <td>76.923077</td>\n",
       "      <td>NaN</td>\n",
       "    </tr>\n",
       "    <tr>\n",
       "      <th>2328743</th>\n",
       "      <td>371202000</td>\n",
       "      <td>RAVENNA</td>\n",
       "      <td>ANTSIRANANA</td>\n",
       "      <td>Madagascar</td>\n",
       "      <td>76.923077</td>\n",
       "      <td>NaN</td>\n",
       "    </tr>\n",
       "    <tr>\n",
       "      <th>2328357</th>\n",
       "      <td>371202000</td>\n",
       "      <td>RAVENNA</td>\n",
       "      <td>BREMERHAVEN</td>\n",
       "      <td>Germany</td>\n",
       "      <td>76.923077</td>\n",
       "      <td>NaN</td>\n",
       "    </tr>\n",
       "    <tr>\n",
       "      <th>2327792</th>\n",
       "      <td>371202000</td>\n",
       "      <td>RAVENNA</td>\n",
       "      <td>CASTLETOWN BEARHAVEN</td>\n",
       "      <td>Ireland</td>\n",
       "      <td>76.923077</td>\n",
       "      <td>NaN</td>\n",
       "    </tr>\n",
       "    <tr>\n",
       "      <th>1671485</th>\n",
       "      <td>273395260</td>\n",
       "      <td>CUXHAVEN</td>\n",
       "      <td>NORTH HAVEN</td>\n",
       "      <td>United States</td>\n",
       "      <td>76.923077</td>\n",
       "      <td>NaN</td>\n",
       "    </tr>\n",
       "    <tr>\n",
       "      <th>1031792</th>\n",
       "      <td>273315430</td>\n",
       "      <td>RAVENNA</td>\n",
       "      <td>CASTLETOWN BEARHAVEN</td>\n",
       "      <td>Ireland</td>\n",
       "      <td>76.923077</td>\n",
       "      <td>NaN</td>\n",
       "    </tr>\n",
       "    <tr>\n",
       "      <th>1032743</th>\n",
       "      <td>273315430</td>\n",
       "      <td>RAVENNA</td>\n",
       "      <td>ANTSIRANANA</td>\n",
       "      <td>Madagascar</td>\n",
       "      <td>76.923077</td>\n",
       "      <td>NaN</td>\n",
       "    </tr>\n",
       "    <tr>\n",
       "      <th>2705351</th>\n",
       "      <td>538008320</td>\n",
       "      <td>GE SUPSA</td>\n",
       "      <td>SUPSA MARINE TERMINAL</td>\n",
       "      <td>Georgia</td>\n",
       "      <td>76.923077</td>\n",
       "      <td>NaN</td>\n",
       "    </tr>\n",
       "    <tr>\n",
       "      <th>2037883</th>\n",
       "      <td>308397000</td>\n",
       "      <td>CURACAO</td>\n",
       "      <td>PLAYA DE HUMACAO</td>\n",
       "      <td>Puerto Rico</td>\n",
       "      <td>76.923077</td>\n",
       "      <td>NaN</td>\n",
       "    </tr>\n",
       "    <tr>\n",
       "      <th>1851060</th>\n",
       "      <td>273434860</td>\n",
       "      <td>CHALKIS</td>\n",
       "      <td>KYLE OF LOCHALSH</td>\n",
       "      <td>United Kingdom</td>\n",
       "      <td>76.923077</td>\n",
       "      <td>NaN</td>\n",
       "    </tr>\n",
       "    <tr>\n",
       "      <th>1671152</th>\n",
       "      <td>273395260</td>\n",
       "      <td>CUXHAVEN</td>\n",
       "      <td>CASTLETOWN BEARHAVEN</td>\n",
       "      <td>Ireland</td>\n",
       "      <td>76.923077</td>\n",
       "      <td>NaN</td>\n",
       "    </tr>\n",
       "    <tr>\n",
       "      <th>1671451</th>\n",
       "      <td>273395260</td>\n",
       "      <td>CUXHAVEN</td>\n",
       "      <td>VINEYARD HAVEN</td>\n",
       "      <td>United States</td>\n",
       "      <td>76.923077</td>\n",
       "      <td>NaN</td>\n",
       "    </tr>\n",
       "    <tr>\n",
       "      <th>1672454</th>\n",
       "      <td>273395260</td>\n",
       "      <td>CUXHAVEN</td>\n",
       "      <td>EEMSHAVEN</td>\n",
       "      <td>Netherlands</td>\n",
       "      <td>76.923077</td>\n",
       "      <td>NaN</td>\n",
       "    </tr>\n",
       "    <tr>\n",
       "      <th>1672072</th>\n",
       "      <td>273395260</td>\n",
       "      <td>CUXHAVEN</td>\n",
       "      <td>MILFORD HAVEN</td>\n",
       "      <td>United Kingdom</td>\n",
       "      <td>76.923077</td>\n",
       "      <td>NaN</td>\n",
       "    </tr>\n",
       "    <tr>\n",
       "      <th>1671868</th>\n",
       "      <td>273395260</td>\n",
       "      <td>CUXHAVEN</td>\n",
       "      <td>GULFHAVEN</td>\n",
       "      <td>Denmark</td>\n",
       "      <td>76.923077</td>\n",
       "      <td>NaN</td>\n",
       "    </tr>\n",
       "    <tr>\n",
       "      <th>1671717</th>\n",
       "      <td>273395260</td>\n",
       "      <td>CUXHAVEN</td>\n",
       "      <td>BREMERHAVEN</td>\n",
       "      <td>Germany</td>\n",
       "      <td>76.923077</td>\n",
       "      <td>NaN</td>\n",
       "    </tr>\n",
       "  </tbody>\n",
       "</table>\n",
       "</div>"
      ],
      "text/plain": [
       "              mmsi       destination_c            destination    Country Code  \\\n",
       "522536   264900331  HARBOUR TOWAGE CTA            KEY HARBOUR          Canada   \n",
       "1672578  273395260            CUXHAVEN          WILHELMSHAVEN         Germany   \n",
       "1032357  273315430             RAVENNA            BREMERHAVEN         Germany   \n",
       "2573940  518857000             CHALKIS       KYLE OF LOCHALSH  United Kingdom   \n",
       "851246   271072367             MINDELO             MIDDELFART         Denmark   \n",
       "2328743  371202000             RAVENNA            ANTSIRANANA      Madagascar   \n",
       "2328357  371202000             RAVENNA            BREMERHAVEN         Germany   \n",
       "2327792  371202000             RAVENNA   CASTLETOWN BEARHAVEN         Ireland   \n",
       "1671485  273395260            CUXHAVEN            NORTH HAVEN   United States   \n",
       "1031792  273315430             RAVENNA   CASTLETOWN BEARHAVEN         Ireland   \n",
       "1032743  273315430             RAVENNA            ANTSIRANANA      Madagascar   \n",
       "2705351  538008320            GE SUPSA  SUPSA MARINE TERMINAL         Georgia   \n",
       "2037883  308397000             CURACAO       PLAYA DE HUMACAO     Puerto Rico   \n",
       "1851060  273434860             CHALKIS       KYLE OF LOCHALSH  United Kingdom   \n",
       "1671152  273395260            CUXHAVEN   CASTLETOWN BEARHAVEN         Ireland   \n",
       "1671451  273395260            CUXHAVEN         VINEYARD HAVEN   United States   \n",
       "1672454  273395260            CUXHAVEN              EEMSHAVEN     Netherlands   \n",
       "1672072  273395260            CUXHAVEN          MILFORD HAVEN  United Kingdom   \n",
       "1671868  273395260            CUXHAVEN              GULFHAVEN         Denmark   \n",
       "1671717  273395260            CUXHAVEN            BREMERHAVEN         Germany   \n",
       "\n",
       "            ratio1 true_match  \n",
       "522536   77.777778        NaN  \n",
       "1672578  76.923077        NaN  \n",
       "1032357  76.923077        NaN  \n",
       "2573940  76.923077        NaN  \n",
       "851246   76.923077        NaN  \n",
       "2328743  76.923077        NaN  \n",
       "2328357  76.923077        NaN  \n",
       "2327792  76.923077        NaN  \n",
       "1671485  76.923077        NaN  \n",
       "1031792  76.923077        NaN  \n",
       "1032743  76.923077        NaN  \n",
       "2705351  76.923077        NaN  \n",
       "2037883  76.923077        NaN  \n",
       "1851060  76.923077        NaN  \n",
       "1671152  76.923077        NaN  \n",
       "1671451  76.923077        NaN  \n",
       "1672454  76.923077        NaN  \n",
       "1672072  76.923077        NaN  \n",
       "1671868  76.923077        NaN  \n",
       "1671717  76.923077        NaN  "
      ]
     },
     "execution_count": 365,
     "metadata": {},
     "output_type": "execute_result"
    }
   ],
   "source": [
    "res_fuz_match2.loc[res_fuz_match2[\"ratio1\"]<80, :].sort_values(\"ratio1\", ascending=False).head(20)"
   ]
  },
  {
   "cell_type": "code",
   "execution_count": null,
   "id": "fc1c9bb8-c674-42fd-965f-3b4d13ecbf27",
   "metadata": {},
   "outputs": [],
   "source": []
  }
 ],
 "metadata": {
  "kernelspec": {
   "display_name": "Python 3 (ipykernel)",
   "language": "python",
   "name": "python3"
  },
  "language_info": {
   "codemirror_mode": {
    "name": "ipython",
    "version": 3
   },
   "file_extension": ".py",
   "mimetype": "text/x-python",
   "name": "python",
   "nbconvert_exporter": "python",
   "pygments_lexer": "ipython3",
   "version": "3.10.4"
  }
 },
 "nbformat": 4,
 "nbformat_minor": 5
}
