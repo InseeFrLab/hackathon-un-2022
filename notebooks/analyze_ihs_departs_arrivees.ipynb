{
 "cells": [
  {
   "cell_type": "code",
   "execution_count": 8,
   "id": "5af23c40-ade4-4c59-81fd-77222ff61637",
   "metadata": {},
   "outputs": [
    {
     "data": {
      "text/plain": [
       "'/home/onyxia/work/hackathon-un-2022'"
      ]
     },
     "execution_count": 8,
     "metadata": {},
     "output_type": "execute_result"
    }
   ],
   "source": [
    "import os\n",
    "os.getcwd()"
   ]
  },
  {
   "cell_type": "code",
   "execution_count": 23,
   "id": "a7152815-3848-4991-8b2f-e0a25583b51a",
   "metadata": {},
   "outputs": [],
   "source": [
    "os.chdir(\"..\")\n",
    "import utils.functions as fc\n",
    "import utils.indicators as indic"
   ]
  },
  {
   "cell_type": "code",
   "execution_count": 31,
   "id": "b0b8fda6-f99b-4d23-8195-3bdc128763bd",
   "metadata": {},
   "outputs": [],
   "source": [
    "from importlib import reload\n",
    "fc = reload(fc)\n",
    "indic = reload(indic)"
   ]
  },
  {
   "cell_type": "code",
   "execution_count": 11,
   "id": "11332f55-ada8-4805-bca8-c836d4f5277a",
   "metadata": {},
   "outputs": [],
   "source": [
    "ship_data_enriched = fc.create_ship_data_enriched()"
   ]
  },
  {
   "cell_type": "code",
   "execution_count": 12,
   "id": "a19cb760-00d9-4d20-b5d3-f8a006138849",
   "metadata": {},
   "outputs": [],
   "source": [
    "ais = fc.read_ais_parquet()"
   ]
  },
  {
   "cell_type": "code",
   "execution_count": 13,
   "id": "02e098a1-75cb-40b8-adcb-dcf36fc9df32",
   "metadata": {},
   "outputs": [
    {
     "data": {
      "text/plain": [
       "(4406590, 6)"
      ]
     },
     "execution_count": 13,
     "metadata": {},
     "output_type": "execute_result"
    }
   ],
   "source": [
    "ais.shape"
   ]
  },
  {
   "cell_type": "code",
   "execution_count": 17,
   "id": "faea1e6b-dcc9-474d-9236-54039705d37f",
   "metadata": {},
   "outputs": [],
   "source": [
    "ais_enriched = fc.enrich_AIS_data(ais, ship_data_enriched)"
   ]
  },
  {
   "cell_type": "code",
   "execution_count": 18,
   "id": "0968e1c4-b968-4f37-86bf-0695aff17431",
   "metadata": {},
   "outputs": [],
   "source": [
    "ais_enriched = fc.filter_cargo(ais_enriched)"
   ]
  },
  {
   "cell_type": "code",
   "execution_count": 11,
   "id": "cd84dee9-edbe-45eb-8d43-3a556d114c03",
   "metadata": {},
   "outputs": [
    {
     "data": {
      "text/plain": [
       "(2634715, 125)"
      ]
     },
     "execution_count": 11,
     "metadata": {},
     "output_type": "execute_result"
    }
   ],
   "source": [
    "ais_enriched.shape"
   ]
  },
  {
   "cell_type": "code",
   "execution_count": 27,
   "id": "1193ffc9-3143-4987-99ef-637c6d9c8d66",
   "metadata": {},
   "outputs": [
    {
     "name": "stderr",
     "output_type": "stream",
     "text": [
      "/home/onyxia/work/hackathon-un-2022/utils/indicators.py:10: FutureWarning: The error_bad_lines argument has been deprecated and will be removed in a future version. Use on_bad_lines in the future.\n",
      "\n",
      "\n",
      "  mmsi_number = pd.read_csv(fs.open(f'{BUCKET}/AIS/mmid.csv',\n"
     ]
    },
    {
     "name": "stdout",
     "output_type": "stream",
     "text": [
      "Classification of origin country\n",
      "Russian Federation                                                                   149\n",
      "Panama (Republic of)                                                                 103\n",
      "Republic of Türkiye                                                                   46\n",
      "Malta                                                                                 41\n",
      "Liberia (Republic of)                                                                 27\n",
      "Marshall Islands (Republic of the)                                                    24\n",
      "Sierra Leone                                                                          19\n",
      "Comoros (Union of the)                                                                19\n",
      "Tanzania (United Republic of)                                                         16\n",
      "Ukraine                                                                               14\n",
      "Belize                                                                                14\n",
      "Togolese Republic                                                                     12\n",
      "New Zealand - Cook Islands                                                             8\n",
      "Palau (Republic of)                                                                    7\n",
      "Vanuatu (Republic of)                                                                  7\n",
      "Antigua and Barbuda                                                                    6\n",
      "China (People's Republic of) - Hong Kong (Special Administrative Region of China)      5\n",
      "Portugal - Madeira                                                                     4\n",
      "Saint Kitts and Nevis (Federation of)                                                  4\n",
      "Netherlands (Kingdom of the)                                                           4\n",
      "Moldova (Republic of)                                                                  3\n",
      "Saint Vincent and the Grenadines                                                       3\n",
      "Egypt (Arab Republic of)                                                               3\n",
      "Azerbaijan (Republic of)                                                               3\n",
      "Singapore (Republic of)                                                                3\n",
      "Bahamas (Commonwealth of the)                                                          3\n",
      "Greece                                                                                 3\n",
      "Norway                                                                                 2\n",
      "Cyprus (Republic of)                                                                   2\n",
      "China (People's Republic of)                                                           2\n",
      "Barbados                                                                               2\n",
      "Syrian Arab Republic                                                                   1\n",
      "Lebanon                                                                                1\n",
      "Tuvalu                                                                                 1\n",
      "United Kingdom of Great Britain and Northern Ireland - Gibraltar                       1\n",
      "Honduras (Republic of)                                                                 1\n",
      "Denmark                                                                                1\n",
      "Germany (Federal Republic of)                                                          1\n",
      "Pakistan (Islamic Republic of)                                                         1\n",
      "Name: origin_country, dtype: int64\n",
      "Number of missing origin country\n",
      "(0, 127)\n"
     ]
    }
   ],
   "source": [
    "# function qui assigne le pays d'origine\n",
    "ais_enriched2, origin_countries = indic.assign_country_origin(ais_enriched)"
   ]
  },
  {
   "cell_type": "code",
   "execution_count": 32,
   "id": "06b2e8c7-f540-4a12-b0e8-4a659315bf60",
   "metadata": {},
   "outputs": [
    {
     "name": "stdout",
     "output_type": "stream",
     "text": [
      "Percentage missing destination port\n",
      "0.0088339222614841\n",
      "Number missing destination port\n",
      "5\n",
      "Classification of destination countries\n",
      "Turkey       80\n",
      "Romania      17\n",
      "Ukraine      17\n",
      "Russia       14\n",
      "Bulgaria     12\n",
      "             ..\n",
      "Mauritius     1\n",
      "Angola        1\n",
      "Venezuela     1\n",
      "Poland        1\n",
      "Tunisia       1\n",
      "Name: destination_country, Length: 63, dtype: int64\n"
     ]
    }
   ],
   "source": [
    "# fonction that assigns a destination country\n",
    "ais_enriched3, destination_ports = indic.assign_destination_country(ais_enriched2)"
   ]
  },
  {
   "cell_type": "code",
   "execution_count": null,
   "id": "9a99a28e-c79c-468a-a0ea-7f3dfed5cb94",
   "metadata": {},
   "outputs": [],
   "source": []
  }
 ],
 "metadata": {
  "kernelspec": {
   "display_name": "Python 3 (ipykernel)",
   "language": "python",
   "name": "python3"
  },
  "language_info": {
   "codemirror_mode": {
    "name": "ipython",
    "version": 3
   },
   "file_extension": ".py",
   "mimetype": "text/x-python",
   "name": "python",
   "nbconvert_exporter": "python",
   "pygments_lexer": "ipython3",
   "version": "3.10.4"
  }
 },
 "nbformat": 4,
 "nbformat_minor": 5
}
