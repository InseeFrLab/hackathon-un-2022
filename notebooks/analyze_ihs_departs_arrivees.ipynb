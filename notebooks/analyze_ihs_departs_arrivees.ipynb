{
 "cells": [
  {
   "cell_type": "code",
   "execution_count": 1,
   "id": "5af23c40-ade4-4c59-81fd-77222ff61637",
   "metadata": {},
   "outputs": [
    {
     "data": {
      "text/plain": [
       "'/home/onyxia/work/hackathon-un-2022/notebooks'"
      ]
     },
     "execution_count": 1,
     "metadata": {},
     "output_type": "execute_result"
    }
   ],
   "source": [
    "import os\n",
    "os.getcwd()"
   ]
  },
  {
   "cell_type": "code",
   "execution_count": 3,
   "id": "a7152815-3848-4991-8b2f-e0a25583b51a",
   "metadata": {},
   "outputs": [],
   "source": [
    "os.chdir(\"..\")\n",
    "import utils.functions as fc\n",
    "import utils.indicators as indic"
   ]
  },
  {
   "cell_type": "code",
   "execution_count": 17,
   "id": "b0b8fda6-f99b-4d23-8195-3bdc128763bd",
   "metadata": {},
   "outputs": [],
   "source": [
    "from importlib import reload\n",
    "fc = reload(fc)"
   ]
  },
  {
   "cell_type": "code",
   "execution_count": 5,
   "id": "11332f55-ada8-4805-bca8-c836d4f5277a",
   "metadata": {},
   "outputs": [],
   "source": [
    "ship_data_enriched = fc.create_ship_data_enriched()"
   ]
  },
  {
   "cell_type": "code",
   "execution_count": 6,
   "id": "a19cb760-00d9-4d20-b5d3-f8a006138849",
   "metadata": {},
   "outputs": [],
   "source": [
    "AIS = fc.read_ais_parquet()"
   ]
  },
  {
   "cell_type": "code",
   "execution_count": 6,
   "id": "02e098a1-75cb-40b8-adcb-dcf36fc9df32",
   "metadata": {},
   "outputs": [
    {
     "data": {
      "text/plain": [
       "(1543295, 9)"
      ]
     },
     "execution_count": 6,
     "metadata": {},
     "output_type": "execute_result"
    }
   ],
   "source": [
    "AIS.shape"
   ]
  },
  {
   "cell_type": "code",
   "execution_count": 7,
   "id": "f9371f88-4b81-4494-a3da-a70c1c8c5538",
   "metadata": {},
   "outputs": [],
   "source": [
    "ship_data_enriched = ship_data_enriched.loc[ship_data_enriched[\"ShiptypeLevel1\"] == \"Cargo Carrying\",:]"
   ]
  },
  {
   "cell_type": "code",
   "execution_count": 8,
   "id": "6220d9a2-f105-4da8-95cd-15ae322dc365",
   "metadata": {},
   "outputs": [
    {
     "data": {
      "text/plain": [
       "(1543295, 9)"
      ]
     },
     "execution_count": 8,
     "metadata": {},
     "output_type": "execute_result"
    }
   ],
   "source": [
    "AIS.shape"
   ]
  },
  {
   "cell_type": "code",
   "execution_count": 31,
   "id": "35ffd75b-da08-4cde-95a5-b3f707cc1c63",
   "metadata": {},
   "outputs": [],
   "source": [
    "# ship_data_enriched = ship_data_enriched.loc[ship_data_enriched[\"ShipTypeLevel3\"].isin([\"General Cargo\",\n",
    "#                                                                                       \"Bulk Dry\", \n",
    "#                                                                                      \"Container\", \n",
    "#                                                                                       \"Other Bulk Dry\",\n",
    "#                                                                                       \"Refrigerated Cargo\",\n",
    "#                                                                                       \"Other Dry Cargo\",\n",
    "#                                                                                       \"Bulk Dry / Oil\",\n",
    "#                                                                                       \"Self Discharging Bulk Dry\"]),:]"
   ]
  },
  {
   "cell_type": "code",
   "execution_count": 9,
   "id": "322f366d-4bcb-4dab-867a-8fe23f596b80",
   "metadata": {},
   "outputs": [
    {
     "data": {
      "text/plain": [
       "(0, 9)"
      ]
     },
     "execution_count": 9,
     "metadata": {},
     "output_type": "execute_result"
    }
   ],
   "source": [
    "AIS.loc[AIS[\"mmsi\"].isna(), :].shape"
   ]
  },
  {
   "cell_type": "code",
   "execution_count": 10,
   "id": "faea1e6b-dcc9-474d-9236-54039705d37f",
   "metadata": {},
   "outputs": [],
   "source": [
    "AIS_enriched = fc.enrich_AIS_data(\n",
    "    AIS, ship_data_enriched\n",
    ")"
   ]
  },
  {
   "cell_type": "code",
   "execution_count": 11,
   "id": "cd84dee9-edbe-45eb-8d43-3a556d114c03",
   "metadata": {},
   "outputs": [
    {
     "data": {
      "text/plain": [
       "(585145, 128)"
      ]
     },
     "execution_count": 11,
     "metadata": {},
     "output_type": "execute_result"
    }
   ],
   "source": [
    "AIS_enriched.shape"
   ]
  },
  {
   "cell_type": "code",
   "execution_count": 12,
   "id": "a211c7b6-02c7-420e-a4f5-b1c6b43f056f",
   "metadata": {},
   "outputs": [
    {
     "data": {
      "text/plain": [
       "Index(['hex_resolution', 'longitude', 'mmsi', 'destination', 'eeid',\n",
       "       'H3_int_index_8', 'latitude', 'dt_insert_utc', 'polygon_name',\n",
       "       'LRIMOShipNo',\n",
       "       ...\n",
       "       'ShipTypeLevel4', 'Level3Code', 'ShipTypeLevel3', 'Level2Code',\n",
       "       'ShipTypeLevel2', 'ShipTypeLevel1Code', 'ShiptypeLevel1', 'HullType',\n",
       "       'SubGroup', 'SubType'],\n",
       "      dtype='object', length=128)"
      ]
     },
     "execution_count": 12,
     "metadata": {},
     "output_type": "execute_result"
    }
   ],
   "source": [
    "AIS_enriched.columns"
   ]
  },
  {
   "cell_type": "code",
   "execution_count": 13,
   "id": "1193ffc9-3143-4987-99ef-637c6d9c8d66",
   "metadata": {},
   "outputs": [],
   "source": [
    "# function qui assigne le pays d'origine\n",
    "\n",
    "\n"
   ]
  },
  {
   "cell_type": "code",
   "execution_count": 14,
   "id": "f485a1c9-3830-4404-bdb2-354d51fbe54e",
   "metadata": {},
   "outputs": [],
   "source": []
  },
  {
   "cell_type": "code",
   "execution_count": 15,
   "id": "64333efe-89e5-460d-9a7b-d95df54e1bc7",
   "metadata": {},
   "outputs": [
    {
     "name": "stderr",
     "output_type": "stream",
     "text": [
      "/tmp/ipykernel_186/2296097229.py:4: FutureWarning: The error_bad_lines argument has been deprecated and will be removed in a future version. Use on_bad_lines in the future.\n",
      "\n",
      "\n",
      "  mmsi_number = pd.read_csv(fs.open(f'{BUCKET}/AIS/mmid.csv',\n"
     ]
    }
   ],
   "source": [
    "AIS_enriched2 = assign_country_origin(AIS_enriched)"
   ]
  },
  {
   "cell_type": "code",
   "execution_count": 16,
   "id": "eb5454f9-9915-4268-afa9-0dfa3784f945",
   "metadata": {},
   "outputs": [
    {
     "data": {
      "text/html": [
       "<div>\n",
       "<style scoped>\n",
       "    .dataframe tbody tr th:only-of-type {\n",
       "        vertical-align: middle;\n",
       "    }\n",
       "\n",
       "    .dataframe tbody tr th {\n",
       "        vertical-align: top;\n",
       "    }\n",
       "\n",
       "    .dataframe thead th {\n",
       "        text-align: right;\n",
       "    }\n",
       "</style>\n",
       "<table border=\"1\" class=\"dataframe\">\n",
       "  <thead>\n",
       "    <tr style=\"text-align: right;\">\n",
       "      <th></th>\n",
       "      <th>hex_resolution</th>\n",
       "      <th>longitude</th>\n",
       "      <th>mmsi</th>\n",
       "      <th>destination</th>\n",
       "      <th>eeid</th>\n",
       "      <th>H3_int_index_8</th>\n",
       "      <th>latitude</th>\n",
       "      <th>dt_insert_utc</th>\n",
       "      <th>polygon_name</th>\n",
       "      <th>LRIMOShipNo</th>\n",
       "      <th>...</th>\n",
       "      <th>ShipTypeLevel3</th>\n",
       "      <th>Level2Code</th>\n",
       "      <th>ShipTypeLevel2</th>\n",
       "      <th>ShipTypeLevel1Code</th>\n",
       "      <th>ShiptypeLevel1</th>\n",
       "      <th>HullType</th>\n",
       "      <th>SubGroup</th>\n",
       "      <th>SubType</th>\n",
       "      <th>Digit</th>\n",
       "      <th>origin_country</th>\n",
       "    </tr>\n",
       "  </thead>\n",
       "  <tbody>\n",
       "    <tr>\n",
       "      <th>0</th>\n",
       "      <td>8</td>\n",
       "      <td>32.604598</td>\n",
       "      <td>214181113</td>\n",
       "      <td>KHERSON</td>\n",
       "      <td>7478518328705950969</td>\n",
       "      <td>613022441456795647</td>\n",
       "      <td>46.625275</td>\n",
       "      <td>2022-01-01 13:05:10</td>\n",
       "      <td>Polygon</td>\n",
       "      <td>7115957</td>\n",
       "      <td>...</td>\n",
       "      <td>General Cargo</td>\n",
       "      <td>A3</td>\n",
       "      <td>Dry Cargo/Passenger</td>\n",
       "      <td>A</td>\n",
       "      <td>Cargo Carrying</td>\n",
       "      <td>Ship Shape Including Multi-Hulls</td>\n",
       "      <td>General Cargo</td>\n",
       "      <td>General Cargo</td>\n",
       "      <td>214</td>\n",
       "      <td>Moldova (Republic of)</td>\n",
       "    </tr>\n",
       "    <tr>\n",
       "      <th>1</th>\n",
       "      <td>8</td>\n",
       "      <td>32.604602</td>\n",
       "      <td>214181113</td>\n",
       "      <td>KHERSON</td>\n",
       "      <td>7478518328705950969</td>\n",
       "      <td>613022441456795647</td>\n",
       "      <td>46.625353</td>\n",
       "      <td>2022-01-01 16:41:32</td>\n",
       "      <td>Polygon</td>\n",
       "      <td>7115957</td>\n",
       "      <td>...</td>\n",
       "      <td>General Cargo</td>\n",
       "      <td>A3</td>\n",
       "      <td>Dry Cargo/Passenger</td>\n",
       "      <td>A</td>\n",
       "      <td>Cargo Carrying</td>\n",
       "      <td>Ship Shape Including Multi-Hulls</td>\n",
       "      <td>General Cargo</td>\n",
       "      <td>General Cargo</td>\n",
       "      <td>214</td>\n",
       "      <td>Moldova (Republic of)</td>\n",
       "    </tr>\n",
       "    <tr>\n",
       "      <th>2</th>\n",
       "      <td>8</td>\n",
       "      <td>32.611300</td>\n",
       "      <td>214181113</td>\n",
       "      <td>KHERSON</td>\n",
       "      <td>7478518328705950969</td>\n",
       "      <td>613022441398075391</td>\n",
       "      <td>46.617372</td>\n",
       "      <td>2022-01-01 02:10:23</td>\n",
       "      <td>Polygon</td>\n",
       "      <td>7115957</td>\n",
       "      <td>...</td>\n",
       "      <td>General Cargo</td>\n",
       "      <td>A3</td>\n",
       "      <td>Dry Cargo/Passenger</td>\n",
       "      <td>A</td>\n",
       "      <td>Cargo Carrying</td>\n",
       "      <td>Ship Shape Including Multi-Hulls</td>\n",
       "      <td>General Cargo</td>\n",
       "      <td>General Cargo</td>\n",
       "      <td>214</td>\n",
       "      <td>Moldova (Republic of)</td>\n",
       "    </tr>\n",
       "    <tr>\n",
       "      <th>3</th>\n",
       "      <td>8</td>\n",
       "      <td>32.610522</td>\n",
       "      <td>214181113</td>\n",
       "      <td>KHERSON</td>\n",
       "      <td>7478518328705950969</td>\n",
       "      <td>613022441398075391</td>\n",
       "      <td>46.617353</td>\n",
       "      <td>2022-01-01 00:10:21</td>\n",
       "      <td>Polygon</td>\n",
       "      <td>7115957</td>\n",
       "      <td>...</td>\n",
       "      <td>General Cargo</td>\n",
       "      <td>A3</td>\n",
       "      <td>Dry Cargo/Passenger</td>\n",
       "      <td>A</td>\n",
       "      <td>Cargo Carrying</td>\n",
       "      <td>Ship Shape Including Multi-Hulls</td>\n",
       "      <td>General Cargo</td>\n",
       "      <td>General Cargo</td>\n",
       "      <td>214</td>\n",
       "      <td>Moldova (Republic of)</td>\n",
       "    </tr>\n",
       "    <tr>\n",
       "      <th>4</th>\n",
       "      <td>8</td>\n",
       "      <td>32.610595</td>\n",
       "      <td>214181113</td>\n",
       "      <td>KHERSON</td>\n",
       "      <td>7478518328705950969</td>\n",
       "      <td>613022441398075391</td>\n",
       "      <td>46.617328</td>\n",
       "      <td>2022-01-01 01:16:21</td>\n",
       "      <td>Polygon</td>\n",
       "      <td>7115957</td>\n",
       "      <td>...</td>\n",
       "      <td>General Cargo</td>\n",
       "      <td>A3</td>\n",
       "      <td>Dry Cargo/Passenger</td>\n",
       "      <td>A</td>\n",
       "      <td>Cargo Carrying</td>\n",
       "      <td>Ship Shape Including Multi-Hulls</td>\n",
       "      <td>General Cargo</td>\n",
       "      <td>General Cargo</td>\n",
       "      <td>214</td>\n",
       "      <td>Moldova (Republic of)</td>\n",
       "    </tr>\n",
       "  </tbody>\n",
       "</table>\n",
       "<p>5 rows × 130 columns</p>\n",
       "</div>"
      ],
      "text/plain": [
       "   hex_resolution  longitude       mmsi destination                 eeid  \\\n",
       "0               8  32.604598  214181113     KHERSON  7478518328705950969   \n",
       "1               8  32.604602  214181113     KHERSON  7478518328705950969   \n",
       "2               8  32.611300  214181113     KHERSON  7478518328705950969   \n",
       "3               8  32.610522  214181113     KHERSON  7478518328705950969   \n",
       "4               8  32.610595  214181113     KHERSON  7478518328705950969   \n",
       "\n",
       "       H3_int_index_8   latitude       dt_insert_utc polygon_name  \\\n",
       "0  613022441456795647  46.625275 2022-01-01 13:05:10      Polygon   \n",
       "1  613022441456795647  46.625353 2022-01-01 16:41:32      Polygon   \n",
       "2  613022441398075391  46.617372 2022-01-01 02:10:23      Polygon   \n",
       "3  613022441398075391  46.617353 2022-01-01 00:10:21      Polygon   \n",
       "4  613022441398075391  46.617328 2022-01-01 01:16:21      Polygon   \n",
       "\n",
       "   LRIMOShipNo  ... ShipTypeLevel3 Level2Code       ShipTypeLevel2  \\\n",
       "0      7115957  ...  General Cargo         A3  Dry Cargo/Passenger   \n",
       "1      7115957  ...  General Cargo         A3  Dry Cargo/Passenger   \n",
       "2      7115957  ...  General Cargo         A3  Dry Cargo/Passenger   \n",
       "3      7115957  ...  General Cargo         A3  Dry Cargo/Passenger   \n",
       "4      7115957  ...  General Cargo         A3  Dry Cargo/Passenger   \n",
       "\n",
       "  ShipTypeLevel1Code  ShiptypeLevel1                          HullType  \\\n",
       "0                  A  Cargo Carrying  Ship Shape Including Multi-Hulls   \n",
       "1                  A  Cargo Carrying  Ship Shape Including Multi-Hulls   \n",
       "2                  A  Cargo Carrying  Ship Shape Including Multi-Hulls   \n",
       "3                  A  Cargo Carrying  Ship Shape Including Multi-Hulls   \n",
       "4                  A  Cargo Carrying  Ship Shape Including Multi-Hulls   \n",
       "\n",
       "        SubGroup        SubType Digit         origin_country  \n",
       "0  General Cargo  General Cargo   214  Moldova (Republic of)  \n",
       "1  General Cargo  General Cargo   214  Moldova (Republic of)  \n",
       "2  General Cargo  General Cargo   214  Moldova (Republic of)  \n",
       "3  General Cargo  General Cargo   214  Moldova (Republic of)  \n",
       "4  General Cargo  General Cargo   214  Moldova (Republic of)  \n",
       "\n",
       "[5 rows x 130 columns]"
      ]
     },
     "execution_count": 16,
     "metadata": {},
     "output_type": "execute_result"
    }
   ],
   "source": [
    "AIS_enriched2.head()"
   ]
  },
  {
   "cell_type": "code",
   "execution_count": null,
   "id": "29991bfd-8dcd-4008-a250-e46d56fb69e1",
   "metadata": {},
   "outputs": [],
   "source": [
    "def assign_destination_country(AIS_enriched):\n",
    "    print(\"Percentage missing destination port\")\n",
    "    print(AIS_enriched.loc[AIS_enriched[\"destination\"].isna(), :].shape[0]/AIS_enriched.shape[0])\n",
    "    "
   ]
  },
  {
   "cell_type": "code",
   "execution_count": 48,
   "id": "08c3fc7e-df8d-4ac4-97f9-a8706e1f72c3",
   "metadata": {},
   "outputs": [
    {
     "data": {
      "text/plain": [
       "0.24448533818874552"
      ]
     },
     "execution_count": 48,
     "metadata": {},
     "output_type": "execute_result"
    }
   ],
   "source": [
    "AIS_enriched2.loc[AIS_enriched2[\"destination\"].isna(), :].shape[0]/AIS_enriched2.shape[0] # 377 313, 24 %"
   ]
  },
  {
   "cell_type": "code",
   "execution_count": 49,
   "id": "5e794a1d-e9f9-44ca-8063-d3c183fed0de",
   "metadata": {},
   "outputs": [
    {
     "data": {
      "text/plain": [
       "(1165982, 130)"
      ]
     },
     "execution_count": 49,
     "metadata": {},
     "output_type": "execute_result"
    }
   ],
   "source": [
    "AIS_enriched2.loc[~AIS_enriched2[\"destination\"].isna(), :].shape # 1 165 982"
   ]
  },
  {
   "cell_type": "code",
   "execution_count": 50,
   "id": "45603c82-3765-4a29-8743-2868c98c097e",
   "metadata": {},
   "outputs": [],
   "source": [
    "AIS_enriched2 = AIS_enriched2.rename({\"Allocated to\" : \"origin_country\"}, axis=1)"
   ]
  },
  {
   "cell_type": "code",
   "execution_count": 51,
   "id": "73e40225-408e-4511-837d-57ac5465a657",
   "metadata": {},
   "outputs": [
    {
     "data": {
      "text/plain": [
       "Russian Federation                                                               296823\n",
       "Ukraine                                                                          233616\n",
       "Romania                                                                          205072\n",
       "Republic of Türkiye                                                              138906\n",
       "Panama (Republic of)                                                              96314\n",
       "                                                                                  ...  \n",
       "Syrian Arab Republic                                                                 90\n",
       "Seychelles (Republic of)                                                             76\n",
       "Belgium                                                                               4\n",
       "Japan                                                                                 1\n",
       "United Kingdom of Great Britain and Northern Ireland - British Virgin Islands         1\n",
       "Name: origin_country, Length: 71, dtype: int64"
      ]
     },
     "execution_count": 51,
     "metadata": {},
     "output_type": "execute_result"
    }
   ],
   "source": [
    "AIS_enriched2[\"origin_country\"].value_counts()"
   ]
  },
  {
   "cell_type": "code",
   "execution_count": 52,
   "id": "70bbbb0d-8c66-422a-9727-7bd62ad79ca7",
   "metadata": {},
   "outputs": [
    {
     "data": {
      "text/plain": [
       "(0, 130)"
      ]
     },
     "execution_count": 52,
     "metadata": {},
     "output_type": "execute_result"
    }
   ],
   "source": [
    "AIS_enriched2.loc[AIS_enriched2[\"origin_country\"]==\"\",:].shape"
   ]
  },
  {
   "cell_type": "code",
   "execution_count": 53,
   "id": "f26153d2-7ee3-495b-9f43-b940072b178e",
   "metadata": {},
   "outputs": [
    {
     "data": {
      "text/plain": [
       "(0, 130)"
      ]
     },
     "execution_count": 53,
     "metadata": {},
     "output_type": "execute_result"
    }
   ],
   "source": [
    "AIS_enriched2.loc[AIS_enriched2[\"origin_country\"].isna(), :].shape"
   ]
  },
  {
   "cell_type": "code",
   "execution_count": 56,
   "id": "4c86287c-8c0d-430a-b296-697bd2a1fefb",
   "metadata": {},
   "outputs": [],
   "source": [
    "ports = pd.read_csv('https://msi.nga.mil/api/publications/download?type=view&key=16920959/SFH00000/UpdatedPub150.csv')"
   ]
  },
  {
   "cell_type": "code",
   "execution_count": 57,
   "id": "60288eba-55d2-4e29-9b6f-81f2da4b4b4c",
   "metadata": {},
   "outputs": [
    {
     "data": {
      "text/html": [
       "<div>\n",
       "<style scoped>\n",
       "    .dataframe tbody tr th:only-of-type {\n",
       "        vertical-align: middle;\n",
       "    }\n",
       "\n",
       "    .dataframe tbody tr th {\n",
       "        vertical-align: top;\n",
       "    }\n",
       "\n",
       "    .dataframe thead th {\n",
       "        text-align: right;\n",
       "    }\n",
       "</style>\n",
       "<table border=\"1\" class=\"dataframe\">\n",
       "  <thead>\n",
       "    <tr style=\"text-align: right;\">\n",
       "      <th></th>\n",
       "      <th>World Port Index Number</th>\n",
       "      <th>Region Name</th>\n",
       "      <th>Main Port Name</th>\n",
       "      <th>Alternate Port Name</th>\n",
       "      <th>UN/LOCODE</th>\n",
       "      <th>Country Code</th>\n",
       "      <th>World Water Body</th>\n",
       "      <th>IHO S-130 Sea Area</th>\n",
       "      <th>Sailing Direction or Publication</th>\n",
       "      <th>Standard Nautical Chart</th>\n",
       "      <th>...</th>\n",
       "      <th>Supplies - Fuel Oil</th>\n",
       "      <th>Supplies - Diesel Oil</th>\n",
       "      <th>Supplies - Aviation Fuel</th>\n",
       "      <th>Supplies - Deck</th>\n",
       "      <th>Supplies - Engine</th>\n",
       "      <th>Repairs</th>\n",
       "      <th>Dry Dock</th>\n",
       "      <th>Railway</th>\n",
       "      <th>Latitude</th>\n",
       "      <th>Longitude</th>\n",
       "    </tr>\n",
       "  </thead>\n",
       "  <tbody>\n",
       "    <tr>\n",
       "      <th>0</th>\n",
       "      <td>4580</td>\n",
       "      <td>US Lake Michigan -- 4570</td>\n",
       "      <td>St. James Harbor</td>\n",
       "      <td></td>\n",
       "      <td></td>\n",
       "      <td>United States</td>\n",
       "      <td>Lake Michigan; Great Lakes</td>\n",
       "      <td></td>\n",
       "      <td>U.S. Coast Pilot 6 - Great Lakes and their con...</td>\n",
       "      <td>14911</td>\n",
       "      <td>...</td>\n",
       "      <td>Yes</td>\n",
       "      <td>Yes</td>\n",
       "      <td>Unknown</td>\n",
       "      <td>Yes</td>\n",
       "      <td>Yes</td>\n",
       "      <td>Emergency Only</td>\n",
       "      <td>Unknown</td>\n",
       "      <td>Unknown</td>\n",
       "      <td>45.733333</td>\n",
       "      <td>-85.516667</td>\n",
       "    </tr>\n",
       "    <tr>\n",
       "      <th>1</th>\n",
       "      <td>63110</td>\n",
       "      <td>Antarctica -- 63060</td>\n",
       "      <td>Melchior Harbor</td>\n",
       "      <td></td>\n",
       "      <td></td>\n",
       "      <td>Antarctica</td>\n",
       "      <td>South Pacific Ocean</td>\n",
       "      <td></td>\n",
       "      <td>Sailing Directions Pub. 200 (Planning Guide &amp; ...</td>\n",
       "      <td>29106</td>\n",
       "      <td>...</td>\n",
       "      <td>Unknown</td>\n",
       "      <td>Unknown</td>\n",
       "      <td>Unknown</td>\n",
       "      <td>Unknown</td>\n",
       "      <td>Unknown</td>\n",
       "      <td>None</td>\n",
       "      <td>Unknown</td>\n",
       "      <td>Unknown</td>\n",
       "      <td>-64.316667</td>\n",
       "      <td>-63.000000</td>\n",
       "    </tr>\n",
       "    <tr>\n",
       "      <th>2</th>\n",
       "      <td>52350</td>\n",
       "      <td>Sulawesi -- 51970</td>\n",
       "      <td>Donggala</td>\n",
       "      <td></td>\n",
       "      <td></td>\n",
       "      <td>Indonesia</td>\n",
       "      <td>Makassar Strait; South Pacific Ocean</td>\n",
       "      <td></td>\n",
       "      <td>Sailing Directions Pub. 163 (Enroute) - Borneo...</td>\n",
       "      <td>72171</td>\n",
       "      <td>...</td>\n",
       "      <td>No</td>\n",
       "      <td>No</td>\n",
       "      <td>Unknown</td>\n",
       "      <td>Unknown</td>\n",
       "      <td>Unknown</td>\n",
       "      <td>Emergency Only</td>\n",
       "      <td>Unknown</td>\n",
       "      <td>Unknown</td>\n",
       "      <td>-0.650000</td>\n",
       "      <td>119.733333</td>\n",
       "    </tr>\n",
       "    <tr>\n",
       "      <th>3</th>\n",
       "      <td>46544</td>\n",
       "      <td>Angola -- 46540</td>\n",
       "      <td>Psvm Terminal</td>\n",
       "      <td></td>\n",
       "      <td></td>\n",
       "      <td>Angola</td>\n",
       "      <td>South Atlantic Ocean</td>\n",
       "      <td></td>\n",
       "      <td>Sailing Directions Pub. 123 (Enroute) - Southw...</td>\n",
       "      <td>57240</td>\n",
       "      <td>...</td>\n",
       "      <td>Unknown</td>\n",
       "      <td>Unknown</td>\n",
       "      <td>Unknown</td>\n",
       "      <td>Unknown</td>\n",
       "      <td>Unknown</td>\n",
       "      <td>Unknown</td>\n",
       "      <td>Unknown</td>\n",
       "      <td>Unknown</td>\n",
       "      <td>-6.250000</td>\n",
       "      <td>10.733333</td>\n",
       "    </tr>\n",
       "    <tr>\n",
       "      <th>4</th>\n",
       "      <td>56820</td>\n",
       "      <td>Bismarck Archipelago -- 56700</td>\n",
       "      <td>Kokopo</td>\n",
       "      <td></td>\n",
       "      <td></td>\n",
       "      <td>Papua New Guinea</td>\n",
       "      <td>Bismarck Sea; South Pacific Ocean</td>\n",
       "      <td></td>\n",
       "      <td>Sailing Directions Pub. 126 (Enroute) - Pacifi...</td>\n",
       "      <td>82192</td>\n",
       "      <td>...</td>\n",
       "      <td>No</td>\n",
       "      <td>No</td>\n",
       "      <td>Unknown</td>\n",
       "      <td>No</td>\n",
       "      <td>No</td>\n",
       "      <td>Limited</td>\n",
       "      <td>Unknown</td>\n",
       "      <td>Unknown</td>\n",
       "      <td>-4.333333</td>\n",
       "      <td>152.266667</td>\n",
       "    </tr>\n",
       "  </tbody>\n",
       "</table>\n",
       "<p>5 rows × 107 columns</p>\n",
       "</div>"
      ],
      "text/plain": [
       "   World Port Index Number                    Region Name    Main Port Name  \\\n",
       "0                     4580       US Lake Michigan -- 4570  St. James Harbor   \n",
       "1                    63110            Antarctica -- 63060   Melchior Harbor   \n",
       "2                    52350              Sulawesi -- 51970          Donggala   \n",
       "3                    46544                Angola -- 46540     Psvm Terminal   \n",
       "4                    56820  Bismarck Archipelago -- 56700            Kokopo   \n",
       "\n",
       "  Alternate Port Name UN/LOCODE      Country Code  \\\n",
       "0                                   United States   \n",
       "1                                      Antarctica   \n",
       "2                                       Indonesia   \n",
       "3                                          Angola   \n",
       "4                                Papua New Guinea   \n",
       "\n",
       "                       World Water Body IHO S-130 Sea Area  \\\n",
       "0            Lake Michigan; Great Lakes                      \n",
       "1                   South Pacific Ocean                      \n",
       "2  Makassar Strait; South Pacific Ocean                      \n",
       "3                  South Atlantic Ocean                      \n",
       "4     Bismarck Sea; South Pacific Ocean                      \n",
       "\n",
       "                    Sailing Direction or Publication Standard Nautical Chart  \\\n",
       "0  U.S. Coast Pilot 6 - Great Lakes and their con...                   14911   \n",
       "1  Sailing Directions Pub. 200 (Planning Guide & ...                   29106   \n",
       "2  Sailing Directions Pub. 163 (Enroute) - Borneo...                   72171   \n",
       "3  Sailing Directions Pub. 123 (Enroute) - Southw...                   57240   \n",
       "4  Sailing Directions Pub. 126 (Enroute) - Pacifi...                   82192   \n",
       "\n",
       "   ... Supplies - Fuel Oil Supplies - Diesel Oil Supplies - Aviation Fuel  \\\n",
       "0  ...                 Yes                   Yes                  Unknown   \n",
       "1  ...             Unknown               Unknown                  Unknown   \n",
       "2  ...                  No                    No                  Unknown   \n",
       "3  ...             Unknown               Unknown                  Unknown   \n",
       "4  ...                  No                    No                  Unknown   \n",
       "\n",
       "   Supplies - Deck  Supplies - Engine         Repairs  Dry Dock  Railway  \\\n",
       "0              Yes                Yes  Emergency Only   Unknown  Unknown   \n",
       "1          Unknown            Unknown            None   Unknown  Unknown   \n",
       "2          Unknown            Unknown  Emergency Only   Unknown  Unknown   \n",
       "3          Unknown            Unknown         Unknown   Unknown  Unknown   \n",
       "4               No                 No         Limited   Unknown  Unknown   \n",
       "\n",
       "    Latitude   Longitude  \n",
       "0  45.733333  -85.516667  \n",
       "1 -64.316667  -63.000000  \n",
       "2  -0.650000  119.733333  \n",
       "3  -6.250000   10.733333  \n",
       "4  -4.333333  152.266667  \n",
       "\n",
       "[5 rows x 107 columns]"
      ]
     },
     "execution_count": 57,
     "metadata": {},
     "output_type": "execute_result"
    }
   ],
   "source": [
    "ports.head()"
   ]
  },
  {
   "cell_type": "code",
   "execution_count": 58,
   "id": "42aa18bf-511e-489e-b0be-94d1fbaedb65",
   "metadata": {},
   "outputs": [],
   "source": [
    "ports = ports.loc[:, [\"Main Port Name\", \"Country Code\"]]"
   ]
  },
  {
   "cell_type": "code",
   "execution_count": 59,
   "id": "ecf7d210-070e-4ebb-982b-7f946d0c5f51",
   "metadata": {},
   "outputs": [
    {
     "data": {
      "text/html": [
       "<div>\n",
       "<style scoped>\n",
       "    .dataframe tbody tr th:only-of-type {\n",
       "        vertical-align: middle;\n",
       "    }\n",
       "\n",
       "    .dataframe tbody tr th {\n",
       "        vertical-align: top;\n",
       "    }\n",
       "\n",
       "    .dataframe thead th {\n",
       "        text-align: right;\n",
       "    }\n",
       "</style>\n",
       "<table border=\"1\" class=\"dataframe\">\n",
       "  <thead>\n",
       "    <tr style=\"text-align: right;\">\n",
       "      <th></th>\n",
       "      <th>Main Port Name</th>\n",
       "      <th>Country Code</th>\n",
       "    </tr>\n",
       "  </thead>\n",
       "  <tbody>\n",
       "    <tr>\n",
       "      <th>0</th>\n",
       "      <td>St. James Harbor</td>\n",
       "      <td>United States</td>\n",
       "    </tr>\n",
       "    <tr>\n",
       "      <th>1</th>\n",
       "      <td>Melchior Harbor</td>\n",
       "      <td>Antarctica</td>\n",
       "    </tr>\n",
       "    <tr>\n",
       "      <th>2</th>\n",
       "      <td>Donggala</td>\n",
       "      <td>Indonesia</td>\n",
       "    </tr>\n",
       "    <tr>\n",
       "      <th>3</th>\n",
       "      <td>Psvm Terminal</td>\n",
       "      <td>Angola</td>\n",
       "    </tr>\n",
       "    <tr>\n",
       "      <th>4</th>\n",
       "      <td>Kokopo</td>\n",
       "      <td>Papua New Guinea</td>\n",
       "    </tr>\n",
       "  </tbody>\n",
       "</table>\n",
       "</div>"
      ],
      "text/plain": [
       "     Main Port Name      Country Code\n",
       "0  St. James Harbor     United States\n",
       "1   Melchior Harbor        Antarctica\n",
       "2          Donggala         Indonesia\n",
       "3     Psvm Terminal            Angola\n",
       "4            Kokopo  Papua New Guinea"
      ]
     },
     "execution_count": 59,
     "metadata": {},
     "output_type": "execute_result"
    }
   ],
   "source": [
    "ports.head()"
   ]
  },
  {
   "cell_type": "code",
   "execution_count": 60,
   "id": "c9e85f0a-03d6-43f4-9882-c4559c6c0993",
   "metadata": {},
   "outputs": [
    {
     "data": {
      "text/plain": [
       "CONSTANTA            98262\n",
       "NOVOROSSIYSK         67560\n",
       "RU NVS               38405\n",
       "GALATI               29892\n",
       "VARNA                29436\n",
       "                     ...  \n",
       "RU 454                   1\n",
       "IT-GAI                   1\n",
       "ES BCN>FOR ORDERS        1\n",
       "P!.#%6/                  1\n",
       "URK                      1\n",
       "Name: destination, Length: 1085, dtype: int64"
      ]
     },
     "execution_count": 60,
     "metadata": {},
     "output_type": "execute_result"
    }
   ],
   "source": [
    "AIS_enriched2[\"destination\"].value_counts()"
   ]
  },
  {
   "cell_type": "code",
   "execution_count": 63,
   "id": "909e0c99-431b-4288-bce2-cab1a9e4e102",
   "metadata": {},
   "outputs": [],
   "source": [
    "ports[\"Main Port Name\"] = ports[\"Main Port Name\"].str.upper()"
   ]
  },
  {
   "cell_type": "code",
   "execution_count": 64,
   "id": "65697bd1-1738-4d37-a067-b5a678023311",
   "metadata": {},
   "outputs": [
    {
     "data": {
      "text/plain": [
       "0    ST. JAMES HARBOR\n",
       "1     MELCHIOR HARBOR\n",
       "2            DONGGALA\n",
       "3       PSVM TERMINAL\n",
       "4              KOKOPO\n",
       "Name: Main Port Name, dtype: object"
      ]
     },
     "execution_count": 64,
     "metadata": {},
     "output_type": "execute_result"
    }
   ],
   "source": [
    "ports[\"Main Port Name\"].head()"
   ]
  },
  {
   "cell_type": "code",
   "execution_count": 65,
   "id": "5ad75e3f-14c6-41a7-be52-73c0255b9f34",
   "metadata": {},
   "outputs": [],
   "source": [
    "ports = ports.rename({\"Main Port Name\" : \"destination\"}, axis=1)"
   ]
  },
  {
   "cell_type": "code",
   "execution_count": 66,
   "id": "d6c3b14c-c635-458a-8ab8-405e733732ed",
   "metadata": {},
   "outputs": [],
   "source": [
    "AIS_enriched3 = pd.merge(AIS_enriched2, ports, on = [\"destination\"], how=\"left\")"
   ]
  },
  {
   "cell_type": "code",
   "execution_count": 67,
   "id": "21b84ff0-fc9d-4a13-a02e-89e7df3263a6",
   "metadata": {},
   "outputs": [
    {
     "data": {
      "text/plain": [
       "(1543310, 131)"
      ]
     },
     "execution_count": 67,
     "metadata": {},
     "output_type": "execute_result"
    }
   ],
   "source": [
    "AIS_enriched3.shape"
   ]
  },
  {
   "cell_type": "code",
   "execution_count": 68,
   "id": "fa268424-739e-4bc0-8536-4abd32fba3fc",
   "metadata": {},
   "outputs": [],
   "source": [
    "AIS_enriched3 = AIS_enriched3.rename({\"Country Code\": \"destination_country\"}, axis=1)"
   ]
  },
  {
   "cell_type": "code",
   "execution_count": 69,
   "id": "801de3e1-3316-4699-a079-29d051bd733d",
   "metadata": {},
   "outputs": [
    {
     "data": {
      "text/plain": [
       "Romania          149219\n",
       "Russia            84160\n",
       "Ukraine           45783\n",
       "Bulgaria          39590\n",
       "Turkey            35536\n",
       "Georgia           14124\n",
       "Netherlands        1385\n",
       "Israel              779\n",
       "Italy               595\n",
       "Bangladesh          539\n",
       "Portugal            512\n",
       "Somalia             319\n",
       "South Africa        230\n",
       "Greece              195\n",
       "Croatia             187\n",
       "United States       184\n",
       "China               163\n",
       "Slovenia            142\n",
       "Spain               131\n",
       "Algeria             106\n",
       "South Korea          85\n",
       "Cyprus               78\n",
       "Egypt                45\n",
       "Colombia             15\n",
       "Name: destination_country, dtype: int64"
      ]
     },
     "execution_count": 69,
     "metadata": {},
     "output_type": "execute_result"
    }
   ],
   "source": [
    "AIS_enriched3[\"destination_country\"].value_counts()"
   ]
  },
  {
   "cell_type": "code",
   "execution_count": null,
   "id": "06b2e8c7-f540-4a12-b0e8-4a659315bf60",
   "metadata": {},
   "outputs": [],
   "source": [
    "# a present imputation de la destination pour les "
   ]
  }
 ],
 "metadata": {
  "kernelspec": {
   "display_name": "Python 3 (ipykernel)",
   "language": "python",
   "name": "python3"
  },
  "language_info": {
   "codemirror_mode": {
    "name": "ipython",
    "version": 3
   },
   "file_extension": ".py",
   "mimetype": "text/x-python",
   "name": "python",
   "nbconvert_exporter": "python",
   "pygments_lexer": "ipython3",
   "version": "3.10.4"
  }
 },
 "nbformat": 4,
 "nbformat_minor": 5
}
