{
 "cells": [
  {
   "cell_type": "code",
   "execution_count": 13,
   "id": "5af23c40-ade4-4c59-81fd-77222ff61637",
   "metadata": {},
   "outputs": [
    {
     "data": {
      "text/plain": [
       "'/home/onyxia/work'"
      ]
     },
     "execution_count": 13,
     "metadata": {},
     "output_type": "execute_result"
    }
   ],
   "source": [
    "import os\n",
    "os.getcwd()"
   ]
  },
  {
   "cell_type": "code",
   "execution_count": 14,
   "id": "a7152815-3848-4991-8b2f-e0a25583b51a",
   "metadata": {},
   "outputs": [],
   "source": [
    "os.chdir(\"..\")\n",
    "import utils.functions as fc\n",
    "import utils.indicators as indic"
   ]
  },
  {
   "cell_type": "code",
   "execution_count": 20,
   "id": "b0b8fda6-f99b-4d23-8195-3bdc128763bd",
   "metadata": {},
   "outputs": [],
   "source": [
    "from importlib import reload\n",
    "fc = reload(fc)\n",
    "indic = reload(indic)"
   ]
  },
  {
   "cell_type": "code",
   "execution_count": 5,
   "id": "11332f55-ada8-4805-bca8-c836d4f5277a",
   "metadata": {},
   "outputs": [],
   "source": [
    "ship_data_enriched = fc.create_ship_data_enriched()"
   ]
  },
  {
   "cell_type": "code",
   "execution_count": 6,
   "id": "a19cb760-00d9-4d20-b5d3-f8a006138849",
   "metadata": {},
   "outputs": [],
   "source": [
    "ais = fc.read_ais_parquet()"
   ]
  },
  {
   "cell_type": "code",
   "execution_count": 7,
   "id": "02e098a1-75cb-40b8-adcb-dcf36fc9df32",
   "metadata": {},
   "outputs": [
    {
     "data": {
      "text/plain": [
       "(4406590, 6)"
      ]
     },
     "execution_count": 7,
     "metadata": {},
     "output_type": "execute_result"
    }
   ],
   "source": [
    "ais.shape"
   ]
  },
  {
   "cell_type": "code",
   "execution_count": 8,
   "id": "faea1e6b-dcc9-474d-9236-54039705d37f",
   "metadata": {},
   "outputs": [],
   "source": [
    "ais_enriched = fc.enrich_AIS_data(ais, ship_data_enriched)"
   ]
  },
  {
   "cell_type": "code",
   "execution_count": 18,
   "id": "0968e1c4-b968-4f37-86bf-0695aff17431",
   "metadata": {},
   "outputs": [],
   "source": [
    "#ais_enriched = fc.filter_cargo(ais_enriched)"
   ]
  },
  {
   "cell_type": "code",
   "execution_count": 9,
   "id": "cd84dee9-edbe-45eb-8d43-3a556d114c03",
   "metadata": {},
   "outputs": [
    {
     "data": {
      "text/plain": [
       "(3326041, 125)"
      ]
     },
     "execution_count": 9,
     "metadata": {},
     "output_type": "execute_result"
    }
   ],
   "source": [
    "ais_enriched.shape"
   ]
  },
  {
   "cell_type": "code",
   "execution_count": 16,
   "id": "1193ffc9-3143-4987-99ef-637c6d9c8d66",
   "metadata": {},
   "outputs": [
    {
     "name": "stderr",
     "output_type": "stream",
     "text": [
      "/home/onyxia/work/hackathon-un-2022/utils/indicators.py:14: FutureWarning: The error_bad_lines argument has been deprecated and will be removed in a future version. Use on_bad_lines in the future.\n",
      "\n",
      "\n",
      "  ais_enriched = pd.merge(ais_enriched, mmsi_number, on=[\"Digit\"], how=\"left\")\n"
     ]
    },
    {
     "name": "stdout",
     "output_type": "stream",
     "text": [
      "Classification of flag country\n",
      "Russian Federation                                                                   387\n",
      "Republic of Türkiye                                                                  158\n",
      "Panama (Republic of)                                                                 120\n",
      "Malta                                                                                 70\n",
      "Liberia (Republic of)                                                                 54\n",
      "Romania                                                                               47\n",
      "Marshall Islands (Republic of the)                                                    47\n",
      "Bulgaria (Republic of)                                                                36\n",
      "Ukraine                                                                               26\n",
      "Comoros (Union of the)                                                                21\n",
      "Sierra Leone                                                                          20\n",
      "Tanzania (United Republic of)                                                         18\n",
      "Belize                                                                                15\n",
      "Georgia                                                                               13\n",
      "Greece                                                                                12\n",
      "Togolese Republic                                                                     12\n",
      "New Zealand - Cook Islands                                                             9\n",
      "Singapore (Republic of)                                                                8\n",
      "Palau (Republic of)                                                                    8\n",
      "Vanuatu (Republic of)                                                                  7\n",
      "Saint Vincent and the Grenadines                                                       7\n",
      "Antigua and Barbuda                                                                    6\n",
      "Bahamas (Commonwealth of the)                                                          6\n",
      "China (People's Republic of) - Hong Kong (Special Administrative Region of China)      6\n",
      "Netherlands (Kingdom of the)                                                           6\n",
      "Norway                                                                                 6\n",
      "Portugal - Madeira                                                                     6\n",
      "Moldova (Republic of)                                                                  5\n",
      "Azerbaijan (Republic of)                                                               5\n",
      "Cyprus (Republic of)                                                                   4\n",
      "United Kingdom of Great Britain and Northern Ireland - Cayman Islands                  4\n",
      "Saint Kitts and Nevis (Federation of)                                                  4\n",
      "Egypt (Arab Republic of)                                                               3\n",
      "Denmark                                                                                2\n",
      "Germany (Federal Republic of)                                                          2\n",
      "China (People's Republic of)                                                           2\n",
      "Slovak Republic                                                                        2\n",
      "Italy                                                                                  2\n",
      "Barbados                                                                               2\n",
      "Syrian Arab Republic                                                                   1\n",
      "Pakistan (Islamic Republic of)                                                         1\n",
      "Lebanon                                                                                1\n",
      "United Kingdom of Great Britain and Northern Ireland - Gibraltar                       1\n",
      "Tuvalu                                                                                 1\n",
      "Honduras (Republic of)                                                                 1\n",
      "Serbia (Republic of)                                                                   1\n",
      "Croatia (Republic of)                                                                  1\n",
      "Switzerland (Confederation of)                                                         1\n",
      "Name: origin_flag, dtype: int64\n",
      "Number of missing origin flag\n",
      "(0, 127)\n"
     ]
    }
   ],
   "source": [
    "# function qui assigne le pays d'origine\n",
    "ais_enriched2, origin_countries = indic.assign_country_flag(ais_enriched)"
   ]
  },
  {
   "cell_type": "code",
   "execution_count": 17,
   "id": "dc6270d7-5b3e-4c1f-9696-07aab070c44e",
   "metadata": {},
   "outputs": [
    {
     "data": {
      "text/plain": [
       "1177"
      ]
     },
     "execution_count": 17,
     "metadata": {},
     "output_type": "execute_result"
    }
   ],
   "source": [
    "ais_enriched2[\"mmsi\"].nunique()"
   ]
  },
  {
   "cell_type": "code",
   "execution_count": 21,
   "id": "c99b8070-a845-4a2c-9a78-e404c14c64eb",
   "metadata": {},
   "outputs": [
    {
     "name": "stdout",
     "output_type": "stream",
     "text": [
      "Number of unique destination ports\n",
      "4003\n",
      "shape of ais\n",
      "(3326041, 129)\n",
      "shape of ais filtered with no na destination\n",
      "(3040578, 129)\n",
      "Fuzzy matching in process\n"
     ]
    },
    {
     "ename": "NameError",
     "evalue": "name 'rapidfuzz' is not defined",
     "output_type": "error",
     "traceback": [
      "\u001b[0;31m---------------------------------------------------------------------------\u001b[0m",
      "\u001b[0;31mNameError\u001b[0m                                 Traceback (most recent call last)",
      "Cell \u001b[0;32mIn [21], line 1\u001b[0m\n\u001b[0;32m----> 1\u001b[0m ais_enriched3, res_fuz_match2 \u001b[38;5;241m=\u001b[39m \u001b[43mindic\u001b[49m\u001b[38;5;241;43m.\u001b[39;49m\u001b[43mfuzzy_match_destination_country\u001b[49m\u001b[43m(\u001b[49m\u001b[43mais_enriched2\u001b[49m\u001b[43m)\u001b[49m\n",
      "File \u001b[0;32m~/work/hackathon-un-2022/utils/indicators.py:141\u001b[0m, in \u001b[0;36mfuzzy_match_destination_country\u001b[0;34m(ais_data)\u001b[0m\n\u001b[1;32m    139\u001b[0m \u001b[38;5;66;03m# fuzzy matching using rapidfuzz\u001b[39;00m\n\u001b[1;32m    140\u001b[0m \u001b[38;5;28mprint\u001b[39m(\u001b[38;5;124m\"\u001b[39m\u001b[38;5;124mFuzzy matching in process\u001b[39m\u001b[38;5;124m\"\u001b[39m)\n\u001b[0;32m--> 141\u001b[0m res_fuz_match \u001b[38;5;241m=\u001b[39m \u001b[43mcheck_distance_levenshtein\u001b[49m\u001b[43m(\u001b[49m\u001b[43mcart_prod\u001b[49m\u001b[43m,\u001b[49m\u001b[43m \u001b[49m\u001b[43m[\u001b[49m\u001b[38;5;124;43m\"\u001b[39;49m\u001b[38;5;124;43mdestination_c\u001b[39;49m\u001b[38;5;124;43m\"\u001b[39;49m\u001b[43m,\u001b[49m\u001b[43m \u001b[49m\u001b[38;5;124;43m\"\u001b[39;49m\u001b[38;5;124;43mdestination\u001b[39;49m\u001b[38;5;124;43m\"\u001b[39;49m\u001b[43m]\u001b[49m\u001b[43m)\u001b[49m\n\u001b[1;32m    142\u001b[0m idx \u001b[38;5;241m=\u001b[39m res_fuz_match\u001b[38;5;241m.\u001b[39mgroupby([\u001b[38;5;124m'\u001b[39m\u001b[38;5;124mdestination_c\u001b[39m\u001b[38;5;124m'\u001b[39m])[\u001b[38;5;124m'\u001b[39m\u001b[38;5;124mratio1\u001b[39m\u001b[38;5;124m'\u001b[39m]\u001b[38;5;241m.\u001b[39mtransform(\u001b[38;5;28mmax\u001b[39m) \u001b[38;5;241m==\u001b[39m res_fuz_match[\u001b[38;5;124m'\u001b[39m\u001b[38;5;124mratio1\u001b[39m\u001b[38;5;124m'\u001b[39m]\n\u001b[1;32m    143\u001b[0m res_fuz_match2 \u001b[38;5;241m=\u001b[39m res_fuz_match[idx]\n",
      "File \u001b[0;32m~/work/hackathon-un-2022/utils/indicators.py:72\u001b[0m, in \u001b[0;36mcheck_distance_levenshtein\u001b[0;34m(data, variables)\u001b[0m\n\u001b[1;32m     69\u001b[0m data[variables] \u001b[38;5;241m=\u001b[39m data[variables]\u001b[38;5;241m.\u001b[39mastype(\u001b[38;5;28mstr\u001b[39m)\n\u001b[1;32m     70\u001b[0m newvars \u001b[38;5;241m=\u001b[39m [\u001b[38;5;124m\"\u001b[39m\u001b[38;5;124mratio\u001b[39m\u001b[38;5;132;01m{}\u001b[39;00m\u001b[38;5;124m\"\u001b[39m\u001b[38;5;241m.\u001b[39mformat(\u001b[38;5;28mstr\u001b[39m(i)) \u001b[38;5;28;01mfor\u001b[39;00m i \u001b[38;5;129;01min\u001b[39;00m \u001b[38;5;28mrange\u001b[39m(\u001b[38;5;241m1\u001b[39m, \u001b[38;5;28mlen\u001b[39m(variables))]\n\u001b[1;32m     71\u001b[0m data[newvars] \u001b[38;5;241m=\u001b[39m pd\u001b[38;5;241m.\u001b[39mconcat(\n\u001b[0;32m---> 72\u001b[0m     [data\u001b[38;5;241m.\u001b[39mapply(\u001b[38;5;28;01mlambda\u001b[39;00m x: rapidfuzz\u001b[38;5;241m.\u001b[39mfuzz\u001b[38;5;241m.\u001b[39mpartial_ratio(x[variables[\u001b[38;5;241m0\u001b[39m]], x[y]), axis\u001b[38;5;241m=\u001b[39m\u001b[38;5;241m1\u001b[39m) \u001b[38;5;28;01mfor\u001b[39;00m y \u001b[38;5;129;01min\u001b[39;00m variables[\u001b[38;5;241m1\u001b[39m:]],\n\u001b[1;32m     73\u001b[0m     axis\u001b[38;5;241m=\u001b[39m\u001b[38;5;241m1\u001b[39m\n\u001b[1;32m     74\u001b[0m )\n\u001b[1;32m     75\u001b[0m \u001b[38;5;28;01mreturn\u001b[39;00m data\n",
      "File \u001b[0;32m~/work/hackathon-un-2022/utils/indicators.py:72\u001b[0m, in \u001b[0;36m<listcomp>\u001b[0;34m(.0)\u001b[0m\n\u001b[1;32m     69\u001b[0m data[variables] \u001b[38;5;241m=\u001b[39m data[variables]\u001b[38;5;241m.\u001b[39mastype(\u001b[38;5;28mstr\u001b[39m)\n\u001b[1;32m     70\u001b[0m newvars \u001b[38;5;241m=\u001b[39m [\u001b[38;5;124m\"\u001b[39m\u001b[38;5;124mratio\u001b[39m\u001b[38;5;132;01m{}\u001b[39;00m\u001b[38;5;124m\"\u001b[39m\u001b[38;5;241m.\u001b[39mformat(\u001b[38;5;28mstr\u001b[39m(i)) \u001b[38;5;28;01mfor\u001b[39;00m i \u001b[38;5;129;01min\u001b[39;00m \u001b[38;5;28mrange\u001b[39m(\u001b[38;5;241m1\u001b[39m, \u001b[38;5;28mlen\u001b[39m(variables))]\n\u001b[1;32m     71\u001b[0m data[newvars] \u001b[38;5;241m=\u001b[39m pd\u001b[38;5;241m.\u001b[39mconcat(\n\u001b[0;32m---> 72\u001b[0m     [\u001b[43mdata\u001b[49m\u001b[38;5;241;43m.\u001b[39;49m\u001b[43mapply\u001b[49m\u001b[43m(\u001b[49m\u001b[38;5;28;43;01mlambda\u001b[39;49;00m\u001b[43m \u001b[49m\u001b[43mx\u001b[49m\u001b[43m:\u001b[49m\u001b[43m \u001b[49m\u001b[43mrapidfuzz\u001b[49m\u001b[38;5;241;43m.\u001b[39;49m\u001b[43mfuzz\u001b[49m\u001b[38;5;241;43m.\u001b[39;49m\u001b[43mpartial_ratio\u001b[49m\u001b[43m(\u001b[49m\u001b[43mx\u001b[49m\u001b[43m[\u001b[49m\u001b[43mvariables\u001b[49m\u001b[43m[\u001b[49m\u001b[38;5;241;43m0\u001b[39;49m\u001b[43m]\u001b[49m\u001b[43m]\u001b[49m\u001b[43m,\u001b[49m\u001b[43m \u001b[49m\u001b[43mx\u001b[49m\u001b[43m[\u001b[49m\u001b[43my\u001b[49m\u001b[43m]\u001b[49m\u001b[43m)\u001b[49m\u001b[43m,\u001b[49m\u001b[43m \u001b[49m\u001b[43maxis\u001b[49m\u001b[38;5;241;43m=\u001b[39;49m\u001b[38;5;241;43m1\u001b[39;49m\u001b[43m)\u001b[49m \u001b[38;5;28;01mfor\u001b[39;00m y \u001b[38;5;129;01min\u001b[39;00m variables[\u001b[38;5;241m1\u001b[39m:]],\n\u001b[1;32m     73\u001b[0m     axis\u001b[38;5;241m=\u001b[39m\u001b[38;5;241m1\u001b[39m\n\u001b[1;32m     74\u001b[0m )\n\u001b[1;32m     75\u001b[0m \u001b[38;5;28;01mreturn\u001b[39;00m data\n",
      "File \u001b[0;32m/opt/mamba/lib/python3.10/site-packages/pandas/core/frame.py:9555\u001b[0m, in \u001b[0;36mDataFrame.apply\u001b[0;34m(self, func, axis, raw, result_type, args, **kwargs)\u001b[0m\n\u001b[1;32m   9544\u001b[0m \u001b[38;5;28;01mfrom\u001b[39;00m \u001b[38;5;21;01mpandas\u001b[39;00m\u001b[38;5;21;01m.\u001b[39;00m\u001b[38;5;21;01mcore\u001b[39;00m\u001b[38;5;21;01m.\u001b[39;00m\u001b[38;5;21;01mapply\u001b[39;00m \u001b[38;5;28;01mimport\u001b[39;00m frame_apply\n\u001b[1;32m   9546\u001b[0m op \u001b[38;5;241m=\u001b[39m frame_apply(\n\u001b[1;32m   9547\u001b[0m     \u001b[38;5;28mself\u001b[39m,\n\u001b[1;32m   9548\u001b[0m     func\u001b[38;5;241m=\u001b[39mfunc,\n\u001b[0;32m   (...)\u001b[0m\n\u001b[1;32m   9553\u001b[0m     kwargs\u001b[38;5;241m=\u001b[39mkwargs,\n\u001b[1;32m   9554\u001b[0m )\n\u001b[0;32m-> 9555\u001b[0m \u001b[38;5;28;01mreturn\u001b[39;00m \u001b[43mop\u001b[49m\u001b[38;5;241;43m.\u001b[39;49m\u001b[43mapply\u001b[49m\u001b[43m(\u001b[49m\u001b[43m)\u001b[49m\u001b[38;5;241m.\u001b[39m__finalize__(\u001b[38;5;28mself\u001b[39m, method\u001b[38;5;241m=\u001b[39m\u001b[38;5;124m\"\u001b[39m\u001b[38;5;124mapply\u001b[39m\u001b[38;5;124m\"\u001b[39m)\n",
      "File \u001b[0;32m/opt/mamba/lib/python3.10/site-packages/pandas/core/apply.py:746\u001b[0m, in \u001b[0;36mFrameApply.apply\u001b[0;34m(self)\u001b[0m\n\u001b[1;32m    743\u001b[0m \u001b[38;5;28;01melif\u001b[39;00m \u001b[38;5;28mself\u001b[39m\u001b[38;5;241m.\u001b[39mraw:\n\u001b[1;32m    744\u001b[0m     \u001b[38;5;28;01mreturn\u001b[39;00m \u001b[38;5;28mself\u001b[39m\u001b[38;5;241m.\u001b[39mapply_raw()\n\u001b[0;32m--> 746\u001b[0m \u001b[38;5;28;01mreturn\u001b[39;00m \u001b[38;5;28;43mself\u001b[39;49m\u001b[38;5;241;43m.\u001b[39;49m\u001b[43mapply_standard\u001b[49m\u001b[43m(\u001b[49m\u001b[43m)\u001b[49m\n",
      "File \u001b[0;32m/opt/mamba/lib/python3.10/site-packages/pandas/core/apply.py:873\u001b[0m, in \u001b[0;36mFrameApply.apply_standard\u001b[0;34m(self)\u001b[0m\n\u001b[1;32m    872\u001b[0m \u001b[38;5;28;01mdef\u001b[39;00m \u001b[38;5;21mapply_standard\u001b[39m(\u001b[38;5;28mself\u001b[39m):\n\u001b[0;32m--> 873\u001b[0m     results, res_index \u001b[38;5;241m=\u001b[39m \u001b[38;5;28;43mself\u001b[39;49m\u001b[38;5;241;43m.\u001b[39;49m\u001b[43mapply_series_generator\u001b[49m\u001b[43m(\u001b[49m\u001b[43m)\u001b[49m\n\u001b[1;32m    875\u001b[0m     \u001b[38;5;66;03m# wrap results\u001b[39;00m\n\u001b[1;32m    876\u001b[0m     \u001b[38;5;28;01mreturn\u001b[39;00m \u001b[38;5;28mself\u001b[39m\u001b[38;5;241m.\u001b[39mwrap_results(results, res_index)\n",
      "File \u001b[0;32m/opt/mamba/lib/python3.10/site-packages/pandas/core/apply.py:889\u001b[0m, in \u001b[0;36mFrameApply.apply_series_generator\u001b[0;34m(self)\u001b[0m\n\u001b[1;32m    886\u001b[0m \u001b[38;5;28;01mwith\u001b[39;00m option_context(\u001b[38;5;124m\"\u001b[39m\u001b[38;5;124mmode.chained_assignment\u001b[39m\u001b[38;5;124m\"\u001b[39m, \u001b[38;5;28;01mNone\u001b[39;00m):\n\u001b[1;32m    887\u001b[0m     \u001b[38;5;28;01mfor\u001b[39;00m i, v \u001b[38;5;129;01min\u001b[39;00m \u001b[38;5;28menumerate\u001b[39m(series_gen):\n\u001b[1;32m    888\u001b[0m         \u001b[38;5;66;03m# ignore SettingWithCopy here in case the user mutates\u001b[39;00m\n\u001b[0;32m--> 889\u001b[0m         results[i] \u001b[38;5;241m=\u001b[39m \u001b[38;5;28;43mself\u001b[39;49m\u001b[38;5;241;43m.\u001b[39;49m\u001b[43mf\u001b[49m\u001b[43m(\u001b[49m\u001b[43mv\u001b[49m\u001b[43m)\u001b[49m\n\u001b[1;32m    890\u001b[0m         \u001b[38;5;28;01mif\u001b[39;00m \u001b[38;5;28misinstance\u001b[39m(results[i], ABCSeries):\n\u001b[1;32m    891\u001b[0m             \u001b[38;5;66;03m# If we have a view on v, we need to make a copy because\u001b[39;00m\n\u001b[1;32m    892\u001b[0m             \u001b[38;5;66;03m#  series_generator will swap out the underlying data\u001b[39;00m\n\u001b[1;32m    893\u001b[0m             results[i] \u001b[38;5;241m=\u001b[39m results[i]\u001b[38;5;241m.\u001b[39mcopy(deep\u001b[38;5;241m=\u001b[39m\u001b[38;5;28;01mFalse\u001b[39;00m)\n",
      "File \u001b[0;32m~/work/hackathon-un-2022/utils/indicators.py:72\u001b[0m, in \u001b[0;36mcheck_distance_levenshtein.<locals>.<lambda>\u001b[0;34m(x)\u001b[0m\n\u001b[1;32m     69\u001b[0m data[variables] \u001b[38;5;241m=\u001b[39m data[variables]\u001b[38;5;241m.\u001b[39mastype(\u001b[38;5;28mstr\u001b[39m)\n\u001b[1;32m     70\u001b[0m newvars \u001b[38;5;241m=\u001b[39m [\u001b[38;5;124m\"\u001b[39m\u001b[38;5;124mratio\u001b[39m\u001b[38;5;132;01m{}\u001b[39;00m\u001b[38;5;124m\"\u001b[39m\u001b[38;5;241m.\u001b[39mformat(\u001b[38;5;28mstr\u001b[39m(i)) \u001b[38;5;28;01mfor\u001b[39;00m i \u001b[38;5;129;01min\u001b[39;00m \u001b[38;5;28mrange\u001b[39m(\u001b[38;5;241m1\u001b[39m, \u001b[38;5;28mlen\u001b[39m(variables))]\n\u001b[1;32m     71\u001b[0m data[newvars] \u001b[38;5;241m=\u001b[39m pd\u001b[38;5;241m.\u001b[39mconcat(\n\u001b[0;32m---> 72\u001b[0m     [data\u001b[38;5;241m.\u001b[39mapply(\u001b[38;5;28;01mlambda\u001b[39;00m x: \u001b[43mrapidfuzz\u001b[49m\u001b[38;5;241m.\u001b[39mfuzz\u001b[38;5;241m.\u001b[39mpartial_ratio(x[variables[\u001b[38;5;241m0\u001b[39m]], x[y]), axis\u001b[38;5;241m=\u001b[39m\u001b[38;5;241m1\u001b[39m) \u001b[38;5;28;01mfor\u001b[39;00m y \u001b[38;5;129;01min\u001b[39;00m variables[\u001b[38;5;241m1\u001b[39m:]],\n\u001b[1;32m     73\u001b[0m     axis\u001b[38;5;241m=\u001b[39m\u001b[38;5;241m1\u001b[39m\n\u001b[1;32m     74\u001b[0m )\n\u001b[1;32m     75\u001b[0m \u001b[38;5;28;01mreturn\u001b[39;00m data\n",
      "\u001b[0;31mNameError\u001b[0m: name 'rapidfuzz' is not defined"
     ]
    }
   ],
   "source": [
    "ais_enriched3, res_fuz_match2 = indic.fuzzy_match_destination_country(ais_enriched2)"
   ]
  },
  {
   "cell_type": "code",
   "execution_count": 360,
   "id": "4ec8587a-ed86-4722-965b-ba3ba287cc41",
   "metadata": {},
   "outputs": [
    {
     "data": {
      "text/html": [
       "<div>\n",
       "<style scoped>\n",
       "    .dataframe tbody tr th:only-of-type {\n",
       "        vertical-align: middle;\n",
       "    }\n",
       "\n",
       "    .dataframe tbody tr th {\n",
       "        vertical-align: top;\n",
       "    }\n",
       "\n",
       "    .dataframe thead th {\n",
       "        text-align: right;\n",
       "    }\n",
       "</style>\n",
       "<table border=\"1\" class=\"dataframe\">\n",
       "  <thead>\n",
       "    <tr style=\"text-align: right;\">\n",
       "      <th></th>\n",
       "      <th>mmsi</th>\n",
       "      <th>destination_c</th>\n",
       "      <th>destination</th>\n",
       "      <th>Country Code</th>\n",
       "      <th>ratio1</th>\n",
       "      <th>true_match</th>\n",
       "    </tr>\n",
       "  </thead>\n",
       "  <tbody>\n",
       "    <tr>\n",
       "      <th>1447</th>\n",
       "      <td>207008000</td>\n",
       "      <td>POTI</td>\n",
       "      <td>POTI</td>\n",
       "      <td>Georgia</td>\n",
       "      <td>100.000000</td>\n",
       "      <td>POTI</td>\n",
       "    </tr>\n",
       "    <tr>\n",
       "      <th>5150</th>\n",
       "      <td>207037000</td>\n",
       "      <td>VARNA</td>\n",
       "      <td>VARNA</td>\n",
       "      <td>Bulgaria</td>\n",
       "      <td>100.000000</td>\n",
       "      <td>VARNA</td>\n",
       "    </tr>\n",
       "    <tr>\n",
       "      <th>7037</th>\n",
       "      <td>207038000</td>\n",
       "      <td>OPENSEA</td>\n",
       "      <td>ODENSE</td>\n",
       "      <td>Denmark</td>\n",
       "      <td>83.333333</td>\n",
       "      <td>ODENSE</td>\n",
       "    </tr>\n",
       "    <tr>\n",
       "      <th>10910</th>\n",
       "      <td>207133000</td>\n",
       "      <td>VARNA</td>\n",
       "      <td>VARNA</td>\n",
       "      <td>Bulgaria</td>\n",
       "      <td>100.000000</td>\n",
       "      <td>VARNA</td>\n",
       "    </tr>\n",
       "    <tr>\n",
       "      <th>13790</th>\n",
       "      <td>207228000</td>\n",
       "      <td>VARNA</td>\n",
       "      <td>VARNA</td>\n",
       "      <td>Bulgaria</td>\n",
       "      <td>100.000000</td>\n",
       "      <td>VARNA</td>\n",
       "    </tr>\n",
       "  </tbody>\n",
       "</table>\n",
       "</div>"
      ],
      "text/plain": [
       "            mmsi destination_c destination Country Code      ratio1 true_match\n",
       "1447   207008000          POTI        POTI      Georgia  100.000000       POTI\n",
       "5150   207037000         VARNA       VARNA     Bulgaria  100.000000      VARNA\n",
       "7037   207038000       OPENSEA      ODENSE      Denmark   83.333333     ODENSE\n",
       "10910  207133000         VARNA       VARNA     Bulgaria  100.000000      VARNA\n",
       "13790  207228000         VARNA       VARNA     Bulgaria  100.000000      VARNA"
      ]
     },
     "execution_count": 360,
     "metadata": {},
     "output_type": "execute_result"
    }
   ],
   "source": [
    "res_fuz_match2.head()"
   ]
  },
  {
   "cell_type": "code",
   "execution_count": 365,
   "id": "859b3d21-319c-4791-90d3-b3be7f6e18a9",
   "metadata": {},
   "outputs": [
    {
     "data": {
      "text/html": [
       "<div>\n",
       "<style scoped>\n",
       "    .dataframe tbody tr th:only-of-type {\n",
       "        vertical-align: middle;\n",
       "    }\n",
       "\n",
       "    .dataframe tbody tr th {\n",
       "        vertical-align: top;\n",
       "    }\n",
       "\n",
       "    .dataframe thead th {\n",
       "        text-align: right;\n",
       "    }\n",
       "</style>\n",
       "<table border=\"1\" class=\"dataframe\">\n",
       "  <thead>\n",
       "    <tr style=\"text-align: right;\">\n",
       "      <th></th>\n",
       "      <th>mmsi</th>\n",
       "      <th>destination_c</th>\n",
       "      <th>destination</th>\n",
       "      <th>Country Code</th>\n",
       "      <th>ratio1</th>\n",
       "      <th>true_match</th>\n",
       "    </tr>\n",
       "  </thead>\n",
       "  <tbody>\n",
       "    <tr>\n",
       "      <th>522536</th>\n",
       "      <td>264900331</td>\n",
       "      <td>HARBOUR TOWAGE CTA</td>\n",
       "      <td>KEY HARBOUR</td>\n",
       "      <td>Canada</td>\n",
       "      <td>77.777778</td>\n",
       "      <td>NaN</td>\n",
       "    </tr>\n",
       "    <tr>\n",
       "      <th>1672578</th>\n",
       "      <td>273395260</td>\n",
       "      <td>CUXHAVEN</td>\n",
       "      <td>WILHELMSHAVEN</td>\n",
       "      <td>Germany</td>\n",
       "      <td>76.923077</td>\n",
       "      <td>NaN</td>\n",
       "    </tr>\n",
       "    <tr>\n",
       "      <th>1032357</th>\n",
       "      <td>273315430</td>\n",
       "      <td>RAVENNA</td>\n",
       "      <td>BREMERHAVEN</td>\n",
       "      <td>Germany</td>\n",
       "      <td>76.923077</td>\n",
       "      <td>NaN</td>\n",
       "    </tr>\n",
       "    <tr>\n",
       "      <th>2573940</th>\n",
       "      <td>518857000</td>\n",
       "      <td>CHALKIS</td>\n",
       "      <td>KYLE OF LOCHALSH</td>\n",
       "      <td>United Kingdom</td>\n",
       "      <td>76.923077</td>\n",
       "      <td>NaN</td>\n",
       "    </tr>\n",
       "    <tr>\n",
       "      <th>851246</th>\n",
       "      <td>271072367</td>\n",
       "      <td>MINDELO</td>\n",
       "      <td>MIDDELFART</td>\n",
       "      <td>Denmark</td>\n",
       "      <td>76.923077</td>\n",
       "      <td>NaN</td>\n",
       "    </tr>\n",
       "    <tr>\n",
       "      <th>2328743</th>\n",
       "      <td>371202000</td>\n",
       "      <td>RAVENNA</td>\n",
       "      <td>ANTSIRANANA</td>\n",
       "      <td>Madagascar</td>\n",
       "      <td>76.923077</td>\n",
       "      <td>NaN</td>\n",
       "    </tr>\n",
       "    <tr>\n",
       "      <th>2328357</th>\n",
       "      <td>371202000</td>\n",
       "      <td>RAVENNA</td>\n",
       "      <td>BREMERHAVEN</td>\n",
       "      <td>Germany</td>\n",
       "      <td>76.923077</td>\n",
       "      <td>NaN</td>\n",
       "    </tr>\n",
       "    <tr>\n",
       "      <th>2327792</th>\n",
       "      <td>371202000</td>\n",
       "      <td>RAVENNA</td>\n",
       "      <td>CASTLETOWN BEARHAVEN</td>\n",
       "      <td>Ireland</td>\n",
       "      <td>76.923077</td>\n",
       "      <td>NaN</td>\n",
       "    </tr>\n",
       "    <tr>\n",
       "      <th>1671485</th>\n",
       "      <td>273395260</td>\n",
       "      <td>CUXHAVEN</td>\n",
       "      <td>NORTH HAVEN</td>\n",
       "      <td>United States</td>\n",
       "      <td>76.923077</td>\n",
       "      <td>NaN</td>\n",
       "    </tr>\n",
       "    <tr>\n",
       "      <th>1031792</th>\n",
       "      <td>273315430</td>\n",
       "      <td>RAVENNA</td>\n",
       "      <td>CASTLETOWN BEARHAVEN</td>\n",
       "      <td>Ireland</td>\n",
       "      <td>76.923077</td>\n",
       "      <td>NaN</td>\n",
       "    </tr>\n",
       "    <tr>\n",
       "      <th>1032743</th>\n",
       "      <td>273315430</td>\n",
       "      <td>RAVENNA</td>\n",
       "      <td>ANTSIRANANA</td>\n",
       "      <td>Madagascar</td>\n",
       "      <td>76.923077</td>\n",
       "      <td>NaN</td>\n",
       "    </tr>\n",
       "    <tr>\n",
       "      <th>2705351</th>\n",
       "      <td>538008320</td>\n",
       "      <td>GE SUPSA</td>\n",
       "      <td>SUPSA MARINE TERMINAL</td>\n",
       "      <td>Georgia</td>\n",
       "      <td>76.923077</td>\n",
       "      <td>NaN</td>\n",
       "    </tr>\n",
       "    <tr>\n",
       "      <th>2037883</th>\n",
       "      <td>308397000</td>\n",
       "      <td>CURACAO</td>\n",
       "      <td>PLAYA DE HUMACAO</td>\n",
       "      <td>Puerto Rico</td>\n",
       "      <td>76.923077</td>\n",
       "      <td>NaN</td>\n",
       "    </tr>\n",
       "    <tr>\n",
       "      <th>1851060</th>\n",
       "      <td>273434860</td>\n",
       "      <td>CHALKIS</td>\n",
       "      <td>KYLE OF LOCHALSH</td>\n",
       "      <td>United Kingdom</td>\n",
       "      <td>76.923077</td>\n",
       "      <td>NaN</td>\n",
       "    </tr>\n",
       "    <tr>\n",
       "      <th>1671152</th>\n",
       "      <td>273395260</td>\n",
       "      <td>CUXHAVEN</td>\n",
       "      <td>CASTLETOWN BEARHAVEN</td>\n",
       "      <td>Ireland</td>\n",
       "      <td>76.923077</td>\n",
       "      <td>NaN</td>\n",
       "    </tr>\n",
       "    <tr>\n",
       "      <th>1671451</th>\n",
       "      <td>273395260</td>\n",
       "      <td>CUXHAVEN</td>\n",
       "      <td>VINEYARD HAVEN</td>\n",
       "      <td>United States</td>\n",
       "      <td>76.923077</td>\n",
       "      <td>NaN</td>\n",
       "    </tr>\n",
       "    <tr>\n",
       "      <th>1672454</th>\n",
       "      <td>273395260</td>\n",
       "      <td>CUXHAVEN</td>\n",
       "      <td>EEMSHAVEN</td>\n",
       "      <td>Netherlands</td>\n",
       "      <td>76.923077</td>\n",
       "      <td>NaN</td>\n",
       "    </tr>\n",
       "    <tr>\n",
       "      <th>1672072</th>\n",
       "      <td>273395260</td>\n",
       "      <td>CUXHAVEN</td>\n",
       "      <td>MILFORD HAVEN</td>\n",
       "      <td>United Kingdom</td>\n",
       "      <td>76.923077</td>\n",
       "      <td>NaN</td>\n",
       "    </tr>\n",
       "    <tr>\n",
       "      <th>1671868</th>\n",
       "      <td>273395260</td>\n",
       "      <td>CUXHAVEN</td>\n",
       "      <td>GULFHAVEN</td>\n",
       "      <td>Denmark</td>\n",
       "      <td>76.923077</td>\n",
       "      <td>NaN</td>\n",
       "    </tr>\n",
       "    <tr>\n",
       "      <th>1671717</th>\n",
       "      <td>273395260</td>\n",
       "      <td>CUXHAVEN</td>\n",
       "      <td>BREMERHAVEN</td>\n",
       "      <td>Germany</td>\n",
       "      <td>76.923077</td>\n",
       "      <td>NaN</td>\n",
       "    </tr>\n",
       "  </tbody>\n",
       "</table>\n",
       "</div>"
      ],
      "text/plain": [
       "              mmsi       destination_c            destination    Country Code  \\\n",
       "522536   264900331  HARBOUR TOWAGE CTA            KEY HARBOUR          Canada   \n",
       "1672578  273395260            CUXHAVEN          WILHELMSHAVEN         Germany   \n",
       "1032357  273315430             RAVENNA            BREMERHAVEN         Germany   \n",
       "2573940  518857000             CHALKIS       KYLE OF LOCHALSH  United Kingdom   \n",
       "851246   271072367             MINDELO             MIDDELFART         Denmark   \n",
       "2328743  371202000             RAVENNA            ANTSIRANANA      Madagascar   \n",
       "2328357  371202000             RAVENNA            BREMERHAVEN         Germany   \n",
       "2327792  371202000             RAVENNA   CASTLETOWN BEARHAVEN         Ireland   \n",
       "1671485  273395260            CUXHAVEN            NORTH HAVEN   United States   \n",
       "1031792  273315430             RAVENNA   CASTLETOWN BEARHAVEN         Ireland   \n",
       "1032743  273315430             RAVENNA            ANTSIRANANA      Madagascar   \n",
       "2705351  538008320            GE SUPSA  SUPSA MARINE TERMINAL         Georgia   \n",
       "2037883  308397000             CURACAO       PLAYA DE HUMACAO     Puerto Rico   \n",
       "1851060  273434860             CHALKIS       KYLE OF LOCHALSH  United Kingdom   \n",
       "1671152  273395260            CUXHAVEN   CASTLETOWN BEARHAVEN         Ireland   \n",
       "1671451  273395260            CUXHAVEN         VINEYARD HAVEN   United States   \n",
       "1672454  273395260            CUXHAVEN              EEMSHAVEN     Netherlands   \n",
       "1672072  273395260            CUXHAVEN          MILFORD HAVEN  United Kingdom   \n",
       "1671868  273395260            CUXHAVEN              GULFHAVEN         Denmark   \n",
       "1671717  273395260            CUXHAVEN            BREMERHAVEN         Germany   \n",
       "\n",
       "            ratio1 true_match  \n",
       "522536   77.777778        NaN  \n",
       "1672578  76.923077        NaN  \n",
       "1032357  76.923077        NaN  \n",
       "2573940  76.923077        NaN  \n",
       "851246   76.923077        NaN  \n",
       "2328743  76.923077        NaN  \n",
       "2328357  76.923077        NaN  \n",
       "2327792  76.923077        NaN  \n",
       "1671485  76.923077        NaN  \n",
       "1031792  76.923077        NaN  \n",
       "1032743  76.923077        NaN  \n",
       "2705351  76.923077        NaN  \n",
       "2037883  76.923077        NaN  \n",
       "1851060  76.923077        NaN  \n",
       "1671152  76.923077        NaN  \n",
       "1671451  76.923077        NaN  \n",
       "1672454  76.923077        NaN  \n",
       "1672072  76.923077        NaN  \n",
       "1671868  76.923077        NaN  \n",
       "1671717  76.923077        NaN  "
      ]
     },
     "execution_count": 365,
     "metadata": {},
     "output_type": "execute_result"
    }
   ],
   "source": [
    "res_fuz_match2.loc[res_fuz_match2[\"ratio1\"]<80, :].sort_values(\"ratio1\", ascending=False).head(20)"
   ]
  },
  {
   "cell_type": "code",
   "execution_count": null,
   "id": "fc1c9bb8-c674-42fd-965f-3b4d13ecbf27",
   "metadata": {},
   "outputs": [],
   "source": []
  }
 ],
 "metadata": {
  "kernelspec": {
   "display_name": "Python 3 (ipykernel)",
   "language": "python",
   "name": "python3"
  },
  "language_info": {
   "codemirror_mode": {
    "name": "ipython",
    "version": 3
   },
   "file_extension": ".py",
   "mimetype": "text/x-python",
   "name": "python",
   "nbconvert_exporter": "python",
   "pygments_lexer": "ipython3",
   "version": "3.10.4"
  }
 },
 "nbformat": 4,
 "nbformat_minor": 5
}
