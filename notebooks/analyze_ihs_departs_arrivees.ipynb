{
 "cells": [
  {
   "cell_type": "code",
   "execution_count": 1,
   "id": "5af23c40-ade4-4c59-81fd-77222ff61637",
   "metadata": {},
   "outputs": [
    {
     "data": {
      "text/plain": [
       "'/home/onyxia/work/hackathon-un-2022/notebooks'"
      ]
     },
     "execution_count": 1,
     "metadata": {},
     "output_type": "execute_result"
    }
   ],
   "source": [
    "import os\n",
    "os.getcwd()"
   ]
  },
  {
   "cell_type": "code",
   "execution_count": 2,
   "id": "a7152815-3848-4991-8b2f-e0a25583b51a",
   "metadata": {},
   "outputs": [],
   "source": [
    "os.chdir(\"..\")\n",
    "import utils.functions as fc\n",
    "import utils.indicators as indic"
   ]
  },
  {
   "cell_type": "code",
   "execution_count": 14,
   "id": "b0b8fda6-f99b-4d23-8195-3bdc128763bd",
   "metadata": {},
   "outputs": [],
   "source": [
    "from importlib import reload\n",
    "fc = reload(fc)\n",
    "indic = reload(indic)"
   ]
  },
  {
   "cell_type": "code",
   "execution_count": 4,
   "id": "11332f55-ada8-4805-bca8-c836d4f5277a",
   "metadata": {},
   "outputs": [],
   "source": [
    "ship_data_enriched = fc.create_ship_data_enriched()"
   ]
  },
  {
   "cell_type": "code",
   "execution_count": 5,
   "id": "a19cb760-00d9-4d20-b5d3-f8a006138849",
   "metadata": {},
   "outputs": [],
   "source": [
    "ais = fc.read_ais_parquet()"
   ]
  },
  {
   "cell_type": "code",
   "execution_count": 6,
   "id": "02e098a1-75cb-40b8-adcb-dcf36fc9df32",
   "metadata": {},
   "outputs": [
    {
     "data": {
      "text/plain": [
       "(1543295, 9)"
      ]
     },
     "execution_count": 6,
     "metadata": {},
     "output_type": "execute_result"
    }
   ],
   "source": [
    "ais.shape"
   ]
  },
  {
   "cell_type": "code",
   "execution_count": 6,
   "id": "f9371f88-4b81-4494-a3da-a70c1c8c5538",
   "metadata": {},
   "outputs": [],
   "source": [
    "ship_data_enriched = ship_data_enriched.loc[ship_data_enriched[\"ShiptypeLevel1\"] == \"Cargo Carrying\",:]"
   ]
  },
  {
   "cell_type": "code",
   "execution_count": 8,
   "id": "6220d9a2-f105-4da8-95cd-15ae322dc365",
   "metadata": {},
   "outputs": [
    {
     "data": {
      "text/plain": [
       "(1543295, 9)"
      ]
     },
     "execution_count": 8,
     "metadata": {},
     "output_type": "execute_result"
    }
   ],
   "source": [
    "ais.shape"
   ]
  },
  {
   "cell_type": "code",
   "execution_count": 31,
   "id": "35ffd75b-da08-4cde-95a5-b3f707cc1c63",
   "metadata": {},
   "outputs": [],
   "source": [
    "# ship_data_enriched = ship_data_enriched.loc[ship_data_enriched[\"ShipTypeLevel3\"].isin([\"General Cargo\",\n",
    "#                                                                                       \"Bulk Dry\", \n",
    "#                                                                                      \"Container\", \n",
    "#                                                                                       \"Other Bulk Dry\",\n",
    "#                                                                                       \"Refrigerated Cargo\",\n",
    "#                                                                                       \"Other Dry Cargo\",\n",
    "#                                                                                       \"Bulk Dry / Oil\",\n",
    "#                                                                                       \"Self Discharging Bulk Dry\"]),:]"
   ]
  },
  {
   "cell_type": "code",
   "execution_count": 22,
   "id": "322f366d-4bcb-4dab-867a-8fe23f596b80",
   "metadata": {},
   "outputs": [
    {
     "data": {
      "text/plain": [
       "(0, 9)"
      ]
     },
     "execution_count": 22,
     "metadata": {},
     "output_type": "execute_result"
    }
   ],
   "source": [
    "ais.loc[ais[\"mmsi\"].isna(), :].shape"
   ]
  },
  {
   "cell_type": "code",
   "execution_count": 7,
   "id": "faea1e6b-dcc9-474d-9236-54039705d37f",
   "metadata": {},
   "outputs": [],
   "source": [
    "ais_enriched = fc.enrich_AIS_data(ais, ship_data_enriched)"
   ]
  },
  {
   "cell_type": "code",
   "execution_count": 11,
   "id": "cd84dee9-edbe-45eb-8d43-3a556d114c03",
   "metadata": {},
   "outputs": [
    {
     "data": {
      "text/plain": [
       "(585145, 128)"
      ]
     },
     "execution_count": 11,
     "metadata": {},
     "output_type": "execute_result"
    }
   ],
   "source": [
    "ais_enriched.shape"
   ]
  },
  {
   "cell_type": "code",
   "execution_count": 15,
   "id": "1193ffc9-3143-4987-99ef-637c6d9c8d66",
   "metadata": {},
   "outputs": [
    {
     "name": "stderr",
     "output_type": "stream",
     "text": [
      "/home/onyxia/work/hackathon-un-2022/utils/indicators.py:10: FutureWarning: The error_bad_lines argument has been deprecated and will be removed in a future version. Use on_bad_lines in the future.\n",
      "\n",
      "\n",
      "  mmsi_number = pd.read_csv(fs.open(f'{BUCKET}/AIS/mmid.csv',\n"
     ]
    },
    {
     "name": "stdout",
     "output_type": "stream",
     "text": [
      "Classification of origin country\n",
      "Russian Federation                                                                   99456\n",
      "Panama (Republic of)                                                                 82581\n",
      "Liberia (Republic of)                                                                63830\n",
      "Malta                                                                                43185\n",
      "Marshall Islands (Republic of the)                                                   42827\n",
      "Republic of Türkiye                                                                  29314\n",
      "Ukraine                                                                              23994\n",
      "Bahamas (Commonwealth of the)                                                        13981\n",
      "Palau (Republic of)                                                                  12989\n",
      "Comoros (Union of the)                                                               12889\n",
      "Sierra Leone                                                                         12862\n",
      "Togolese Republic                                                                     9140\n",
      "Singapore (Republic of)                                                               9019\n",
      "Belize                                                                                8403\n",
      "Tanzania (United Republic of)                                                         7225\n",
      "Greece                                                                                7035\n",
      "Cameroon (Republic of)                                                                6905\n",
      "Bulgaria (Republic of)                                                                6366\n",
      "Portugal - Madeira                                                                    6299\n",
      "Vanuatu (Republic of)                                                                 6260\n",
      "Barbados                                                                              5986\n",
      "China (People's Republic of) - Hong Kong (Special Administrative Region of China)     5951\n",
      "Saint Kitts and Nevis (Federation of)                                                 5111\n",
      "Moldova (Republic of)                                                                 4972\n",
      "Antigua and Barbuda                                                                   4739\n",
      "New Zealand - Cook Islands                                                            4229\n",
      "China (People's Republic of)                                                          3797\n",
      "Cyprus (Republic of)                                                                  3745\n",
      "Egypt (Arab Republic of)                                                              2981\n",
      "Honduras (Republic of)                                                                2914\n",
      "Denmark                                                                               2892\n",
      "Azerbaijan (Republic of)                                                              2872\n",
      "Italy                                                                                 2820\n",
      "United Kingdom of Great Britain and Northern Ireland - Cayman Islands                 2761\n",
      "Norway                                                                                2631\n",
      "Saint Vincent and the Grenadines                                                      2506\n",
      "Philippines (Republic of the)                                                         2433\n",
      "Romania                                                                               2201\n",
      "United Kingdom of Great Britain and Northern Ireland                                  2121\n",
      "Croatia (Republic of)                                                                 1974\n",
      "Netherlands (Kingdom of the)                                                          1799\n",
      "Luxembourg                                                                            1281\n",
      "Switzerland (Confederation of)                                                        1076\n",
      "Ethiopia (Federal Democratic Republic of)                                              957\n",
      "United Kingdom of Great Britain and Northern Ireland - Gibraltar                       952\n",
      "Tuvalu                                                                                 903\n",
      "Dominica (Commonwealth of)                                                             804\n",
      "Thailand                                                                               737\n",
      "Iran (Islamic Republic of)                                                             581\n",
      "Indonesia (Republic of)                                                                534\n",
      "Latvia (Republic of)                                                                   523\n",
      "Germany (Federal Republic of)                                                          383\n",
      "Lebanon                                                                                168\n",
      "Ireland                                                                                160\n",
      "Syrian Arab Republic                                                                    90\n",
      "Japan                                                                                    1\n",
      "Name: origin_country, dtype: int64\n",
      "Number of missing origin country\n",
      "(0, 130)\n"
     ]
    }
   ],
   "source": [
    "# function qui assigne le pays d'origine\n",
    "ais_enriched2 = indic.assign_country_origin(ais_enriched)"
   ]
  },
  {
   "cell_type": "code",
   "execution_count": 17,
   "id": "06b2e8c7-f540-4a12-b0e8-4a659315bf60",
   "metadata": {},
   "outputs": [
    {
     "name": "stdout",
     "output_type": "stream",
     "text": [
      "Percentage missing destination port\n",
      "0.022876381067940425\n",
      "Number missing destination port\n",
      "13386\n",
      "Classification of destination countries\n",
      "Russia           32185\n",
      "Romania          24690\n",
      "Turkey           17776\n",
      "Ukraine          17328\n",
      "Bulgaria         16440\n",
      "Georgia           8492\n",
      "Netherlands       1385\n",
      "Israel             779\n",
      "Bangladesh         539\n",
      "Portugal           512\n",
      "Somalia            319\n",
      "South Africa       230\n",
      "Italy              193\n",
      "Croatia            187\n",
      "United States      184\n",
      "China              163\n",
      "Slovenia           142\n",
      "Spain              131\n",
      "South Korea         85\n",
      "Cyprus              78\n",
      "Egypt               45\n",
      "Algeria             32\n",
      "Colombia            15\n",
      "Name: destination_country, dtype: int64\n"
     ]
    }
   ],
   "source": [
    "# fonction that assigns a destination country\n",
    "ais_enriched3 = indic.assign_destination_country(ais_enriched2)"
   ]
  },
  {
   "cell_type": "code",
   "execution_count": null,
   "id": "9a99a28e-c79c-468a-a0ea-7f3dfed5cb94",
   "metadata": {},
   "outputs": [],
   "source": []
  }
 ],
 "metadata": {
  "kernelspec": {
   "display_name": "Python 3 (ipykernel)",
   "language": "python",
   "name": "python3"
  },
  "language_info": {
   "codemirror_mode": {
    "name": "ipython",
    "version": 3
   },
   "file_extension": ".py",
   "mimetype": "text/x-python",
   "name": "python",
   "nbconvert_exporter": "python",
   "pygments_lexer": "ipython3",
   "version": "3.10.4"
  }
 },
 "nbformat": 4,
 "nbformat_minor": 5
}
