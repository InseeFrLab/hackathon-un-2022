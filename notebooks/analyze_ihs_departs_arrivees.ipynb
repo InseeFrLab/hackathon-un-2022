{
 "cells": [
  {
   "cell_type": "code",
   "execution_count": 20,
   "id": "5af23c40-ade4-4c59-81fd-77222ff61637",
   "metadata": {},
   "outputs": [
    {
     "data": {
      "text/plain": [
       "'/home/onyxia/work/hackathon-un-2022'"
      ]
     },
     "execution_count": 20,
     "metadata": {},
     "output_type": "execute_result"
    }
   ],
   "source": [
    "import os\n",
    "os.getcwd()"
   ]
  },
  {
   "cell_type": "code",
   "execution_count": 21,
   "id": "a7152815-3848-4991-8b2f-e0a25583b51a",
   "metadata": {},
   "outputs": [],
   "source": [
    "os.chdir(\"..\")\n",
    "import utils.functions as fc"
   ]
  },
  {
   "cell_type": "code",
   "execution_count": 28,
   "id": "b0b8fda6-f99b-4d23-8195-3bdc128763bd",
   "metadata": {},
   "outputs": [],
   "source": [
    "from importlib import reload\n",
    "fc = reload(fc)"
   ]
  },
  {
   "cell_type": "code",
   "execution_count": 22,
   "id": "11332f55-ada8-4805-bca8-c836d4f5277a",
   "metadata": {},
   "outputs": [],
   "source": [
    "ship_data_enriched = fc.create_ship_data_enriched()"
   ]
  },
  {
   "cell_type": "code",
   "execution_count": 23,
   "id": "6af3a73c-4999-4809-953f-fdce1f2b1254",
   "metadata": {},
   "outputs": [
    {
     "data": {
      "text/plain": [
       "Index(['LRIMOShipNo', 'StatCode5', 'AlterationsDescriptiveNarrative',\n",
       "       'PropulsionTypeCode', 'ShipName', 'ExName',\n",
       "       'MaritimeMobileServiceIdentityMMSINumber', 'RegisteredOwnerCode',\n",
       "       'RegisteredOwnerCountryOfRegistration',\n",
       "       'RegisteredOwnerCountryofDomicile',\n",
       "       ...\n",
       "       'ShipTypeLevel4', 'Level3Code', 'ShipTypeLevel3', 'Level2Code',\n",
       "       'ShipTypeLevel2', 'ShipTypeLevel1Code', 'ShiptypeLevel1', 'HullType',\n",
       "       'SubGroup', 'SubType'],\n",
       "      dtype='object', length=119)"
      ]
     },
     "execution_count": 23,
     "metadata": {},
     "output_type": "execute_result"
    }
   ],
   "source": [
    "ship_data_enriched.columns"
   ]
  },
  {
   "cell_type": "code",
   "execution_count": 29,
   "id": "a19cb760-00d9-4d20-b5d3-f8a006138849",
   "metadata": {},
   "outputs": [],
   "source": [
    "AIS = fc.read_ais_parquet()"
   ]
  },
  {
   "cell_type": "code",
   "execution_count": 30,
   "id": "02e098a1-75cb-40b8-adcb-dcf36fc9df32",
   "metadata": {},
   "outputs": [
    {
     "data": {
      "text/plain": [
       "(1543295, 9)"
      ]
     },
     "execution_count": 30,
     "metadata": {},
     "output_type": "execute_result"
    }
   ],
   "source": [
    "AIS.shape"
   ]
  },
  {
   "cell_type": "code",
   "execution_count": 26,
   "id": "f9371f88-4b81-4494-a3da-a70c1c8c5538",
   "metadata": {},
   "outputs": [],
   "source": [
    "ship_data_enriched = ship_data_enriched.loc[ship_data_enriched[\"ShiptypeLevel1\"] == \"Cargo Carrying\",:]"
   ]
  },
  {
   "cell_type": "code",
   "execution_count": 27,
   "id": "6220d9a2-f105-4da8-95cd-15ae322dc365",
   "metadata": {},
   "outputs": [
    {
     "data": {
      "text/plain": [
       "(179988, 8)"
      ]
     },
     "execution_count": 27,
     "metadata": {},
     "output_type": "execute_result"
    }
   ],
   "source": [
    "AIS.shape"
   ]
  },
  {
   "cell_type": "code",
   "execution_count": 10,
   "id": "35ffd75b-da08-4cde-95a5-b3f707cc1c63",
   "metadata": {},
   "outputs": [],
   "source": [
    "ship_data_enriched = ship_data_enriched.loc[ship_data_enriched[\"ShipTypeLevel3\"].isin([\"General Cargo\",\n",
    "                                                                                      \"Bulk Dry\", \n",
    "                                                                                      \"Container\", \n",
    "                                                                                      \"Other Bulk Dry\",\n",
    "                                                                                      \"Refrigerated Cargo\",\n",
    "                                                                                      \"Other Dry Cargo\",\n",
    "                                                                                      \"Bulk Dry / Oil\",\n",
    "                                                                                      \"Self Discharging Bulk Dry\"]),:]"
   ]
  },
  {
   "cell_type": "code",
   "execution_count": 11,
   "id": "497980c8-75ee-46fb-aff4-edb05f299b07",
   "metadata": {},
   "outputs": [
    {
     "data": {
      "text/plain": [
       "General Cargo Ship               39960\n",
       "Bulk Carrier                     20379\n",
       "Container Ship                    9275\n",
       "Refrigerated Cargo Ship           2141\n",
       "Aggregates Carrier                1204\n",
       "Cement Carrier                     818\n",
       "Ore Carrier                        810\n",
       "Deck Cargo Ship                    717\n",
       "Livestock Carrier                  388\n",
       "Wood Chips Carrier                 321\n",
       "Heavy Load Carrier                 320\n",
       "Self Discharging Bulk Carrier      314\n",
       "Ore/Oil Carrier                    252\n",
       "Bulk/Oil Carrier                   215\n",
       "Limestone Carrier                   75\n",
       "Palletised Cargo Ship               70\n",
       "Barge Carrier                       39\n",
       "Nuclear Fuel Carrier                23\n",
       "Powder Carrier                       8\n",
       "Urea Carrier                         8\n",
       "Passenger/Container Ship             5\n",
       "Pulp Carrier                         3\n",
       "Refined Sugar Carrier                2\n",
       "Name: ShipTypeLevel4, dtype: int64"
      ]
     },
     "execution_count": 11,
     "metadata": {},
     "output_type": "execute_result"
    }
   ],
   "source": [
    "ship_data_enriched[\"ShipTypeLevel4\"].value_counts()"
   ]
  },
  {
   "cell_type": "code",
   "execution_count": 12,
   "id": "fdb2d788-6cda-4ca3-b30e-d8c27e40da97",
   "metadata": {},
   "outputs": [
    {
     "data": {
      "text/plain": [
       "(179988, 8)"
      ]
     },
     "execution_count": 12,
     "metadata": {},
     "output_type": "execute_result"
    }
   ],
   "source": [
    "AIS.shape # 179 988"
   ]
  },
  {
   "cell_type": "code",
   "execution_count": 15,
   "id": "322f366d-4bcb-4dab-867a-8fe23f596b80",
   "metadata": {},
   "outputs": [
    {
     "data": {
      "text/plain": [
       "(0, 8)"
      ]
     },
     "execution_count": 15,
     "metadata": {},
     "output_type": "execute_result"
    }
   ],
   "source": [
    "AIS.loc[AIS[\"mmsi\"].isna(), :].shape"
   ]
  },
  {
   "cell_type": "code",
   "execution_count": 16,
   "id": "65825588-8769-4f68-8e87-efdd5af48a99",
   "metadata": {},
   "outputs": [],
   "source": [
    "AIS_enriched = AIS.merge(\n",
    "    ship_data_enriched, left_on = 'mmsi',\n",
    "    right_on = \"MaritimeMobileServiceIdentityMMSINumber\", how=\"left\")"
   ]
  },
  {
   "cell_type": "code",
   "execution_count": 17,
   "id": "9eea6325-3cfb-409c-97ae-14f39acafd40",
   "metadata": {},
   "outputs": [
    {
     "data": {
      "text/html": [
       "<div>\n",
       "<style scoped>\n",
       "    .dataframe tbody tr th:only-of-type {\n",
       "        vertical-align: middle;\n",
       "    }\n",
       "\n",
       "    .dataframe tbody tr th {\n",
       "        vertical-align: top;\n",
       "    }\n",
       "\n",
       "    .dataframe thead th {\n",
       "        text-align: right;\n",
       "    }\n",
       "</style>\n",
       "<table border=\"1\" class=\"dataframe\">\n",
       "  <thead>\n",
       "    <tr style=\"text-align: right;\">\n",
       "      <th></th>\n",
       "      <th>hex_resolution</th>\n",
       "      <th>longitude</th>\n",
       "      <th>mmsi</th>\n",
       "      <th>eeid</th>\n",
       "      <th>H3_int_index_8</th>\n",
       "      <th>latitude</th>\n",
       "      <th>dt_insert_utc</th>\n",
       "      <th>polygon_name</th>\n",
       "      <th>LRIMOShipNo</th>\n",
       "      <th>StatCode5</th>\n",
       "      <th>...</th>\n",
       "      <th>ShipTypeLevel4</th>\n",
       "      <th>Level3Code</th>\n",
       "      <th>ShipTypeLevel3</th>\n",
       "      <th>Level2Code</th>\n",
       "      <th>ShipTypeLevel2</th>\n",
       "      <th>ShipTypeLevel1Code</th>\n",
       "      <th>ShiptypeLevel1</th>\n",
       "      <th>HullType</th>\n",
       "      <th>SubGroup</th>\n",
       "      <th>SubType</th>\n",
       "    </tr>\n",
       "  </thead>\n",
       "  <tbody>\n",
       "    <tr>\n",
       "      <th>0</th>\n",
       "      <td>8</td>\n",
       "      <td>33.333333</td>\n",
       "      <td>272168100</td>\n",
       "      <td>5281533799698068644</td>\n",
       "      <td>613022282759012351</td>\n",
       "      <td>46.758333</td>\n",
       "      <td>2022-01-01 23:53:28</td>\n",
       "      <td>Polygon</td>\n",
       "      <td>NaN</td>\n",
       "      <td>NaN</td>\n",
       "      <td>...</td>\n",
       "      <td>NaN</td>\n",
       "      <td>NaN</td>\n",
       "      <td>NaN</td>\n",
       "      <td>NaN</td>\n",
       "      <td>NaN</td>\n",
       "      <td>NaN</td>\n",
       "      <td>NaN</td>\n",
       "      <td>NaN</td>\n",
       "      <td>NaN</td>\n",
       "      <td>NaN</td>\n",
       "    </tr>\n",
       "    <tr>\n",
       "      <th>1</th>\n",
       "      <td>8</td>\n",
       "      <td>32.910907</td>\n",
       "      <td>272686000</td>\n",
       "      <td>4861284512643996592</td>\n",
       "      <td>613022403708059647</td>\n",
       "      <td>46.107775</td>\n",
       "      <td>2022-01-01 21:25:23</td>\n",
       "      <td>Polygon</td>\n",
       "      <td>NaN</td>\n",
       "      <td>NaN</td>\n",
       "      <td>...</td>\n",
       "      <td>NaN</td>\n",
       "      <td>NaN</td>\n",
       "      <td>NaN</td>\n",
       "      <td>NaN</td>\n",
       "      <td>NaN</td>\n",
       "      <td>NaN</td>\n",
       "      <td>NaN</td>\n",
       "      <td>NaN</td>\n",
       "      <td>NaN</td>\n",
       "      <td>NaN</td>\n",
       "    </tr>\n",
       "    <tr>\n",
       "      <th>2</th>\n",
       "      <td>8</td>\n",
       "      <td>32.910883</td>\n",
       "      <td>272686000</td>\n",
       "      <td>4861284512643996592</td>\n",
       "      <td>613022403708059647</td>\n",
       "      <td>46.107767</td>\n",
       "      <td>2022-01-01 11:31:20</td>\n",
       "      <td>Polygon</td>\n",
       "      <td>NaN</td>\n",
       "      <td>NaN</td>\n",
       "      <td>...</td>\n",
       "      <td>NaN</td>\n",
       "      <td>NaN</td>\n",
       "      <td>NaN</td>\n",
       "      <td>NaN</td>\n",
       "      <td>NaN</td>\n",
       "      <td>NaN</td>\n",
       "      <td>NaN</td>\n",
       "      <td>NaN</td>\n",
       "      <td>NaN</td>\n",
       "      <td>NaN</td>\n",
       "    </tr>\n",
       "    <tr>\n",
       "      <th>3</th>\n",
       "      <td>8</td>\n",
       "      <td>32.910882</td>\n",
       "      <td>272686000</td>\n",
       "      <td>4861284512643996592</td>\n",
       "      <td>613022403708059647</td>\n",
       "      <td>46.107755</td>\n",
       "      <td>2022-01-01 12:40:23</td>\n",
       "      <td>Polygon</td>\n",
       "      <td>NaN</td>\n",
       "      <td>NaN</td>\n",
       "      <td>...</td>\n",
       "      <td>NaN</td>\n",
       "      <td>NaN</td>\n",
       "      <td>NaN</td>\n",
       "      <td>NaN</td>\n",
       "      <td>NaN</td>\n",
       "      <td>NaN</td>\n",
       "      <td>NaN</td>\n",
       "      <td>NaN</td>\n",
       "      <td>NaN</td>\n",
       "      <td>NaN</td>\n",
       "    </tr>\n",
       "    <tr>\n",
       "      <th>4</th>\n",
       "      <td>8</td>\n",
       "      <td>32.910875</td>\n",
       "      <td>272686000</td>\n",
       "      <td>4861284512643996592</td>\n",
       "      <td>613022403708059647</td>\n",
       "      <td>46.107778</td>\n",
       "      <td>2022-01-01 14:40:21</td>\n",
       "      <td>Polygon</td>\n",
       "      <td>NaN</td>\n",
       "      <td>NaN</td>\n",
       "      <td>...</td>\n",
       "      <td>NaN</td>\n",
       "      <td>NaN</td>\n",
       "      <td>NaN</td>\n",
       "      <td>NaN</td>\n",
       "      <td>NaN</td>\n",
       "      <td>NaN</td>\n",
       "      <td>NaN</td>\n",
       "      <td>NaN</td>\n",
       "      <td>NaN</td>\n",
       "      <td>NaN</td>\n",
       "    </tr>\n",
       "  </tbody>\n",
       "</table>\n",
       "<p>5 rows × 127 columns</p>\n",
       "</div>"
      ],
      "text/plain": [
       "   hex_resolution  longitude       mmsi                 eeid  \\\n",
       "0               8  33.333333  272168100  5281533799698068644   \n",
       "1               8  32.910907  272686000  4861284512643996592   \n",
       "2               8  32.910883  272686000  4861284512643996592   \n",
       "3               8  32.910882  272686000  4861284512643996592   \n",
       "4               8  32.910875  272686000  4861284512643996592   \n",
       "\n",
       "       H3_int_index_8   latitude       dt_insert_utc polygon_name  \\\n",
       "0  613022282759012351  46.758333 2022-01-01 23:53:28      Polygon   \n",
       "1  613022403708059647  46.107775 2022-01-01 21:25:23      Polygon   \n",
       "2  613022403708059647  46.107767 2022-01-01 11:31:20      Polygon   \n",
       "3  613022403708059647  46.107755 2022-01-01 12:40:23      Polygon   \n",
       "4  613022403708059647  46.107778 2022-01-01 14:40:21      Polygon   \n",
       "\n",
       "   LRIMOShipNo StatCode5  ... ShipTypeLevel4 Level3Code ShipTypeLevel3  \\\n",
       "0          NaN       NaN  ...            NaN        NaN            NaN   \n",
       "1          NaN       NaN  ...            NaN        NaN            NaN   \n",
       "2          NaN       NaN  ...            NaN        NaN            NaN   \n",
       "3          NaN       NaN  ...            NaN        NaN            NaN   \n",
       "4          NaN       NaN  ...            NaN        NaN            NaN   \n",
       "\n",
       "  Level2Code  ShipTypeLevel2  ShipTypeLevel1Code ShiptypeLevel1 HullType  \\\n",
       "0        NaN             NaN                 NaN            NaN      NaN   \n",
       "1        NaN             NaN                 NaN            NaN      NaN   \n",
       "2        NaN             NaN                 NaN            NaN      NaN   \n",
       "3        NaN             NaN                 NaN            NaN      NaN   \n",
       "4        NaN             NaN                 NaN            NaN      NaN   \n",
       "\n",
       "   SubGroup SubType  \n",
       "0       NaN     NaN  \n",
       "1       NaN     NaN  \n",
       "2       NaN     NaN  \n",
       "3       NaN     NaN  \n",
       "4       NaN     NaN  \n",
       "\n",
       "[5 rows x 127 columns]"
      ]
     },
     "execution_count": 17,
     "metadata": {},
     "output_type": "execute_result"
    }
   ],
   "source": [
    "AIS_enriched.head()"
   ]
  },
  {
   "cell_type": "code",
   "execution_count": 18,
   "id": "cd84dee9-edbe-45eb-8d43-3a556d114c03",
   "metadata": {},
   "outputs": [
    {
     "data": {
      "text/plain": [
       "(179988, 127)"
      ]
     },
     "execution_count": 18,
     "metadata": {},
     "output_type": "execute_result"
    }
   ],
   "source": [
    "AIS_enriched.shape"
   ]
  },
  {
   "cell_type": "code",
   "execution_count": 19,
   "id": "a211c7b6-02c7-420e-a4f5-b1c6b43f056f",
   "metadata": {},
   "outputs": [
    {
     "data": {
      "text/plain": [
       "Index(['hex_resolution', 'longitude', 'mmsi', 'eeid', 'H3_int_index_8',\n",
       "       'latitude', 'dt_insert_utc', 'polygon_name', 'LRIMOShipNo', 'StatCode5',\n",
       "       ...\n",
       "       'ShipTypeLevel4', 'Level3Code', 'ShipTypeLevel3', 'Level2Code',\n",
       "       'ShipTypeLevel2', 'ShipTypeLevel1Code', 'ShiptypeLevel1', 'HullType',\n",
       "       'SubGroup', 'SubType'],\n",
       "      dtype='object', length=127)"
      ]
     },
     "execution_count": 19,
     "metadata": {},
     "output_type": "execute_result"
    }
   ],
   "source": [
    "AIS_enriched.columns"
   ]
  },
  {
   "cell_type": "code",
   "execution_count": 20,
   "id": "02890b2e-4493-41a3-81ca-19da9c63877b",
   "metadata": {},
   "outputs": [
    {
     "name": "stderr",
     "output_type": "stream",
     "text": [
      "/tmp/ipykernel_930/1136292346.py:1: FutureWarning: The error_bad_lines argument has been deprecated and will be removed in a future version. Use on_bad_lines in the future.\n",
      "\n",
      "\n",
      "  mmsi_number = pd.read_csv(fs.open(f'{bucket}/AIS/mmid.csv',\n"
     ]
    }
   ],
   "source": [
    "mmsi_number = pd.read_csv(fs.open(f'{bucket}/AIS/mmid.csv',\n",
    "                         mode='rb'), error_bad_lines=False, encoding='iso-8859-1', sep=\";\")"
   ]
  },
  {
   "cell_type": "code",
   "execution_count": 21,
   "id": "8fdeb5a8-6075-474f-ad91-53e63fb19716",
   "metadata": {},
   "outputs": [
    {
     "data": {
      "text/html": [
       "<div>\n",
       "<style scoped>\n",
       "    .dataframe tbody tr th:only-of-type {\n",
       "        vertical-align: middle;\n",
       "    }\n",
       "\n",
       "    .dataframe tbody tr th {\n",
       "        vertical-align: top;\n",
       "    }\n",
       "\n",
       "    .dataframe thead th {\n",
       "        text-align: right;\n",
       "    }\n",
       "</style>\n",
       "<table border=\"1\" class=\"dataframe\">\n",
       "  <thead>\n",
       "    <tr style=\"text-align: right;\">\n",
       "      <th></th>\n",
       "      <th>Digit</th>\n",
       "      <th>Allocated to</th>\n",
       "    </tr>\n",
       "  </thead>\n",
       "  <tbody>\n",
       "    <tr>\n",
       "      <th>0</th>\n",
       "      <td>201</td>\n",
       "      <td>Albania (Republic of)</td>\n",
       "    </tr>\n",
       "    <tr>\n",
       "      <th>1</th>\n",
       "      <td>202</td>\n",
       "      <td>Andorra (Principality of)</td>\n",
       "    </tr>\n",
       "    <tr>\n",
       "      <th>2</th>\n",
       "      <td>203</td>\n",
       "      <td>Austria</td>\n",
       "    </tr>\n",
       "    <tr>\n",
       "      <th>3</th>\n",
       "      <td>204</td>\n",
       "      <td>Portugal - Azores</td>\n",
       "    </tr>\n",
       "    <tr>\n",
       "      <th>4</th>\n",
       "      <td>205</td>\n",
       "      <td>Belgium</td>\n",
       "    </tr>\n",
       "  </tbody>\n",
       "</table>\n",
       "</div>"
      ],
      "text/plain": [
       "   Digit               Allocated to\n",
       "0    201      Albania (Republic of)\n",
       "1    202  Andorra (Principality of)\n",
       "2    203                    Austria\n",
       "3    204          Portugal - Azores\n",
       "4    205                    Belgium"
      ]
     },
     "execution_count": 21,
     "metadata": {},
     "output_type": "execute_result"
    }
   ],
   "source": [
    "mmsi_number.head()"
   ]
  },
  {
   "cell_type": "code",
   "execution_count": 25,
   "id": "42971c54-c31d-4dbe-9dc5-3467a62800ac",
   "metadata": {},
   "outputs": [],
   "source": [
    "AIS_enriched[\"Digit\"] = AIS_enriched[\"mmsi\"].astype(str).str[0:3]"
   ]
  },
  {
   "cell_type": "code",
   "execution_count": 24,
   "id": "a93bf604-d0f8-41ea-afab-46c44a1b0a37",
   "metadata": {},
   "outputs": [
    {
     "data": {
      "text/plain": [
       "0    272\n",
       "1    272\n",
       "2    272\n",
       "3    272\n",
       "4    272\n",
       "Name: mmsi_digits, dtype: object"
      ]
     },
     "execution_count": 24,
     "metadata": {},
     "output_type": "execute_result"
    }
   ],
   "source": [
    "AIS_enriched[\"mmsi_digits\"].head()"
   ]
  },
  {
   "cell_type": "code",
   "execution_count": 29,
   "id": "6f007f97-6cbb-4bee-8ed1-985e62f67372",
   "metadata": {},
   "outputs": [],
   "source": [
    "mmsi_number[\"Digit\"] = mmsi_number[\"Digit\"].astype(str)"
   ]
  },
  {
   "cell_type": "code",
   "execution_count": 30,
   "id": "70ad00e1-14da-4b80-aaa5-19cd0d840026",
   "metadata": {},
   "outputs": [],
   "source": [
    "AIS_enriched2 = pd.merge(AIS_enriched, mmsi_number, on=[\"Digit\"], how=\"left\")"
   ]
  },
  {
   "cell_type": "code",
   "execution_count": 31,
   "id": "644eef1f-a9d2-495a-b3d4-b78ed2f8227f",
   "metadata": {},
   "outputs": [
    {
     "data": {
      "text/html": [
       "<div>\n",
       "<style scoped>\n",
       "    .dataframe tbody tr th:only-of-type {\n",
       "        vertical-align: middle;\n",
       "    }\n",
       "\n",
       "    .dataframe tbody tr th {\n",
       "        vertical-align: top;\n",
       "    }\n",
       "\n",
       "    .dataframe thead th {\n",
       "        text-align: right;\n",
       "    }\n",
       "</style>\n",
       "<table border=\"1\" class=\"dataframe\">\n",
       "  <thead>\n",
       "    <tr style=\"text-align: right;\">\n",
       "      <th></th>\n",
       "      <th>hex_resolution</th>\n",
       "      <th>longitude</th>\n",
       "      <th>mmsi</th>\n",
       "      <th>destination</th>\n",
       "      <th>eeid</th>\n",
       "      <th>H3_int_index_8</th>\n",
       "      <th>latitude</th>\n",
       "      <th>dt_insert_utc</th>\n",
       "      <th>polygon_name</th>\n",
       "      <th>StatCode5</th>\n",
       "      <th>...</th>\n",
       "      <th>ShipTypeLevel1</th>\n",
       "      <th>ShipTypeLevel2</th>\n",
       "      <th>ShipTypeLevel3</th>\n",
       "      <th>ShipTypeLevel4</th>\n",
       "      <th>ShipTypeLevel5</th>\n",
       "      <th>SubGroup</th>\n",
       "      <th>SubType</th>\n",
       "      <th>mmsi_digits</th>\n",
       "      <th>Digit</th>\n",
       "      <th>Allocated to</th>\n",
       "    </tr>\n",
       "  </thead>\n",
       "  <tbody>\n",
       "    <tr>\n",
       "      <th>0</th>\n",
       "      <td>8</td>\n",
       "      <td>31.408333</td>\n",
       "      <td>272157700</td>\n",
       "      <td>MYKOLAIV</td>\n",
       "      <td>5191743282127358980</td>\n",
       "      <td>613021963599740927</td>\n",
       "      <td>47.526667</td>\n",
       "      <td>2022-01-01 05:58:49</td>\n",
       "      <td>Polygon</td>\n",
       "      <td>NaN</td>\n",
       "      <td>...</td>\n",
       "      <td>NaN</td>\n",
       "      <td>NaN</td>\n",
       "      <td>NaN</td>\n",
       "      <td>NaN</td>\n",
       "      <td>NaN</td>\n",
       "      <td>NaN</td>\n",
       "      <td>NaN</td>\n",
       "      <td>272</td>\n",
       "      <td>272</td>\n",
       "      <td>Ukraine</td>\n",
       "    </tr>\n",
       "    <tr>\n",
       "      <th>1</th>\n",
       "      <td>8</td>\n",
       "      <td>31.331667</td>\n",
       "      <td>272157700</td>\n",
       "      <td>MYKOLAIV</td>\n",
       "      <td>5191743282127358980</td>\n",
       "      <td>613021966030340095</td>\n",
       "      <td>47.535000</td>\n",
       "      <td>2022-01-01 18:25:52</td>\n",
       "      <td>Polygon</td>\n",
       "      <td>NaN</td>\n",
       "      <td>...</td>\n",
       "      <td>NaN</td>\n",
       "      <td>NaN</td>\n",
       "      <td>NaN</td>\n",
       "      <td>NaN</td>\n",
       "      <td>NaN</td>\n",
       "      <td>NaN</td>\n",
       "      <td>NaN</td>\n",
       "      <td>272</td>\n",
       "      <td>272</td>\n",
       "      <td>Ukraine</td>\n",
       "    </tr>\n",
       "    <tr>\n",
       "      <th>2</th>\n",
       "      <td>8</td>\n",
       "      <td>31.331667</td>\n",
       "      <td>272157700</td>\n",
       "      <td>MYKOLAIV</td>\n",
       "      <td>5191743282127358980</td>\n",
       "      <td>613021966030340095</td>\n",
       "      <td>47.535000</td>\n",
       "      <td>2022-01-01 21:14:30</td>\n",
       "      <td>Polygon</td>\n",
       "      <td>NaN</td>\n",
       "      <td>...</td>\n",
       "      <td>NaN</td>\n",
       "      <td>NaN</td>\n",
       "      <td>NaN</td>\n",
       "      <td>NaN</td>\n",
       "      <td>NaN</td>\n",
       "      <td>NaN</td>\n",
       "      <td>NaN</td>\n",
       "      <td>272</td>\n",
       "      <td>272</td>\n",
       "      <td>Ukraine</td>\n",
       "    </tr>\n",
       "    <tr>\n",
       "      <th>3</th>\n",
       "      <td>8</td>\n",
       "      <td>31.333333</td>\n",
       "      <td>272157700</td>\n",
       "      <td>MYKOLAIV</td>\n",
       "      <td>5191743282127358980</td>\n",
       "      <td>613021966030340095</td>\n",
       "      <td>47.535000</td>\n",
       "      <td>2022-01-01 07:46:57</td>\n",
       "      <td>Polygon</td>\n",
       "      <td>NaN</td>\n",
       "      <td>...</td>\n",
       "      <td>NaN</td>\n",
       "      <td>NaN</td>\n",
       "      <td>NaN</td>\n",
       "      <td>NaN</td>\n",
       "      <td>NaN</td>\n",
       "      <td>NaN</td>\n",
       "      <td>NaN</td>\n",
       "      <td>272</td>\n",
       "      <td>272</td>\n",
       "      <td>Ukraine</td>\n",
       "    </tr>\n",
       "    <tr>\n",
       "      <th>4</th>\n",
       "      <td>8</td>\n",
       "      <td>31.333333</td>\n",
       "      <td>272157700</td>\n",
       "      <td>MYKOLAIV</td>\n",
       "      <td>5191743282127358980</td>\n",
       "      <td>613021966030340095</td>\n",
       "      <td>47.535000</td>\n",
       "      <td>2022-01-01 09:43:50</td>\n",
       "      <td>Polygon</td>\n",
       "      <td>NaN</td>\n",
       "      <td>...</td>\n",
       "      <td>NaN</td>\n",
       "      <td>NaN</td>\n",
       "      <td>NaN</td>\n",
       "      <td>NaN</td>\n",
       "      <td>NaN</td>\n",
       "      <td>NaN</td>\n",
       "      <td>NaN</td>\n",
       "      <td>272</td>\n",
       "      <td>272</td>\n",
       "      <td>Ukraine</td>\n",
       "    </tr>\n",
       "  </tbody>\n",
       "</table>\n",
       "<p>5 rows × 27 columns</p>\n",
       "</div>"
      ],
      "text/plain": [
       "   hex_resolution  longitude       mmsi destination                 eeid  \\\n",
       "0               8  31.408333  272157700    MYKOLAIV  5191743282127358980   \n",
       "1               8  31.331667  272157700    MYKOLAIV  5191743282127358980   \n",
       "2               8  31.331667  272157700    MYKOLAIV  5191743282127358980   \n",
       "3               8  31.333333  272157700    MYKOLAIV  5191743282127358980   \n",
       "4               8  31.333333  272157700    MYKOLAIV  5191743282127358980   \n",
       "\n",
       "       H3_int_index_8   latitude       dt_insert_utc polygon_name StatCode5  \\\n",
       "0  613021963599740927  47.526667 2022-01-01 05:58:49      Polygon       NaN   \n",
       "1  613021966030340095  47.535000 2022-01-01 18:25:52      Polygon       NaN   \n",
       "2  613021966030340095  47.535000 2022-01-01 21:14:30      Polygon       NaN   \n",
       "3  613021966030340095  47.535000 2022-01-01 07:46:57      Polygon       NaN   \n",
       "4  613021966030340095  47.535000 2022-01-01 09:43:50      Polygon       NaN   \n",
       "\n",
       "   ...  ShipTypeLevel1  ShipTypeLevel2 ShipTypeLevel3  ShipTypeLevel4  \\\n",
       "0  ...             NaN             NaN            NaN             NaN   \n",
       "1  ...             NaN             NaN            NaN             NaN   \n",
       "2  ...             NaN             NaN            NaN             NaN   \n",
       "3  ...             NaN             NaN            NaN             NaN   \n",
       "4  ...             NaN             NaN            NaN             NaN   \n",
       "\n",
       "   ShipTypeLevel5  SubGroup  SubType mmsi_digits Digit Allocated to  \n",
       "0             NaN       NaN      NaN         272   272      Ukraine  \n",
       "1             NaN       NaN      NaN         272   272      Ukraine  \n",
       "2             NaN       NaN      NaN         272   272      Ukraine  \n",
       "3             NaN       NaN      NaN         272   272      Ukraine  \n",
       "4             NaN       NaN      NaN         272   272      Ukraine  \n",
       "\n",
       "[5 rows x 27 columns]"
      ]
     },
     "execution_count": 31,
     "metadata": {},
     "output_type": "execute_result"
    }
   ],
   "source": [
    "AIS_enriched2.head()"
   ]
  },
  {
   "cell_type": "code",
   "execution_count": 37,
   "id": "08c3fc7e-df8d-4ac4-97f9-a8706e1f72c3",
   "metadata": {},
   "outputs": [
    {
     "data": {
      "text/plain": [
       "0.24448533818874552"
      ]
     },
     "execution_count": 37,
     "metadata": {},
     "output_type": "execute_result"
    }
   ],
   "source": [
    "AIS_enriched2.loc[AIS_enriched2[\"destination\"].isna(), :].shape[0]/AIS_enriched2.shape[0] # 377 313, 24 %"
   ]
  },
  {
   "cell_type": "code",
   "execution_count": 34,
   "id": "5e794a1d-e9f9-44ca-8063-d3c183fed0de",
   "metadata": {},
   "outputs": [
    {
     "data": {
      "text/plain": [
       "(1165982, 27)"
      ]
     },
     "execution_count": 34,
     "metadata": {},
     "output_type": "execute_result"
    }
   ],
   "source": [
    "AIS_enriched2.loc[~AIS_enriched2[\"destination\"].isna(), :].shape # 1 165 982"
   ]
  },
  {
   "cell_type": "code",
   "execution_count": 40,
   "id": "45603c82-3765-4a29-8743-2868c98c097e",
   "metadata": {},
   "outputs": [],
   "source": [
    "AIS_enriched2 = AIS_enriched2.rename({\"Allocated to\" : \"origin_country\"}, axis=1)"
   ]
  },
  {
   "cell_type": "code",
   "execution_count": 41,
   "id": "73e40225-408e-4511-837d-57ac5465a657",
   "metadata": {},
   "outputs": [
    {
     "data": {
      "text/plain": [
       "Russian Federation                                                               296823\n",
       "Ukraine                                                                          233616\n",
       "Romania                                                                          205072\n",
       "Republic of Türkiye                                                              138906\n",
       "Panama (Republic of)                                                              96314\n",
       "                                                                                  ...  \n",
       "Syrian Arab Republic                                                                 90\n",
       "Seychelles (Republic of)                                                             76\n",
       "Belgium                                                                               4\n",
       "Japan                                                                                 1\n",
       "United Kingdom of Great Britain and Northern Ireland - British Virgin Islands         1\n",
       "Name: origin_country, Length: 71, dtype: int64"
      ]
     },
     "execution_count": 41,
     "metadata": {},
     "output_type": "execute_result"
    }
   ],
   "source": [
    "AIS_enriched2[\"origin_country\"].value_counts()"
   ]
  },
  {
   "cell_type": "code",
   "execution_count": 44,
   "id": "70bbbb0d-8c66-422a-9727-7bd62ad79ca7",
   "metadata": {},
   "outputs": [
    {
     "data": {
      "text/plain": [
       "(0, 27)"
      ]
     },
     "execution_count": 44,
     "metadata": {},
     "output_type": "execute_result"
    }
   ],
   "source": [
    "AIS_enriched2.loc[AIS_enriched2[\"origin_country\"]==\"\",:].shape"
   ]
  },
  {
   "cell_type": "code",
   "execution_count": 45,
   "id": "f26153d2-7ee3-495b-9f43-b940072b178e",
   "metadata": {},
   "outputs": [
    {
     "data": {
      "text/plain": [
       "(0, 27)"
      ]
     },
     "execution_count": 45,
     "metadata": {},
     "output_type": "execute_result"
    }
   ],
   "source": [
    "AIS_enriched2.loc[AIS_enriched2[\"origin_country\"].isna(), :].shape"
   ]
  },
  {
   "cell_type": "code",
   "execution_count": 42,
   "id": "90bead1c-c9b3-4d47-90f6-6d7c4a76db97",
   "metadata": {},
   "outputs": [],
   "source": [
    "# a present on alloue à chaque port son pays\n",
    "import pandas as pd\n",
    "import s3fs\n",
    "import os\n",
    "s3_url = \"https://\" + os.environ[\"AWS_S3_ENDPOINT\"]\n",
    "conn = s3fs.S3FileSystem(client_kwargs={'endpoint_url': s3_url})\n",
    "bucket = \"projet-hackathon-un-2022/open-data/wfp_ports/\""
   ]
  },
  {
   "cell_type": "code",
   "execution_count": null,
   "id": "d6913c85-7f3b-4e94-9225-7ed197a130a2",
   "metadata": {},
   "outputs": [],
   "source": [
    "path2data = bucket + \".csv\"\n",
    "with conn.open(path2data, mode=\"rb\") as file_in:\n",
    "     ports = pd.read_csv(file_in, error_bad_lines=False, encoding='iso-8859-1')"
   ]
  }
 ],
 "metadata": {
  "kernelspec": {
   "display_name": "Python 3 (ipykernel)",
   "language": "python",
   "name": "python3"
  },
  "language_info": {
   "codemirror_mode": {
    "name": "ipython",
    "version": 3
   },
   "file_extension": ".py",
   "mimetype": "text/x-python",
   "name": "python",
   "nbconvert_exporter": "python",
   "pygments_lexer": "ipython3",
   "version": "3.10.4"
  }
 },
 "nbformat": 4,
 "nbformat_minor": 5
}
