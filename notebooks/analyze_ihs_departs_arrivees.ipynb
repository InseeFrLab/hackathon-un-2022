{
 "cells": [
  {
   "cell_type": "code",
   "execution_count": 2,
   "id": "2717c0f4-7874-4a6a-baf4-c289319d7c8f",
   "metadata": {},
   "outputs": [],
   "source": [
    "import s3fs\n",
    "import pandas as pd\n",
    "\n",
    "path = \"IHS/ship_data.csv\"\n",
    "bucket = \"projet-hackathon-un-2022\"\n",
    "\n",
    "fs = s3fs.S3FileSystem(\n",
    "  client_kwargs={'endpoint_url': 'https://minio.lab.sspcloud.fr'}\n",
    ")\n",
    "\n",
    "ship_data = pd.read_csv(fs.open(f'{bucket}/{path}',\n",
    "                         mode='rb'))\n",
    "ship_codes = pd.read_csv(fs.open(f'{bucket}/{path}'.replace(\"data\",\"codes\"),\n",
    "                         mode='rb')\n",
    "                 )"
   ]
  },
  {
   "cell_type": "code",
   "execution_count": 3,
   "id": "c0b4b397-a379-46b5-8c13-1c314ed62d10",
   "metadata": {},
   "outputs": [
    {
     "data": {
      "text/plain": [
       "ShipTypeLevel1\n",
       "Cargo Carrying                 0.508045\n",
       "Work Vessel                    0.419286\n",
       "Non Merchant                   0.037187\n",
       "Non Seagoing Merchant Ships    0.014563\n",
       "Non Propelled                  0.012390\n",
       "Non Ship Structure             0.008528\n",
       "dtype: float64"
      ]
     },
     "execution_count": 3,
     "metadata": {},
     "output_type": "execute_result"
    }
   ],
   "source": [
    "ship_data_enriched = ship_data.merge(ship_codes, on = \"StatCode5\")\n",
    "ship_data_enriched.value_counts('ShipTypeLevel1', normalize = True)"
   ]
  },
  {
   "cell_type": "code",
   "execution_count": 5,
   "id": "0f11cb01-6731-4d96-9adc-9a570d197e2d",
   "metadata": {},
   "outputs": [],
   "source": [
    "AIS = pd.read_parquet(fs.open(f'{bucket}/AIS/ais_azov_black_20220001_20220007.parquet',\n",
    "                         mode='rb'))"
   ]
  },
  {
   "cell_type": "markdown",
   "id": "8c1d29d9-5d2a-452c-b55c-2a7725397611",
   "metadata": {},
   "source": [
    "# Nombre de bateaux"
   ]
  },
  {
   "cell_type": "code",
   "execution_count": 6,
   "id": "b3701e7e-d3c5-471c-b98c-c93c67c41daa",
   "metadata": {},
   "outputs": [
    {
     "data": {
      "text/plain": [
       "ShipTypeLevel3\n",
       "General Cargo                0.325074\n",
       "Bulk Dry                     0.169043\n",
       "Oil                          0.150646\n",
       "Container                    0.074034\n",
       "Chemical                     0.067596\n",
       "Passenger                    0.050659\n",
       "Ro-Ro Cargo                  0.037783\n",
       "Passenger/Ro-Ro Cargo        0.037624\n",
       "Liquefied Gas                0.028497\n",
       "Other Bulk Dry               0.019434\n",
       "Refrigerated Cargo           0.017081\n",
       "Passenger / General Cargo    0.007459\n",
       "Other Dry Cargo              0.006167\n",
       "Bulk Dry / Oil               0.003726\n",
       "Other Liquids                0.002673\n",
       "Self Discharging Bulk Dry    0.002505\n",
       "dtype: float64"
      ]
     },
     "execution_count": 6,
     "metadata": {},
     "output_type": "execute_result"
    }
   ],
   "source": [
    "ship_data_enriched.loc[ship_data_enriched[\"ShipTypeLevel1\"] == \"Cargo Carrying\"].value_counts('ShipTypeLevel3', normalize = True)"
   ]
  },
  {
   "cell_type": "code",
   "execution_count": 7,
   "id": "f9371f88-4b81-4494-a3da-a70c1c8c5538",
   "metadata": {},
   "outputs": [],
   "source": [
    "ship_data_enriched = ship_data_enriched.loc[ship_data_enriched[\"ShipTypeLevel1\"] == \"Cargo Carrying\",:]"
   ]
  },
  {
   "cell_type": "code",
   "execution_count": 8,
   "id": "35ffd75b-da08-4cde-95a5-b3f707cc1c63",
   "metadata": {},
   "outputs": [],
   "source": [
    "ship_data_enriched = ship_data_enriched.loc[ship_data_enriched[\"ShipTypeLevel3\"].isin([\"General Cargo\",\n",
    "                                                                                      \"Bulk Dry\", \n",
    "                                                                                      \"Container\", \n",
    "                                                                                      \"Other Bulk Dry\",\n",
    "                                                                                      \"Refrigerated Cargo\",\n",
    "                                                                                      \"Other Dry Cargo\",\n",
    "                                                                                      \"Bulk Dry / Oil\",\n",
    "                                                                                      \"Self Discharging Bulk Dry\"]),:]"
   ]
  },
  {
   "cell_type": "code",
   "execution_count": 9,
   "id": "4cb00dda-e933-473f-b844-aa3647b56a34",
   "metadata": {},
   "outputs": [
    {
     "data": {
      "text/html": [
       "<div>\n",
       "<style scoped>\n",
       "    .dataframe tbody tr th:only-of-type {\n",
       "        vertical-align: middle;\n",
       "    }\n",
       "\n",
       "    .dataframe tbody tr th {\n",
       "        vertical-align: top;\n",
       "    }\n",
       "\n",
       "    .dataframe thead th {\n",
       "        text-align: right;\n",
       "    }\n",
       "</style>\n",
       "<table border=\"1\" class=\"dataframe\">\n",
       "  <thead>\n",
       "    <tr style=\"text-align: right;\">\n",
       "      <th></th>\n",
       "      <th>StatCode5</th>\n",
       "      <th>MaritimeMobileServiceIdentityMMSINumber</th>\n",
       "      <th>ShipStatusEffectiveDate</th>\n",
       "      <th>ShiptypeLevel5</th>\n",
       "      <th>LRIMOShipNo</th>\n",
       "      <th>FuelConsumptionTotal</th>\n",
       "      <th>GrossTonnage</th>\n",
       "      <th>NetTonnage</th>\n",
       "      <th>ShipTypeLevel1</th>\n",
       "      <th>ShipTypeLevel2</th>\n",
       "      <th>ShipTypeLevel3</th>\n",
       "      <th>ShipTypeLevel4</th>\n",
       "      <th>ShipTypeLevel5</th>\n",
       "      <th>SubGroup</th>\n",
       "      <th>SubType</th>\n",
       "    </tr>\n",
       "  </thead>\n",
       "  <tbody>\n",
       "    <tr>\n",
       "      <th>87293</th>\n",
       "      <td>A31A2GX</td>\n",
       "      <td>374511000.0</td>\n",
       "      <td>19810101</td>\n",
       "      <td>General Cargo Ship</td>\n",
       "      <td>2629551</td>\n",
       "      <td>0.0</td>\n",
       "      <td>192</td>\n",
       "      <td>57</td>\n",
       "      <td>Cargo Carrying</td>\n",
       "      <td>Dry Cargo/Passenger</td>\n",
       "      <td>General Cargo</td>\n",
       "      <td>General Cargo Ship</td>\n",
       "      <td>General Cargo Ship</td>\n",
       "      <td>General Cargo</td>\n",
       "      <td>General Cargo</td>\n",
       "    </tr>\n",
       "    <tr>\n",
       "      <th>87294</th>\n",
       "      <td>A31A2GX</td>\n",
       "      <td>NaN</td>\n",
       "      <td>20200101</td>\n",
       "      <td>General Cargo Ship</td>\n",
       "      <td>4625638</td>\n",
       "      <td>0.0</td>\n",
       "      <td>3040</td>\n",
       "      <td>912</td>\n",
       "      <td>Cargo Carrying</td>\n",
       "      <td>Dry Cargo/Passenger</td>\n",
       "      <td>General Cargo</td>\n",
       "      <td>General Cargo Ship</td>\n",
       "      <td>General Cargo Ship</td>\n",
       "      <td>General Cargo</td>\n",
       "      <td>General Cargo</td>\n",
       "    </tr>\n",
       "    <tr>\n",
       "      <th>87295</th>\n",
       "      <td>A31A2GX</td>\n",
       "      <td>NaN</td>\n",
       "      <td>19831216</td>\n",
       "      <td>General Cargo Ship</td>\n",
       "      <td>4625640</td>\n",
       "      <td>0.0</td>\n",
       "      <td>3040</td>\n",
       "      <td>912</td>\n",
       "      <td>Cargo Carrying</td>\n",
       "      <td>Dry Cargo/Passenger</td>\n",
       "      <td>General Cargo</td>\n",
       "      <td>General Cargo Ship</td>\n",
       "      <td>General Cargo Ship</td>\n",
       "      <td>General Cargo</td>\n",
       "      <td>General Cargo</td>\n",
       "    </tr>\n",
       "    <tr>\n",
       "      <th>87296</th>\n",
       "      <td>A31A2GX</td>\n",
       "      <td>NaN</td>\n",
       "      <td>20200101</td>\n",
       "      <td>General Cargo Ship</td>\n",
       "      <td>4625652</td>\n",
       "      <td>0.0</td>\n",
       "      <td>3040</td>\n",
       "      <td>912</td>\n",
       "      <td>Cargo Carrying</td>\n",
       "      <td>Dry Cargo/Passenger</td>\n",
       "      <td>General Cargo</td>\n",
       "      <td>General Cargo Ship</td>\n",
       "      <td>General Cargo Ship</td>\n",
       "      <td>General Cargo</td>\n",
       "      <td>General Cargo</td>\n",
       "    </tr>\n",
       "    <tr>\n",
       "      <th>87297</th>\n",
       "      <td>A31A2GX</td>\n",
       "      <td>NaN</td>\n",
       "      <td>20200101</td>\n",
       "      <td>General Cargo Ship</td>\n",
       "      <td>4625664</td>\n",
       "      <td>0.0</td>\n",
       "      <td>3040</td>\n",
       "      <td>912</td>\n",
       "      <td>Cargo Carrying</td>\n",
       "      <td>Dry Cargo/Passenger</td>\n",
       "      <td>General Cargo</td>\n",
       "      <td>General Cargo Ship</td>\n",
       "      <td>General Cargo Ship</td>\n",
       "      <td>General Cargo</td>\n",
       "      <td>General Cargo</td>\n",
       "    </tr>\n",
       "  </tbody>\n",
       "</table>\n",
       "</div>"
      ],
      "text/plain": [
       "      StatCode5  MaritimeMobileServiceIdentityMMSINumber  \\\n",
       "87293   A31A2GX                              374511000.0   \n",
       "87294   A31A2GX                                      NaN   \n",
       "87295   A31A2GX                                      NaN   \n",
       "87296   A31A2GX                                      NaN   \n",
       "87297   A31A2GX                                      NaN   \n",
       "\n",
       "       ShipStatusEffectiveDate      ShiptypeLevel5  LRIMOShipNo  \\\n",
       "87293                 19810101  General Cargo Ship      2629551   \n",
       "87294                 20200101  General Cargo Ship      4625638   \n",
       "87295                 19831216  General Cargo Ship      4625640   \n",
       "87296                 20200101  General Cargo Ship      4625652   \n",
       "87297                 20200101  General Cargo Ship      4625664   \n",
       "\n",
       "       FuelConsumptionTotal  GrossTonnage  NetTonnage  ShipTypeLevel1  \\\n",
       "87293                   0.0           192          57  Cargo Carrying   \n",
       "87294                   0.0          3040         912  Cargo Carrying   \n",
       "87295                   0.0          3040         912  Cargo Carrying   \n",
       "87296                   0.0          3040         912  Cargo Carrying   \n",
       "87297                   0.0          3040         912  Cargo Carrying   \n",
       "\n",
       "            ShipTypeLevel2 ShipTypeLevel3      ShipTypeLevel4  \\\n",
       "87293  Dry Cargo/Passenger  General Cargo  General Cargo Ship   \n",
       "87294  Dry Cargo/Passenger  General Cargo  General Cargo Ship   \n",
       "87295  Dry Cargo/Passenger  General Cargo  General Cargo Ship   \n",
       "87296  Dry Cargo/Passenger  General Cargo  General Cargo Ship   \n",
       "87297  Dry Cargo/Passenger  General Cargo  General Cargo Ship   \n",
       "\n",
       "           ShipTypeLevel5       SubGroup        SubType  \n",
       "87293  General Cargo Ship  General Cargo  General Cargo  \n",
       "87294  General Cargo Ship  General Cargo  General Cargo  \n",
       "87295  General Cargo Ship  General Cargo  General Cargo  \n",
       "87296  General Cargo Ship  General Cargo  General Cargo  \n",
       "87297  General Cargo Ship  General Cargo  General Cargo  "
      ]
     },
     "execution_count": 9,
     "metadata": {},
     "output_type": "execute_result"
    }
   ],
   "source": [
    "ship_data_enriched.head()"
   ]
  },
  {
   "cell_type": "code",
   "execution_count": 10,
   "id": "497980c8-75ee-46fb-aff4-edb05f299b07",
   "metadata": {},
   "outputs": [
    {
     "data": {
      "text/plain": [
       "General Cargo Ship               39960\n",
       "Bulk Carrier                     20379\n",
       "Container Ship                    9275\n",
       "Refrigerated Cargo Ship           2141\n",
       "Aggregates Carrier                1204\n",
       "Cement Carrier                     818\n",
       "Ore Carrier                        810\n",
       "Deck Cargo Ship                    717\n",
       "Livestock Carrier                  388\n",
       "Wood Chips Carrier                 321\n",
       "Heavy Load Carrier                 320\n",
       "Self Discharging Bulk Carrier      314\n",
       "Ore/Oil Carrier                    252\n",
       "Bulk/Oil Carrier                   215\n",
       "Limestone Carrier                   75\n",
       "Palletised Cargo Ship               70\n",
       "Barge Carrier                       39\n",
       "Nuclear Fuel Carrier                23\n",
       "Powder Carrier                       8\n",
       "Urea Carrier                         8\n",
       "Passenger/Container Ship             5\n",
       "Pulp Carrier                         3\n",
       "Refined Sugar Carrier                2\n",
       "Name: ShipTypeLevel4, dtype: int64"
      ]
     },
     "execution_count": 10,
     "metadata": {},
     "output_type": "execute_result"
    }
   ],
   "source": [
    "ship_data_enriched[\"ShipTypeLevel4\"].value_counts()"
   ]
  },
  {
   "cell_type": "code",
   "execution_count": 11,
   "id": "fdb2d788-6cda-4ca3-b30e-d8c27e40da97",
   "metadata": {},
   "outputs": [
    {
     "data": {
      "text/plain": [
       "(1543295, 9)"
      ]
     },
     "execution_count": 11,
     "metadata": {},
     "output_type": "execute_result"
    }
   ],
   "source": [
    "AIS.shape # 179 988"
   ]
  },
  {
   "cell_type": "code",
   "execution_count": 12,
   "id": "322f366d-4bcb-4dab-867a-8fe23f596b80",
   "metadata": {},
   "outputs": [
    {
     "data": {
      "text/plain": [
       "(0, 9)"
      ]
     },
     "execution_count": 12,
     "metadata": {},
     "output_type": "execute_result"
    }
   ],
   "source": [
    "AIS.loc[AIS[\"mmsi\"].isna(), :].shape"
   ]
  },
  {
   "cell_type": "code",
   "execution_count": 13,
   "id": "2f6f17f9-629b-4cc0-bb5f-423cd6ea5b03",
   "metadata": {},
   "outputs": [
    {
     "data": {
      "text/plain": [
       "272683000    2274\n",
       "214182724    2069\n",
       "264900201    1951\n",
       "271230300    1924\n",
       "271045807    1911\n",
       "             ... \n",
       "271046450       1\n",
       "271043013       1\n",
       "271041417       1\n",
       "271046709       1\n",
       "244830391       1\n",
       "Name: mmsi, Length: 3253, dtype: int64"
      ]
     },
     "execution_count": 13,
     "metadata": {},
     "output_type": "execute_result"
    }
   ],
   "source": [
    "AIS[\"mmsi\"].value_counts()"
   ]
  },
  {
   "cell_type": "code",
   "execution_count": 14,
   "id": "65825588-8769-4f68-8e87-efdd5af48a99",
   "metadata": {},
   "outputs": [],
   "source": [
    "AIS_enriched = AIS.merge(\n",
    "    ship_data_enriched, left_on = 'mmsi',\n",
    "    right_on = \"MaritimeMobileServiceIdentityMMSINumber\", how=\"left\")"
   ]
  },
  {
   "cell_type": "code",
   "execution_count": 15,
   "id": "9eea6325-3cfb-409c-97ae-14f39acafd40",
   "metadata": {},
   "outputs": [
    {
     "data": {
      "text/html": [
       "<div>\n",
       "<style scoped>\n",
       "    .dataframe tbody tr th:only-of-type {\n",
       "        vertical-align: middle;\n",
       "    }\n",
       "\n",
       "    .dataframe tbody tr th {\n",
       "        vertical-align: top;\n",
       "    }\n",
       "\n",
       "    .dataframe thead th {\n",
       "        text-align: right;\n",
       "    }\n",
       "</style>\n",
       "<table border=\"1\" class=\"dataframe\">\n",
       "  <thead>\n",
       "    <tr style=\"text-align: right;\">\n",
       "      <th></th>\n",
       "      <th>hex_resolution</th>\n",
       "      <th>longitude</th>\n",
       "      <th>mmsi</th>\n",
       "      <th>destination</th>\n",
       "      <th>eeid</th>\n",
       "      <th>H3_int_index_8</th>\n",
       "      <th>latitude</th>\n",
       "      <th>dt_insert_utc</th>\n",
       "      <th>polygon_name</th>\n",
       "      <th>StatCode5</th>\n",
       "      <th>...</th>\n",
       "      <th>FuelConsumptionTotal</th>\n",
       "      <th>GrossTonnage</th>\n",
       "      <th>NetTonnage</th>\n",
       "      <th>ShipTypeLevel1</th>\n",
       "      <th>ShipTypeLevel2</th>\n",
       "      <th>ShipTypeLevel3</th>\n",
       "      <th>ShipTypeLevel4</th>\n",
       "      <th>ShipTypeLevel5</th>\n",
       "      <th>SubGroup</th>\n",
       "      <th>SubType</th>\n",
       "    </tr>\n",
       "  </thead>\n",
       "  <tbody>\n",
       "    <tr>\n",
       "      <th>0</th>\n",
       "      <td>8</td>\n",
       "      <td>31.408333</td>\n",
       "      <td>272157700</td>\n",
       "      <td>MYKOLAIV</td>\n",
       "      <td>5191743282127358980</td>\n",
       "      <td>613021963599740927</td>\n",
       "      <td>47.526667</td>\n",
       "      <td>2022-01-01 05:58:49</td>\n",
       "      <td>Polygon</td>\n",
       "      <td>NaN</td>\n",
       "      <td>...</td>\n",
       "      <td>NaN</td>\n",
       "      <td>NaN</td>\n",
       "      <td>NaN</td>\n",
       "      <td>NaN</td>\n",
       "      <td>NaN</td>\n",
       "      <td>NaN</td>\n",
       "      <td>NaN</td>\n",
       "      <td>NaN</td>\n",
       "      <td>NaN</td>\n",
       "      <td>NaN</td>\n",
       "    </tr>\n",
       "    <tr>\n",
       "      <th>1</th>\n",
       "      <td>8</td>\n",
       "      <td>31.331667</td>\n",
       "      <td>272157700</td>\n",
       "      <td>MYKOLAIV</td>\n",
       "      <td>5191743282127358980</td>\n",
       "      <td>613021966030340095</td>\n",
       "      <td>47.535000</td>\n",
       "      <td>2022-01-01 18:25:52</td>\n",
       "      <td>Polygon</td>\n",
       "      <td>NaN</td>\n",
       "      <td>...</td>\n",
       "      <td>NaN</td>\n",
       "      <td>NaN</td>\n",
       "      <td>NaN</td>\n",
       "      <td>NaN</td>\n",
       "      <td>NaN</td>\n",
       "      <td>NaN</td>\n",
       "      <td>NaN</td>\n",
       "      <td>NaN</td>\n",
       "      <td>NaN</td>\n",
       "      <td>NaN</td>\n",
       "    </tr>\n",
       "    <tr>\n",
       "      <th>2</th>\n",
       "      <td>8</td>\n",
       "      <td>31.331667</td>\n",
       "      <td>272157700</td>\n",
       "      <td>MYKOLAIV</td>\n",
       "      <td>5191743282127358980</td>\n",
       "      <td>613021966030340095</td>\n",
       "      <td>47.535000</td>\n",
       "      <td>2022-01-01 21:14:30</td>\n",
       "      <td>Polygon</td>\n",
       "      <td>NaN</td>\n",
       "      <td>...</td>\n",
       "      <td>NaN</td>\n",
       "      <td>NaN</td>\n",
       "      <td>NaN</td>\n",
       "      <td>NaN</td>\n",
       "      <td>NaN</td>\n",
       "      <td>NaN</td>\n",
       "      <td>NaN</td>\n",
       "      <td>NaN</td>\n",
       "      <td>NaN</td>\n",
       "      <td>NaN</td>\n",
       "    </tr>\n",
       "    <tr>\n",
       "      <th>3</th>\n",
       "      <td>8</td>\n",
       "      <td>31.333333</td>\n",
       "      <td>272157700</td>\n",
       "      <td>MYKOLAIV</td>\n",
       "      <td>5191743282127358980</td>\n",
       "      <td>613021966030340095</td>\n",
       "      <td>47.535000</td>\n",
       "      <td>2022-01-01 07:46:57</td>\n",
       "      <td>Polygon</td>\n",
       "      <td>NaN</td>\n",
       "      <td>...</td>\n",
       "      <td>NaN</td>\n",
       "      <td>NaN</td>\n",
       "      <td>NaN</td>\n",
       "      <td>NaN</td>\n",
       "      <td>NaN</td>\n",
       "      <td>NaN</td>\n",
       "      <td>NaN</td>\n",
       "      <td>NaN</td>\n",
       "      <td>NaN</td>\n",
       "      <td>NaN</td>\n",
       "    </tr>\n",
       "    <tr>\n",
       "      <th>4</th>\n",
       "      <td>8</td>\n",
       "      <td>31.333333</td>\n",
       "      <td>272157700</td>\n",
       "      <td>MYKOLAIV</td>\n",
       "      <td>5191743282127358980</td>\n",
       "      <td>613021966030340095</td>\n",
       "      <td>47.535000</td>\n",
       "      <td>2022-01-01 09:43:50</td>\n",
       "      <td>Polygon</td>\n",
       "      <td>NaN</td>\n",
       "      <td>...</td>\n",
       "      <td>NaN</td>\n",
       "      <td>NaN</td>\n",
       "      <td>NaN</td>\n",
       "      <td>NaN</td>\n",
       "      <td>NaN</td>\n",
       "      <td>NaN</td>\n",
       "      <td>NaN</td>\n",
       "      <td>NaN</td>\n",
       "      <td>NaN</td>\n",
       "      <td>NaN</td>\n",
       "    </tr>\n",
       "  </tbody>\n",
       "</table>\n",
       "<p>5 rows × 24 columns</p>\n",
       "</div>"
      ],
      "text/plain": [
       "   hex_resolution  longitude       mmsi destination                 eeid  \\\n",
       "0               8  31.408333  272157700    MYKOLAIV  5191743282127358980   \n",
       "1               8  31.331667  272157700    MYKOLAIV  5191743282127358980   \n",
       "2               8  31.331667  272157700    MYKOLAIV  5191743282127358980   \n",
       "3               8  31.333333  272157700    MYKOLAIV  5191743282127358980   \n",
       "4               8  31.333333  272157700    MYKOLAIV  5191743282127358980   \n",
       "\n",
       "       H3_int_index_8   latitude       dt_insert_utc polygon_name StatCode5  \\\n",
       "0  613021963599740927  47.526667 2022-01-01 05:58:49      Polygon       NaN   \n",
       "1  613021966030340095  47.535000 2022-01-01 18:25:52      Polygon       NaN   \n",
       "2  613021966030340095  47.535000 2022-01-01 21:14:30      Polygon       NaN   \n",
       "3  613021966030340095  47.535000 2022-01-01 07:46:57      Polygon       NaN   \n",
       "4  613021966030340095  47.535000 2022-01-01 09:43:50      Polygon       NaN   \n",
       "\n",
       "   ...  FuelConsumptionTotal  GrossTonnage NetTonnage  ShipTypeLevel1  \\\n",
       "0  ...                   NaN           NaN        NaN             NaN   \n",
       "1  ...                   NaN           NaN        NaN             NaN   \n",
       "2  ...                   NaN           NaN        NaN             NaN   \n",
       "3  ...                   NaN           NaN        NaN             NaN   \n",
       "4  ...                   NaN           NaN        NaN             NaN   \n",
       "\n",
       "   ShipTypeLevel2  ShipTypeLevel3  ShipTypeLevel4 ShipTypeLevel5 SubGroup  \\\n",
       "0             NaN             NaN             NaN            NaN      NaN   \n",
       "1             NaN             NaN             NaN            NaN      NaN   \n",
       "2             NaN             NaN             NaN            NaN      NaN   \n",
       "3             NaN             NaN             NaN            NaN      NaN   \n",
       "4             NaN             NaN             NaN            NaN      NaN   \n",
       "\n",
       "  SubType  \n",
       "0     NaN  \n",
       "1     NaN  \n",
       "2     NaN  \n",
       "3     NaN  \n",
       "4     NaN  \n",
       "\n",
       "[5 rows x 24 columns]"
      ]
     },
     "execution_count": 15,
     "metadata": {},
     "output_type": "execute_result"
    }
   ],
   "source": [
    "AIS_enriched.head()"
   ]
  },
  {
   "cell_type": "code",
   "execution_count": 25,
   "id": "cd84dee9-edbe-45eb-8d43-3a556d114c03",
   "metadata": {},
   "outputs": [
    {
     "data": {
      "text/plain": [
       "(179988, 23)"
      ]
     },
     "execution_count": 25,
     "metadata": {},
     "output_type": "execute_result"
    }
   ],
   "source": [
    "AIS_enriched.shape"
   ]
  },
  {
   "cell_type": "code",
   "execution_count": 16,
   "id": "a211c7b6-02c7-420e-a4f5-b1c6b43f056f",
   "metadata": {},
   "outputs": [
    {
     "data": {
      "text/plain": [
       "Index(['hex_resolution', 'longitude', 'mmsi', 'destination', 'eeid',\n",
       "       'H3_int_index_8', 'latitude', 'dt_insert_utc', 'polygon_name',\n",
       "       'StatCode5', 'MaritimeMobileServiceIdentityMMSINumber',\n",
       "       'ShipStatusEffectiveDate', 'ShiptypeLevel5', 'LRIMOShipNo',\n",
       "       'FuelConsumptionTotal', 'GrossTonnage', 'NetTonnage', 'ShipTypeLevel1',\n",
       "       'ShipTypeLevel2', 'ShipTypeLevel3', 'ShipTypeLevel4', 'ShipTypeLevel5',\n",
       "       'SubGroup', 'SubType'],\n",
       "      dtype='object')"
      ]
     },
     "execution_count": 16,
     "metadata": {},
     "output_type": "execute_result"
    }
   ],
   "source": [
    "AIS_enriched.columns"
   ]
  },
  {
   "cell_type": "code",
   "execution_count": 20,
   "id": "02890b2e-4493-41a3-81ca-19da9c63877b",
   "metadata": {},
   "outputs": [
    {
     "name": "stderr",
     "output_type": "stream",
     "text": [
      "/tmp/ipykernel_930/1136292346.py:1: FutureWarning: The error_bad_lines argument has been deprecated and will be removed in a future version. Use on_bad_lines in the future.\n",
      "\n",
      "\n",
      "  mmsi_number = pd.read_csv(fs.open(f'{bucket}/AIS/mmid.csv',\n"
     ]
    }
   ],
   "source": [
    "mmsi_number = pd.read_csv(fs.open(f'{bucket}/AIS/mmid.csv',\n",
    "                         mode='rb'), error_bad_lines=False, encoding='iso-8859-1', sep=\";\")"
   ]
  },
  {
   "cell_type": "code",
   "execution_count": 21,
   "id": "8fdeb5a8-6075-474f-ad91-53e63fb19716",
   "metadata": {},
   "outputs": [
    {
     "data": {
      "text/html": [
       "<div>\n",
       "<style scoped>\n",
       "    .dataframe tbody tr th:only-of-type {\n",
       "        vertical-align: middle;\n",
       "    }\n",
       "\n",
       "    .dataframe tbody tr th {\n",
       "        vertical-align: top;\n",
       "    }\n",
       "\n",
       "    .dataframe thead th {\n",
       "        text-align: right;\n",
       "    }\n",
       "</style>\n",
       "<table border=\"1\" class=\"dataframe\">\n",
       "  <thead>\n",
       "    <tr style=\"text-align: right;\">\n",
       "      <th></th>\n",
       "      <th>Digit</th>\n",
       "      <th>Allocated to</th>\n",
       "    </tr>\n",
       "  </thead>\n",
       "  <tbody>\n",
       "    <tr>\n",
       "      <th>0</th>\n",
       "      <td>201</td>\n",
       "      <td>Albania (Republic of)</td>\n",
       "    </tr>\n",
       "    <tr>\n",
       "      <th>1</th>\n",
       "      <td>202</td>\n",
       "      <td>Andorra (Principality of)</td>\n",
       "    </tr>\n",
       "    <tr>\n",
       "      <th>2</th>\n",
       "      <td>203</td>\n",
       "      <td>Austria</td>\n",
       "    </tr>\n",
       "    <tr>\n",
       "      <th>3</th>\n",
       "      <td>204</td>\n",
       "      <td>Portugal - Azores</td>\n",
       "    </tr>\n",
       "    <tr>\n",
       "      <th>4</th>\n",
       "      <td>205</td>\n",
       "      <td>Belgium</td>\n",
       "    </tr>\n",
       "  </tbody>\n",
       "</table>\n",
       "</div>"
      ],
      "text/plain": [
       "   Digit               Allocated to\n",
       "0    201      Albania (Republic of)\n",
       "1    202  Andorra (Principality of)\n",
       "2    203                    Austria\n",
       "3    204          Portugal - Azores\n",
       "4    205                    Belgium"
      ]
     },
     "execution_count": 21,
     "metadata": {},
     "output_type": "execute_result"
    }
   ],
   "source": [
    "mmsi_number.head()"
   ]
  },
  {
   "cell_type": "code",
   "execution_count": 25,
   "id": "42971c54-c31d-4dbe-9dc5-3467a62800ac",
   "metadata": {},
   "outputs": [],
   "source": [
    "AIS_enriched[\"Digit\"] = AIS_enriched[\"mmsi\"].astype(str).str[0:3]"
   ]
  },
  {
   "cell_type": "code",
   "execution_count": 24,
   "id": "a93bf604-d0f8-41ea-afab-46c44a1b0a37",
   "metadata": {},
   "outputs": [
    {
     "data": {
      "text/plain": [
       "0    272\n",
       "1    272\n",
       "2    272\n",
       "3    272\n",
       "4    272\n",
       "Name: mmsi_digits, dtype: object"
      ]
     },
     "execution_count": 24,
     "metadata": {},
     "output_type": "execute_result"
    }
   ],
   "source": [
    "AIS_enriched[\"mmsi_digits\"].head()"
   ]
  },
  {
   "cell_type": "code",
   "execution_count": 29,
   "id": "6f007f97-6cbb-4bee-8ed1-985e62f67372",
   "metadata": {},
   "outputs": [],
   "source": [
    "mmsi_number[\"Digit\"] = mmsi_number[\"Digit\"].astype(str)"
   ]
  },
  {
   "cell_type": "code",
   "execution_count": 30,
   "id": "70ad00e1-14da-4b80-aaa5-19cd0d840026",
   "metadata": {},
   "outputs": [],
   "source": [
    "AIS_enriched2 = pd.merge(AIS_enriched, mmsi_number, on=[\"Digit\"], how=\"left\")"
   ]
  },
  {
   "cell_type": "code",
   "execution_count": 31,
   "id": "644eef1f-a9d2-495a-b3d4-b78ed2f8227f",
   "metadata": {},
   "outputs": [
    {
     "data": {
      "text/html": [
       "<div>\n",
       "<style scoped>\n",
       "    .dataframe tbody tr th:only-of-type {\n",
       "        vertical-align: middle;\n",
       "    }\n",
       "\n",
       "    .dataframe tbody tr th {\n",
       "        vertical-align: top;\n",
       "    }\n",
       "\n",
       "    .dataframe thead th {\n",
       "        text-align: right;\n",
       "    }\n",
       "</style>\n",
       "<table border=\"1\" class=\"dataframe\">\n",
       "  <thead>\n",
       "    <tr style=\"text-align: right;\">\n",
       "      <th></th>\n",
       "      <th>hex_resolution</th>\n",
       "      <th>longitude</th>\n",
       "      <th>mmsi</th>\n",
       "      <th>destination</th>\n",
       "      <th>eeid</th>\n",
       "      <th>H3_int_index_8</th>\n",
       "      <th>latitude</th>\n",
       "      <th>dt_insert_utc</th>\n",
       "      <th>polygon_name</th>\n",
       "      <th>StatCode5</th>\n",
       "      <th>...</th>\n",
       "      <th>ShipTypeLevel1</th>\n",
       "      <th>ShipTypeLevel2</th>\n",
       "      <th>ShipTypeLevel3</th>\n",
       "      <th>ShipTypeLevel4</th>\n",
       "      <th>ShipTypeLevel5</th>\n",
       "      <th>SubGroup</th>\n",
       "      <th>SubType</th>\n",
       "      <th>mmsi_digits</th>\n",
       "      <th>Digit</th>\n",
       "      <th>Allocated to</th>\n",
       "    </tr>\n",
       "  </thead>\n",
       "  <tbody>\n",
       "    <tr>\n",
       "      <th>0</th>\n",
       "      <td>8</td>\n",
       "      <td>31.408333</td>\n",
       "      <td>272157700</td>\n",
       "      <td>MYKOLAIV</td>\n",
       "      <td>5191743282127358980</td>\n",
       "      <td>613021963599740927</td>\n",
       "      <td>47.526667</td>\n",
       "      <td>2022-01-01 05:58:49</td>\n",
       "      <td>Polygon</td>\n",
       "      <td>NaN</td>\n",
       "      <td>...</td>\n",
       "      <td>NaN</td>\n",
       "      <td>NaN</td>\n",
       "      <td>NaN</td>\n",
       "      <td>NaN</td>\n",
       "      <td>NaN</td>\n",
       "      <td>NaN</td>\n",
       "      <td>NaN</td>\n",
       "      <td>272</td>\n",
       "      <td>272</td>\n",
       "      <td>Ukraine</td>\n",
       "    </tr>\n",
       "    <tr>\n",
       "      <th>1</th>\n",
       "      <td>8</td>\n",
       "      <td>31.331667</td>\n",
       "      <td>272157700</td>\n",
       "      <td>MYKOLAIV</td>\n",
       "      <td>5191743282127358980</td>\n",
       "      <td>613021966030340095</td>\n",
       "      <td>47.535000</td>\n",
       "      <td>2022-01-01 18:25:52</td>\n",
       "      <td>Polygon</td>\n",
       "      <td>NaN</td>\n",
       "      <td>...</td>\n",
       "      <td>NaN</td>\n",
       "      <td>NaN</td>\n",
       "      <td>NaN</td>\n",
       "      <td>NaN</td>\n",
       "      <td>NaN</td>\n",
       "      <td>NaN</td>\n",
       "      <td>NaN</td>\n",
       "      <td>272</td>\n",
       "      <td>272</td>\n",
       "      <td>Ukraine</td>\n",
       "    </tr>\n",
       "    <tr>\n",
       "      <th>2</th>\n",
       "      <td>8</td>\n",
       "      <td>31.331667</td>\n",
       "      <td>272157700</td>\n",
       "      <td>MYKOLAIV</td>\n",
       "      <td>5191743282127358980</td>\n",
       "      <td>613021966030340095</td>\n",
       "      <td>47.535000</td>\n",
       "      <td>2022-01-01 21:14:30</td>\n",
       "      <td>Polygon</td>\n",
       "      <td>NaN</td>\n",
       "      <td>...</td>\n",
       "      <td>NaN</td>\n",
       "      <td>NaN</td>\n",
       "      <td>NaN</td>\n",
       "      <td>NaN</td>\n",
       "      <td>NaN</td>\n",
       "      <td>NaN</td>\n",
       "      <td>NaN</td>\n",
       "      <td>272</td>\n",
       "      <td>272</td>\n",
       "      <td>Ukraine</td>\n",
       "    </tr>\n",
       "    <tr>\n",
       "      <th>3</th>\n",
       "      <td>8</td>\n",
       "      <td>31.333333</td>\n",
       "      <td>272157700</td>\n",
       "      <td>MYKOLAIV</td>\n",
       "      <td>5191743282127358980</td>\n",
       "      <td>613021966030340095</td>\n",
       "      <td>47.535000</td>\n",
       "      <td>2022-01-01 07:46:57</td>\n",
       "      <td>Polygon</td>\n",
       "      <td>NaN</td>\n",
       "      <td>...</td>\n",
       "      <td>NaN</td>\n",
       "      <td>NaN</td>\n",
       "      <td>NaN</td>\n",
       "      <td>NaN</td>\n",
       "      <td>NaN</td>\n",
       "      <td>NaN</td>\n",
       "      <td>NaN</td>\n",
       "      <td>272</td>\n",
       "      <td>272</td>\n",
       "      <td>Ukraine</td>\n",
       "    </tr>\n",
       "    <tr>\n",
       "      <th>4</th>\n",
       "      <td>8</td>\n",
       "      <td>31.333333</td>\n",
       "      <td>272157700</td>\n",
       "      <td>MYKOLAIV</td>\n",
       "      <td>5191743282127358980</td>\n",
       "      <td>613021966030340095</td>\n",
       "      <td>47.535000</td>\n",
       "      <td>2022-01-01 09:43:50</td>\n",
       "      <td>Polygon</td>\n",
       "      <td>NaN</td>\n",
       "      <td>...</td>\n",
       "      <td>NaN</td>\n",
       "      <td>NaN</td>\n",
       "      <td>NaN</td>\n",
       "      <td>NaN</td>\n",
       "      <td>NaN</td>\n",
       "      <td>NaN</td>\n",
       "      <td>NaN</td>\n",
       "      <td>272</td>\n",
       "      <td>272</td>\n",
       "      <td>Ukraine</td>\n",
       "    </tr>\n",
       "  </tbody>\n",
       "</table>\n",
       "<p>5 rows × 27 columns</p>\n",
       "</div>"
      ],
      "text/plain": [
       "   hex_resolution  longitude       mmsi destination                 eeid  \\\n",
       "0               8  31.408333  272157700    MYKOLAIV  5191743282127358980   \n",
       "1               8  31.331667  272157700    MYKOLAIV  5191743282127358980   \n",
       "2               8  31.331667  272157700    MYKOLAIV  5191743282127358980   \n",
       "3               8  31.333333  272157700    MYKOLAIV  5191743282127358980   \n",
       "4               8  31.333333  272157700    MYKOLAIV  5191743282127358980   \n",
       "\n",
       "       H3_int_index_8   latitude       dt_insert_utc polygon_name StatCode5  \\\n",
       "0  613021963599740927  47.526667 2022-01-01 05:58:49      Polygon       NaN   \n",
       "1  613021966030340095  47.535000 2022-01-01 18:25:52      Polygon       NaN   \n",
       "2  613021966030340095  47.535000 2022-01-01 21:14:30      Polygon       NaN   \n",
       "3  613021966030340095  47.535000 2022-01-01 07:46:57      Polygon       NaN   \n",
       "4  613021966030340095  47.535000 2022-01-01 09:43:50      Polygon       NaN   \n",
       "\n",
       "   ...  ShipTypeLevel1  ShipTypeLevel2 ShipTypeLevel3  ShipTypeLevel4  \\\n",
       "0  ...             NaN             NaN            NaN             NaN   \n",
       "1  ...             NaN             NaN            NaN             NaN   \n",
       "2  ...             NaN             NaN            NaN             NaN   \n",
       "3  ...             NaN             NaN            NaN             NaN   \n",
       "4  ...             NaN             NaN            NaN             NaN   \n",
       "\n",
       "   ShipTypeLevel5  SubGroup  SubType mmsi_digits Digit Allocated to  \n",
       "0             NaN       NaN      NaN         272   272      Ukraine  \n",
       "1             NaN       NaN      NaN         272   272      Ukraine  \n",
       "2             NaN       NaN      NaN         272   272      Ukraine  \n",
       "3             NaN       NaN      NaN         272   272      Ukraine  \n",
       "4             NaN       NaN      NaN         272   272      Ukraine  \n",
       "\n",
       "[5 rows x 27 columns]"
      ]
     },
     "execution_count": 31,
     "metadata": {},
     "output_type": "execute_result"
    }
   ],
   "source": [
    "AIS_enriched2.head()"
   ]
  },
  {
   "cell_type": "code",
   "execution_count": 37,
   "id": "08c3fc7e-df8d-4ac4-97f9-a8706e1f72c3",
   "metadata": {},
   "outputs": [
    {
     "data": {
      "text/plain": [
       "0.24448533818874552"
      ]
     },
     "execution_count": 37,
     "metadata": {},
     "output_type": "execute_result"
    }
   ],
   "source": [
    "AIS_enriched2.loc[AIS_enriched2[\"destination\"].isna(), :].shape[0]/AIS_enriched2.shape[0] # 377 313, 24 %"
   ]
  },
  {
   "cell_type": "code",
   "execution_count": 34,
   "id": "5e794a1d-e9f9-44ca-8063-d3c183fed0de",
   "metadata": {},
   "outputs": [
    {
     "data": {
      "text/plain": [
       "(1165982, 27)"
      ]
     },
     "execution_count": 34,
     "metadata": {},
     "output_type": "execute_result"
    }
   ],
   "source": [
    "AIS_enriched2.loc[~AIS_enriched2[\"destination\"].isna(), :].shape # 1 165 982"
   ]
  },
  {
   "cell_type": "code",
   "execution_count": null,
   "id": "45603c82-3765-4a29-8743-2868c98c097e",
   "metadata": {},
   "outputs": [],
   "source": []
  }
 ],
 "metadata": {
  "kernelspec": {
   "display_name": "Python 3 (ipykernel)",
   "language": "python",
   "name": "python3"
  },
  "language_info": {
   "codemirror_mode": {
    "name": "ipython",
    "version": 3
   },
   "file_extension": ".py",
   "mimetype": "text/x-python",
   "name": "python",
   "nbconvert_exporter": "python",
   "pygments_lexer": "ipython3",
   "version": "3.10.4"
  }
 },
 "nbformat": 4,
 "nbformat_minor": 5
}
