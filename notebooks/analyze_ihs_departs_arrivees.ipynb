{
 "cells": [
  {
   "cell_type": "code",
   "execution_count": 1,
   "id": "5af23c40-ade4-4c59-81fd-77222ff61637",
   "metadata": {},
   "outputs": [
    {
     "data": {
      "text/plain": [
       "'/home/onyxia/work/hackathon-un-2022/notebooks'"
      ]
     },
     "execution_count": 1,
     "metadata": {},
     "output_type": "execute_result"
    }
   ],
   "source": [
    "import os\n",
    "os.getcwd()"
   ]
  },
  {
   "cell_type": "code",
   "execution_count": 2,
   "id": "a7152815-3848-4991-8b2f-e0a25583b51a",
   "metadata": {},
   "outputs": [],
   "source": [
    "os.chdir(\"..\")\n",
    "import utils.functions as fc\n",
    "import utils.indicators as indic"
   ]
  },
  {
   "cell_type": "code",
   "execution_count": 3,
   "id": "b0b8fda6-f99b-4d23-8195-3bdc128763bd",
   "metadata": {},
   "outputs": [],
   "source": [
    "from importlib import reload\n",
    "fc = reload(fc)\n",
    "indic = reload(indic)"
   ]
  },
  {
   "cell_type": "code",
   "execution_count": 4,
   "id": "11332f55-ada8-4805-bca8-c836d4f5277a",
   "metadata": {},
   "outputs": [],
   "source": [
    "ship_data_enriched = fc.create_ship_data_enriched()"
   ]
  },
  {
   "cell_type": "code",
   "execution_count": 5,
   "id": "a19cb760-00d9-4d20-b5d3-f8a006138849",
   "metadata": {},
   "outputs": [],
   "source": [
    "ais = fc.read_ais_all()"
   ]
  },
  {
   "cell_type": "code",
   "execution_count": 36,
   "id": "ceb18988-3742-40e5-a995-ccac04f78546",
   "metadata": {},
   "outputs": [],
   "source": [
    "ais_22 = ais.loc[(ais[\"region\"] == \"Black\") & (ais[\"start_date\"] == \"2022-04-01\"),:].copy()"
   ]
  },
  {
   "cell_type": "code",
   "execution_count": 37,
   "id": "02e098a1-75cb-40b8-adcb-dcf36fc9df32",
   "metadata": {},
   "outputs": [
    {
     "data": {
      "text/plain": [
       "(4642595, 8)"
      ]
     },
     "execution_count": 37,
     "metadata": {},
     "output_type": "execute_result"
    }
   ],
   "source": [
    "ais_22.shape"
   ]
  },
  {
   "cell_type": "code",
   "execution_count": 38,
   "id": "faea1e6b-dcc9-474d-9236-54039705d37f",
   "metadata": {},
   "outputs": [],
   "source": [
    "ais_enriched_22 = fc.enrich_AIS_data(ais_22, ship_data_enriched)"
   ]
  },
  {
   "cell_type": "code",
   "execution_count": 18,
   "id": "0968e1c4-b968-4f37-86bf-0695aff17431",
   "metadata": {},
   "outputs": [],
   "source": [
    "#ais_enriched = fc.filter_cargo(ais_enriched)"
   ]
  },
  {
   "cell_type": "code",
   "execution_count": 39,
   "id": "cd84dee9-edbe-45eb-8d43-3a556d114c03",
   "metadata": {},
   "outputs": [
    {
     "data": {
      "text/plain": [
       "(3065972, 127)"
      ]
     },
     "execution_count": 39,
     "metadata": {},
     "output_type": "execute_result"
    }
   ],
   "source": [
    "ais_enriched_22.shape"
   ]
  },
  {
   "cell_type": "code",
   "execution_count": 17,
   "id": "1193ffc9-3143-4987-99ef-637c6d9c8d66",
   "metadata": {},
   "outputs": [],
   "source": [
    "# function that assigns flag country\n",
    "#ais_enriched2, origin_countries = indic.assign_country_flag(ais_enriched)"
   ]
  },
  {
   "cell_type": "code",
   "execution_count": 40,
   "id": "dc6270d7-5b3e-4c1f-9696-07aab070c44e",
   "metadata": {},
   "outputs": [
    {
     "data": {
      "text/plain": [
       "1624"
      ]
     },
     "execution_count": 40,
     "metadata": {},
     "output_type": "execute_result"
    }
   ],
   "source": [
    "ais_enriched_22[\"mmsi\"].nunique()"
   ]
  },
  {
   "cell_type": "code",
   "execution_count": 41,
   "id": "c99b8070-a845-4a2c-9a78-e404c14c64eb",
   "metadata": {},
   "outputs": [
    {
     "name": "stdout",
     "output_type": "stream",
     "text": [
      "Number of unique destination ports\n",
      "2338\n",
      "shape of ais\n",
      "(3065972, 129)\n",
      "shape of ais filtered with no na destination\n",
      "(2726007, 129)\n",
      "Fuzzy matching in process\n"
     ]
    },
    {
     "name": "stderr",
     "output_type": "stream",
     "text": [
      "/home/onyxia/work/hackathon-un-2022/utils/indicators.py:116: SettingWithCopyWarning: \n",
      "A value is trying to be set on a copy of a slice from a DataFrame.\n",
      "Try using .loc[row_indexer,col_indexer] = value instead\n",
      "\n",
      "See the caveats in the documentation: https://pandas.pydata.org/pandas-docs/stable/user_guide/indexing.html#returning-a-view-versus-a-copy\n",
      "  res_fuz_match2[\"true_match\"] = np.nan\n",
      "/home/onyxia/work/hackathon-un-2022/utils/indicators.py:121: SettingWithCopyWarning: \n",
      "A value is trying to be set on a copy of a slice from a DataFrame.\n",
      "Try using .loc[row_indexer,col_indexer] = value instead\n",
      "\n",
      "See the caveats in the documentation: https://pandas.pydata.org/pandas-docs/stable/user_guide/indexing.html#returning-a-view-versus-a-copy\n",
      "  res_fuz_match2[\"matched_destination_country\"] = np.nan\n"
     ]
    },
    {
     "name": "stdout",
     "output_type": "stream",
     "text": [
      "Classification of destination countries\n",
      "Turkey            102\n",
      "Romania            84\n",
      "Russia             73\n",
      "Bulgaria           44\n",
      "Ukraine            41\n",
      "                 ... \n",
      "Ireland             1\n",
      "United Kingdom      1\n",
      "Antarctica          1\n",
      "Estonia             1\n",
      "Mozambique          1\n",
      "Name: matched_destination_country, Length: 62, dtype: int64\n",
      "Percentage of boat with matched countries\n",
      "0.5361189801699717\n"
     ]
    }
   ],
   "source": [
    "ais_enriched_22, res_fuz_match_22 = indic.fuzzy_match_destination_country(ais_enriched_22)"
   ]
  },
  {
   "cell_type": "code",
   "execution_count": 42,
   "id": "4ec8587a-ed86-4722-965b-ba3ba287cc41",
   "metadata": {},
   "outputs": [
    {
     "data": {
      "text/html": [
       "<div>\n",
       "<style scoped>\n",
       "    .dataframe tbody tr th:only-of-type {\n",
       "        vertical-align: middle;\n",
       "    }\n",
       "\n",
       "    .dataframe tbody tr th {\n",
       "        vertical-align: top;\n",
       "    }\n",
       "\n",
       "    .dataframe thead th {\n",
       "        text-align: right;\n",
       "    }\n",
       "</style>\n",
       "<table border=\"1\" class=\"dataframe\">\n",
       "  <thead>\n",
       "    <tr style=\"text-align: right;\">\n",
       "      <th></th>\n",
       "      <th>mmsi</th>\n",
       "      <th>matched_destination_country</th>\n",
       "      <th>matched_destination_port</th>\n",
       "      <th>ratio1</th>\n",
       "      <th>raw_port_destination</th>\n",
       "    </tr>\n",
       "  </thead>\n",
       "  <tbody>\n",
       "    <tr>\n",
       "      <th>0</th>\n",
       "      <td>207008000</td>\n",
       "      <td>Bulgaria</td>\n",
       "      <td>VARNA</td>\n",
       "      <td>100.0</td>\n",
       "      <td>VARNA</td>\n",
       "    </tr>\n",
       "    <tr>\n",
       "      <th>1</th>\n",
       "      <td>207037000</td>\n",
       "      <td>Bulgaria</td>\n",
       "      <td>VARNA</td>\n",
       "      <td>100.0</td>\n",
       "      <td>VARNA</td>\n",
       "    </tr>\n",
       "    <tr>\n",
       "      <th>2</th>\n",
       "      <td>207038000</td>\n",
       "      <td>Bulgaria</td>\n",
       "      <td>VARNA</td>\n",
       "      <td>100.0</td>\n",
       "      <td>VARNA</td>\n",
       "    </tr>\n",
       "    <tr>\n",
       "      <th>3</th>\n",
       "      <td>207133000</td>\n",
       "      <td>Bulgaria</td>\n",
       "      <td>VARNA</td>\n",
       "      <td>100.0</td>\n",
       "      <td>VARNA</td>\n",
       "    </tr>\n",
       "    <tr>\n",
       "      <th>4</th>\n",
       "      <td>207228000</td>\n",
       "      <td>Bulgaria</td>\n",
       "      <td>VARNA</td>\n",
       "      <td>100.0</td>\n",
       "      <td>VARNA</td>\n",
       "    </tr>\n",
       "  </tbody>\n",
       "</table>\n",
       "</div>"
      ],
      "text/plain": [
       "        mmsi matched_destination_country matched_destination_port  ratio1  \\\n",
       "0  207008000                    Bulgaria                    VARNA   100.0   \n",
       "1  207037000                    Bulgaria                    VARNA   100.0   \n",
       "2  207038000                    Bulgaria                    VARNA   100.0   \n",
       "3  207133000                    Bulgaria                    VARNA   100.0   \n",
       "4  207228000                    Bulgaria                    VARNA   100.0   \n",
       "\n",
       "  raw_port_destination  \n",
       "0                VARNA  \n",
       "1                VARNA  \n",
       "2                VARNA  \n",
       "3                VARNA  \n",
       "4                VARNA  "
      ]
     },
     "execution_count": 42,
     "metadata": {},
     "output_type": "execute_result"
    }
   ],
   "source": [
    "res_fuz_match_22.head()"
   ]
  },
  {
   "cell_type": "code",
   "execution_count": 43,
   "id": "c9569814-25ec-4948-9f4c-4b1299814837",
   "metadata": {},
   "outputs": [
    {
     "data": {
      "text/plain": [
       "(757, 5)"
      ]
     },
     "execution_count": 43,
     "metadata": {},
     "output_type": "execute_result"
    }
   ],
   "source": [
    "res_fuz_match_22.shape"
   ]
  },
  {
   "cell_type": "code",
   "execution_count": 44,
   "id": "fc1c9bb8-c674-42fd-965f-3b4d13ecbf27",
   "metadata": {},
   "outputs": [],
   "source": [
    "res_fuz_match_22[\"year\"] = \"2022\""
   ]
  },
  {
   "cell_type": "code",
   "execution_count": 45,
   "id": "dc0e75fa-2436-45a5-9ae7-91dd40643ab9",
   "metadata": {},
   "outputs": [],
   "source": [
    "ais_19 = ais.loc[(ais[\"region\"] == \"Black\") & (ais[\"start_date\"] == \"2019-04-01\"),:]"
   ]
  },
  {
   "cell_type": "code",
   "execution_count": 46,
   "id": "b4041d8e-f924-41dd-a301-b95121b4fabc",
   "metadata": {},
   "outputs": [
    {
     "data": {
      "text/plain": [
       "(6943856, 8)"
      ]
     },
     "execution_count": 46,
     "metadata": {},
     "output_type": "execute_result"
    }
   ],
   "source": [
    "ais_19.shape"
   ]
  },
  {
   "cell_type": "code",
   "execution_count": 47,
   "id": "7bd4c25d-a3a9-4139-bd56-aabff2a6e1bf",
   "metadata": {},
   "outputs": [],
   "source": [
    "ais_enriched_19 = fc.enrich_AIS_data(ais_19, ship_data_enriched)"
   ]
  },
  {
   "cell_type": "code",
   "execution_count": 18,
   "id": "5cf1e6d1-3db0-44d7-931f-5a82f0ffed04",
   "metadata": {},
   "outputs": [],
   "source": [
    "#ais_enriched = fc.filter_cargo(ais_enriched)"
   ]
  },
  {
   "cell_type": "code",
   "execution_count": 49,
   "id": "fbf4ab5a-c3db-4d14-8bb8-4022fa9d8691",
   "metadata": {},
   "outputs": [
    {
     "data": {
      "text/plain": [
       "(3778105, 127)"
      ]
     },
     "execution_count": 49,
     "metadata": {},
     "output_type": "execute_result"
    }
   ],
   "source": [
    "ais_enriched_19.shape"
   ]
  },
  {
   "cell_type": "code",
   "execution_count": 17,
   "id": "358c06c3-b023-4a02-97c8-1e872d2292bf",
   "metadata": {},
   "outputs": [],
   "source": [
    "# function qui assigne le pays d'origine\n",
    "#ais_enriched2, origin_countries = indic.assign_country_flag(ais_enriched)"
   ]
  },
  {
   "cell_type": "code",
   "execution_count": 50,
   "id": "76a3a9de-9fc9-4fae-9b90-e4d09fdf4697",
   "metadata": {},
   "outputs": [
    {
     "data": {
      "text/plain": [
       "1812"
      ]
     },
     "execution_count": 50,
     "metadata": {},
     "output_type": "execute_result"
    }
   ],
   "source": [
    "ais_enriched_19[\"mmsi\"].nunique()"
   ]
  },
  {
   "cell_type": "code",
   "execution_count": 51,
   "id": "3b0291db-7d66-4911-a303-cc79a4b04cc5",
   "metadata": {},
   "outputs": [
    {
     "name": "stdout",
     "output_type": "stream",
     "text": [
      "Number of unique destination ports\n",
      "4374\n",
      "shape of ais\n",
      "(3778105, 129)\n",
      "shape of ais filtered with no na destination\n",
      "(3292478, 129)\n",
      "Fuzzy matching in process\n"
     ]
    },
    {
     "name": "stderr",
     "output_type": "stream",
     "text": [
      "/home/onyxia/work/hackathon-un-2022/utils/indicators.py:116: SettingWithCopyWarning: \n",
      "A value is trying to be set on a copy of a slice from a DataFrame.\n",
      "Try using .loc[row_indexer,col_indexer] = value instead\n",
      "\n",
      "See the caveats in the documentation: https://pandas.pydata.org/pandas-docs/stable/user_guide/indexing.html#returning-a-view-versus-a-copy\n",
      "  res_fuz_match2[\"true_match\"] = np.nan\n",
      "/home/onyxia/work/hackathon-un-2022/utils/indicators.py:121: SettingWithCopyWarning: \n",
      "A value is trying to be set on a copy of a slice from a DataFrame.\n",
      "Try using .loc[row_indexer,col_indexer] = value instead\n",
      "\n",
      "See the caveats in the documentation: https://pandas.pydata.org/pandas-docs/stable/user_guide/indexing.html#returning-a-view-versus-a-copy\n",
      "  res_fuz_match2[\"matched_destination_country\"] = np.nan\n"
     ]
    },
    {
     "name": "stdout",
     "output_type": "stream",
     "text": [
      "Classification of destination countries\n",
      "Turkey                124\n",
      "Russia                109\n",
      "Ukraine               102\n",
      "Germany                83\n",
      "Romania                72\n",
      "                     ... \n",
      "Fiji                    1\n",
      "Ireland                 1\n",
      "Sweden                  1\n",
      "Thailand                1\n",
      "Dominican Republic      1\n",
      "Name: matched_destination_country, Length: 93, dtype: int64\n",
      "Percentage of boat with matched countries\n",
      "0.667262969588551\n"
     ]
    }
   ],
   "source": [
    "ais_enriched_19, res_fuz_match_19 = indic.fuzzy_match_destination_country(ais_enriched_19)"
   ]
  },
  {
   "cell_type": "code",
   "execution_count": 53,
   "id": "52cf0654-489b-4631-b252-d44e9b107bfa",
   "metadata": {},
   "outputs": [],
   "source": [
    "res_fuz_match_19[\"year\"] = \"2019\""
   ]
  },
  {
   "cell_type": "code",
   "execution_count": 55,
   "id": "500cfa33-c589-47f8-a3df-bd16a271ca0d",
   "metadata": {},
   "outputs": [],
   "source": [
    "import pandas as pd\n",
    "res_fuz_match = pd.concat([res_fuz_match_19, res_fuz_match_22])"
   ]
  },
  {
   "cell_type": "code",
   "execution_count": 59,
   "id": "8d788b9f-466d-4962-889b-28f59279e92e",
   "metadata": {},
   "outputs": [
    {
     "data": {
      "text/html": [
       "<div>\n",
       "<style scoped>\n",
       "    .dataframe tbody tr th:only-of-type {\n",
       "        vertical-align: middle;\n",
       "    }\n",
       "\n",
       "    .dataframe tbody tr th {\n",
       "        vertical-align: top;\n",
       "    }\n",
       "\n",
       "    .dataframe thead th {\n",
       "        text-align: right;\n",
       "    }\n",
       "</style>\n",
       "<table border=\"1\" class=\"dataframe\">\n",
       "  <thead>\n",
       "    <tr style=\"text-align: right;\">\n",
       "      <th></th>\n",
       "      <th>mmsi</th>\n",
       "      <th>matched_destination_country</th>\n",
       "      <th>matched_destination_port</th>\n",
       "      <th>ratio1</th>\n",
       "      <th>raw_port_destination</th>\n",
       "      <th>year</th>\n",
       "    </tr>\n",
       "  </thead>\n",
       "  <tbody>\n",
       "    <tr>\n",
       "      <th>0</th>\n",
       "      <td>207007000</td>\n",
       "      <td>Bulgaria</td>\n",
       "      <td>VARNA</td>\n",
       "      <td>100.000000</td>\n",
       "      <td>VARNA</td>\n",
       "      <td>2019</td>\n",
       "    </tr>\n",
       "    <tr>\n",
       "      <th>1</th>\n",
       "      <td>207008000</td>\n",
       "      <td>Georgia</td>\n",
       "      <td>POTI</td>\n",
       "      <td>100.000000</td>\n",
       "      <td>POTI</td>\n",
       "      <td>2019</td>\n",
       "    </tr>\n",
       "    <tr>\n",
       "      <th>2</th>\n",
       "      <td>207037000</td>\n",
       "      <td>Bulgaria</td>\n",
       "      <td>VARNA</td>\n",
       "      <td>100.000000</td>\n",
       "      <td>VARNA</td>\n",
       "      <td>2019</td>\n",
       "    </tr>\n",
       "    <tr>\n",
       "      <th>3</th>\n",
       "      <td>207038000</td>\n",
       "      <td>Denmark</td>\n",
       "      <td>ODENSE</td>\n",
       "      <td>83.333333</td>\n",
       "      <td>OPENSEA</td>\n",
       "      <td>2019</td>\n",
       "    </tr>\n",
       "    <tr>\n",
       "      <th>4</th>\n",
       "      <td>207124000</td>\n",
       "      <td>Spain</td>\n",
       "      <td>MARIN</td>\n",
       "      <td>88.888889</td>\n",
       "      <td>MARIUPOL</td>\n",
       "      <td>2019</td>\n",
       "    </tr>\n",
       "    <tr>\n",
       "      <th>...</th>\n",
       "      <td>...</td>\n",
       "      <td>...</td>\n",
       "      <td>...</td>\n",
       "      <td>...</td>\n",
       "      <td>...</td>\n",
       "      <td>...</td>\n",
       "    </tr>\n",
       "    <tr>\n",
       "      <th>752</th>\n",
       "      <td>677072400</td>\n",
       "      <td>Canada</td>\n",
       "      <td>PORT ALICE</td>\n",
       "      <td>83.333333</td>\n",
       "      <td>TR ALI</td>\n",
       "      <td>2022</td>\n",
       "    </tr>\n",
       "    <tr>\n",
       "      <th>753</th>\n",
       "      <td>677075600</td>\n",
       "      <td>Ukraine</td>\n",
       "      <td>KHERSON</td>\n",
       "      <td>100.000000</td>\n",
       "      <td>KHERSON</td>\n",
       "      <td>2022</td>\n",
       "    </tr>\n",
       "    <tr>\n",
       "      <th>754</th>\n",
       "      <td>677080700</td>\n",
       "      <td>Canada</td>\n",
       "      <td>PORT ALICE</td>\n",
       "      <td>83.333333</td>\n",
       "      <td>TR ALI</td>\n",
       "      <td>2022</td>\n",
       "    </tr>\n",
       "    <tr>\n",
       "      <th>755</th>\n",
       "      <td>677085700</td>\n",
       "      <td>Mozambique</td>\n",
       "      <td>BEIRA</td>\n",
       "      <td>88.888889</td>\n",
       "      <td>BEIRUT</td>\n",
       "      <td>2022</td>\n",
       "    </tr>\n",
       "    <tr>\n",
       "      <th>756</th>\n",
       "      <td>677092400</td>\n",
       "      <td>Brazil</td>\n",
       "      <td>VILA DO CONDE</td>\n",
       "      <td>83.333333</td>\n",
       "      <td>RO CND</td>\n",
       "      <td>2022</td>\n",
       "    </tr>\n",
       "  </tbody>\n",
       "</table>\n",
       "<p>1876 rows × 6 columns</p>\n",
       "</div>"
      ],
      "text/plain": [
       "          mmsi matched_destination_country matched_destination_port  \\\n",
       "0    207007000                    Bulgaria                    VARNA   \n",
       "1    207008000                     Georgia                     POTI   \n",
       "2    207037000                    Bulgaria                    VARNA   \n",
       "3    207038000                     Denmark                   ODENSE   \n",
       "4    207124000                       Spain                    MARIN   \n",
       "..         ...                         ...                      ...   \n",
       "752  677072400                      Canada               PORT ALICE   \n",
       "753  677075600                     Ukraine                  KHERSON   \n",
       "754  677080700                      Canada               PORT ALICE   \n",
       "755  677085700                  Mozambique                    BEIRA   \n",
       "756  677092400                      Brazil            VILA DO CONDE   \n",
       "\n",
       "         ratio1 raw_port_destination  year  \n",
       "0    100.000000                VARNA  2019  \n",
       "1    100.000000                 POTI  2019  \n",
       "2    100.000000                VARNA  2019  \n",
       "3     83.333333              OPENSEA  2019  \n",
       "4     88.888889             MARIUPOL  2019  \n",
       "..          ...                  ...   ...  \n",
       "752   83.333333               TR ALI  2022  \n",
       "753  100.000000              KHERSON  2022  \n",
       "754   83.333333               TR ALI  2022  \n",
       "755   88.888889               BEIRUT  2022  \n",
       "756   83.333333               RO CND  2022  \n",
       "\n",
       "[1876 rows x 6 columns]"
      ]
     },
     "execution_count": 59,
     "metadata": {},
     "output_type": "execute_result"
    }
   ],
   "source": [
    "res_fuz_match"
   ]
  },
  {
   "cell_type": "code",
   "execution_count": 60,
   "id": "a4d22af4-4c87-4d30-a105-ad78787ea4db",
   "metadata": {},
   "outputs": [
    {
     "data": {
      "text/plain": [
       "(1876, 6)"
      ]
     },
     "execution_count": 60,
     "metadata": {},
     "output_type": "execute_result"
    }
   ],
   "source": [
    "res_fuz_match.shape"
   ]
  },
  {
   "cell_type": "code",
   "execution_count": 64,
   "id": "65ea58d9-dec3-4a46-858f-89b969e98307",
   "metadata": {},
   "outputs": [],
   "source": [
    "import utils.export "
   ]
  },
  {
   "cell_type": "code",
   "execution_count": 65,
   "id": "84e5e6e1-a60f-4a86-9698-bebc44028fc0",
   "metadata": {},
   "outputs": [],
   "source": [
    "export.export2minio(\"full_traces_destination_countries_by_mmsi_19_22.csv\", res_fuz_match)"
   ]
  },
  {
   "cell_type": "code",
   "execution_count": null,
   "id": "ecf59804-a046-447c-9a23-8aade3d815e8",
   "metadata": {},
   "outputs": [],
   "source": []
  }
 ],
 "metadata": {
  "kernelspec": {
   "display_name": "Python 3 (ipykernel)",
   "language": "python",
   "name": "python3"
  },
  "language_info": {
   "codemirror_mode": {
    "name": "ipython",
    "version": 3
   },
   "file_extension": ".py",
   "mimetype": "text/x-python",
   "name": "python",
   "nbconvert_exporter": "python",
   "pygments_lexer": "ipython3",
   "version": "3.10.4"
  }
 },
 "nbformat": 4,
 "nbformat_minor": 5
}
