{
 "cells": [
  {
   "cell_type": "code",
   "execution_count": 207,
   "id": "9a7f43ea-8c07-4dad-9595-552b6833bb5f",
   "metadata": {},
   "outputs": [
    {
     "data": {
      "text/plain": [
       "'/'"
      ]
     },
     "execution_count": 207,
     "metadata": {},
     "output_type": "execute_result"
    }
   ],
   "source": [
    "import os\n",
    "os.getcwd()"
   ]
  },
  {
   "cell_type": "code",
   "execution_count": 208,
   "id": "10412daa-2226-4c6d-85ff-7ec9e0a7db72",
   "metadata": {},
   "outputs": [],
   "source": [
    "os.chdir(\"..\")\n",
    "import utils.functions as fc\n",
    "import utils.indicators as indic\n",
    "import pandas as pd\n",
    "import s3fs"
   ]
  },
  {
   "cell_type": "code",
   "execution_count": 209,
   "id": "b35bb7a7-04ef-4dfd-86f0-01cb457397f4",
   "metadata": {},
   "outputs": [],
   "source": [
    "from importlib import reload\n",
    "fc = reload(fc)\n",
    "indic = reload(indic)"
   ]
  },
  {
   "cell_type": "code",
   "execution_count": 210,
   "id": "f5092391-8932-4e51-9716-94b1fe980de8",
   "metadata": {},
   "outputs": [],
   "source": [
    "fs = s3fs.S3FileSystem(\n",
    "    client_kwargs={'endpoint_url': 'https://minio.lab.sspcloud.fr'}\n",
    ")"
   ]
  },
  {
   "cell_type": "code",
   "execution_count": 211,
   "id": "b4d3e17d-3c26-46fb-babc-84781c10b4de",
   "metadata": {},
   "outputs": [],
   "source": [
    "bucket = 'projet-hackathon-un-2022'\n",
    "data = 'AIS/arrival_counts_april_19.csv'\n",
    "\n",
    "arrivals_19 = pd.read_csv(\n",
    "    fs.open(f'{bucket}/{data}',\n",
    "            mode='rb')\n",
    ").iloc[:, 1:]"
   ]
  },
  {
   "cell_type": "code",
   "execution_count": 212,
   "id": "795146b2-d23f-48d7-b441-1deaa8beca72",
   "metadata": {},
   "outputs": [],
   "source": [
    "test = indic.find_countries_aggregate_table(arrivals_19)"
   ]
  },
  {
   "cell_type": "code",
   "execution_count": 219,
   "id": "1ce33307-3812-4c22-ac32-59d40584b9fe",
   "metadata": {},
   "outputs": [],
   "source": [
    "def save_country_aggs_arrivals(df_counts, save_path):\n",
    "    cargos = [\"General Cargo\", \"Bulk Dry\",  \"Container\", \n",
    "              \"Other Bulk Dry\", \"Refrigerated Cargo\",\n",
    "              \"Other Dry Cargo\", \"Bulk Dry / Oil\",\n",
    "              \"Self Discharging Bulk Dry\"]\n",
    "    df_agg = df_counts[df_counts['ShipTypeLevel3'].isin(cargos)]\n",
    "    df_agg = df_agg.groupby(['country', 'country_origin'])[['count', 'GrossTonnage', 'NetTonnage']].sum()\n",
    "    df_agg.reset_index()\n",
    "\n",
    "    df_agg.to_csv(\n",
    "        fs.open(f'{bucket}/{save_path}',\n",
    "                mode='w')\n",
    "    )"
   ]
  },
  {
   "cell_type": "code",
   "execution_count": 218,
   "id": "d1db4fa3-df00-4db1-9ebc-53ae24978be4",
   "metadata": {},
   "outputs": [],
   "source": [
    "save_country_aggs_arrivals(test, 'AIS/arrival_aggs_april_19.csv')"
   ]
  },
  {
   "cell_type": "code",
   "execution_count": 220,
   "id": "19fe4d7f-44af-4c91-b73d-814fcf660d30",
   "metadata": {},
   "outputs": [],
   "source": [
    "data = 'AIS/arrival_counts_april_22.csv'\n",
    "\n",
    "arrivals_22 = pd.read_csv(\n",
    "    fs.open(f'{bucket}/{data}',\n",
    "            mode='rb')\n",
    ").iloc[:, 1:]\n",
    "\n",
    "test = indic.find_countries_aggregate_table(arrivals_22)\n",
    "save_country_aggs_arrivals(test, 'AIS/arrival_aggs_april_22.csv')"
   ]
  },
  {
   "cell_type": "code",
   "execution_count": 221,
   "id": "99e2192d-2356-4af5-80bc-0d78915a00a7",
   "metadata": {},
   "outputs": [],
   "source": [
    "def save_country_aggs_departures(df_counts, save_path):\n",
    "    cargos = [\"General Cargo\", \"Bulk Dry\",  \"Container\", \n",
    "              \"Other Bulk Dry\", \"Refrigerated Cargo\",\n",
    "              \"Other Dry Cargo\", \"Bulk Dry / Oil\",\n",
    "              \"Self Discharging Bulk Dry\"]\n",
    "    df_agg = df_counts[df_counts['ShipTypeLevel3'].isin(cargos)]\n",
    "    df_agg = df_agg.groupby(['country', 'country_destination'])[['count', 'GrossTonnage', 'NetTonnage']].sum()\n",
    "    df_agg.reset_index()\n",
    "\n",
    "    df_agg.to_csv(\n",
    "        fs.open(f'{bucket}/{save_path}',\n",
    "                mode='w')\n",
    "    )"
   ]
  },
  {
   "cell_type": "code",
   "execution_count": 224,
   "id": "e654ebac-dfe4-4083-abaa-22ad9e1e9a79",
   "metadata": {},
   "outputs": [],
   "source": [
    "data = 'AIS/departure_counts_april_19.csv'\n",
    "\n",
    "departure_19 = pd.read_csv(\n",
    "    fs.open(f'{bucket}/{data}',\n",
    "            mode='rb')\n",
    ").iloc[:, 1:]\n",
    "\n",
    "test = indic.find_countries_aggregate_table(departure_19, False)\n",
    "save_country_aggs_departures(test, 'AIS/departure_aggs_april_19.csv')"
   ]
  },
  {
   "cell_type": "code",
   "execution_count": 225,
   "id": "569e877c-7a49-48f5-9ead-4054e4ec3d8b",
   "metadata": {},
   "outputs": [],
   "source": [
    "data = 'AIS/departure_counts_april_22.csv'\n",
    "\n",
    "departure_22 = pd.read_csv(\n",
    "    fs.open(f'{bucket}/{data}',\n",
    "            mode='rb')\n",
    ").iloc[:, 1:]\n",
    "\n",
    "test = indic.find_countries_aggregate_table(departure_22, False)\n",
    "save_country_aggs_departures(test, 'AIS/departure_aggs_april_22.csv')"
   ]
  },
  {
   "cell_type": "code",
   "execution_count": null,
   "id": "1a33dcf6-a49a-4f5d-8d9c-85944c5d6775",
   "metadata": {},
   "outputs": [],
   "source": []
  }
 ],
 "metadata": {
  "kernelspec": {
   "display_name": "Python 3 (ipykernel)",
   "language": "python",
   "name": "python3"
  },
  "language_info": {
   "codemirror_mode": {
    "name": "ipython",
    "version": 3
   },
   "file_extension": ".py",
   "mimetype": "text/x-python",
   "name": "python",
   "nbconvert_exporter": "python",
   "pygments_lexer": "ipython3",
   "version": "3.10.4"
  }
 },
 "nbformat": 4,
 "nbformat_minor": 5
}
