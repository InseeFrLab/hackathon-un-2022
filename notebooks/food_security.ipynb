{
 "cells": [
  {
   "cell_type": "code",
   "execution_count": 1,
   "id": "1f05530a-9451-4de5-a2ec-e62cd306c0f8",
   "metadata": {},
   "outputs": [],
   "source": [
    "# food prices in ukraine\n",
    "import pandas as pd\n",
    "import s3fs\n",
    "import os\n",
    "s3_url = \"https://\" + os.environ[\"AWS_S3_ENDPOINT\"]\n",
    "conn = s3fs.S3FileSystem(client_kwargs={'endpoint_url': s3_url})\n",
    "bucket = \"projet-hackathon-un-2022/drive/LLoyd_s Registery World Risk Poll 2021.csv\"\n"
   ]
  },
  {
   "cell_type": "code",
   "execution_count": 6,
   "id": "8c9a1850-82f1-46c4-a762-ee3142870504",
   "metadata": {},
   "outputs": [
    {
     "name": "stderr",
     "output_type": "stream",
     "text": [
      "/tmp/ipykernel_662/225246932.py:3: FutureWarning: The error_bad_lines argument has been deprecated and will be removed in a future version. Use on_bad_lines in the future.\n",
      "\n",
      "\n",
      "  lloyd = pd.read_csv(file_in, error_bad_lines=False, sep=\",\")\n",
      "/tmp/ipykernel_662/225246932.py:3: DtypeWarning: Columns (7,8,9,10,16,17,20,21,22,28,31,32,33,34,35,36,37,38,41,43,46,47,48,49,50,51,52,53,54,56,57,58,59,60,66,67,68,69,70,71,72,73,74,75,76,77,78,201,203,204,205,206,207) have mixed types. Specify dtype option on import or set low_memory=False.\n",
      "  lloyd = pd.read_csv(file_in, error_bad_lines=False, sep=\",\")\n"
     ]
    }
   ],
   "source": [
    "path2data = bucket \n",
    "with conn.open(path2data, mode=\"rb\") as file_in:\n",
    "    lloyd = pd.read_csv(file_in, error_bad_lines=False, sep=\",\")"
   ]
  },
  {
   "cell_type": "code",
   "execution_count": 7,
   "id": "723df575-34f6-4a1d-9194-3e67b877093d",
   "metadata": {},
   "outputs": [
    {
     "data": {
      "text/html": [
       "<div>\n",
       "<style scoped>\n",
       "    .dataframe tbody tr th:only-of-type {\n",
       "        vertical-align: middle;\n",
       "    }\n",
       "\n",
       "    .dataframe tbody tr th {\n",
       "        vertical-align: top;\n",
       "    }\n",
       "\n",
       "    .dataframe thead th {\n",
       "        text-align: right;\n",
       "    }\n",
       "</style>\n",
       "<table border=\"1\" class=\"dataframe\">\n",
       "  <thead>\n",
       "    <tr style=\"text-align: right;\">\n",
       "      <th></th>\n",
       "      <th>WPID_RANDOM</th>\n",
       "      <th>WP5</th>\n",
       "      <th>Country</th>\n",
       "      <th>WGT</th>\n",
       "      <th>Year</th>\n",
       "      <th>GlobalRegion</th>\n",
       "      <th>country.in.both.waves</th>\n",
       "      <th>CountryIncomeLevel2021</th>\n",
       "      <th>CountryIncomeLevel2019</th>\n",
       "      <th>PROJWT_2021</th>\n",
       "      <th>...</th>\n",
       "      <th>REGION_ZAF</th>\n",
       "      <th>REGION2_ZMB</th>\n",
       "      <th>REGION_ZWE</th>\n",
       "      <th>Q2_1_2019A</th>\n",
       "      <th>Q2_1_2019B</th>\n",
       "      <th>Q5A_2019</th>\n",
       "      <th>Q5B_2019</th>\n",
       "      <th>Q5C_2019</th>\n",
       "      <th>Q5D_2019</th>\n",
       "      <th>Q5F_2019</th>\n",
       "    </tr>\n",
       "  </thead>\n",
       "  <tbody>\n",
       "    <tr>\n",
       "      <th>0</th>\n",
       "      <td>174262180</td>\n",
       "      <td>1</td>\n",
       "      <td>United States</td>\n",
       "      <td>2.132627</td>\n",
       "      <td>2021</td>\n",
       "      <td>6</td>\n",
       "      <td>1</td>\n",
       "      <td>4</td>\n",
       "      <td></td>\n",
       "      <td>562058.627707</td>\n",
       "      <td>...</td>\n",
       "      <td></td>\n",
       "      <td></td>\n",
       "      <td></td>\n",
       "      <td></td>\n",
       "      <td></td>\n",
       "      <td></td>\n",
       "      <td></td>\n",
       "      <td></td>\n",
       "      <td></td>\n",
       "      <td></td>\n",
       "    </tr>\n",
       "    <tr>\n",
       "      <th>1</th>\n",
       "      <td>115327451</td>\n",
       "      <td>1</td>\n",
       "      <td>United States</td>\n",
       "      <td>0.620385</td>\n",
       "      <td>2021</td>\n",
       "      <td>6</td>\n",
       "      <td>1</td>\n",
       "      <td>4</td>\n",
       "      <td></td>\n",
       "      <td>163503.920074</td>\n",
       "      <td>...</td>\n",
       "      <td></td>\n",
       "      <td></td>\n",
       "      <td></td>\n",
       "      <td></td>\n",
       "      <td></td>\n",
       "      <td></td>\n",
       "      <td></td>\n",
       "      <td></td>\n",
       "      <td></td>\n",
       "      <td></td>\n",
       "    </tr>\n",
       "    <tr>\n",
       "      <th>2</th>\n",
       "      <td>189972125</td>\n",
       "      <td>1</td>\n",
       "      <td>United States</td>\n",
       "      <td>0.610080</td>\n",
       "      <td>2021</td>\n",
       "      <td>6</td>\n",
       "      <td>1</td>\n",
       "      <td>4</td>\n",
       "      <td></td>\n",
       "      <td>160787.958907</td>\n",
       "      <td>...</td>\n",
       "      <td></td>\n",
       "      <td></td>\n",
       "      <td></td>\n",
       "      <td></td>\n",
       "      <td></td>\n",
       "      <td></td>\n",
       "      <td></td>\n",
       "      <td></td>\n",
       "      <td></td>\n",
       "      <td></td>\n",
       "    </tr>\n",
       "    <tr>\n",
       "      <th>3</th>\n",
       "      <td>173358289</td>\n",
       "      <td>1</td>\n",
       "      <td>United States</td>\n",
       "      <td>0.490774</td>\n",
       "      <td>2021</td>\n",
       "      <td>6</td>\n",
       "      <td>1</td>\n",
       "      <td>4</td>\n",
       "      <td></td>\n",
       "      <td>129344.45613</td>\n",
       "      <td>...</td>\n",
       "      <td></td>\n",
       "      <td></td>\n",
       "      <td></td>\n",
       "      <td></td>\n",
       "      <td></td>\n",
       "      <td></td>\n",
       "      <td></td>\n",
       "      <td></td>\n",
       "      <td></td>\n",
       "      <td></td>\n",
       "    </tr>\n",
       "    <tr>\n",
       "      <th>4</th>\n",
       "      <td>183251831</td>\n",
       "      <td>1</td>\n",
       "      <td>United States</td>\n",
       "      <td>1.910021</td>\n",
       "      <td>2021</td>\n",
       "      <td>6</td>\n",
       "      <td>1</td>\n",
       "      <td>4</td>\n",
       "      <td></td>\n",
       "      <td>503390.26593</td>\n",
       "      <td>...</td>\n",
       "      <td></td>\n",
       "      <td></td>\n",
       "      <td></td>\n",
       "      <td></td>\n",
       "      <td></td>\n",
       "      <td></td>\n",
       "      <td></td>\n",
       "      <td></td>\n",
       "      <td></td>\n",
       "      <td></td>\n",
       "    </tr>\n",
       "  </tbody>\n",
       "</table>\n",
       "<p>5 rows × 208 columns</p>\n",
       "</div>"
      ],
      "text/plain": [
       "   WPID_RANDOM  WP5        Country       WGT  Year  GlobalRegion  \\\n",
       "0    174262180    1  United States  2.132627  2021             6   \n",
       "1    115327451    1  United States  0.620385  2021             6   \n",
       "2    189972125    1  United States  0.610080  2021             6   \n",
       "3    173358289    1  United States  0.490774  2021             6   \n",
       "4    183251831    1  United States  1.910021  2021             6   \n",
       "\n",
       "   country.in.both.waves CountryIncomeLevel2021 CountryIncomeLevel2019  \\\n",
       "0                      1                      4                          \n",
       "1                      1                      4                          \n",
       "2                      1                      4                          \n",
       "3                      1                      4                          \n",
       "4                      1                      4                          \n",
       "\n",
       "     PROJWT_2021  ... REGION_ZAF  REGION2_ZMB REGION_ZWE  Q2_1_2019A  \\\n",
       "0  562058.627707  ...                                                  \n",
       "1  163503.920074  ...                                                  \n",
       "2  160787.958907  ...                                                  \n",
       "3   129344.45613  ...                                                  \n",
       "4   503390.26593  ...                                                  \n",
       "\n",
       "   Q2_1_2019B  Q5A_2019 Q5B_2019 Q5C_2019  Q5D_2019  Q5F_2019  \n",
       "0                                                              \n",
       "1                                                              \n",
       "2                                                              \n",
       "3                                                              \n",
       "4                                                              \n",
       "\n",
       "[5 rows x 208 columns]"
      ]
     },
     "execution_count": 7,
     "metadata": {},
     "output_type": "execute_result"
    }
   ],
   "source": [
    "lloyd.head()"
   ]
  },
  {
   "cell_type": "code",
   "execution_count": 8,
   "id": "cc445918-4bf8-4a5b-8333-68956027a959",
   "metadata": {},
   "outputs": [],
   "source": [
    "lloyd = lloyd.loc[lloyd[\"Year\"] == 2021, :]"
   ]
  },
  {
   "cell_type": "code",
   "execution_count": 9,
   "id": "4241cc03-a42a-47e2-8dc3-2e9dfa3a1efc",
   "metadata": {},
   "outputs": [
    {
     "data": {
      "text/plain": [
       "(125911, 208)"
      ]
     },
     "execution_count": 9,
     "metadata": {},
     "output_type": "execute_result"
    }
   ],
   "source": [
    "lloyd.shape"
   ]
  },
  {
   "cell_type": "code",
   "execution_count": 10,
   "id": "16c3257c-bfce-4b61-8ffd-56c6a5e64b90",
   "metadata": {},
   "outputs": [
    {
     "data": {
      "text/plain": [
       "Index(['WPID_RANDOM', 'WP5', 'Country', 'WGT', 'Year', 'GlobalRegion',\n",
       "       'country.in.both.waves', 'CountryIncomeLevel2021',\n",
       "       'CountryIncomeLevel2019', 'PROJWT_2021',\n",
       "       ...\n",
       "       'REGION_ZAF', 'REGION2_ZMB', 'REGION_ZWE', 'Q2_1_2019A', 'Q2_1_2019B',\n",
       "       'Q5A_2019', 'Q5B_2019', 'Q5C_2019', 'Q5D_2019', 'Q5F_2019'],\n",
       "      dtype='object', length=208)"
      ]
     },
     "execution_count": 10,
     "metadata": {},
     "output_type": "execute_result"
    }
   ],
   "source": [
    "lloyd.columns"
   ]
  },
  {
   "cell_type": "code",
   "execution_count": 24,
   "id": "9da88d74-b6de-4529-994d-54e4b7a13a80",
   "metadata": {},
   "outputs": [],
   "source": [
    "lloyd2 = lloyd.loc[:, [\"Country\", \"resilience_index\"]]"
   ]
  },
  {
   "cell_type": "code",
   "execution_count": 25,
   "id": "6ecc7620-5193-4f14-a73a-1da9864a8e58",
   "metadata": {},
   "outputs": [
    {
     "data": {
      "text/html": [
       "<div>\n",
       "<style scoped>\n",
       "    .dataframe tbody tr th:only-of-type {\n",
       "        vertical-align: middle;\n",
       "    }\n",
       "\n",
       "    .dataframe tbody tr th {\n",
       "        vertical-align: top;\n",
       "    }\n",
       "\n",
       "    .dataframe thead th {\n",
       "        text-align: right;\n",
       "    }\n",
       "</style>\n",
       "<table border=\"1\" class=\"dataframe\">\n",
       "  <thead>\n",
       "    <tr style=\"text-align: right;\">\n",
       "      <th></th>\n",
       "      <th>Country</th>\n",
       "      <th>resilience_index</th>\n",
       "    </tr>\n",
       "  </thead>\n",
       "  <tbody>\n",
       "    <tr>\n",
       "      <th>0</th>\n",
       "      <td>United States</td>\n",
       "      <td>.604166666666667</td>\n",
       "    </tr>\n",
       "    <tr>\n",
       "      <th>1</th>\n",
       "      <td>United States</td>\n",
       "      <td>.8125</td>\n",
       "    </tr>\n",
       "    <tr>\n",
       "      <th>2</th>\n",
       "      <td>United States</td>\n",
       "      <td>.645833333333333</td>\n",
       "    </tr>\n",
       "    <tr>\n",
       "      <th>3</th>\n",
       "      <td>United States</td>\n",
       "      <td>.604166666666667</td>\n",
       "    </tr>\n",
       "    <tr>\n",
       "      <th>4</th>\n",
       "      <td>United States</td>\n",
       "      <td>.895833333333333</td>\n",
       "    </tr>\n",
       "  </tbody>\n",
       "</table>\n",
       "</div>"
      ],
      "text/plain": [
       "         Country  resilience_index\n",
       "0  United States  .604166666666667\n",
       "1  United States             .8125\n",
       "2  United States  .645833333333333\n",
       "3  United States  .604166666666667\n",
       "4  United States  .895833333333333"
      ]
     },
     "execution_count": 25,
     "metadata": {},
     "output_type": "execute_result"
    }
   ],
   "source": [
    "lloyd2.head() # a priori plusieurs points par année"
   ]
  },
  {
   "cell_type": "code",
   "execution_count": 30,
   "id": "47f5cd4b-583d-4dd0-aeef-12e774c00f39",
   "metadata": {},
   "outputs": [],
   "source": [
    "import numpy as np\n",
    "lloyd2[\"resilience_index\"] = lloyd2[\"resilience_index\"].replace('', np.NaN)"
   ]
  },
  {
   "cell_type": "code",
   "execution_count": 32,
   "id": "bc5f44d6-106c-4d22-aed0-24e94588a1d9",
   "metadata": {},
   "outputs": [],
   "source": [
    "lloyd2[\"resilience_index2\"] = pd.to_numeric(lloyd2[\"resilience_index\"], errors='coerce')"
   ]
  },
  {
   "cell_type": "code",
   "execution_count": 33,
   "id": "5f69e000-cc25-446f-bdc8-77303a6f9560",
   "metadata": {},
   "outputs": [
    {
     "name": "stderr",
     "output_type": "stream",
     "text": [
      "/tmp/ipykernel_662/480493357.py:1: FutureWarning: The default value of numeric_only in DataFrameGroupBy.mean is deprecated. In a future version, numeric_only will default to False. Either specify numeric_only or select only columns which should be valid for the function.\n",
      "  lloyd3 = lloyd2.groupby(\"Country\").mean()\n"
     ]
    }
   ],
   "source": [
    "lloyd3 = lloyd2.groupby(\"Country\").mean()"
   ]
  },
  {
   "cell_type": "code",
   "execution_count": 34,
   "id": "f7b97edb-5f8a-4dcf-95b6-f585c0d6dede",
   "metadata": {},
   "outputs": [
    {
     "data": {
      "text/html": [
       "<div>\n",
       "<style scoped>\n",
       "    .dataframe tbody tr th:only-of-type {\n",
       "        vertical-align: middle;\n",
       "    }\n",
       "\n",
       "    .dataframe tbody tr th {\n",
       "        vertical-align: top;\n",
       "    }\n",
       "\n",
       "    .dataframe thead th {\n",
       "        text-align: right;\n",
       "    }\n",
       "</style>\n",
       "<table border=\"1\" class=\"dataframe\">\n",
       "  <thead>\n",
       "    <tr style=\"text-align: right;\">\n",
       "      <th></th>\n",
       "      <th>resilience_index2</th>\n",
       "    </tr>\n",
       "    <tr>\n",
       "      <th>Country</th>\n",
       "      <th></th>\n",
       "    </tr>\n",
       "  </thead>\n",
       "  <tbody>\n",
       "    <tr>\n",
       "      <th>Afghanistan</th>\n",
       "      <td>0.343204</td>\n",
       "    </tr>\n",
       "    <tr>\n",
       "      <th>Albania</th>\n",
       "      <td>0.456548</td>\n",
       "    </tr>\n",
       "    <tr>\n",
       "      <th>Algeria</th>\n",
       "      <td>0.621322</td>\n",
       "    </tr>\n",
       "    <tr>\n",
       "      <th>Argentina</th>\n",
       "      <td>0.529114</td>\n",
       "    </tr>\n",
       "    <tr>\n",
       "      <th>Armenia</th>\n",
       "      <td>0.568233</td>\n",
       "    </tr>\n",
       "  </tbody>\n",
       "</table>\n",
       "</div>"
      ],
      "text/plain": [
       "             resilience_index2\n",
       "Country                       \n",
       "Afghanistan           0.343204\n",
       "Albania               0.456548\n",
       "Algeria               0.621322\n",
       "Argentina             0.529114\n",
       "Armenia               0.568233"
      ]
     },
     "execution_count": 34,
     "metadata": {},
     "output_type": "execute_result"
    }
   ],
   "source": [
    "lloyd3.head()"
   ]
  },
  {
   "cell_type": "code",
   "execution_count": null,
   "id": "fdcf26ba-0b36-434d-ac92-4f191c92307f",
   "metadata": {},
   "outputs": [],
   "source": []
  }
 ],
 "metadata": {
  "kernelspec": {
   "display_name": "Python 3 (ipykernel)",
   "language": "python",
   "name": "python3"
  },
  "language_info": {
   "codemirror_mode": {
    "name": "ipython",
    "version": 3
   },
   "file_extension": ".py",
   "mimetype": "text/x-python",
   "name": "python",
   "nbconvert_exporter": "python",
   "pygments_lexer": "ipython3",
   "version": "3.10.4"
  }
 },
 "nbformat": 4,
 "nbformat_minor": 5
}
