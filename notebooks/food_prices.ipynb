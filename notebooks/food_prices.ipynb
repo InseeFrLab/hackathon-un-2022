{
 "cells": [
  {
   "cell_type": "code",
   "execution_count": 1,
   "id": "8b5878bc-f027-4284-b2b8-36643422d58d",
   "metadata": {},
   "outputs": [],
   "source": [
    "# food prices in ukraine\n",
    "import pandas as pd\n",
    "import s3fs\n",
    "import os\n",
    "s3_url = \"https://\" + os.environ[\"AWS_S3_ENDPOINT\"]\n",
    "conn = s3fs.S3FileSystem(client_kwargs={'endpoint_url': s3_url})\n",
    "bucket = \"projet-hackathon-un-2022/drive/ Rise of food and energy prices/Food prices/\"\n",
    "\n"
   ]
  },
  {
   "cell_type": "code",
   "execution_count": 4,
   "id": "fcda0c32-c079-47c8-9723-cfd2a007b1b4",
   "metadata": {},
   "outputs": [
    {
     "name": "stderr",
     "output_type": "stream",
     "text": [
      "/tmp/ipykernel_553/852208829.py:3: FutureWarning: The error_bad_lines argument has been deprecated and will be removed in a future version. Use on_bad_lines in the future.\n",
      "\n",
      "\n",
      "  food_p_ukr = pd.read_csv(file_in, error_bad_lines=False, sep=\",\")\n",
      "/tmp/ipykernel_553/852208829.py:3: DtypeWarning: Columns (4,5,12,13) have mixed types. Specify dtype option on import or set low_memory=False.\n",
      "  food_p_ukr = pd.read_csv(file_in, error_bad_lines=False, sep=\",\")\n"
     ]
    }
   ],
   "source": [
    "path2data = bucket + \"wfp_food_prices_ukr(1).csv\"\n",
    "with conn.open(path2data, mode=\"rb\") as file_in:\n",
    "    food_p_ukr = pd.read_csv(file_in, error_bad_lines=False, sep=\",\")"
   ]
  },
  {
   "cell_type": "code",
   "execution_count": 5,
   "id": "5911a303-4562-4884-8f4e-61c351daee71",
   "metadata": {},
   "outputs": [
    {
     "data": {
      "text/html": [
       "<div>\n",
       "<style scoped>\n",
       "    .dataframe tbody tr th:only-of-type {\n",
       "        vertical-align: middle;\n",
       "    }\n",
       "\n",
       "    .dataframe tbody tr th {\n",
       "        vertical-align: top;\n",
       "    }\n",
       "\n",
       "    .dataframe thead th {\n",
       "        text-align: right;\n",
       "    }\n",
       "</style>\n",
       "<table border=\"1\" class=\"dataframe\">\n",
       "  <thead>\n",
       "    <tr style=\"text-align: right;\">\n",
       "      <th></th>\n",
       "      <th>date</th>\n",
       "      <th>admin1</th>\n",
       "      <th>admin2</th>\n",
       "      <th>market</th>\n",
       "      <th>latitude</th>\n",
       "      <th>longitude</th>\n",
       "      <th>category</th>\n",
       "      <th>commodity</th>\n",
       "      <th>unit</th>\n",
       "      <th>priceflag</th>\n",
       "      <th>pricetype</th>\n",
       "      <th>currency</th>\n",
       "      <th>price</th>\n",
       "      <th>usdprice</th>\n",
       "    </tr>\n",
       "  </thead>\n",
       "  <tbody>\n",
       "    <tr>\n",
       "      <th>0</th>\n",
       "      <td>#date</td>\n",
       "      <td>#adm1+name</td>\n",
       "      <td>#adm2+name</td>\n",
       "      <td>#loc+market+name</td>\n",
       "      <td>#geo+lat</td>\n",
       "      <td>#geo+lon</td>\n",
       "      <td>#item+type</td>\n",
       "      <td>#item+name</td>\n",
       "      <td>#item+unit</td>\n",
       "      <td>#item+price+flag</td>\n",
       "      <td>#item+price+type</td>\n",
       "      <td>#currency</td>\n",
       "      <td>#value</td>\n",
       "      <td>#value+usd</td>\n",
       "    </tr>\n",
       "    <tr>\n",
       "      <th>1</th>\n",
       "      <td>2014-03-15</td>\n",
       "      <td>NaN</td>\n",
       "      <td>NaN</td>\n",
       "      <td>National Average</td>\n",
       "      <td>NaN</td>\n",
       "      <td>NaN</td>\n",
       "      <td>cereals and tubers</td>\n",
       "      <td>Bread (rye)</td>\n",
       "      <td>Loaf</td>\n",
       "      <td>actual</td>\n",
       "      <td>Retail</td>\n",
       "      <td>UAH</td>\n",
       "      <td>4.96</td>\n",
       "      <td>0.135</td>\n",
       "    </tr>\n",
       "    <tr>\n",
       "      <th>2</th>\n",
       "      <td>2014-03-15</td>\n",
       "      <td>NaN</td>\n",
       "      <td>NaN</td>\n",
       "      <td>National Average</td>\n",
       "      <td>NaN</td>\n",
       "      <td>NaN</td>\n",
       "      <td>cereals and tubers</td>\n",
       "      <td>Bread (wheat)</td>\n",
       "      <td>Loaf</td>\n",
       "      <td>actual</td>\n",
       "      <td>Retail</td>\n",
       "      <td>UAH</td>\n",
       "      <td>4.84</td>\n",
       "      <td>0.1318</td>\n",
       "    </tr>\n",
       "    <tr>\n",
       "      <th>3</th>\n",
       "      <td>2014-03-15</td>\n",
       "      <td>NaN</td>\n",
       "      <td>NaN</td>\n",
       "      <td>National Average</td>\n",
       "      <td>NaN</td>\n",
       "      <td>NaN</td>\n",
       "      <td>cereals and tubers</td>\n",
       "      <td>Buckwheat grits</td>\n",
       "      <td>KG</td>\n",
       "      <td>actual</td>\n",
       "      <td>Retail</td>\n",
       "      <td>UAH</td>\n",
       "      <td>7.44</td>\n",
       "      <td>0.2026</td>\n",
       "    </tr>\n",
       "    <tr>\n",
       "      <th>4</th>\n",
       "      <td>2014-03-15</td>\n",
       "      <td>NaN</td>\n",
       "      <td>NaN</td>\n",
       "      <td>National Average</td>\n",
       "      <td>NaN</td>\n",
       "      <td>NaN</td>\n",
       "      <td>cereals and tubers</td>\n",
       "      <td>Potatoes</td>\n",
       "      <td>KG</td>\n",
       "      <td>actual</td>\n",
       "      <td>Retail</td>\n",
       "      <td>UAH</td>\n",
       "      <td>6.74</td>\n",
       "      <td>0.1835</td>\n",
       "    </tr>\n",
       "  </tbody>\n",
       "</table>\n",
       "</div>"
      ],
      "text/plain": [
       "         date      admin1      admin2            market  latitude longitude  \\\n",
       "0       #date  #adm1+name  #adm2+name  #loc+market+name  #geo+lat  #geo+lon   \n",
       "1  2014-03-15         NaN         NaN  National Average       NaN       NaN   \n",
       "2  2014-03-15         NaN         NaN  National Average       NaN       NaN   \n",
       "3  2014-03-15         NaN         NaN  National Average       NaN       NaN   \n",
       "4  2014-03-15         NaN         NaN  National Average       NaN       NaN   \n",
       "\n",
       "             category        commodity        unit         priceflag  \\\n",
       "0          #item+type       #item+name  #item+unit  #item+price+flag   \n",
       "1  cereals and tubers      Bread (rye)        Loaf            actual   \n",
       "2  cereals and tubers    Bread (wheat)        Loaf            actual   \n",
       "3  cereals and tubers  Buckwheat grits          KG            actual   \n",
       "4  cereals and tubers         Potatoes          KG            actual   \n",
       "\n",
       "          pricetype   currency   price    usdprice  \n",
       "0  #item+price+type  #currency  #value  #value+usd  \n",
       "1            Retail        UAH    4.96       0.135  \n",
       "2            Retail        UAH    4.84      0.1318  \n",
       "3            Retail        UAH    7.44      0.2026  \n",
       "4            Retail        UAH    6.74      0.1835  "
      ]
     },
     "execution_count": 5,
     "metadata": {},
     "output_type": "execute_result"
    }
   ],
   "source": [
    "food_p_ukr.head()"
   ]
  },
  {
   "cell_type": "code",
   "execution_count": 6,
   "id": "e5b63fc9-8d4c-4812-b0f4-dcd9be3a7469",
   "metadata": {},
   "outputs": [],
   "source": [
    "food_p_ukr = food_p_ukr.iloc[1:,:]"
   ]
  },
  {
   "cell_type": "code",
   "execution_count": 7,
   "id": "f6d85ee6-19b7-4b0d-b490-67f1319b8ac0",
   "metadata": {},
   "outputs": [
    {
     "data": {
      "text/plain": [
       "1    2014-03-15\n",
       "2    2014-03-15\n",
       "3    2014-03-15\n",
       "4    2014-03-15\n",
       "5    2014-03-15\n",
       "Name: date, dtype: object"
      ]
     },
     "execution_count": 7,
     "metadata": {},
     "output_type": "execute_result"
    }
   ],
   "source": [
    "food_p_ukr[\"date\"].head()"
   ]
  },
  {
   "cell_type": "code",
   "execution_count": 8,
   "id": "6ba4a7b6-3549-4b80-bb11-83f7a455ec90",
   "metadata": {},
   "outputs": [],
   "source": [
    "food_p_ukr[\"year\"] = pd.to_datetime(food_p_ukr.loc[:,\"date\"])"
   ]
  },
  {
   "cell_type": "code",
   "execution_count": 9,
   "id": "78847058-bc57-40c2-887c-4a6e00047b35",
   "metadata": {},
   "outputs": [],
   "source": [
    "food_p_ukr[\"year\"] = food_p_ukr[\"year\"].dt.year"
   ]
  },
  {
   "cell_type": "code",
   "execution_count": 10,
   "id": "604c5f12-cd07-4894-94f9-417e10b2a1f0",
   "metadata": {},
   "outputs": [
    {
     "data": {
      "text/plain": [
       "array([2014, 2015, 2016, 2017, 2018, 2019, 2020, 2021, 2022])"
      ]
     },
     "execution_count": 10,
     "metadata": {},
     "output_type": "execute_result"
    }
   ],
   "source": [
    "food_p_ukr[\"year\"].unique()"
   ]
  },
  {
   "cell_type": "code",
   "execution_count": 11,
   "id": "054c6aeb-6e81-4235-88f2-493a1e2e15d1",
   "metadata": {},
   "outputs": [],
   "source": [
    "food_p_ukr2 = food_p_ukr.loc[food_p_ukr[\"year\"].isin([2018, 2019, 2020, 2021, 2022]),:]"
   ]
  },
  {
   "cell_type": "code",
   "execution_count": 12,
   "id": "0383b807-e33e-4500-8fca-d17708249e2b",
   "metadata": {},
   "outputs": [
    {
     "data": {
      "text/html": [
       "<div>\n",
       "<style scoped>\n",
       "    .dataframe tbody tr th:only-of-type {\n",
       "        vertical-align: middle;\n",
       "    }\n",
       "\n",
       "    .dataframe tbody tr th {\n",
       "        vertical-align: top;\n",
       "    }\n",
       "\n",
       "    .dataframe thead th {\n",
       "        text-align: right;\n",
       "    }\n",
       "</style>\n",
       "<table border=\"1\" class=\"dataframe\">\n",
       "  <thead>\n",
       "    <tr style=\"text-align: right;\">\n",
       "      <th></th>\n",
       "      <th>date</th>\n",
       "      <th>admin1</th>\n",
       "      <th>admin2</th>\n",
       "      <th>market</th>\n",
       "      <th>latitude</th>\n",
       "      <th>longitude</th>\n",
       "      <th>category</th>\n",
       "      <th>commodity</th>\n",
       "      <th>unit</th>\n",
       "      <th>priceflag</th>\n",
       "      <th>pricetype</th>\n",
       "      <th>currency</th>\n",
       "      <th>price</th>\n",
       "      <th>usdprice</th>\n",
       "      <th>year</th>\n",
       "    </tr>\n",
       "  </thead>\n",
       "  <tbody>\n",
       "    <tr>\n",
       "      <th>26856</th>\n",
       "      <td>2018-12-15</td>\n",
       "      <td>Cherkaska</td>\n",
       "      <td>Cherkaska</td>\n",
       "      <td>Cherkasy</td>\n",
       "      <td>49.444433</td>\n",
       "      <td>32.0597669999999</td>\n",
       "      <td>cereals and tubers</td>\n",
       "      <td>Barley</td>\n",
       "      <td>KG</td>\n",
       "      <td>actual</td>\n",
       "      <td>Retail</td>\n",
       "      <td>UAH</td>\n",
       "      <td>11.18</td>\n",
       "      <td>0.3044</td>\n",
       "      <td>2018</td>\n",
       "    </tr>\n",
       "    <tr>\n",
       "      <th>26857</th>\n",
       "      <td>2018-12-15</td>\n",
       "      <td>Cherkaska</td>\n",
       "      <td>Cherkaska</td>\n",
       "      <td>Cherkasy</td>\n",
       "      <td>49.444433</td>\n",
       "      <td>32.0597669999999</td>\n",
       "      <td>cereals and tubers</td>\n",
       "      <td>Bread (high grade flour)</td>\n",
       "      <td>KG</td>\n",
       "      <td>actual</td>\n",
       "      <td>Retail</td>\n",
       "      <td>UAH</td>\n",
       "      <td>21.84</td>\n",
       "      <td>0.5946</td>\n",
       "      <td>2018</td>\n",
       "    </tr>\n",
       "    <tr>\n",
       "      <th>26858</th>\n",
       "      <td>2018-12-15</td>\n",
       "      <td>Cherkaska</td>\n",
       "      <td>Cherkaska</td>\n",
       "      <td>Cherkasy</td>\n",
       "      <td>49.444433</td>\n",
       "      <td>32.0597669999999</td>\n",
       "      <td>cereals and tubers</td>\n",
       "      <td>Bread (rye)</td>\n",
       "      <td>KG</td>\n",
       "      <td>actual</td>\n",
       "      <td>Retail</td>\n",
       "      <td>UAH</td>\n",
       "      <td>19.35</td>\n",
       "      <td>0.5268</td>\n",
       "      <td>2018</td>\n",
       "    </tr>\n",
       "    <tr>\n",
       "      <th>26859</th>\n",
       "      <td>2018-12-15</td>\n",
       "      <td>Cherkaska</td>\n",
       "      <td>Cherkaska</td>\n",
       "      <td>Cherkasy</td>\n",
       "      <td>49.444433</td>\n",
       "      <td>32.0597669999999</td>\n",
       "      <td>cereals and tubers</td>\n",
       "      <td>Bread (wheat)</td>\n",
       "      <td>500 G</td>\n",
       "      <td>actual</td>\n",
       "      <td>Retail</td>\n",
       "      <td>UAH</td>\n",
       "      <td>11.71</td>\n",
       "      <td>0.3188</td>\n",
       "      <td>2018</td>\n",
       "    </tr>\n",
       "    <tr>\n",
       "      <th>26860</th>\n",
       "      <td>2018-12-15</td>\n",
       "      <td>Cherkaska</td>\n",
       "      <td>Cherkaska</td>\n",
       "      <td>Cherkasy</td>\n",
       "      <td>49.444433</td>\n",
       "      <td>32.0597669999999</td>\n",
       "      <td>cereals and tubers</td>\n",
       "      <td>Buckwheat</td>\n",
       "      <td>KG</td>\n",
       "      <td>actual</td>\n",
       "      <td>Retail</td>\n",
       "      <td>UAH</td>\n",
       "      <td>15.97</td>\n",
       "      <td>0.4348</td>\n",
       "      <td>2018</td>\n",
       "    </tr>\n",
       "  </tbody>\n",
       "</table>\n",
       "</div>"
      ],
      "text/plain": [
       "             date     admin1     admin2    market   latitude  \\\n",
       "26856  2018-12-15  Cherkaska  Cherkaska  Cherkasy  49.444433   \n",
       "26857  2018-12-15  Cherkaska  Cherkaska  Cherkasy  49.444433   \n",
       "26858  2018-12-15  Cherkaska  Cherkaska  Cherkasy  49.444433   \n",
       "26859  2018-12-15  Cherkaska  Cherkaska  Cherkasy  49.444433   \n",
       "26860  2018-12-15  Cherkaska  Cherkaska  Cherkasy  49.444433   \n",
       "\n",
       "              longitude            category                 commodity   unit  \\\n",
       "26856  32.0597669999999  cereals and tubers                    Barley     KG   \n",
       "26857  32.0597669999999  cereals and tubers  Bread (high grade flour)     KG   \n",
       "26858  32.0597669999999  cereals and tubers               Bread (rye)     KG   \n",
       "26859  32.0597669999999  cereals and tubers             Bread (wheat)  500 G   \n",
       "26860  32.0597669999999  cereals and tubers                 Buckwheat     KG   \n",
       "\n",
       "      priceflag pricetype currency  price usdprice  year  \n",
       "26856    actual    Retail      UAH  11.18   0.3044  2018  \n",
       "26857    actual    Retail      UAH  21.84   0.5946  2018  \n",
       "26858    actual    Retail      UAH  19.35   0.5268  2018  \n",
       "26859    actual    Retail      UAH  11.71   0.3188  2018  \n",
       "26860    actual    Retail      UAH  15.97   0.4348  2018  "
      ]
     },
     "execution_count": 12,
     "metadata": {},
     "output_type": "execute_result"
    }
   ],
   "source": [
    "food_p_ukr2.head()"
   ]
  },
  {
   "cell_type": "code",
   "execution_count": 13,
   "id": "2b7e7ab5-bd0e-4037-9a43-8bdc135b06cc",
   "metadata": {},
   "outputs": [
    {
     "data": {
      "text/plain": [
       "array(['Barley', 'Bread (high grade flour)', 'Bread (rye)',\n",
       "       'Bread (wheat)', 'Buckwheat', 'Millet', 'Pasta', 'Potatoes',\n",
       "       'Rice', 'Semolina', 'Wheat flour', 'Eggs', 'Fish (frozen)',\n",
       "       'Meat (beef)', 'Meat (chicken, fillet)', 'Meat (chicken, whole)',\n",
       "       'Meat (mixed, sausage)', 'Meat (pork)', 'Curd', 'Milk',\n",
       "       'Sour cream', 'Sugar', 'Antibiotics (imported)',\n",
       "       'Antipyretic (imported)', 'Antipyretic (local)', 'Fuel (LPG)',\n",
       "       'Fuel (diesel)', 'Fuel (petrol-gasoline, 92 octane)',\n",
       "       'Fuel (petrol-gasoline, 95 octane)', 'Transport (public)',\n",
       "       'Vasodilating agents (imported)', 'Vasodilating agents (local)',\n",
       "       'Butter', 'Oil (sunflower)', 'Apples', 'Beetroots', 'Cabbage',\n",
       "       'Carrots', 'Onions', 'Bread (first grade flour)',\n",
       "       'Antibiotics (local)', 'Fat (salo)'], dtype=object)"
      ]
     },
     "execution_count": 13,
     "metadata": {},
     "output_type": "execute_result"
    }
   ],
   "source": [
    "food_p_ukr2[\"commodity\"].unique()"
   ]
  },
  {
   "cell_type": "code",
   "execution_count": 14,
   "id": "80e1210b-5b32-4167-b49c-a3a591e7df0f",
   "metadata": {},
   "outputs": [],
   "source": [
    "food_p_ukr3 = food_p_ukr2.loc[food_p_ukr2[\"commodity\"].isin(['Barley', 'Bread (high grade flour)', 'Bread (rye)',\n",
    "       'Bread (wheat)', 'Buckwheat', 'Millet', 'Pasta', \n",
    "       'Rice', 'Semolina', 'Wheat flour', 'Bread (first grade flour)']), :]"
   ]
  },
  {
   "cell_type": "code",
   "execution_count": 15,
   "id": "9db187b9-b056-4d3d-b3d2-09ec95c0cb46",
   "metadata": {},
   "outputs": [
    {
     "data": {
      "text/plain": [
       "(11606, 15)"
      ]
     },
     "execution_count": 15,
     "metadata": {},
     "output_type": "execute_result"
    }
   ],
   "source": [
    "food_p_ukr3.shape"
   ]
  },
  {
   "cell_type": "code",
   "execution_count": 16,
   "id": "8a28c87f-1f94-4e64-b2bc-8b0d63246274",
   "metadata": {},
   "outputs": [],
   "source": [
    "food_p_ukr3 = food_p_ukr3.copy()"
   ]
  },
  {
   "cell_type": "code",
   "execution_count": 17,
   "id": "cb267780-0a1f-4d83-b42f-de4f6b69ba12",
   "metadata": {},
   "outputs": [],
   "source": [
    "food_p_ukr3[\"month\"] =  pd.to_datetime(food_p_ukr3[\"date\"]).dt.month"
   ]
  },
  {
   "cell_type": "code",
   "execution_count": 18,
   "id": "175ad260-6768-4f27-bd64-34c3b649cc32",
   "metadata": {},
   "outputs": [
    {
     "data": {
      "text/plain": [
       "array([12,  1,  2,  3,  4,  5,  6,  7,  8,  9, 10, 11])"
      ]
     },
     "execution_count": 18,
     "metadata": {},
     "output_type": "execute_result"
    }
   ],
   "source": [
    "food_p_ukr3[\"month\"].unique()"
   ]
  },
  {
   "cell_type": "code",
   "execution_count": 36,
   "id": "b905984c-1bfa-4949-a0ec-ef004eff4c52",
   "metadata": {},
   "outputs": [],
   "source": [
    "# food_p_ukr3 = food_p_ukr3.loc[food_p_ukr3[\"month\"] == 4,:]"
   ]
  },
  {
   "cell_type": "code",
   "execution_count": 19,
   "id": "175dc39d-bb5d-421f-b049-4a8745dd74ed",
   "metadata": {},
   "outputs": [
    {
     "data": {
      "text/plain": [
       "array(['Cherkasy', 'Chernihiv', 'Chernivtsi', 'Dnipropetrovsk', 'Donetsk',\n",
       "       'Iv.-Frankivsk', 'Kharkiv', 'Kherson', 'Khmelnytskiy',\n",
       "       'Kirovohrad', 'Kyiv', 'Kyiv city', 'Luhansk', 'Lviv', 'Mykolayiv',\n",
       "       'Odesa', 'Poltava', 'Rivne', 'Sumy', 'Ternopyl', 'Vinnytsya',\n",
       "       'Volyn', 'Zakarpattya', 'Zaporizhzhya', 'Zhytomyr'], dtype=object)"
      ]
     },
     "execution_count": 19,
     "metadata": {},
     "output_type": "execute_result"
    }
   ],
   "source": [
    "food_p_ukr3[\"market\"].unique()"
   ]
  },
  {
   "cell_type": "code",
   "execution_count": 32,
   "id": "afe41640-f4c8-43ae-9c21-af8d663c3a42",
   "metadata": {},
   "outputs": [],
   "source": [
    "food_p_ukr4 = food_p_ukr3.loc[food_p_ukr3[\"market\"] =='Odesa', :]"
   ]
  },
  {
   "cell_type": "code",
   "execution_count": 38,
   "id": "3b71bd42-433f-465b-8b2b-192b9706cb8f",
   "metadata": {},
   "outputs": [
    {
     "data": {
      "text/html": [
       "<div>\n",
       "<style scoped>\n",
       "    .dataframe tbody tr th:only-of-type {\n",
       "        vertical-align: middle;\n",
       "    }\n",
       "\n",
       "    .dataframe tbody tr th {\n",
       "        vertical-align: top;\n",
       "    }\n",
       "\n",
       "    .dataframe thead th {\n",
       "        text-align: right;\n",
       "    }\n",
       "</style>\n",
       "<table border=\"1\" class=\"dataframe\">\n",
       "  <thead>\n",
       "    <tr style=\"text-align: right;\">\n",
       "      <th></th>\n",
       "      <th>date</th>\n",
       "      <th>admin1</th>\n",
       "      <th>admin2</th>\n",
       "      <th>market</th>\n",
       "      <th>latitude</th>\n",
       "      <th>longitude</th>\n",
       "      <th>category</th>\n",
       "      <th>commodity</th>\n",
       "      <th>unit</th>\n",
       "      <th>priceflag</th>\n",
       "      <th>pricetype</th>\n",
       "      <th>currency</th>\n",
       "      <th>price</th>\n",
       "      <th>usdprice</th>\n",
       "      <th>year</th>\n",
       "      <th>month</th>\n",
       "    </tr>\n",
       "  </thead>\n",
       "  <tbody>\n",
       "    <tr>\n",
       "      <th>27443</th>\n",
       "      <td>2018-12-15</td>\n",
       "      <td>Odeska</td>\n",
       "      <td>Odeska</td>\n",
       "      <td>Odesa</td>\n",
       "      <td>46.482526</td>\n",
       "      <td>30.7233095</td>\n",
       "      <td>cereals and tubers</td>\n",
       "      <td>Buckwheat</td>\n",
       "      <td>KG</td>\n",
       "      <td>actual</td>\n",
       "      <td>Retail</td>\n",
       "      <td>UAH</td>\n",
       "      <td>16.42</td>\n",
       "      <td>0.447</td>\n",
       "      <td>2018</td>\n",
       "      <td>12</td>\n",
       "    </tr>\n",
       "    <tr>\n",
       "      <th>28421</th>\n",
       "      <td>2019-01-15</td>\n",
       "      <td>Odeska</td>\n",
       "      <td>Odeska</td>\n",
       "      <td>Odesa</td>\n",
       "      <td>46.482526</td>\n",
       "      <td>30.7233095</td>\n",
       "      <td>cereals and tubers</td>\n",
       "      <td>Buckwheat</td>\n",
       "      <td>KG</td>\n",
       "      <td>actual</td>\n",
       "      <td>Retail</td>\n",
       "      <td>UAH</td>\n",
       "      <td>16.39</td>\n",
       "      <td>0.4462</td>\n",
       "      <td>2019</td>\n",
       "      <td>1</td>\n",
       "    </tr>\n",
       "    <tr>\n",
       "      <th>29378</th>\n",
       "      <td>2019-02-15</td>\n",
       "      <td>Odeska</td>\n",
       "      <td>Odeska</td>\n",
       "      <td>Odesa</td>\n",
       "      <td>46.482526</td>\n",
       "      <td>30.7233095</td>\n",
       "      <td>cereals and tubers</td>\n",
       "      <td>Buckwheat</td>\n",
       "      <td>KG</td>\n",
       "      <td>actual</td>\n",
       "      <td>Retail</td>\n",
       "      <td>UAH</td>\n",
       "      <td>16.83</td>\n",
       "      <td>0.4582</td>\n",
       "      <td>2019</td>\n",
       "      <td>2</td>\n",
       "    </tr>\n",
       "    <tr>\n",
       "      <th>30343</th>\n",
       "      <td>2019-03-15</td>\n",
       "      <td>Odeska</td>\n",
       "      <td>Odeska</td>\n",
       "      <td>Odesa</td>\n",
       "      <td>46.482526</td>\n",
       "      <td>30.7233095</td>\n",
       "      <td>cereals and tubers</td>\n",
       "      <td>Buckwheat</td>\n",
       "      <td>KG</td>\n",
       "      <td>actual</td>\n",
       "      <td>Retail</td>\n",
       "      <td>UAH</td>\n",
       "      <td>16.93</td>\n",
       "      <td>0.4609</td>\n",
       "      <td>2019</td>\n",
       "      <td>3</td>\n",
       "    </tr>\n",
       "    <tr>\n",
       "      <th>31310</th>\n",
       "      <td>2019-04-15</td>\n",
       "      <td>Odeska</td>\n",
       "      <td>Odeska</td>\n",
       "      <td>Odesa</td>\n",
       "      <td>46.482526</td>\n",
       "      <td>30.7233095</td>\n",
       "      <td>cereals and tubers</td>\n",
       "      <td>Buckwheat</td>\n",
       "      <td>KG</td>\n",
       "      <td>actual</td>\n",
       "      <td>Retail</td>\n",
       "      <td>UAH</td>\n",
       "      <td>16.79</td>\n",
       "      <td>0.4571</td>\n",
       "      <td>2019</td>\n",
       "      <td>4</td>\n",
       "    </tr>\n",
       "  </tbody>\n",
       "</table>\n",
       "</div>"
      ],
      "text/plain": [
       "             date  admin1  admin2 market   latitude   longitude  \\\n",
       "27443  2018-12-15  Odeska  Odeska  Odesa  46.482526  30.7233095   \n",
       "28421  2019-01-15  Odeska  Odeska  Odesa  46.482526  30.7233095   \n",
       "29378  2019-02-15  Odeska  Odeska  Odesa  46.482526  30.7233095   \n",
       "30343  2019-03-15  Odeska  Odeska  Odesa  46.482526  30.7233095   \n",
       "31310  2019-04-15  Odeska  Odeska  Odesa  46.482526  30.7233095   \n",
       "\n",
       "                 category  commodity unit priceflag pricetype currency  price  \\\n",
       "27443  cereals and tubers  Buckwheat   KG    actual    Retail      UAH  16.42   \n",
       "28421  cereals and tubers  Buckwheat   KG    actual    Retail      UAH  16.39   \n",
       "29378  cereals and tubers  Buckwheat   KG    actual    Retail      UAH  16.83   \n",
       "30343  cereals and tubers  Buckwheat   KG    actual    Retail      UAH  16.93   \n",
       "31310  cereals and tubers  Buckwheat   KG    actual    Retail      UAH  16.79   \n",
       "\n",
       "      usdprice  year  month  \n",
       "27443    0.447  2018     12  \n",
       "28421   0.4462  2019      1  \n",
       "29378   0.4582  2019      2  \n",
       "30343   0.4609  2019      3  \n",
       "31310   0.4571  2019      4  "
      ]
     },
     "execution_count": 38,
     "metadata": {},
     "output_type": "execute_result"
    }
   ],
   "source": [
    "food_p_ukr4.loc[food_p_ukr4[\"commodity\"] == \"Buckwheat\",:].head()"
   ]
  },
  {
   "cell_type": "code",
   "execution_count": 41,
   "id": "ca04e223-703d-48c7-865b-160e37c2e9bc",
   "metadata": {},
   "outputs": [],
   "source": [
    "import seaborn as sns\n",
    "dataforplot = food_p_ukr4.loc[food_p_ukr4[\"commodity\"] == 'Wheat flour',:].copy()\n",
    "dataforplot[\"price\"] = dataforplot[\"price\"].astype(float)"
   ]
  },
  {
   "cell_type": "code",
   "execution_count": 42,
   "id": "2feec97b-e4f9-4ceb-83d4-f10d8e8000c2",
   "metadata": {},
   "outputs": [
    {
     "data": {
      "text/plain": [
       "<AxesSubplot: xlabel='date', ylabel='price'>"
      ]
     },
     "execution_count": 42,
     "metadata": {},
     "output_type": "execute_result"
    },
    {
     "data": {
      "image/png": "[encoded data removed]",
      "text/plain": [
       "<Figure size 640x480 with 1 Axes>"
      ]
     },
     "metadata": {},
     "output_type": "display_data"
    }
   ],
   "source": [
    "sns.lineplot(data=dataforplot, x=\"date\", y=\"price\")"
   ]
  },
  {
   "cell_type": "code",
   "execution_count": null,
   "id": "b642627c-8edf-4a2e-832b-42ce7e806f03",
   "metadata": {},
   "outputs": [],
   "source": []
  }
 ],
 "metadata": {
  "kernelspec": {
   "display_name": "Python 3 (ipykernel)",
   "language": "python",
   "name": "python3"
  },
  "language_info": {
   "codemirror_mode": {
    "name": "ipython",
    "version": 3
   },
   "file_extension": ".py",
   "mimetype": "text/x-python",
   "name": "python",
   "nbconvert_exporter": "python",
   "pygments_lexer": "ipython3",
   "version": "3.10.4"
  }
 },
 "nbformat": 4,
 "nbformat_minor": 5
}
