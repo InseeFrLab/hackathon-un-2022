{
 "cells": [
  {
   "cell_type": "code",
   "execution_count": 1,
   "id": "8b5878bc-f027-4284-b2b8-36643422d58d",
   "metadata": {},
   "outputs": [],
   "source": [
    "# food prices in ukraine\n",
    "import pandas as pd\n",
    "import s3fs\n",
    "import os\n",
    "s3_url = \"https://\" + os.environ[\"AWS_S3_ENDPOINT\"]\n",
    "conn = s3fs.S3FileSystem(client_kwargs={'endpoint_url': s3_url})\n",
    "bucket = \"projet-hackathon-un-2022/drive/ Rise of food and energy prices/Food prices/\""
   ]
  },
  {
   "cell_type": "code",
   "execution_count": 2,
   "id": "fcda0c32-c079-47c8-9723-cfd2a007b1b4",
   "metadata": {},
   "outputs": [
    {
     "name": "stderr",
     "output_type": "stream",
     "text": [
      "/tmp/ipykernel_209/852208829.py:3: FutureWarning: The error_bad_lines argument has been deprecated and will be removed in a future version. Use on_bad_lines in the future.\n",
      "\n",
      "\n",
      "  food_p_ukr = pd.read_csv(file_in, error_bad_lines=False, sep=\",\")\n",
      "/tmp/ipykernel_209/852208829.py:3: DtypeWarning: Columns (4,5,12,13) have mixed types. Specify dtype option on import or set low_memory=False.\n",
      "  food_p_ukr = pd.read_csv(file_in, error_bad_lines=False, sep=\",\")\n"
     ]
    }
   ],
   "source": [
    "path2data = bucket + \"wfp_food_prices_ukr(1).csv\"\n",
    "with conn.open(path2data, mode=\"rb\") as file_in:\n",
    "    food_p_ukr = pd.read_csv(file_in, error_bad_lines=False, sep=\",\")"
   ]
  },
  {
   "cell_type": "code",
   "execution_count": 3,
   "id": "5911a303-4562-4884-8f4e-61c351daee71",
   "metadata": {},
   "outputs": [
    {
     "data": {
      "text/html": [
       "<div>\n",
       "<style scoped>\n",
       "    .dataframe tbody tr th:only-of-type {\n",
       "        vertical-align: middle;\n",
       "    }\n",
       "\n",
       "    .dataframe tbody tr th {\n",
       "        vertical-align: top;\n",
       "    }\n",
       "\n",
       "    .dataframe thead th {\n",
       "        text-align: right;\n",
       "    }\n",
       "</style>\n",
       "<table border=\"1\" class=\"dataframe\">\n",
       "  <thead>\n",
       "    <tr style=\"text-align: right;\">\n",
       "      <th></th>\n",
       "      <th>date</th>\n",
       "      <th>admin1</th>\n",
       "      <th>admin2</th>\n",
       "      <th>market</th>\n",
       "      <th>latitude</th>\n",
       "      <th>longitude</th>\n",
       "      <th>category</th>\n",
       "      <th>commodity</th>\n",
       "      <th>unit</th>\n",
       "      <th>priceflag</th>\n",
       "      <th>pricetype</th>\n",
       "      <th>currency</th>\n",
       "      <th>price</th>\n",
       "      <th>usdprice</th>\n",
       "    </tr>\n",
       "  </thead>\n",
       "  <tbody>\n",
       "    <tr>\n",
       "      <th>0</th>\n",
       "      <td>#date</td>\n",
       "      <td>#adm1+name</td>\n",
       "      <td>#adm2+name</td>\n",
       "      <td>#loc+market+name</td>\n",
       "      <td>#geo+lat</td>\n",
       "      <td>#geo+lon</td>\n",
       "      <td>#item+type</td>\n",
       "      <td>#item+name</td>\n",
       "      <td>#item+unit</td>\n",
       "      <td>#item+price+flag</td>\n",
       "      <td>#item+price+type</td>\n",
       "      <td>#currency</td>\n",
       "      <td>#value</td>\n",
       "      <td>#value+usd</td>\n",
       "    </tr>\n",
       "    <tr>\n",
       "      <th>1</th>\n",
       "      <td>2014-03-15</td>\n",
       "      <td>NaN</td>\n",
       "      <td>NaN</td>\n",
       "      <td>National Average</td>\n",
       "      <td>NaN</td>\n",
       "      <td>NaN</td>\n",
       "      <td>cereals and tubers</td>\n",
       "      <td>Bread (rye)</td>\n",
       "      <td>Loaf</td>\n",
       "      <td>actual</td>\n",
       "      <td>Retail</td>\n",
       "      <td>UAH</td>\n",
       "      <td>4.96</td>\n",
       "      <td>0.135</td>\n",
       "    </tr>\n",
       "    <tr>\n",
       "      <th>2</th>\n",
       "      <td>2014-03-15</td>\n",
       "      <td>NaN</td>\n",
       "      <td>NaN</td>\n",
       "      <td>National Average</td>\n",
       "      <td>NaN</td>\n",
       "      <td>NaN</td>\n",
       "      <td>cereals and tubers</td>\n",
       "      <td>Bread (wheat)</td>\n",
       "      <td>Loaf</td>\n",
       "      <td>actual</td>\n",
       "      <td>Retail</td>\n",
       "      <td>UAH</td>\n",
       "      <td>4.84</td>\n",
       "      <td>0.1318</td>\n",
       "    </tr>\n",
       "    <tr>\n",
       "      <th>3</th>\n",
       "      <td>2014-03-15</td>\n",
       "      <td>NaN</td>\n",
       "      <td>NaN</td>\n",
       "      <td>National Average</td>\n",
       "      <td>NaN</td>\n",
       "      <td>NaN</td>\n",
       "      <td>cereals and tubers</td>\n",
       "      <td>Buckwheat grits</td>\n",
       "      <td>KG</td>\n",
       "      <td>actual</td>\n",
       "      <td>Retail</td>\n",
       "      <td>UAH</td>\n",
       "      <td>7.44</td>\n",
       "      <td>0.2026</td>\n",
       "    </tr>\n",
       "    <tr>\n",
       "      <th>4</th>\n",
       "      <td>2014-03-15</td>\n",
       "      <td>NaN</td>\n",
       "      <td>NaN</td>\n",
       "      <td>National Average</td>\n",
       "      <td>NaN</td>\n",
       "      <td>NaN</td>\n",
       "      <td>cereals and tubers</td>\n",
       "      <td>Potatoes</td>\n",
       "      <td>KG</td>\n",
       "      <td>actual</td>\n",
       "      <td>Retail</td>\n",
       "      <td>UAH</td>\n",
       "      <td>6.74</td>\n",
       "      <td>0.1835</td>\n",
       "    </tr>\n",
       "  </tbody>\n",
       "</table>\n",
       "</div>"
      ],
      "text/plain": [
       "         date      admin1      admin2            market  latitude longitude  \\\n",
       "0       #date  #adm1+name  #adm2+name  #loc+market+name  #geo+lat  #geo+lon   \n",
       "1  2014-03-15         NaN         NaN  National Average       NaN       NaN   \n",
       "2  2014-03-15         NaN         NaN  National Average       NaN       NaN   \n",
       "3  2014-03-15         NaN         NaN  National Average       NaN       NaN   \n",
       "4  2014-03-15         NaN         NaN  National Average       NaN       NaN   \n",
       "\n",
       "             category        commodity        unit         priceflag  \\\n",
       "0          #item+type       #item+name  #item+unit  #item+price+flag   \n",
       "1  cereals and tubers      Bread (rye)        Loaf            actual   \n",
       "2  cereals and tubers    Bread (wheat)        Loaf            actual   \n",
       "3  cereals and tubers  Buckwheat grits          KG            actual   \n",
       "4  cereals and tubers         Potatoes          KG            actual   \n",
       "\n",
       "          pricetype   currency   price    usdprice  \n",
       "0  #item+price+type  #currency  #value  #value+usd  \n",
       "1            Retail        UAH    4.96       0.135  \n",
       "2            Retail        UAH    4.84      0.1318  \n",
       "3            Retail        UAH    7.44      0.2026  \n",
       "4            Retail        UAH    6.74      0.1835  "
      ]
     },
     "execution_count": 3,
     "metadata": {},
     "output_type": "execute_result"
    }
   ],
   "source": [
    "food_p_ukr.head()"
   ]
  },
  {
   "cell_type": "code",
   "execution_count": 4,
   "id": "e5b63fc9-8d4c-4812-b0f4-dcd9be3a7469",
   "metadata": {},
   "outputs": [],
   "source": [
    "food_p_ukr = food_p_ukr.iloc[1:,:]"
   ]
  },
  {
   "cell_type": "code",
   "execution_count": 5,
   "id": "f6d85ee6-19b7-4b0d-b490-67f1319b8ac0",
   "metadata": {},
   "outputs": [
    {
     "data": {
      "text/plain": [
       "1    2014-03-15\n",
       "2    2014-03-15\n",
       "3    2014-03-15\n",
       "4    2014-03-15\n",
       "5    2014-03-15\n",
       "Name: date, dtype: object"
      ]
     },
     "execution_count": 5,
     "metadata": {},
     "output_type": "execute_result"
    }
   ],
   "source": [
    "food_p_ukr[\"date\"].head()"
   ]
  },
  {
   "cell_type": "code",
   "execution_count": 6,
   "id": "6ba4a7b6-3549-4b80-bb11-83f7a455ec90",
   "metadata": {},
   "outputs": [],
   "source": [
    "food_p_ukr[\"year\"] = pd.to_datetime(food_p_ukr.loc[:,\"date\"])"
   ]
  },
  {
   "cell_type": "code",
   "execution_count": 7,
   "id": "78847058-bc57-40c2-887c-4a6e00047b35",
   "metadata": {},
   "outputs": [],
   "source": [
    "food_p_ukr[\"year\"] = food_p_ukr[\"year\"].dt.year"
   ]
  },
  {
   "cell_type": "code",
   "execution_count": 8,
   "id": "604c5f12-cd07-4894-94f9-417e10b2a1f0",
   "metadata": {},
   "outputs": [
    {
     "data": {
      "text/plain": [
       "array([2014, 2015, 2016, 2017, 2018, 2019, 2020, 2021, 2022])"
      ]
     },
     "execution_count": 8,
     "metadata": {},
     "output_type": "execute_result"
    }
   ],
   "source": [
    "food_p_ukr[\"year\"].unique()"
   ]
  },
  {
   "cell_type": "code",
   "execution_count": 9,
   "id": "054c6aeb-6e81-4235-88f2-493a1e2e15d1",
   "metadata": {},
   "outputs": [],
   "source": [
    "food_p_ukr2 = food_p_ukr.loc[food_p_ukr[\"year\"].isin([2018, 2019, 2020, 2021, 2022]),:]"
   ]
  },
  {
   "cell_type": "code",
   "execution_count": 10,
   "id": "0383b807-e33e-4500-8fca-d17708249e2b",
   "metadata": {},
   "outputs": [
    {
     "data": {
      "text/html": [
       "<div>\n",
       "<style scoped>\n",
       "    .dataframe tbody tr th:only-of-type {\n",
       "        vertical-align: middle;\n",
       "    }\n",
       "\n",
       "    .dataframe tbody tr th {\n",
       "        vertical-align: top;\n",
       "    }\n",
       "\n",
       "    .dataframe thead th {\n",
       "        text-align: right;\n",
       "    }\n",
       "</style>\n",
       "<table border=\"1\" class=\"dataframe\">\n",
       "  <thead>\n",
       "    <tr style=\"text-align: right;\">\n",
       "      <th></th>\n",
       "      <th>date</th>\n",
       "      <th>admin1</th>\n",
       "      <th>admin2</th>\n",
       "      <th>market</th>\n",
       "      <th>latitude</th>\n",
       "      <th>longitude</th>\n",
       "      <th>category</th>\n",
       "      <th>commodity</th>\n",
       "      <th>unit</th>\n",
       "      <th>priceflag</th>\n",
       "      <th>pricetype</th>\n",
       "      <th>currency</th>\n",
       "      <th>price</th>\n",
       "      <th>usdprice</th>\n",
       "      <th>year</th>\n",
       "    </tr>\n",
       "  </thead>\n",
       "  <tbody>\n",
       "    <tr>\n",
       "      <th>26856</th>\n",
       "      <td>2018-12-15</td>\n",
       "      <td>Cherkaska</td>\n",
       "      <td>Cherkaska</td>\n",
       "      <td>Cherkasy</td>\n",
       "      <td>49.444433</td>\n",
       "      <td>32.0597669999999</td>\n",
       "      <td>cereals and tubers</td>\n",
       "      <td>Barley</td>\n",
       "      <td>KG</td>\n",
       "      <td>actual</td>\n",
       "      <td>Retail</td>\n",
       "      <td>UAH</td>\n",
       "      <td>11.18</td>\n",
       "      <td>0.3044</td>\n",
       "      <td>2018</td>\n",
       "    </tr>\n",
       "    <tr>\n",
       "      <th>26857</th>\n",
       "      <td>2018-12-15</td>\n",
       "      <td>Cherkaska</td>\n",
       "      <td>Cherkaska</td>\n",
       "      <td>Cherkasy</td>\n",
       "      <td>49.444433</td>\n",
       "      <td>32.0597669999999</td>\n",
       "      <td>cereals and tubers</td>\n",
       "      <td>Bread (high grade flour)</td>\n",
       "      <td>KG</td>\n",
       "      <td>actual</td>\n",
       "      <td>Retail</td>\n",
       "      <td>UAH</td>\n",
       "      <td>21.84</td>\n",
       "      <td>0.5946</td>\n",
       "      <td>2018</td>\n",
       "    </tr>\n",
       "    <tr>\n",
       "      <th>26858</th>\n",
       "      <td>2018-12-15</td>\n",
       "      <td>Cherkaska</td>\n",
       "      <td>Cherkaska</td>\n",
       "      <td>Cherkasy</td>\n",
       "      <td>49.444433</td>\n",
       "      <td>32.0597669999999</td>\n",
       "      <td>cereals and tubers</td>\n",
       "      <td>Bread (rye)</td>\n",
       "      <td>KG</td>\n",
       "      <td>actual</td>\n",
       "      <td>Retail</td>\n",
       "      <td>UAH</td>\n",
       "      <td>19.35</td>\n",
       "      <td>0.5268</td>\n",
       "      <td>2018</td>\n",
       "    </tr>\n",
       "    <tr>\n",
       "      <th>26859</th>\n",
       "      <td>2018-12-15</td>\n",
       "      <td>Cherkaska</td>\n",
       "      <td>Cherkaska</td>\n",
       "      <td>Cherkasy</td>\n",
       "      <td>49.444433</td>\n",
       "      <td>32.0597669999999</td>\n",
       "      <td>cereals and tubers</td>\n",
       "      <td>Bread (wheat)</td>\n",
       "      <td>500 G</td>\n",
       "      <td>actual</td>\n",
       "      <td>Retail</td>\n",
       "      <td>UAH</td>\n",
       "      <td>11.71</td>\n",
       "      <td>0.3188</td>\n",
       "      <td>2018</td>\n",
       "    </tr>\n",
       "    <tr>\n",
       "      <th>26860</th>\n",
       "      <td>2018-12-15</td>\n",
       "      <td>Cherkaska</td>\n",
       "      <td>Cherkaska</td>\n",
       "      <td>Cherkasy</td>\n",
       "      <td>49.444433</td>\n",
       "      <td>32.0597669999999</td>\n",
       "      <td>cereals and tubers</td>\n",
       "      <td>Buckwheat</td>\n",
       "      <td>KG</td>\n",
       "      <td>actual</td>\n",
       "      <td>Retail</td>\n",
       "      <td>UAH</td>\n",
       "      <td>15.97</td>\n",
       "      <td>0.4348</td>\n",
       "      <td>2018</td>\n",
       "    </tr>\n",
       "  </tbody>\n",
       "</table>\n",
       "</div>"
      ],
      "text/plain": [
       "             date     admin1     admin2    market   latitude  \\\n",
       "26856  2018-12-15  Cherkaska  Cherkaska  Cherkasy  49.444433   \n",
       "26857  2018-12-15  Cherkaska  Cherkaska  Cherkasy  49.444433   \n",
       "26858  2018-12-15  Cherkaska  Cherkaska  Cherkasy  49.444433   \n",
       "26859  2018-12-15  Cherkaska  Cherkaska  Cherkasy  49.444433   \n",
       "26860  2018-12-15  Cherkaska  Cherkaska  Cherkasy  49.444433   \n",
       "\n",
       "              longitude            category                 commodity   unit  \\\n",
       "26856  32.0597669999999  cereals and tubers                    Barley     KG   \n",
       "26857  32.0597669999999  cereals and tubers  Bread (high grade flour)     KG   \n",
       "26858  32.0597669999999  cereals and tubers               Bread (rye)     KG   \n",
       "26859  32.0597669999999  cereals and tubers             Bread (wheat)  500 G   \n",
       "26860  32.0597669999999  cereals and tubers                 Buckwheat     KG   \n",
       "\n",
       "      priceflag pricetype currency  price usdprice  year  \n",
       "26856    actual    Retail      UAH  11.18   0.3044  2018  \n",
       "26857    actual    Retail      UAH  21.84   0.5946  2018  \n",
       "26858    actual    Retail      UAH  19.35   0.5268  2018  \n",
       "26859    actual    Retail      UAH  11.71   0.3188  2018  \n",
       "26860    actual    Retail      UAH  15.97   0.4348  2018  "
      ]
     },
     "execution_count": 10,
     "metadata": {},
     "output_type": "execute_result"
    }
   ],
   "source": [
    "food_p_ukr2.head()"
   ]
  },
  {
   "cell_type": "code",
   "execution_count": 11,
   "id": "2b7e7ab5-bd0e-4037-9a43-8bdc135b06cc",
   "metadata": {},
   "outputs": [
    {
     "data": {
      "text/plain": [
       "array(['Barley', 'Bread (high grade flour)', 'Bread (rye)',\n",
       "       'Bread (wheat)', 'Buckwheat', 'Millet', 'Pasta', 'Potatoes',\n",
       "       'Rice', 'Semolina', 'Wheat flour', 'Eggs', 'Fish (frozen)',\n",
       "       'Meat (beef)', 'Meat (chicken, fillet)', 'Meat (chicken, whole)',\n",
       "       'Meat (mixed, sausage)', 'Meat (pork)', 'Curd', 'Milk',\n",
       "       'Sour cream', 'Sugar', 'Antibiotics (imported)',\n",
       "       'Antipyretic (imported)', 'Antipyretic (local)', 'Fuel (LPG)',\n",
       "       'Fuel (diesel)', 'Fuel (petrol-gasoline, 92 octane)',\n",
       "       'Fuel (petrol-gasoline, 95 octane)', 'Transport (public)',\n",
       "       'Vasodilating agents (imported)', 'Vasodilating agents (local)',\n",
       "       'Butter', 'Oil (sunflower)', 'Apples', 'Beetroots', 'Cabbage',\n",
       "       'Carrots', 'Onions', 'Bread (first grade flour)',\n",
       "       'Antibiotics (local)', 'Fat (salo)'], dtype=object)"
      ]
     },
     "execution_count": 11,
     "metadata": {},
     "output_type": "execute_result"
    }
   ],
   "source": [
    "food_p_ukr2[\"commodity\"].unique()"
   ]
  },
  {
   "cell_type": "code",
   "execution_count": 12,
   "id": "80e1210b-5b32-4167-b49c-a3a591e7df0f",
   "metadata": {},
   "outputs": [],
   "source": [
    "food_p_ukr3 = food_p_ukr2.loc[food_p_ukr2[\"commodity\"].isin(['Barley', 'Bread (high grade flour)', 'Bread (rye)',\n",
    "       'Bread (wheat)', 'Buckwheat', 'Millet', 'Pasta', \n",
    "       'Rice', 'Semolina', 'Wheat flour', 'Bread (first grade flour)']), :]"
   ]
  },
  {
   "cell_type": "code",
   "execution_count": 13,
   "id": "9db187b9-b056-4d3d-b3d2-09ec95c0cb46",
   "metadata": {},
   "outputs": [
    {
     "data": {
      "text/plain": [
       "(11606, 15)"
      ]
     },
     "execution_count": 13,
     "metadata": {},
     "output_type": "execute_result"
    }
   ],
   "source": [
    "food_p_ukr3.shape"
   ]
  },
  {
   "cell_type": "code",
   "execution_count": 14,
   "id": "8a28c87f-1f94-4e64-b2bc-8b0d63246274",
   "metadata": {},
   "outputs": [],
   "source": [
    "food_p_ukr3 = food_p_ukr3.copy()"
   ]
  },
  {
   "cell_type": "code",
   "execution_count": 15,
   "id": "cb267780-0a1f-4d83-b42f-de4f6b69ba12",
   "metadata": {},
   "outputs": [],
   "source": [
    "food_p_ukr3[\"month\"] =  pd.to_datetime(food_p_ukr3[\"date\"]).dt.month"
   ]
  },
  {
   "cell_type": "code",
   "execution_count": 18,
   "id": "175ad260-6768-4f27-bd64-34c3b649cc32",
   "metadata": {},
   "outputs": [
    {
     "data": {
      "text/plain": [
       "array([12,  1,  2,  3,  4,  5,  6,  7,  8,  9, 10, 11])"
      ]
     },
     "execution_count": 18,
     "metadata": {},
     "output_type": "execute_result"
    }
   ],
   "source": [
    "food_p_ukr3[\"month\"].unique()"
   ]
  },
  {
   "cell_type": "code",
   "execution_count": 36,
   "id": "b905984c-1bfa-4949-a0ec-ef004eff4c52",
   "metadata": {},
   "outputs": [],
   "source": [
    "# food_p_ukr3 = food_p_ukr3.loc[food_p_ukr3[\"month\"] == 4,:]"
   ]
  },
  {
   "cell_type": "code",
   "execution_count": 16,
   "id": "175dc39d-bb5d-421f-b049-4a8745dd74ed",
   "metadata": {},
   "outputs": [
    {
     "data": {
      "text/plain": [
       "array(['Cherkasy', 'Chernihiv', 'Chernivtsi', 'Dnipropetrovsk', 'Donetsk',\n",
       "       'Iv.-Frankivsk', 'Kharkiv', 'Kherson', 'Khmelnytskiy',\n",
       "       'Kirovohrad', 'Kyiv', 'Kyiv city', 'Luhansk', 'Lviv', 'Mykolayiv',\n",
       "       'Odesa', 'Poltava', 'Rivne', 'Sumy', 'Ternopyl', 'Vinnytsya',\n",
       "       'Volyn', 'Zakarpattya', 'Zaporizhzhya', 'Zhytomyr'], dtype=object)"
      ]
     },
     "execution_count": 16,
     "metadata": {},
     "output_type": "execute_result"
    }
   ],
   "source": [
    "food_p_ukr3[\"market\"].unique()"
   ]
  },
  {
   "cell_type": "code",
   "execution_count": 17,
   "id": "afe41640-f4c8-43ae-9c21-af8d663c3a42",
   "metadata": {},
   "outputs": [],
   "source": [
    "food_p_ukr4 = food_p_ukr3.loc[food_p_ukr3[\"market\"] =='Odesa', :]"
   ]
  },
  {
   "cell_type": "code",
   "execution_count": 19,
   "id": "c1afe169-5faa-4ffc-ab2c-66c527417c32",
   "metadata": {},
   "outputs": [
    {
     "data": {
      "text/plain": [
       "(474, 16)"
      ]
     },
     "execution_count": 19,
     "metadata": {},
     "output_type": "execute_result"
    }
   ],
   "source": [
    "food_p_ukr4.shape"
   ]
  },
  {
   "cell_type": "code",
   "execution_count": 20,
   "id": "868e606c-8946-4e99-82d7-452552529b6c",
   "metadata": {},
   "outputs": [],
   "source": [
    "food_p_ukr4 = food_p_ukr4.loc[:, [\"date\", \"category\", \"commodity\", \"currency\", \"price\", \"usdprice\", \"year\", \"month\"]]"
   ]
  },
  {
   "cell_type": "code",
   "execution_count": 21,
   "id": "3b71bd42-433f-465b-8b2b-192b9706cb8f",
   "metadata": {},
   "outputs": [
    {
     "data": {
      "text/html": [
       "<div>\n",
       "<style scoped>\n",
       "    .dataframe tbody tr th:only-of-type {\n",
       "        vertical-align: middle;\n",
       "    }\n",
       "\n",
       "    .dataframe tbody tr th {\n",
       "        vertical-align: top;\n",
       "    }\n",
       "\n",
       "    .dataframe thead th {\n",
       "        text-align: right;\n",
       "    }\n",
       "</style>\n",
       "<table border=\"1\" class=\"dataframe\">\n",
       "  <thead>\n",
       "    <tr style=\"text-align: right;\">\n",
       "      <th></th>\n",
       "      <th>date</th>\n",
       "      <th>category</th>\n",
       "      <th>commodity</th>\n",
       "      <th>currency</th>\n",
       "      <th>price</th>\n",
       "      <th>usdprice</th>\n",
       "      <th>year</th>\n",
       "      <th>month</th>\n",
       "    </tr>\n",
       "  </thead>\n",
       "  <tbody>\n",
       "    <tr>\n",
       "      <th>27443</th>\n",
       "      <td>2018-12-15</td>\n",
       "      <td>cereals and tubers</td>\n",
       "      <td>Buckwheat</td>\n",
       "      <td>UAH</td>\n",
       "      <td>16.42</td>\n",
       "      <td>0.447</td>\n",
       "      <td>2018</td>\n",
       "      <td>12</td>\n",
       "    </tr>\n",
       "    <tr>\n",
       "      <th>28421</th>\n",
       "      <td>2019-01-15</td>\n",
       "      <td>cereals and tubers</td>\n",
       "      <td>Buckwheat</td>\n",
       "      <td>UAH</td>\n",
       "      <td>16.39</td>\n",
       "      <td>0.4462</td>\n",
       "      <td>2019</td>\n",
       "      <td>1</td>\n",
       "    </tr>\n",
       "    <tr>\n",
       "      <th>29378</th>\n",
       "      <td>2019-02-15</td>\n",
       "      <td>cereals and tubers</td>\n",
       "      <td>Buckwheat</td>\n",
       "      <td>UAH</td>\n",
       "      <td>16.83</td>\n",
       "      <td>0.4582</td>\n",
       "      <td>2019</td>\n",
       "      <td>2</td>\n",
       "    </tr>\n",
       "    <tr>\n",
       "      <th>30343</th>\n",
       "      <td>2019-03-15</td>\n",
       "      <td>cereals and tubers</td>\n",
       "      <td>Buckwheat</td>\n",
       "      <td>UAH</td>\n",
       "      <td>16.93</td>\n",
       "      <td>0.4609</td>\n",
       "      <td>2019</td>\n",
       "      <td>3</td>\n",
       "    </tr>\n",
       "    <tr>\n",
       "      <th>31310</th>\n",
       "      <td>2019-04-15</td>\n",
       "      <td>cereals and tubers</td>\n",
       "      <td>Buckwheat</td>\n",
       "      <td>UAH</td>\n",
       "      <td>16.79</td>\n",
       "      <td>0.4571</td>\n",
       "      <td>2019</td>\n",
       "      <td>4</td>\n",
       "    </tr>\n",
       "  </tbody>\n",
       "</table>\n",
       "</div>"
      ],
      "text/plain": [
       "             date            category  commodity currency  price usdprice  \\\n",
       "27443  2018-12-15  cereals and tubers  Buckwheat      UAH  16.42    0.447   \n",
       "28421  2019-01-15  cereals and tubers  Buckwheat      UAH  16.39   0.4462   \n",
       "29378  2019-02-15  cereals and tubers  Buckwheat      UAH  16.83   0.4582   \n",
       "30343  2019-03-15  cereals and tubers  Buckwheat      UAH  16.93   0.4609   \n",
       "31310  2019-04-15  cereals and tubers  Buckwheat      UAH  16.79   0.4571   \n",
       "\n",
       "       year  month  \n",
       "27443  2018     12  \n",
       "28421  2019      1  \n",
       "29378  2019      2  \n",
       "30343  2019      3  \n",
       "31310  2019      4  "
      ]
     },
     "execution_count": 21,
     "metadata": {},
     "output_type": "execute_result"
    }
   ],
   "source": [
    "food_p_ukr4.loc[food_p_ukr4[\"commodity\"] == \"Buckwheat\",:].head()"
   ]
  },
  {
   "cell_type": "code",
   "execution_count": 23,
   "id": "cb857611-38de-4a0b-9e7f-62401981a565",
   "metadata": {},
   "outputs": [],
   "source": [
    "import os\n",
    "os.getcwd()\n",
    "os.chdir(\"..\")"
   ]
  },
  {
   "cell_type": "code",
   "execution_count": 26,
   "id": "722868a4-3e52-40b8-be7a-db9d54d0739f",
   "metadata": {},
   "outputs": [],
   "source": [
    "from importlib import reload\n",
    "export = reload(export)"
   ]
  },
  {
   "cell_type": "code",
   "execution_count": 27,
   "id": "ea64203e-8b1a-41fa-994e-af28bc2415cc",
   "metadata": {},
   "outputs": [],
   "source": [
    "import utils.export as export\n",
    "export.export2minio(\"cereal_prices_ukraine.csv\", food_p_ukr4, \"projet-hackathon-un-2022/open-data/FAO/\")"
   ]
  },
  {
   "cell_type": "code",
   "execution_count": 29,
   "id": "ca04e223-703d-48c7-865b-160e37c2e9bc",
   "metadata": {},
   "outputs": [],
   "source": [
    "import seaborn as sns\n",
    "dataforplot = food_p_ukr4.loc[food_p_ukr4[\"commodity\"] == 'Wheat flour',:].copy()\n",
    "dataforplot[\"price\"] = dataforplot[\"price\"].astype(float)"
   ]
  },
  {
   "cell_type": "code",
   "execution_count": 41,
   "id": "dd0a610c-18b5-4b41-9b18-42c2bfac4fec",
   "metadata": {},
   "outputs": [],
   "source": [
    "dataforplot.to_csv(\"test.csv\")"
   ]
  },
  {
   "cell_type": "code",
   "execution_count": 31,
   "id": "de4e136c-218d-460c-8556-ae44ff8014be",
   "metadata": {},
   "outputs": [
    {
     "data": {
      "text/html": [
       "<div>\n",
       "<style scoped>\n",
       "    .dataframe tbody tr th:only-of-type {\n",
       "        vertical-align: middle;\n",
       "    }\n",
       "\n",
       "    .dataframe tbody tr th {\n",
       "        vertical-align: top;\n",
       "    }\n",
       "\n",
       "    .dataframe thead th {\n",
       "        text-align: right;\n",
       "    }\n",
       "</style>\n",
       "<table border=\"1\" class=\"dataframe\">\n",
       "  <thead>\n",
       "    <tr style=\"text-align: right;\">\n",
       "      <th></th>\n",
       "      <th>date</th>\n",
       "      <th>category</th>\n",
       "      <th>commodity</th>\n",
       "      <th>currency</th>\n",
       "      <th>price</th>\n",
       "      <th>usdprice</th>\n",
       "      <th>year</th>\n",
       "      <th>month</th>\n",
       "    </tr>\n",
       "  </thead>\n",
       "  <tbody>\n",
       "    <tr>\n",
       "      <th>27449</th>\n",
       "      <td>2018-12-15</td>\n",
       "      <td>cereals and tubers</td>\n",
       "      <td>Wheat flour</td>\n",
       "      <td>UAH</td>\n",
       "      <td>11.44</td>\n",
       "      <td>0.3114</td>\n",
       "      <td>2018</td>\n",
       "      <td>12</td>\n",
       "    </tr>\n",
       "    <tr>\n",
       "      <th>28427</th>\n",
       "      <td>2019-01-15</td>\n",
       "      <td>cereals and tubers</td>\n",
       "      <td>Wheat flour</td>\n",
       "      <td>UAH</td>\n",
       "      <td>11.19</td>\n",
       "      <td>0.3046</td>\n",
       "      <td>2019</td>\n",
       "      <td>1</td>\n",
       "    </tr>\n",
       "    <tr>\n",
       "      <th>29384</th>\n",
       "      <td>2019-02-15</td>\n",
       "      <td>cereals and tubers</td>\n",
       "      <td>Wheat flour</td>\n",
       "      <td>UAH</td>\n",
       "      <td>11.15</td>\n",
       "      <td>0.3035</td>\n",
       "      <td>2019</td>\n",
       "      <td>2</td>\n",
       "    </tr>\n",
       "    <tr>\n",
       "      <th>30349</th>\n",
       "      <td>2019-03-15</td>\n",
       "      <td>cereals and tubers</td>\n",
       "      <td>Wheat flour</td>\n",
       "      <td>UAH</td>\n",
       "      <td>11.36</td>\n",
       "      <td>0.3093</td>\n",
       "      <td>2019</td>\n",
       "      <td>3</td>\n",
       "    </tr>\n",
       "    <tr>\n",
       "      <th>31316</th>\n",
       "      <td>2019-04-15</td>\n",
       "      <td>cereals and tubers</td>\n",
       "      <td>Wheat flour</td>\n",
       "      <td>UAH</td>\n",
       "      <td>11.43</td>\n",
       "      <td>0.3112</td>\n",
       "      <td>2019</td>\n",
       "      <td>4</td>\n",
       "    </tr>\n",
       "    <tr>\n",
       "      <th>32273</th>\n",
       "      <td>2019-05-15</td>\n",
       "      <td>cereals and tubers</td>\n",
       "      <td>Wheat flour</td>\n",
       "      <td>UAH</td>\n",
       "      <td>11.49</td>\n",
       "      <td>0.3128</td>\n",
       "      <td>2019</td>\n",
       "      <td>5</td>\n",
       "    </tr>\n",
       "    <tr>\n",
       "      <th>33229</th>\n",
       "      <td>2019-06-15</td>\n",
       "      <td>cereals and tubers</td>\n",
       "      <td>Wheat flour</td>\n",
       "      <td>UAH</td>\n",
       "      <td>11.51</td>\n",
       "      <td>0.3133</td>\n",
       "      <td>2019</td>\n",
       "      <td>6</td>\n",
       "    </tr>\n",
       "    <tr>\n",
       "      <th>34195</th>\n",
       "      <td>2019-07-15</td>\n",
       "      <td>cereals and tubers</td>\n",
       "      <td>Wheat flour</td>\n",
       "      <td>UAH</td>\n",
       "      <td>11.53</td>\n",
       "      <td>0.3139</td>\n",
       "      <td>2019</td>\n",
       "      <td>7</td>\n",
       "    </tr>\n",
       "    <tr>\n",
       "      <th>35176</th>\n",
       "      <td>2019-08-15</td>\n",
       "      <td>cereals and tubers</td>\n",
       "      <td>Wheat flour</td>\n",
       "      <td>UAH</td>\n",
       "      <td>11.46</td>\n",
       "      <td>0.312</td>\n",
       "      <td>2019</td>\n",
       "      <td>8</td>\n",
       "    </tr>\n",
       "    <tr>\n",
       "      <th>36148</th>\n",
       "      <td>2019-09-15</td>\n",
       "      <td>cereals and tubers</td>\n",
       "      <td>Wheat flour</td>\n",
       "      <td>UAH</td>\n",
       "      <td>11.14</td>\n",
       "      <td>0.3033</td>\n",
       "      <td>2019</td>\n",
       "      <td>9</td>\n",
       "    </tr>\n",
       "    <tr>\n",
       "      <th>37125</th>\n",
       "      <td>2019-10-15</td>\n",
       "      <td>cereals and tubers</td>\n",
       "      <td>Wheat flour</td>\n",
       "      <td>UAH</td>\n",
       "      <td>11.18</td>\n",
       "      <td>0.3044</td>\n",
       "      <td>2019</td>\n",
       "      <td>10</td>\n",
       "    </tr>\n",
       "    <tr>\n",
       "      <th>38093</th>\n",
       "      <td>2019-11-15</td>\n",
       "      <td>cereals and tubers</td>\n",
       "      <td>Wheat flour</td>\n",
       "      <td>UAH</td>\n",
       "      <td>10.80</td>\n",
       "      <td>0.294</td>\n",
       "      <td>2019</td>\n",
       "      <td>11</td>\n",
       "    </tr>\n",
       "    <tr>\n",
       "      <th>39064</th>\n",
       "      <td>2019-12-15</td>\n",
       "      <td>cereals and tubers</td>\n",
       "      <td>Wheat flour</td>\n",
       "      <td>UAH</td>\n",
       "      <td>10.72</td>\n",
       "      <td>0.2918</td>\n",
       "      <td>2019</td>\n",
       "      <td>12</td>\n",
       "    </tr>\n",
       "    <tr>\n",
       "      <th>40026</th>\n",
       "      <td>2020-01-15</td>\n",
       "      <td>cereals and tubers</td>\n",
       "      <td>Wheat flour</td>\n",
       "      <td>UAH</td>\n",
       "      <td>10.40</td>\n",
       "      <td>0.2831</td>\n",
       "      <td>2020</td>\n",
       "      <td>1</td>\n",
       "    </tr>\n",
       "    <tr>\n",
       "      <th>40995</th>\n",
       "      <td>2020-02-15</td>\n",
       "      <td>cereals and tubers</td>\n",
       "      <td>Wheat flour</td>\n",
       "      <td>UAH</td>\n",
       "      <td>10.42</td>\n",
       "      <td>0.2837</td>\n",
       "      <td>2020</td>\n",
       "      <td>2</td>\n",
       "    </tr>\n",
       "    <tr>\n",
       "      <th>41972</th>\n",
       "      <td>2020-03-15</td>\n",
       "      <td>cereals and tubers</td>\n",
       "      <td>Wheat flour</td>\n",
       "      <td>UAH</td>\n",
       "      <td>10.47</td>\n",
       "      <td>0.285</td>\n",
       "      <td>2020</td>\n",
       "      <td>3</td>\n",
       "    </tr>\n",
       "    <tr>\n",
       "      <th>42951</th>\n",
       "      <td>2020-04-15</td>\n",
       "      <td>cereals and tubers</td>\n",
       "      <td>Wheat flour</td>\n",
       "      <td>UAH</td>\n",
       "      <td>10.49</td>\n",
       "      <td>0.2856</td>\n",
       "      <td>2020</td>\n",
       "      <td>4</td>\n",
       "    </tr>\n",
       "    <tr>\n",
       "      <th>43919</th>\n",
       "      <td>2020-05-15</td>\n",
       "      <td>cereals and tubers</td>\n",
       "      <td>Wheat flour</td>\n",
       "      <td>UAH</td>\n",
       "      <td>10.90</td>\n",
       "      <td>0.2967</td>\n",
       "      <td>2020</td>\n",
       "      <td>5</td>\n",
       "    </tr>\n",
       "    <tr>\n",
       "      <th>44890</th>\n",
       "      <td>2020-06-15</td>\n",
       "      <td>cereals and tubers</td>\n",
       "      <td>Wheat flour</td>\n",
       "      <td>UAH</td>\n",
       "      <td>11.15</td>\n",
       "      <td>0.3035</td>\n",
       "      <td>2020</td>\n",
       "      <td>6</td>\n",
       "    </tr>\n",
       "    <tr>\n",
       "      <th>45869</th>\n",
       "      <td>2020-07-15</td>\n",
       "      <td>cereals and tubers</td>\n",
       "      <td>Wheat flour</td>\n",
       "      <td>UAH</td>\n",
       "      <td>11.17</td>\n",
       "      <td>0.3041</td>\n",
       "      <td>2020</td>\n",
       "      <td>7</td>\n",
       "    </tr>\n",
       "    <tr>\n",
       "      <th>46862</th>\n",
       "      <td>2020-08-15</td>\n",
       "      <td>cereals and tubers</td>\n",
       "      <td>Wheat flour</td>\n",
       "      <td>UAH</td>\n",
       "      <td>11.26</td>\n",
       "      <td>0.3065</td>\n",
       "      <td>2020</td>\n",
       "      <td>8</td>\n",
       "    </tr>\n",
       "    <tr>\n",
       "      <th>47821</th>\n",
       "      <td>2020-09-15</td>\n",
       "      <td>cereals and tubers</td>\n",
       "      <td>Wheat flour</td>\n",
       "      <td>UAH</td>\n",
       "      <td>11.17</td>\n",
       "      <td>0.3041</td>\n",
       "      <td>2020</td>\n",
       "      <td>9</td>\n",
       "    </tr>\n",
       "    <tr>\n",
       "      <th>48784</th>\n",
       "      <td>2020-10-15</td>\n",
       "      <td>cereals and tubers</td>\n",
       "      <td>Wheat flour</td>\n",
       "      <td>UAH</td>\n",
       "      <td>11.44</td>\n",
       "      <td>0.3114</td>\n",
       "      <td>2020</td>\n",
       "      <td>10</td>\n",
       "    </tr>\n",
       "    <tr>\n",
       "      <th>49748</th>\n",
       "      <td>2020-11-15</td>\n",
       "      <td>cereals and tubers</td>\n",
       "      <td>Wheat flour</td>\n",
       "      <td>UAH</td>\n",
       "      <td>11.67</td>\n",
       "      <td>0.3177</td>\n",
       "      <td>2020</td>\n",
       "      <td>11</td>\n",
       "    </tr>\n",
       "    <tr>\n",
       "      <th>50720</th>\n",
       "      <td>2020-12-15</td>\n",
       "      <td>cereals and tubers</td>\n",
       "      <td>Wheat flour</td>\n",
       "      <td>UAH</td>\n",
       "      <td>11.75</td>\n",
       "      <td>0.3199</td>\n",
       "      <td>2020</td>\n",
       "      <td>12</td>\n",
       "    </tr>\n",
       "    <tr>\n",
       "      <th>51703</th>\n",
       "      <td>2021-01-15</td>\n",
       "      <td>cereals and tubers</td>\n",
       "      <td>Wheat flour</td>\n",
       "      <td>UAH</td>\n",
       "      <td>11.98</td>\n",
       "      <td>0.3261</td>\n",
       "      <td>2021</td>\n",
       "      <td>1</td>\n",
       "    </tr>\n",
       "    <tr>\n",
       "      <th>52665</th>\n",
       "      <td>2021-02-15</td>\n",
       "      <td>cereals and tubers</td>\n",
       "      <td>Wheat flour</td>\n",
       "      <td>UAH</td>\n",
       "      <td>13.03</td>\n",
       "      <td>0.3547</td>\n",
       "      <td>2021</td>\n",
       "      <td>2</td>\n",
       "    </tr>\n",
       "    <tr>\n",
       "      <th>53634</th>\n",
       "      <td>2021-03-15</td>\n",
       "      <td>cereals and tubers</td>\n",
       "      <td>Wheat flour</td>\n",
       "      <td>UAH</td>\n",
       "      <td>13.06</td>\n",
       "      <td>0.3555</td>\n",
       "      <td>2021</td>\n",
       "      <td>3</td>\n",
       "    </tr>\n",
       "    <tr>\n",
       "      <th>54601</th>\n",
       "      <td>2021-04-15</td>\n",
       "      <td>cereals and tubers</td>\n",
       "      <td>Wheat flour</td>\n",
       "      <td>UAH</td>\n",
       "      <td>13.41</td>\n",
       "      <td>0.3651</td>\n",
       "      <td>2021</td>\n",
       "      <td>4</td>\n",
       "    </tr>\n",
       "    <tr>\n",
       "      <th>55584</th>\n",
       "      <td>2021-05-15</td>\n",
       "      <td>cereals and tubers</td>\n",
       "      <td>Wheat flour</td>\n",
       "      <td>UAH</td>\n",
       "      <td>13.48</td>\n",
       "      <td>0.367</td>\n",
       "      <td>2021</td>\n",
       "      <td>5</td>\n",
       "    </tr>\n",
       "    <tr>\n",
       "      <th>56540</th>\n",
       "      <td>2021-06-15</td>\n",
       "      <td>cereals and tubers</td>\n",
       "      <td>Wheat flour</td>\n",
       "      <td>UAH</td>\n",
       "      <td>13.46</td>\n",
       "      <td>0.3664</td>\n",
       "      <td>2021</td>\n",
       "      <td>6</td>\n",
       "    </tr>\n",
       "    <tr>\n",
       "      <th>57500</th>\n",
       "      <td>2021-07-15</td>\n",
       "      <td>cereals and tubers</td>\n",
       "      <td>Wheat flour</td>\n",
       "      <td>UAH</td>\n",
       "      <td>13.49</td>\n",
       "      <td>0.3672</td>\n",
       "      <td>2021</td>\n",
       "      <td>7</td>\n",
       "    </tr>\n",
       "    <tr>\n",
       "      <th>58462</th>\n",
       "      <td>2021-08-15</td>\n",
       "      <td>cereals and tubers</td>\n",
       "      <td>Wheat flour</td>\n",
       "      <td>UAH</td>\n",
       "      <td>13.49</td>\n",
       "      <td>0.3672</td>\n",
       "      <td>2021</td>\n",
       "      <td>8</td>\n",
       "    </tr>\n",
       "    <tr>\n",
       "      <th>59444</th>\n",
       "      <td>2021-09-15</td>\n",
       "      <td>cereals and tubers</td>\n",
       "      <td>Wheat flour</td>\n",
       "      <td>UAH</td>\n",
       "      <td>13.46</td>\n",
       "      <td>0.3664</td>\n",
       "      <td>2021</td>\n",
       "      <td>9</td>\n",
       "    </tr>\n",
       "    <tr>\n",
       "      <th>60419</th>\n",
       "      <td>2021-10-15</td>\n",
       "      <td>cereals and tubers</td>\n",
       "      <td>Wheat flour</td>\n",
       "      <td>UAH</td>\n",
       "      <td>13.53</td>\n",
       "      <td>0.3683</td>\n",
       "      <td>2021</td>\n",
       "      <td>10</td>\n",
       "    </tr>\n",
       "    <tr>\n",
       "      <th>61390</th>\n",
       "      <td>2021-11-15</td>\n",
       "      <td>cereals and tubers</td>\n",
       "      <td>Wheat flour</td>\n",
       "      <td>UAH</td>\n",
       "      <td>13.62</td>\n",
       "      <td>0.3708</td>\n",
       "      <td>2021</td>\n",
       "      <td>11</td>\n",
       "    </tr>\n",
       "    <tr>\n",
       "      <th>62366</th>\n",
       "      <td>2021-12-15</td>\n",
       "      <td>cereals and tubers</td>\n",
       "      <td>Wheat flour</td>\n",
       "      <td>UAH</td>\n",
       "      <td>13.80</td>\n",
       "      <td>0.3757</td>\n",
       "      <td>2021</td>\n",
       "      <td>12</td>\n",
       "    </tr>\n",
       "    <tr>\n",
       "      <th>63345</th>\n",
       "      <td>2022-01-15</td>\n",
       "      <td>cereals and tubers</td>\n",
       "      <td>Wheat flour</td>\n",
       "      <td>UAH</td>\n",
       "      <td>14.32</td>\n",
       "      <td>0.3898</td>\n",
       "      <td>2022</td>\n",
       "      <td>1</td>\n",
       "    </tr>\n",
       "    <tr>\n",
       "      <th>64259</th>\n",
       "      <td>2022-02-15</td>\n",
       "      <td>cereals and tubers</td>\n",
       "      <td>Wheat flour</td>\n",
       "      <td>UAH</td>\n",
       "      <td>14.63</td>\n",
       "      <td>0.3983</td>\n",
       "      <td>2022</td>\n",
       "      <td>2</td>\n",
       "    </tr>\n",
       "    <tr>\n",
       "      <th>65122</th>\n",
       "      <td>2022-03-15</td>\n",
       "      <td>cereals and tubers</td>\n",
       "      <td>Wheat flour</td>\n",
       "      <td>UAH</td>\n",
       "      <td>14.46</td>\n",
       "      <td>0.3937</td>\n",
       "      <td>2022</td>\n",
       "      <td>3</td>\n",
       "    </tr>\n",
       "    <tr>\n",
       "      <th>65942</th>\n",
       "      <td>2022-04-15</td>\n",
       "      <td>cereals and tubers</td>\n",
       "      <td>Wheat flour</td>\n",
       "      <td>UAH</td>\n",
       "      <td>16.48</td>\n",
       "      <td>0.4486</td>\n",
       "      <td>2022</td>\n",
       "      <td>4</td>\n",
       "    </tr>\n",
       "    <tr>\n",
       "      <th>66781</th>\n",
       "      <td>2022-05-15</td>\n",
       "      <td>cereals and tubers</td>\n",
       "      <td>Wheat flour</td>\n",
       "      <td>UAH</td>\n",
       "      <td>16.25</td>\n",
       "      <td>0.4424</td>\n",
       "      <td>2022</td>\n",
       "      <td>5</td>\n",
       "    </tr>\n",
       "    <tr>\n",
       "      <th>67676</th>\n",
       "      <td>2022-06-15</td>\n",
       "      <td>cereals and tubers</td>\n",
       "      <td>Wheat flour</td>\n",
       "      <td>UAH</td>\n",
       "      <td>16.07</td>\n",
       "      <td>0.4375</td>\n",
       "      <td>2022</td>\n",
       "      <td>6</td>\n",
       "    </tr>\n",
       "    <tr>\n",
       "      <th>68564</th>\n",
       "      <td>2022-07-15</td>\n",
       "      <td>cereals and tubers</td>\n",
       "      <td>Wheat flour</td>\n",
       "      <td>UAH</td>\n",
       "      <td>16.38</td>\n",
       "      <td>0.4459</td>\n",
       "      <td>2022</td>\n",
       "      <td>7</td>\n",
       "    </tr>\n",
       "    <tr>\n",
       "      <th>69459</th>\n",
       "      <td>2022-08-15</td>\n",
       "      <td>cereals and tubers</td>\n",
       "      <td>Wheat flour</td>\n",
       "      <td>UAH</td>\n",
       "      <td>16.46</td>\n",
       "      <td>0.4481</td>\n",
       "      <td>2022</td>\n",
       "      <td>8</td>\n",
       "    </tr>\n",
       "    <tr>\n",
       "      <th>70346</th>\n",
       "      <td>2022-09-15</td>\n",
       "      <td>cereals and tubers</td>\n",
       "      <td>Wheat flour</td>\n",
       "      <td>UAH</td>\n",
       "      <td>15.90</td>\n",
       "      <td>0.4329</td>\n",
       "      <td>2022</td>\n",
       "      <td>9</td>\n",
       "    </tr>\n",
       "  </tbody>\n",
       "</table>\n",
       "</div>"
      ],
      "text/plain": [
       "             date            category    commodity currency  price usdprice  \\\n",
       "27449  2018-12-15  cereals and tubers  Wheat flour      UAH  11.44   0.3114   \n",
       "28427  2019-01-15  cereals and tubers  Wheat flour      UAH  11.19   0.3046   \n",
       "29384  2019-02-15  cereals and tubers  Wheat flour      UAH  11.15   0.3035   \n",
       "30349  2019-03-15  cereals and tubers  Wheat flour      UAH  11.36   0.3093   \n",
       "31316  2019-04-15  cereals and tubers  Wheat flour      UAH  11.43   0.3112   \n",
       "32273  2019-05-15  cereals and tubers  Wheat flour      UAH  11.49   0.3128   \n",
       "33229  2019-06-15  cereals and tubers  Wheat flour      UAH  11.51   0.3133   \n",
       "34195  2019-07-15  cereals and tubers  Wheat flour      UAH  11.53   0.3139   \n",
       "35176  2019-08-15  cereals and tubers  Wheat flour      UAH  11.46    0.312   \n",
       "36148  2019-09-15  cereals and tubers  Wheat flour      UAH  11.14   0.3033   \n",
       "37125  2019-10-15  cereals and tubers  Wheat flour      UAH  11.18   0.3044   \n",
       "38093  2019-11-15  cereals and tubers  Wheat flour      UAH  10.80    0.294   \n",
       "39064  2019-12-15  cereals and tubers  Wheat flour      UAH  10.72   0.2918   \n",
       "40026  2020-01-15  cereals and tubers  Wheat flour      UAH  10.40   0.2831   \n",
       "40995  2020-02-15  cereals and tubers  Wheat flour      UAH  10.42   0.2837   \n",
       "41972  2020-03-15  cereals and tubers  Wheat flour      UAH  10.47    0.285   \n",
       "42951  2020-04-15  cereals and tubers  Wheat flour      UAH  10.49   0.2856   \n",
       "43919  2020-05-15  cereals and tubers  Wheat flour      UAH  10.90   0.2967   \n",
       "44890  2020-06-15  cereals and tubers  Wheat flour      UAH  11.15   0.3035   \n",
       "45869  2020-07-15  cereals and tubers  Wheat flour      UAH  11.17   0.3041   \n",
       "46862  2020-08-15  cereals and tubers  Wheat flour      UAH  11.26   0.3065   \n",
       "47821  2020-09-15  cereals and tubers  Wheat flour      UAH  11.17   0.3041   \n",
       "48784  2020-10-15  cereals and tubers  Wheat flour      UAH  11.44   0.3114   \n",
       "49748  2020-11-15  cereals and tubers  Wheat flour      UAH  11.67   0.3177   \n",
       "50720  2020-12-15  cereals and tubers  Wheat flour      UAH  11.75   0.3199   \n",
       "51703  2021-01-15  cereals and tubers  Wheat flour      UAH  11.98   0.3261   \n",
       "52665  2021-02-15  cereals and tubers  Wheat flour      UAH  13.03   0.3547   \n",
       "53634  2021-03-15  cereals and tubers  Wheat flour      UAH  13.06   0.3555   \n",
       "54601  2021-04-15  cereals and tubers  Wheat flour      UAH  13.41   0.3651   \n",
       "55584  2021-05-15  cereals and tubers  Wheat flour      UAH  13.48    0.367   \n",
       "56540  2021-06-15  cereals and tubers  Wheat flour      UAH  13.46   0.3664   \n",
       "57500  2021-07-15  cereals and tubers  Wheat flour      UAH  13.49   0.3672   \n",
       "58462  2021-08-15  cereals and tubers  Wheat flour      UAH  13.49   0.3672   \n",
       "59444  2021-09-15  cereals and tubers  Wheat flour      UAH  13.46   0.3664   \n",
       "60419  2021-10-15  cereals and tubers  Wheat flour      UAH  13.53   0.3683   \n",
       "61390  2021-11-15  cereals and tubers  Wheat flour      UAH  13.62   0.3708   \n",
       "62366  2021-12-15  cereals and tubers  Wheat flour      UAH  13.80   0.3757   \n",
       "63345  2022-01-15  cereals and tubers  Wheat flour      UAH  14.32   0.3898   \n",
       "64259  2022-02-15  cereals and tubers  Wheat flour      UAH  14.63   0.3983   \n",
       "65122  2022-03-15  cereals and tubers  Wheat flour      UAH  14.46   0.3937   \n",
       "65942  2022-04-15  cereals and tubers  Wheat flour      UAH  16.48   0.4486   \n",
       "66781  2022-05-15  cereals and tubers  Wheat flour      UAH  16.25   0.4424   \n",
       "67676  2022-06-15  cereals and tubers  Wheat flour      UAH  16.07   0.4375   \n",
       "68564  2022-07-15  cereals and tubers  Wheat flour      UAH  16.38   0.4459   \n",
       "69459  2022-08-15  cereals and tubers  Wheat flour      UAH  16.46   0.4481   \n",
       "70346  2022-09-15  cereals and tubers  Wheat flour      UAH  15.90   0.4329   \n",
       "\n",
       "       year  month  \n",
       "27449  2018     12  \n",
       "28427  2019      1  \n",
       "29384  2019      2  \n",
       "30349  2019      3  \n",
       "31316  2019      4  \n",
       "32273  2019      5  \n",
       "33229  2019      6  \n",
       "34195  2019      7  \n",
       "35176  2019      8  \n",
       "36148  2019      9  \n",
       "37125  2019     10  \n",
       "38093  2019     11  \n",
       "39064  2019     12  \n",
       "40026  2020      1  \n",
       "40995  2020      2  \n",
       "41972  2020      3  \n",
       "42951  2020      4  \n",
       "43919  2020      5  \n",
       "44890  2020      6  \n",
       "45869  2020      7  \n",
       "46862  2020      8  \n",
       "47821  2020      9  \n",
       "48784  2020     10  \n",
       "49748  2020     11  \n",
       "50720  2020     12  \n",
       "51703  2021      1  \n",
       "52665  2021      2  \n",
       "53634  2021      3  \n",
       "54601  2021      4  \n",
       "55584  2021      5  \n",
       "56540  2021      6  \n",
       "57500  2021      7  \n",
       "58462  2021      8  \n",
       "59444  2021      9  \n",
       "60419  2021     10  \n",
       "61390  2021     11  \n",
       "62366  2021     12  \n",
       "63345  2022      1  \n",
       "64259  2022      2  \n",
       "65122  2022      3  \n",
       "65942  2022      4  \n",
       "66781  2022      5  \n",
       "67676  2022      6  \n",
       "68564  2022      7  \n",
       "69459  2022      8  \n",
       "70346  2022      9  "
      ]
     },
     "execution_count": 31,
     "metadata": {},
     "output_type": "execute_result"
    }
   ],
   "source": [
    "dataforplot"
   ]
  },
  {
   "cell_type": "code",
   "execution_count": 34,
   "id": "aa31e608-a8bf-4a4e-9ec3-05d085c34bba",
   "metadata": {},
   "outputs": [
    {
     "data": {
      "text/plain": [
       "(46, 9)"
      ]
     },
     "execution_count": 34,
     "metadata": {},
     "output_type": "execute_result"
    }
   ],
   "source": [
    "dataforplot.shape"
   ]
  },
  {
   "cell_type": "code",
   "execution_count": 30,
   "id": "2feec97b-e4f9-4ceb-83d4-f10d8e8000c2",
   "metadata": {},
   "outputs": [
    {
     "data": {
      "text/plain": [
       "<AxesSubplot: xlabel='date', ylabel='price'>"
      ]
     },
     "execution_count": 30,
     "metadata": {},
     "output_type": "execute_result"
    },
    {
     "data": {
      "image/png": "[encoded data removed]",
      "text/plain": [
       "<Figure size 640x480 with 1 Axes>"
      ]
     },
     "metadata": {},
     "output_type": "display_data"
    }
   ],
   "source": [
    "sns.lineplot(data=dataforplot, x=\"date\", y=\"price\")"
   ]
  },
  {
   "cell_type": "code",
   "execution_count": 32,
   "id": "8c9a0f01-5931-403c-9b8b-fb042d0d2c2d",
   "metadata": {},
   "outputs": [],
   "source": [
    "food_p_ukr4[\"date2\"] = pd.to_datetime(food_p_ukr4[\"date\"])"
   ]
  },
  {
   "cell_type": "code",
   "execution_count": 39,
   "id": "47008ee8-c48c-45a2-b9c6-7b2e0e1e37bb",
   "metadata": {},
   "outputs": [],
   "source": [
    "food_p_ukr4[\"date2\"] = food_p_ukr4[\"month\"].astype(str) + \"-\" +food_p_ukr4[\"year\"].astype(str)"
   ]
  },
  {
   "cell_type": "code",
   "execution_count": 42,
   "id": "64606e21-9657-4dc4-be44-f7c5ebb6e121",
   "metadata": {},
   "outputs": [],
   "source": [
    "dataforplot[\"price\"] = dataforplot[\"price\"].astype(float)"
   ]
  },
  {
   "cell_type": "code",
   "execution_count": 46,
   "id": "b642627c-8edf-4a2e-832b-42ce7e806f03",
   "metadata": {},
   "outputs": [],
   "source": [
    "# plotly of ukraine prices\n",
    "import plotly.express as px\n",
    "def plot_commodity_price(type_commodity):\n",
    "    food_p_ukr4[\"date2\"] = pd.to_datetime(food_p_ukr4[\"date\"])\n",
    "    food_p_ukr4[\"date2\"] = food_p_ukr4[\"month\"].astype(str) + \"-\" + food_p_ukr4[\"year\"].astype(str)\n",
    "    dataforplot = food_p_ukr4.loc[food_p_ukr4[\"commodity\"] == type_commodity,:].copy()\n",
    "    dataforplot[\"price\"] = dataforplot[\"price\"].astype(float)\n",
    "    fig = px.line(dataforplot, x=\"date2\", y=\"price\", title='Prices of commodity')\n",
    "    fig.show()"
   ]
  },
  {
   "cell_type": "code",
   "execution_count": 47,
   "id": "60697575-bf8c-442f-b69d-d59a030c8c64",
   "metadata": {},
   "outputs": [
    {
     "data": {
      "application/vnd.plotly.v1+json": {
       "config": {
        "plotlyServerURL": "https://plot.ly"
       },
       "data": [
        {
         "hovertemplate": "date2=%{x}<br>price=%{y}<extra></extra>",
         "legendgroup": "",
         "line": {
          "color": "#636efa",
          "dash": "solid"
         },
         "marker": {
          "symbol": "circle"
         },
         "mode": "lines",
         "name": "",
         "orientation": "v",
         "showlegend": false,
         "type": "scatter",
         "x": [
          "12-2018",
          "1-2019",
          "2-2019",
          "3-2019",
          "4-2019",
          "5-2019",
          "6-2019",
          "7-2019",
          "8-2019",
          "9-2019",
          "10-2019",
          "11-2019",
          "12-2019",
          "1-2020",
          "2-2020",
          "3-2020",
          "4-2020",
          "5-2020",
          "6-2020",
          "7-2020",
          "8-2020",
          "9-2020",
          "10-2020",
          "11-2020",
          "12-2020",
          "1-2021",
          "2-2021",
          "3-2021",
          "4-2021",
          "5-2021",
          "6-2021",
          "7-2021",
          "8-2021",
          "9-2021",
          "10-2021",
          "11-2021",
          "12-2021",
          "1-2022",
          "2-2022",
          "3-2022",
          "4-2022",
          "5-2022",
          "6-2022",
          "7-2022",
          "8-2022",
          "9-2022"
         ],
         "xaxis": "x",
         "y": [
          11.44,
          11.19,
          11.15,
          11.36,
          11.43,
          11.49,
          11.51,
          11.53,
          11.46,
          11.14,
          11.18,
          10.8,
          10.72,
          10.4,
          10.42,
          10.47,
          10.49,
          10.9,
          11.15,
          11.17,
          11.26,
          11.17,
          11.44,
          11.67,
          11.75,
          11.98,
          13.03,
          13.06,
          13.41,
          13.48,
          13.46,
          13.49,
          13.49,
          13.46,
          13.53,
          13.62,
          13.8,
          14.32,
          14.63,
          14.46,
          16.48,
          16.25,
          16.07,
          16.38,
          16.46,
          15.9
         ],
         "yaxis": "y"
        }
       ],
       "layout": {
        "autosize": true,
        "legend": {
         "tracegroupgap": 0
        },
        "template": {
         "data": {
          "bar": [
           {
            "error_x": {
             "color": "#2a3f5f"
            },
            "error_y": {
             "color": "#2a3f5f"
            },
            "marker": {
             "line": {
              "color": "#E5ECF6",
              "width": 0.5
             },
             "pattern": {
              "fillmode": "overlay",
              "size": 10,
              "solidity": 0.2
             }
            },
            "type": "bar"
           }
          ],
          "barpolar": [
           {
            "marker": {
             "line": {
              "color": "#E5ECF6",
              "width": 0.5
             },
             "pattern": {
              "fillmode": "overlay",
              "size": 10,
              "solidity": 0.2
             }
            },
            "type": "barpolar"
           }
          ],
          "carpet": [
           {
            "aaxis": {
             "endlinecolor": "#2a3f5f",
             "gridcolor": "white",
             "linecolor": "white",
             "minorgridcolor": "white",
             "startlinecolor": "#2a3f5f"
            },
            "baxis": {
             "endlinecolor": "#2a3f5f",
             "gridcolor": "white",
             "linecolor": "white",
             "minorgridcolor": "white",
             "startlinecolor": "#2a3f5f"
            },
            "type": "carpet"
           }
          ],
          "choropleth": [
           {
            "colorbar": {
             "outlinewidth": 0,
             "ticks": ""
            },
            "type": "choropleth"
           }
          ],
          "contour": [
           {
            "colorbar": {
             "outlinewidth": 0,
             "ticks": ""
            },
            "colorscale": [
             [
              0,
              "#0d0887"
             ],
             [
              0.1111111111111111,
              "#46039f"
             ],
             [
              0.2222222222222222,
              "#7201a8"
             ],
             [
              0.3333333333333333,
              "#9c179e"
             ],
             [
              0.4444444444444444,
              "#bd3786"
             ],
             [
              0.5555555555555556,
              "#d8576b"
             ],
             [
              0.6666666666666666,
              "#ed7953"
             ],
             [
              0.7777777777777778,
              "#fb9f3a"
             ],
             [
              0.8888888888888888,
              "#fdca26"
             ],
             [
              1,
              "#f0f921"
             ]
            ],
            "type": "contour"
           }
          ],
          "contourcarpet": [
           {
            "colorbar": {
             "outlinewidth": 0,
             "ticks": ""
            },
            "type": "contourcarpet"
           }
          ],
          "heatmap": [
           {
            "colorbar": {
             "outlinewidth": 0,
             "ticks": ""
            },
            "colorscale": [
             [
              0,
              "#0d0887"
             ],
             [
              0.1111111111111111,
              "#46039f"
             ],
             [
              0.2222222222222222,
              "#7201a8"
             ],
             [
              0.3333333333333333,
              "#9c179e"
             ],
             [
              0.4444444444444444,
              "#bd3786"
             ],
             [
              0.5555555555555556,
              "#d8576b"
             ],
             [
              0.6666666666666666,
              "#ed7953"
             ],
             [
              0.7777777777777778,
              "#fb9f3a"
             ],
             [
              0.8888888888888888,
              "#fdca26"
             ],
             [
              1,
              "#f0f921"
             ]
            ],
            "type": "heatmap"
           }
          ],
          "heatmapgl": [
           {
            "colorbar": {
             "outlinewidth": 0,
             "ticks": ""
            },
            "colorscale": [
             [
              0,
              "#0d0887"
             ],
             [
              0.1111111111111111,
              "#46039f"
             ],
             [
              0.2222222222222222,
              "#7201a8"
             ],
             [
              0.3333333333333333,
              "#9c179e"
             ],
             [
              0.4444444444444444,
              "#bd3786"
             ],
             [
              0.5555555555555556,
              "#d8576b"
             ],
             [
              0.6666666666666666,
              "#ed7953"
             ],
             [
              0.7777777777777778,
              "#fb9f3a"
             ],
             [
              0.8888888888888888,
              "#fdca26"
             ],
             [
              1,
              "#f0f921"
             ]
            ],
            "type": "heatmapgl"
           }
          ],
          "histogram": [
           {
            "marker": {
             "pattern": {
              "fillmode": "overlay",
              "size": 10,
              "solidity": 0.2
             }
            },
            "type": "histogram"
           }
          ],
          "histogram2d": [
           {
            "colorbar": {
             "outlinewidth": 0,
             "ticks": ""
            },
            "colorscale": [
             [
              0,
              "#0d0887"
             ],
             [
              0.1111111111111111,
              "#46039f"
             ],
             [
              0.2222222222222222,
              "#7201a8"
             ],
             [
              0.3333333333333333,
              "#9c179e"
             ],
             [
              0.4444444444444444,
              "#bd3786"
             ],
             [
              0.5555555555555556,
              "#d8576b"
             ],
             [
              0.6666666666666666,
              "#ed7953"
             ],
             [
              0.7777777777777778,
              "#fb9f3a"
             ],
             [
              0.8888888888888888,
              "#fdca26"
             ],
             [
              1,
              "#f0f921"
             ]
            ],
            "type": "histogram2d"
           }
          ],
          "histogram2dcontour": [
           {
            "colorbar": {
             "outlinewidth": 0,
             "ticks": ""
            },
            "colorscale": [
             [
              0,
              "#0d0887"
             ],
             [
              0.1111111111111111,
              "#46039f"
             ],
             [
              0.2222222222222222,
              "#7201a8"
             ],
             [
              0.3333333333333333,
              "#9c179e"
             ],
             [
              0.4444444444444444,
              "#bd3786"
             ],
             [
              0.5555555555555556,
              "#d8576b"
             ],
             [
              0.6666666666666666,
              "#ed7953"
             ],
             [
              0.7777777777777778,
              "#fb9f3a"
             ],
             [
              0.8888888888888888,
              "#fdca26"
             ],
             [
              1,
              "#f0f921"
             ]
            ],
            "type": "histogram2dcontour"
           }
          ],
          "mesh3d": [
           {
            "colorbar": {
             "outlinewidth": 0,
             "ticks": ""
            },
            "type": "mesh3d"
           }
          ],
          "parcoords": [
           {
            "line": {
             "colorbar": {
              "outlinewidth": 0,
              "ticks": ""
             }
            },
            "type": "parcoords"
           }
          ],
          "pie": [
           {
            "automargin": true,
            "type": "pie"
           }
          ],
          "scatter": [
           {
            "fillpattern": {
             "fillmode": "overlay",
             "size": 10,
             "solidity": 0.2
            },
            "type": "scatter"
           }
          ],
          "scatter3d": [
           {
            "line": {
             "colorbar": {
              "outlinewidth": 0,
              "ticks": ""
             }
            },
            "marker": {
             "colorbar": {
              "outlinewidth": 0,
              "ticks": ""
             }
            },
            "type": "scatter3d"
           }
          ],
          "scattercarpet": [
           {
            "marker": {
             "colorbar": {
              "outlinewidth": 0,
              "ticks": ""
             }
            },
            "type": "scattercarpet"
           }
          ],
          "scattergeo": [
           {
            "marker": {
             "colorbar": {
              "outlinewidth": 0,
              "ticks": ""
             }
            },
            "type": "scattergeo"
           }
          ],
          "scattergl": [
           {
            "marker": {
             "colorbar": {
              "outlinewidth": 0,
              "ticks": ""
             }
            },
            "type": "scattergl"
           }
          ],
          "scattermapbox": [
           {
            "marker": {
             "colorbar": {
              "outlinewidth": 0,
              "ticks": ""
             }
            },
            "type": "scattermapbox"
           }
          ],
          "scatterpolar": [
           {
            "marker": {
             "colorbar": {
              "outlinewidth": 0,
              "ticks": ""
             }
            },
            "type": "scatterpolar"
           }
          ],
          "scatterpolargl": [
           {
            "marker": {
             "colorbar": {
              "outlinewidth": 0,
              "ticks": ""
             }
            },
            "type": "scatterpolargl"
           }
          ],
          "scatterternary": [
           {
            "marker": {
             "colorbar": {
              "outlinewidth": 0,
              "ticks": ""
             }
            },
            "type": "scatterternary"
           }
          ],
          "surface": [
           {
            "colorbar": {
             "outlinewidth": 0,
             "ticks": ""
            },
            "colorscale": [
             [
              0,
              "#0d0887"
             ],
             [
              0.1111111111111111,
              "#46039f"
             ],
             [
              0.2222222222222222,
              "#7201a8"
             ],
             [
              0.3333333333333333,
              "#9c179e"
             ],
             [
              0.4444444444444444,
              "#bd3786"
             ],
             [
              0.5555555555555556,
              "#d8576b"
             ],
             [
              0.6666666666666666,
              "#ed7953"
             ],
             [
              0.7777777777777778,
              "#fb9f3a"
             ],
             [
              0.8888888888888888,
              "#fdca26"
             ],
             [
              1,
              "#f0f921"
             ]
            ],
            "type": "surface"
           }
          ],
          "table": [
           {
            "cells": {
             "fill": {
              "color": "#EBF0F8"
             },
             "line": {
              "color": "white"
             }
            },
            "header": {
             "fill": {
              "color": "#C8D4E3"
             },
             "line": {
              "color": "white"
             }
            },
            "type": "table"
           }
          ]
         },
         "layout": {
          "annotationdefaults": {
           "arrowcolor": "#2a3f5f",
           "arrowhead": 0,
           "arrowwidth": 1
          },
          "autotypenumbers": "strict",
          "coloraxis": {
           "colorbar": {
            "outlinewidth": 0,
            "ticks": ""
           }
          },
          "colorscale": {
           "diverging": [
            [
             0,
             "#8e0152"
            ],
            [
             0.1,
             "#c51b7d"
            ],
            [
             0.2,
             "#de77ae"
            ],
            [
             0.3,
             "#f1b6da"
            ],
            [
             0.4,
             "#fde0ef"
            ],
            [
             0.5,
             "#f7f7f7"
            ],
            [
             0.6,
             "#e6f5d0"
            ],
            [
             0.7,
             "#b8e186"
            ],
            [
             0.8,
             "#7fbc41"
            ],
            [
             0.9,
             "#4d9221"
            ],
            [
             1,
             "#276419"
            ]
           ],
           "sequential": [
            [
             0,
             "#0d0887"
            ],
            [
             0.1111111111111111,
             "#46039f"
            ],
            [
             0.2222222222222222,
             "#7201a8"
            ],
            [
             0.3333333333333333,
             "#9c179e"
            ],
            [
             0.4444444444444444,
             "#bd3786"
            ],
            [
             0.5555555555555556,
             "#d8576b"
            ],
            [
             0.6666666666666666,
             "#ed7953"
            ],
            [
             0.7777777777777778,
             "#fb9f3a"
            ],
            [
             0.8888888888888888,
             "#fdca26"
            ],
            [
             1,
             "#f0f921"
            ]
           ],
           "sequentialminus": [
            [
             0,
             "#0d0887"
            ],
            [
             0.1111111111111111,
             "#46039f"
            ],
            [
             0.2222222222222222,
             "#7201a8"
            ],
            [
             0.3333333333333333,
             "#9c179e"
            ],
            [
             0.4444444444444444,
             "#bd3786"
            ],
            [
             0.5555555555555556,
             "#d8576b"
            ],
            [
             0.6666666666666666,
             "#ed7953"
            ],
            [
             0.7777777777777778,
             "#fb9f3a"
            ],
            [
             0.8888888888888888,
             "#fdca26"
            ],
            [
             1,
             "#f0f921"
            ]
           ]
          },
          "colorway": [
           "#636efa",
           "#EF553B",
           "#00cc96",
           "#ab63fa",
           "#FFA15A",
           "#19d3f3",
           "#FF6692",
           "#B6E880",
           "#FF97FF",
           "#FECB52"
          ],
          "font": {
           "color": "#2a3f5f"
          },
          "geo": {
           "bgcolor": "white",
           "lakecolor": "white",
           "landcolor": "#E5ECF6",
           "showlakes": true,
           "showland": true,
           "subunitcolor": "white"
          },
          "hoverlabel": {
           "align": "left"
          },
          "hovermode": "closest",
          "mapbox": {
           "style": "light"
          },
          "paper_bgcolor": "white",
          "plot_bgcolor": "#E5ECF6",
          "polar": {
           "angularaxis": {
            "gridcolor": "white",
            "linecolor": "white",
            "ticks": ""
           },
           "bgcolor": "#E5ECF6",
           "radialaxis": {
            "gridcolor": "white",
            "linecolor": "white",
            "ticks": ""
           }
          },
          "scene": {
           "xaxis": {
            "backgroundcolor": "#E5ECF6",
            "gridcolor": "white",
            "gridwidth": 2,
            "linecolor": "white",
            "showbackground": true,
            "ticks": "",
            "zerolinecolor": "white"
           },
           "yaxis": {
            "backgroundcolor": "#E5ECF6",
            "gridcolor": "white",
            "gridwidth": 2,
            "linecolor": "white",
            "showbackground": true,
            "ticks": "",
            "zerolinecolor": "white"
           },
           "zaxis": {
            "backgroundcolor": "#E5ECF6",
            "gridcolor": "white",
            "gridwidth": 2,
            "linecolor": "white",
            "showbackground": true,
            "ticks": "",
            "zerolinecolor": "white"
           }
          },
          "shapedefaults": {
           "line": {
            "color": "#2a3f5f"
           }
          },
          "ternary": {
           "aaxis": {
            "gridcolor": "white",
            "linecolor": "white",
            "ticks": ""
           },
           "baxis": {
            "gridcolor": "white",
            "linecolor": "white",
            "ticks": ""
           },
           "bgcolor": "#E5ECF6",
           "caxis": {
            "gridcolor": "white",
            "linecolor": "white",
            "ticks": ""
           }
          },
          "title": {
           "x": 0.05
          },
          "xaxis": {
           "automargin": true,
           "gridcolor": "white",
           "linecolor": "white",
           "ticks": "",
           "title": {
            "standoff": 15
           },
           "zerolinecolor": "white",
           "zerolinewidth": 2
          },
          "yaxis": {
           "automargin": true,
           "gridcolor": "white",
           "linecolor": "white",
           "ticks": "",
           "title": {
            "standoff": 15
           },
           "zerolinecolor": "white",
           "zerolinewidth": 2
          }
         }
        },
        "title": {
         "text": "Prices of commodity"
        },
        "xaxis": {
         "anchor": "y",
         "autorange": true,
         "domain": [
          0,
          1
         ],
         "range": [
          0,
          45
         ],
         "title": {
          "text": "date2"
         },
         "type": "category"
        },
        "yaxis": {
         "anchor": "x",
         "autorange": true,
         "domain": [
          0,
          1
         ],
         "range": [
          10.062222222222223,
          16.817777777777778
         ],
         "title": {
          "text": "price"
         },
         "type": "linear"
        }
       }
      },
      "image/png": "[encoded data removed]",
      "text/html": [
       "<div>                            <div id=\"b0b23a3f-d5a2-4cf3-b4e2-63a481b8a757\" class=\"plotly-graph-div\" style=\"height:525px; width:100%;\"></div>            <script type=\"text/javascript\">                require([\"plotly\"], function(Plotly) {                    window.PLOTLYENV=window.PLOTLYENV || {};                                    if (document.getElementById(\"b0b23a3f-d5a2-4cf3-b4e2-63a481b8a757\")) {                    Plotly.newPlot(                        \"b0b23a3f-d5a2-4cf3-b4e2-63a481b8a757\",                        [{\"hovertemplate\":\"date2=%{x}<br>price=%{y}<extra></extra>\",\"legendgroup\":\"\",\"line\":{\"color\":\"#636efa\",\"dash\":\"solid\"},\"marker\":{\"symbol\":\"circle\"},\"mode\":\"lines\",\"name\":\"\",\"orientation\":\"v\",\"showlegend\":false,\"x\":[\"12-2018\",\"1-2019\",\"2-2019\",\"3-2019\",\"4-2019\",\"5-2019\",\"6-2019\",\"7-2019\",\"8-2019\",\"9-2019\",\"10-2019\",\"11-2019\",\"12-2019\",\"1-2020\",\"2-2020\",\"3-2020\",\"4-2020\",\"5-2020\",\"6-2020\",\"7-2020\",\"8-2020\",\"9-2020\",\"10-2020\",\"11-2020\",\"12-2020\",\"1-2021\",\"2-2021\",\"3-2021\",\"4-2021\",\"5-2021\",\"6-2021\",\"7-2021\",\"8-2021\",\"9-2021\",\"10-2021\",\"11-2021\",\"12-2021\",\"1-2022\",\"2-2022\",\"3-2022\",\"4-2022\",\"5-2022\",\"6-2022\",\"7-2022\",\"8-2022\",\"9-2022\"],\"xaxis\":\"x\",\"y\":[11.44,11.19,11.15,11.36,11.43,11.49,11.51,11.53,11.46,11.14,11.18,10.8,10.72,10.4,10.42,10.47,10.49,10.9,11.15,11.17,11.26,11.17,11.44,11.67,11.75,11.98,13.03,13.06,13.41,13.48,13.46,13.49,13.49,13.46,13.53,13.62,13.8,14.32,14.63,14.46,16.48,16.25,16.07,16.38,16.46,15.9],\"yaxis\":\"y\",\"type\":\"scatter\"}],                        {\"template\":{\"data\":{\"histogram2dcontour\":[{\"type\":\"histogram2dcontour\",\"colorbar\":{\"outlinewidth\":0,\"ticks\":\"\"},\"colorscale\":[[0.0,\"#0d0887\"],[0.1111111111111111,\"#46039f\"],[0.2222222222222222,\"#7201a8\"],[0.3333333333333333,\"#9c179e\"],[0.4444444444444444,\"#bd3786\"],[0.5555555555555556,\"#d8576b\"],[0.6666666666666666,\"#ed7953\"],[0.7777777777777778,\"#fb9f3a\"],[0.8888888888888888,\"#fdca26\"],[1.0,\"#f0f921\"]]}],\"choropleth\":[{\"type\":\"choropleth\",\"colorbar\":{\"outlinewidth\":0,\"ticks\":\"\"}}],\"histogram2d\":[{\"type\":\"histogram2d\",\"colorbar\":{\"outlinewidth\":0,\"ticks\":\"\"},\"colorscale\":[[0.0,\"#0d0887\"],[0.1111111111111111,\"#46039f\"],[0.2222222222222222,\"#7201a8\"],[0.3333333333333333,\"#9c179e\"],[0.4444444444444444,\"#bd3786\"],[0.5555555555555556,\"#d8576b\"],[0.6666666666666666,\"#ed7953\"],[0.7777777777777778,\"#fb9f3a\"],[0.8888888888888888,\"#fdca26\"],[1.0,\"#f0f921\"]]}],\"heatmap\":[{\"type\":\"heatmap\",\"colorbar\":{\"outlinewidth\":0,\"ticks\":\"\"},\"colorscale\":[[0.0,\"#0d0887\"],[0.1111111111111111,\"#46039f\"],[0.2222222222222222,\"#7201a8\"],[0.3333333333333333,\"#9c179e\"],[0.4444444444444444,\"#bd3786\"],[0.5555555555555556,\"#d8576b\"],[0.6666666666666666,\"#ed7953\"],[0.7777777777777778,\"#fb9f3a\"],[0.8888888888888888,\"#fdca26\"],[1.0,\"#f0f921\"]]}],\"heatmapgl\":[{\"type\":\"heatmapgl\",\"colorbar\":{\"outlinewidth\":0,\"ticks\":\"\"},\"colorscale\":[[0.0,\"#0d0887\"],[0.1111111111111111,\"#46039f\"],[0.2222222222222222,\"#7201a8\"],[0.3333333333333333,\"#9c179e\"],[0.4444444444444444,\"#bd3786\"],[0.5555555555555556,\"#d8576b\"],[0.6666666666666666,\"#ed7953\"],[0.7777777777777778,\"#fb9f3a\"],[0.8888888888888888,\"#fdca26\"],[1.0,\"#f0f921\"]]}],\"contourcarpet\":[{\"type\":\"contourcarpet\",\"colorbar\":{\"outlinewidth\":0,\"ticks\":\"\"}}],\"contour\":[{\"type\":\"contour\",\"colorbar\":{\"outlinewidth\":0,\"ticks\":\"\"},\"colorscale\":[[0.0,\"#0d0887\"],[0.1111111111111111,\"#46039f\"],[0.2222222222222222,\"#7201a8\"],[0.3333333333333333,\"#9c179e\"],[0.4444444444444444,\"#bd3786\"],[0.5555555555555556,\"#d8576b\"],[0.6666666666666666,\"#ed7953\"],[0.7777777777777778,\"#fb9f3a\"],[0.8888888888888888,\"#fdca26\"],[1.0,\"#f0f921\"]]}],\"surface\":[{\"type\":\"surface\",\"colorbar\":{\"outlinewidth\":0,\"ticks\":\"\"},\"colorscale\":[[0.0,\"#0d0887\"],[0.1111111111111111,\"#46039f\"],[0.2222222222222222,\"#7201a8\"],[0.3333333333333333,\"#9c179e\"],[0.4444444444444444,\"#bd3786\"],[0.5555555555555556,\"#d8576b\"],[0.6666666666666666,\"#ed7953\"],[0.7777777777777778,\"#fb9f3a\"],[0.8888888888888888,\"#fdca26\"],[1.0,\"#f0f921\"]]}],\"mesh3d\":[{\"type\":\"mesh3d\",\"colorbar\":{\"outlinewidth\":0,\"ticks\":\"\"}}],\"scatter\":[{\"fillpattern\":{\"fillmode\":\"overlay\",\"size\":10,\"solidity\":0.2},\"type\":\"scatter\"}],\"parcoords\":[{\"type\":\"parcoords\",\"line\":{\"colorbar\":{\"outlinewidth\":0,\"ticks\":\"\"}}}],\"scatterpolargl\":[{\"type\":\"scatterpolargl\",\"marker\":{\"colorbar\":{\"outlinewidth\":0,\"ticks\":\"\"}}}],\"bar\":[{\"error_x\":{\"color\":\"#2a3f5f\"},\"error_y\":{\"color\":\"#2a3f5f\"},\"marker\":{\"line\":{\"color\":\"#E5ECF6\",\"width\":0.5},\"pattern\":{\"fillmode\":\"overlay\",\"size\":10,\"solidity\":0.2}},\"type\":\"bar\"}],\"scattergeo\":[{\"type\":\"scattergeo\",\"marker\":{\"colorbar\":{\"outlinewidth\":0,\"ticks\":\"\"}}}],\"scatterpolar\":[{\"type\":\"scatterpolar\",\"marker\":{\"colorbar\":{\"outlinewidth\":0,\"ticks\":\"\"}}}],\"histogram\":[{\"marker\":{\"pattern\":{\"fillmode\":\"overlay\",\"size\":10,\"solidity\":0.2}},\"type\":\"histogram\"}],\"scattergl\":[{\"type\":\"scattergl\",\"marker\":{\"colorbar\":{\"outlinewidth\":0,\"ticks\":\"\"}}}],\"scatter3d\":[{\"type\":\"scatter3d\",\"line\":{\"colorbar\":{\"outlinewidth\":0,\"ticks\":\"\"}},\"marker\":{\"colorbar\":{\"outlinewidth\":0,\"ticks\":\"\"}}}],\"scattermapbox\":[{\"type\":\"scattermapbox\",\"marker\":{\"colorbar\":{\"outlinewidth\":0,\"ticks\":\"\"}}}],\"scatterternary\":[{\"type\":\"scatterternary\",\"marker\":{\"colorbar\":{\"outlinewidth\":0,\"ticks\":\"\"}}}],\"scattercarpet\":[{\"type\":\"scattercarpet\",\"marker\":{\"colorbar\":{\"outlinewidth\":0,\"ticks\":\"\"}}}],\"carpet\":[{\"aaxis\":{\"endlinecolor\":\"#2a3f5f\",\"gridcolor\":\"white\",\"linecolor\":\"white\",\"minorgridcolor\":\"white\",\"startlinecolor\":\"#2a3f5f\"},\"baxis\":{\"endlinecolor\":\"#2a3f5f\",\"gridcolor\":\"white\",\"linecolor\":\"white\",\"minorgridcolor\":\"white\",\"startlinecolor\":\"#2a3f5f\"},\"type\":\"carpet\"}],\"table\":[{\"cells\":{\"fill\":{\"color\":\"#EBF0F8\"},\"line\":{\"color\":\"white\"}},\"header\":{\"fill\":{\"color\":\"#C8D4E3\"},\"line\":{\"color\":\"white\"}},\"type\":\"table\"}],\"barpolar\":[{\"marker\":{\"line\":{\"color\":\"#E5ECF6\",\"width\":0.5},\"pattern\":{\"fillmode\":\"overlay\",\"size\":10,\"solidity\":0.2}},\"type\":\"barpolar\"}],\"pie\":[{\"automargin\":true,\"type\":\"pie\"}]},\"layout\":{\"autotypenumbers\":\"strict\",\"colorway\":[\"#636efa\",\"#EF553B\",\"#00cc96\",\"#ab63fa\",\"#FFA15A\",\"#19d3f3\",\"#FF6692\",\"#B6E880\",\"#FF97FF\",\"#FECB52\"],\"font\":{\"color\":\"#2a3f5f\"},\"hovermode\":\"closest\",\"hoverlabel\":{\"align\":\"left\"},\"paper_bgcolor\":\"white\",\"plot_bgcolor\":\"#E5ECF6\",\"polar\":{\"bgcolor\":\"#E5ECF6\",\"angularaxis\":{\"gridcolor\":\"white\",\"linecolor\":\"white\",\"ticks\":\"\"},\"radialaxis\":{\"gridcolor\":\"white\",\"linecolor\":\"white\",\"ticks\":\"\"}},\"ternary\":{\"bgcolor\":\"#E5ECF6\",\"aaxis\":{\"gridcolor\":\"white\",\"linecolor\":\"white\",\"ticks\":\"\"},\"baxis\":{\"gridcolor\":\"white\",\"linecolor\":\"white\",\"ticks\":\"\"},\"caxis\":{\"gridcolor\":\"white\",\"linecolor\":\"white\",\"ticks\":\"\"}},\"coloraxis\":{\"colorbar\":{\"outlinewidth\":0,\"ticks\":\"\"}},\"colorscale\":{\"sequential\":[[0.0,\"#0d0887\"],[0.1111111111111111,\"#46039f\"],[0.2222222222222222,\"#7201a8\"],[0.3333333333333333,\"#9c179e\"],[0.4444444444444444,\"#bd3786\"],[0.5555555555555556,\"#d8576b\"],[0.6666666666666666,\"#ed7953\"],[0.7777777777777778,\"#fb9f3a\"],[0.8888888888888888,\"#fdca26\"],[1.0,\"#f0f921\"]],\"sequentialminus\":[[0.0,\"#0d0887\"],[0.1111111111111111,\"#46039f\"],[0.2222222222222222,\"#7201a8\"],[0.3333333333333333,\"#9c179e\"],[0.4444444444444444,\"#bd3786\"],[0.5555555555555556,\"#d8576b\"],[0.6666666666666666,\"#ed7953\"],[0.7777777777777778,\"#fb9f3a\"],[0.8888888888888888,\"#fdca26\"],[1.0,\"#f0f921\"]],\"diverging\":[[0,\"#8e0152\"],[0.1,\"#c51b7d\"],[0.2,\"#de77ae\"],[0.3,\"#f1b6da\"],[0.4,\"#fde0ef\"],[0.5,\"#f7f7f7\"],[0.6,\"#e6f5d0\"],[0.7,\"#b8e186\"],[0.8,\"#7fbc41\"],[0.9,\"#4d9221\"],[1,\"#276419\"]]},\"xaxis\":{\"gridcolor\":\"white\",\"linecolor\":\"white\",\"ticks\":\"\",\"title\":{\"standoff\":15},\"zerolinecolor\":\"white\",\"automargin\":true,\"zerolinewidth\":2},\"yaxis\":{\"gridcolor\":\"white\",\"linecolor\":\"white\",\"ticks\":\"\",\"title\":{\"standoff\":15},\"zerolinecolor\":\"white\",\"automargin\":true,\"zerolinewidth\":2},\"scene\":{\"xaxis\":{\"backgroundcolor\":\"#E5ECF6\",\"gridcolor\":\"white\",\"linecolor\":\"white\",\"showbackground\":true,\"ticks\":\"\",\"zerolinecolor\":\"white\",\"gridwidth\":2},\"yaxis\":{\"backgroundcolor\":\"#E5ECF6\",\"gridcolor\":\"white\",\"linecolor\":\"white\",\"showbackground\":true,\"ticks\":\"\",\"zerolinecolor\":\"white\",\"gridwidth\":2},\"zaxis\":{\"backgroundcolor\":\"#E5ECF6\",\"gridcolor\":\"white\",\"linecolor\":\"white\",\"showbackground\":true,\"ticks\":\"\",\"zerolinecolor\":\"white\",\"gridwidth\":2}},\"shapedefaults\":{\"line\":{\"color\":\"#2a3f5f\"}},\"annotationdefaults\":{\"arrowcolor\":\"#2a3f5f\",\"arrowhead\":0,\"arrowwidth\":1},\"geo\":{\"bgcolor\":\"white\",\"landcolor\":\"#E5ECF6\",\"subunitcolor\":\"white\",\"showland\":true,\"showlakes\":true,\"lakecolor\":\"white\"},\"title\":{\"x\":0.05},\"mapbox\":{\"style\":\"light\"}}},\"xaxis\":{\"anchor\":\"y\",\"domain\":[0.0,1.0],\"title\":{\"text\":\"date2\"}},\"yaxis\":{\"anchor\":\"x\",\"domain\":[0.0,1.0],\"title\":{\"text\":\"price\"}},\"legend\":{\"tracegroupgap\":0},\"title\":{\"text\":\"Prices of commodity\"}},                        {\"responsive\": true}                    ).then(function(){\n",
       "                            \n",
       "var gd = document.getElementById('b0b23a3f-d5a2-4cf3-b4e2-63a481b8a757');\n",
       "var x = new MutationObserver(function (mutations, observer) {{\n",
       "        var display = window.getComputedStyle(gd).display;\n",
       "        if (!display || display === 'none') {{\n",
       "            console.log([gd, 'removed!']);\n",
       "            Plotly.purge(gd);\n",
       "            observer.disconnect();\n",
       "        }}\n",
       "}});\n",
       "\n",
       "// Listen for the removal of the full notebook cells\n",
       "var notebookContainer = gd.closest('#notebook-container');\n",
       "if (notebookContainer) {{\n",
       "    x.observe(notebookContainer, {childList: true});\n",
       "}}\n",
       "\n",
       "// Listen for the clearing of the current output cell\n",
       "var outputEl = gd.closest('.output');\n",
       "if (outputEl) {{\n",
       "    x.observe(outputEl, {childList: true});\n",
       "}}\n",
       "\n",
       "                        })                };                });            </script>        </div>"
      ]
     },
     "metadata": {},
     "output_type": "display_data"
    }
   ],
   "source": [
    "plot_commodity_price(\"Wheat flour\")"
   ]
  },
  {
   "cell_type": "code",
   "execution_count": null,
   "id": "c5ed8776-09c9-4e74-9f78-4209c50ef124",
   "metadata": {},
   "outputs": [],
   "source": []
  }
 ],
 "metadata": {
  "kernelspec": {
   "display_name": "Python 3 (ipykernel)",
   "language": "python",
   "name": "python3"
  },
  "language_info": {
   "codemirror_mode": {
    "name": "ipython",
    "version": 3
   },
   "file_extension": ".py",
   "mimetype": "text/x-python",
   "name": "python",
   "nbconvert_exporter": "python",
   "pygments_lexer": "ipython3",
   "version": "3.10.4"
  }
 },
 "nbformat": 4,
 "nbformat_minor": 5
}
