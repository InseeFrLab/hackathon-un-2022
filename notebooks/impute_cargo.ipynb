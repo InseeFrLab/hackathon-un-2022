{
 "cells": [
  {
   "cell_type": "code",
   "execution_count": null,
   "id": "12a4f88b-ad15-412e-bda0-2d69ae95d48b",
   "metadata": {},
   "outputs": [],
   "source": [
    "# Imputation of the content of boats from a country to a destination port based on trade \n"
   ]
  },
  {
   "cell_type": "code",
   "execution_count": 1,
   "id": "5af23c40-ade4-4c59-81fd-77222ff61637",
   "metadata": {},
   "outputs": [
    {
     "data": {
      "text/plain": [
       "'/home/onyxia/work/hackathon-un-2022/notebooks'"
      ]
     },
     "execution_count": 1,
     "metadata": {},
     "output_type": "execute_result"
    }
   ],
   "source": [
    "import os\n",
    "os.getcwd()"
   ]
  },
  {
   "cell_type": "code",
   "execution_count": 2,
   "id": "a7152815-3848-4991-8b2f-e0a25583b51a",
   "metadata": {},
   "outputs": [],
   "source": [
    "os.chdir(\"..\")\n",
    "import utils.functions as fc\n",
    "import utils.indicators as indic"
   ]
  },
  {
   "cell_type": "code",
   "execution_count": 3,
   "id": "b0b8fda6-f99b-4d23-8195-3bdc128763bd",
   "metadata": {},
   "outputs": [],
   "source": [
    "from importlib import reload\n",
    "fc = reload(fc)\n",
    "indic = reload(indic)"
   ]
  },
  {
   "cell_type": "code",
   "execution_count": 4,
   "id": "11332f55-ada8-4805-bca8-c836d4f5277a",
   "metadata": {},
   "outputs": [],
   "source": [
    "ship_data_enriched = fc.create_ship_data_enriched()"
   ]
  },
  {
   "cell_type": "code",
   "execution_count": 5,
   "id": "a19cb760-00d9-4d20-b5d3-f8a006138849",
   "metadata": {},
   "outputs": [],
   "source": [
    "ais = fc.read_ais_parquet()"
   ]
  },
  {
   "cell_type": "code",
   "execution_count": 6,
   "id": "02e098a1-75cb-40b8-adcb-dcf36fc9df32",
   "metadata": {},
   "outputs": [
    {
     "data": {
      "text/plain": [
       "(4406590, 6)"
      ]
     },
     "execution_count": 6,
     "metadata": {},
     "output_type": "execute_result"
    }
   ],
   "source": [
    "ais.shape"
   ]
  },
  {
   "cell_type": "code",
   "execution_count": 7,
   "id": "faea1e6b-dcc9-474d-9236-54039705d37f",
   "metadata": {},
   "outputs": [],
   "source": [
    "ais_enriched = fc.enrich_AIS_data(ais, ship_data_enriched)"
   ]
  },
  {
   "cell_type": "code",
   "execution_count": 12,
   "id": "ca38b673-22c1-45a6-8b35-5d474b4fcd7f",
   "metadata": {},
   "outputs": [
    {
     "data": {
      "text/plain": [
       "mmsi\n",
       "207008000    [POTI, VARNA, NECOCHEA, CHORNOMORSK, CHERNOMORSK]\n",
       "207037000    [VARNA, SMEDEREVO, VARNA     ORAGE, JP SGM NAK...\n",
       "207038000                              [OPENSEA, PP#23, VARNA]\n",
       "207094000                                               [None]\n",
       "207095000                                               [None]\n",
       "                                   ...                        \n",
       "677075600    [KHERSON/UKRAINE, BANDIRMA/TURKEY, LULA FIELD,...\n",
       "677080700                  [ROSTOV / RUSSIA, BANDIRMA, RU ROV]\n",
       "677085700                           [RASA, ALEXANDRIA, UA NIK]\n",
       "677092400                  [BANGHAZI / LIBYA, 0, JP OIT, None]\n",
       "677096200                      [MISURATA, NLKAM10084HRARE0001]\n",
       "Name: destination, Length: 1177, dtype: object"
      ]
     },
     "execution_count": 12,
     "metadata": {},
     "output_type": "execute_result"
    }
   ],
   "source": [
    "ais_enriched.groupby(\"mmsi\")[\"destination\"].unique()"
   ]
  },
  {
   "cell_type": "code",
   "execution_count": null,
   "id": "3ab0d5c4-0b7a-4f99-8bc9-baceb79d0843",
   "metadata": {},
   "outputs": [],
   "source": []
  },
  {
   "cell_type": "code",
   "execution_count": 8,
   "id": "1193ffc9-3143-4987-99ef-637c6d9c8d66",
   "metadata": {},
   "outputs": [
    {
     "name": "stderr",
     "output_type": "stream",
     "text": [
      "/home/onyxia/work/hackathon-un-2022/utils/indicators.py:10: FutureWarning: The error_bad_lines argument has been deprecated and will be removed in a future version. Use on_bad_lines in the future.\n",
      "\n",
      "\n",
      "  mmsi_number = pd.read_csv(fs.open(f'{BUCKET}/AIS/mmid.csv',\n"
     ]
    },
    {
     "name": "stdout",
     "output_type": "stream",
     "text": [
      "Classification of origin country\n",
      "Russian Federation                                                                   387\n",
      "Republic of Türkiye                                                                  158\n",
      "Panama (Republic of)                                                                 120\n",
      "Malta                                                                                 70\n",
      "Liberia (Republic of)                                                                 54\n",
      "Romania                                                                               47\n",
      "Marshall Islands (Republic of the)                                                    47\n",
      "Bulgaria (Republic of)                                                                36\n",
      "Ukraine                                                                               26\n",
      "Comoros (Union of the)                                                                21\n",
      "Sierra Leone                                                                          20\n",
      "Tanzania (United Republic of)                                                         18\n",
      "Belize                                                                                15\n",
      "Georgia                                                                               13\n",
      "Greece                                                                                12\n",
      "Togolese Republic                                                                     12\n",
      "New Zealand - Cook Islands                                                             9\n",
      "Singapore (Republic of)                                                                8\n",
      "Palau (Republic of)                                                                    8\n",
      "Vanuatu (Republic of)                                                                  7\n",
      "Saint Vincent and the Grenadines                                                       7\n",
      "Antigua and Barbuda                                                                    6\n",
      "Bahamas (Commonwealth of the)                                                          6\n",
      "China (People's Republic of) - Hong Kong (Special Administrative Region of China)      6\n",
      "Netherlands (Kingdom of the)                                                           6\n",
      "Norway                                                                                 6\n",
      "Portugal - Madeira                                                                     6\n",
      "Moldova (Republic of)                                                                  5\n",
      "Azerbaijan (Republic of)                                                               5\n",
      "Cyprus (Republic of)                                                                   4\n",
      "United Kingdom of Great Britain and Northern Ireland - Cayman Islands                  4\n",
      "Saint Kitts and Nevis (Federation of)                                                  4\n",
      "Egypt (Arab Republic of)                                                               3\n",
      "Denmark                                                                                2\n",
      "Germany (Federal Republic of)                                                          2\n",
      "China (People's Republic of)                                                           2\n",
      "Slovak Republic                                                                        2\n",
      "Italy                                                                                  2\n",
      "Barbados                                                                               2\n",
      "Syrian Arab Republic                                                                   1\n",
      "Pakistan (Islamic Republic of)                                                         1\n",
      "Lebanon                                                                                1\n",
      "United Kingdom of Great Britain and Northern Ireland - Gibraltar                       1\n",
      "Tuvalu                                                                                 1\n",
      "Honduras (Republic of)                                                                 1\n",
      "Serbia (Republic of)                                                                   1\n",
      "Croatia (Republic of)                                                                  1\n",
      "Switzerland (Confederation of)                                                         1\n",
      "Name: origin_country, dtype: int64\n",
      "Number of missing origin country\n",
      "(0, 127)\n"
     ]
    }
   ],
   "source": [
    "# function qui assigne le pays d'origine\n",
    "ais_enriched2, origin_countries = indic.assign_country_origin(ais_enriched)"
   ]
  },
  {
   "cell_type": "code",
   "execution_count": 9,
   "id": "06b2e8c7-f540-4a12-b0e8-4a659315bf60",
   "metadata": {},
   "outputs": [
    {
     "name": "stdout",
     "output_type": "stream",
     "text": [
      "Percentage missing destination port\n",
      "0.06966864910790145\n",
      "Number missing destination port\n",
      "82\n",
      "Classification of destination countries\n",
      "Turkey                                           114\n",
      "Russia                                            90\n",
      "Romania                                           51\n",
      "Bulgaria                                          36\n",
      "Ukraine                                           33\n",
      "                                                ... \n",
      "Northern Mariana Islands                           1\n",
      "Hong Kong                                          1\n",
      "Lithuania                                          1\n",
      "Saint Helena, Ascension, and Tristan da Cunha      1\n",
      "Tunisia                                            1\n",
      "Name: destination_country, Length: 72, dtype: int64\n"
     ]
    }
   ],
   "source": [
    "# fonction that assigns a destination country\n",
    "ais_enriched3, destination_ports = indic.assign_destination_country(ais_enriched2)"
   ]
  },
  {
   "cell_type": "code",
   "execution_count": null,
   "id": "4bbbbfb2-be67-4767-ac3a-4930d863aa08",
   "metadata": {},
   "outputs": [],
   "source": []
  }
 ],
 "metadata": {
  "kernelspec": {
   "display_name": "Python 3 (ipykernel)",
   "language": "python",
   "name": "python3"
  },
  "language_info": {
   "codemirror_mode": {
    "name": "ipython",
    "version": 3
   },
   "file_extension": ".py",
   "mimetype": "text/x-python",
   "name": "python",
   "nbconvert_exporter": "python",
   "pygments_lexer": "ipython3",
   "version": "3.10.4"
  }
 },
 "nbformat": 4,
 "nbformat_minor": 5
}
