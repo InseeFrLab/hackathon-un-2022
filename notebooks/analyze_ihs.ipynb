{
 "cells": [
  {
   "cell_type": "code",
   "execution_count": 9,
   "id": "2717c0f4-7874-4a6a-baf4-c289319d7c8f",
   "metadata": {},
   "outputs": [],
   "source": [
    "import s3fs\n",
    "import pandas as pd\n",
    "\n",
    "path = \"IHS/ship_data.csv\"\n",
    "bucket = \"projet-hackathon-un-2022\"\n",
    "\n",
    "fs = s3fs.S3FileSystem(\n",
    "  client_kwargs={'endpoint_url': 'https://minio.lab.sspcloud.fr'}\n",
    ")\n",
    "\n",
    "ship_data = pd.read_csv(fs.open(f'{bucket}/{path}',\n",
    "                         mode='rb'))\n",
    "ship_codes = pd.read_csv(fs.open(f'{bucket}/{path}'.replace(\"data\",\"codes\"),\n",
    "                         mode='rb')\n",
    "                 )"
   ]
  },
  {
   "cell_type": "code",
   "execution_count": 10,
   "id": "bc67ce0e-c287-4089-a23c-bb5552882797",
   "metadata": {},
   "outputs": [
    {
     "data": {
      "text/html": [
       "<div>\n",
       "<style scoped>\n",
       "    .dataframe tbody tr th:only-of-type {\n",
       "        vertical-align: middle;\n",
       "    }\n",
       "\n",
       "    .dataframe tbody tr th {\n",
       "        vertical-align: top;\n",
       "    }\n",
       "\n",
       "    .dataframe thead th {\n",
       "        text-align: right;\n",
       "    }\n",
       "</style>\n",
       "<table border=\"1\" class=\"dataframe\">\n",
       "  <thead>\n",
       "    <tr style=\"text-align: right;\">\n",
       "      <th></th>\n",
       "      <th>StatCode5</th>\n",
       "      <th>ShipTypeLevel1</th>\n",
       "      <th>ShipTypeLevel2</th>\n",
       "      <th>ShipTypeLevel3</th>\n",
       "      <th>ShipTypeLevel4</th>\n",
       "      <th>ShipTypeLevel5</th>\n",
       "      <th>SubGroup</th>\n",
       "      <th>SubType</th>\n",
       "    </tr>\n",
       "  </thead>\n",
       "  <tbody>\n",
       "    <tr>\n",
       "      <th>0</th>\n",
       "      <td>A11A2TN</td>\n",
       "      <td>Cargo Carrying</td>\n",
       "      <td>Tankers</td>\n",
       "      <td>Liquefied Gas</td>\n",
       "      <td>LNG Tanker</td>\n",
       "      <td>LNG Tanker</td>\n",
       "      <td>Petroleum Products</td>\n",
       "      <td>LNG Tanker</td>\n",
       "    </tr>\n",
       "    <tr>\n",
       "      <th>1</th>\n",
       "      <td>A11A2TQ</td>\n",
       "      <td>Cargo Carrying</td>\n",
       "      <td>Tankers</td>\n",
       "      <td>Liquefied Gas</td>\n",
       "      <td>LNG Tanker</td>\n",
       "      <td>CNG Tanker</td>\n",
       "      <td>Petroleum Products</td>\n",
       "      <td>CNG Tanker</td>\n",
       "    </tr>\n",
       "  </tbody>\n",
       "</table>\n",
       "</div>"
      ],
      "text/plain": [
       "  StatCode5  ShipTypeLevel1 ShipTypeLevel2 ShipTypeLevel3 ShipTypeLevel4  \\\n",
       "0   A11A2TN  Cargo Carrying        Tankers  Liquefied Gas     LNG Tanker   \n",
       "1   A11A2TQ  Cargo Carrying        Tankers  Liquefied Gas     LNG Tanker   \n",
       "\n",
       "  ShipTypeLevel5            SubGroup     SubType  \n",
       "0     LNG Tanker  Petroleum Products  LNG Tanker  \n",
       "1     CNG Tanker  Petroleum Products  CNG Tanker  "
      ]
     },
     "execution_count": 10,
     "metadata": {},
     "output_type": "execute_result"
    }
   ],
   "source": [
    "ship_codes.head(2)"
   ]
  },
  {
   "cell_type": "code",
   "execution_count": 11,
   "id": "e18f6863-0387-42fd-8fa1-f0f54973847c",
   "metadata": {},
   "outputs": [
    {
     "data": {
      "text/html": [
       "<div>\n",
       "<style scoped>\n",
       "    .dataframe tbody tr th:only-of-type {\n",
       "        vertical-align: middle;\n",
       "    }\n",
       "\n",
       "    .dataframe tbody tr th {\n",
       "        vertical-align: top;\n",
       "    }\n",
       "\n",
       "    .dataframe thead th {\n",
       "        text-align: right;\n",
       "    }\n",
       "</style>\n",
       "<table border=\"1\" class=\"dataframe\">\n",
       "  <thead>\n",
       "    <tr style=\"text-align: right;\">\n",
       "      <th></th>\n",
       "      <th>StatCode5</th>\n",
       "      <th>MaritimeMobileServiceIdentityMMSINumber</th>\n",
       "      <th>ShipStatusEffectiveDate</th>\n",
       "      <th>ShiptypeLevel5</th>\n",
       "      <th>LRIMOShipNo</th>\n",
       "      <th>FuelConsumptionTotal</th>\n",
       "      <th>GrossTonnage</th>\n",
       "      <th>NetTonnage</th>\n",
       "    </tr>\n",
       "  </thead>\n",
       "  <tbody>\n",
       "    <tr>\n",
       "      <th>0</th>\n",
       "      <td>X11A2YP</td>\n",
       "      <td>NaN</td>\n",
       "      <td>19610000</td>\n",
       "      <td>Yacht</td>\n",
       "      <td>1000019</td>\n",
       "      <td>0.0</td>\n",
       "      <td>551</td>\n",
       "      <td>165</td>\n",
       "    </tr>\n",
       "    <tr>\n",
       "      <th>1</th>\n",
       "      <td>X11A2YP</td>\n",
       "      <td>NaN</td>\n",
       "      <td>19951000</td>\n",
       "      <td>Yacht</td>\n",
       "      <td>1000021</td>\n",
       "      <td>0.0</td>\n",
       "      <td>1980</td>\n",
       "      <td>588</td>\n",
       "    </tr>\n",
       "  </tbody>\n",
       "</table>\n",
       "</div>"
      ],
      "text/plain": [
       "  StatCode5  MaritimeMobileServiceIdentityMMSINumber  ShipStatusEffectiveDate  \\\n",
       "0   X11A2YP                                      NaN                 19610000   \n",
       "1   X11A2YP                                      NaN                 19951000   \n",
       "\n",
       "  ShiptypeLevel5  LRIMOShipNo  FuelConsumptionTotal  GrossTonnage  NetTonnage  \n",
       "0          Yacht      1000019                   0.0           551         165  \n",
       "1          Yacht      1000021                   0.0          1980         588  "
      ]
     },
     "execution_count": 11,
     "metadata": {},
     "output_type": "execute_result"
    }
   ],
   "source": [
    "ship_data.head(2)"
   ]
  },
  {
   "cell_type": "code",
   "execution_count": 22,
   "id": "c0b4b397-a379-46b5-8c13-1c314ed62d10",
   "metadata": {},
   "outputs": [],
   "source": [
    "ship_data_enriched = ship_data.merge(ship_codes, on = \"StatCode5\").value_counts('ShipTypeLevel1', normalize = True)"
   ]
  },
  {
   "cell_type": "code",
   "execution_count": 26,
   "id": "7fae1477-0ea5-48d6-8d20-2778beda4ea8",
   "metadata": {},
   "outputs": [
    {
     "data": {
      "text/plain": [
       "ShipTypeLevel1\n",
       "Cargo Carrying                 0.508045\n",
       "Work Vessel                    0.419286\n",
       "Non Merchant                   0.037187\n",
       "Non Seagoing Merchant Ships    0.014563\n",
       "Non Propelled                  0.012390\n",
       "Non Ship Structure             0.008528\n",
       "dtype: float64"
      ]
     },
     "execution_count": 26,
     "metadata": {},
     "output_type": "execute_result"
    }
   ],
   "source": [
    "ship_data_enriched"
   ]
  }
 ],
 "metadata": {
  "kernelspec": {
   "display_name": "Python 3 (ipykernel)",
   "language": "python",
   "name": "python3"
  },
  "language_info": {
   "codemirror_mode": {
    "name": "ipython",
    "version": 3
   },
   "file_extension": ".py",
   "mimetype": "text/x-python",
   "name": "python",
   "nbconvert_exporter": "python",
   "pygments_lexer": "ipython3",
   "version": "3.10.4"
  }
 },
 "nbformat": 4,
 "nbformat_minor": 5
}
