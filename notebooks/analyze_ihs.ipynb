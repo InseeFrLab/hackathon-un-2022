{
 "cells": [
  {
   "cell_type": "code",
   "execution_count": 9,
   "id": "2717c0f4-7874-4a6a-baf4-c289319d7c8f",
   "metadata": {},
   "outputs": [],
   "source": [
    "import s3fs\n",
    "import pandas as pd\n",
    "\n",
    "path = \"IHS/ship_data.csv\"\n",
    "bucket = \"projet-hackathon-un-2022\"\n",
    "\n",
    "fs = s3fs.S3FileSystem(\n",
    "  client_kwargs={'endpoint_url': 'https://minio.lab.sspcloud.fr'}\n",
    ")\n",
    "\n",
    "ship_data = pd.read_csv(fs.open(f'{bucket}/{path}',\n",
    "                         mode='rb'))\n",
    "ship_codes = pd.read_csv(fs.open(f'{bucket}/{path}'.replace(\"data\",\"codes\"),\n",
    "                         mode='rb')\n",
    "                 )"
   ]
  },
  {
   "cell_type": "code",
   "execution_count": 10,
   "id": "bc67ce0e-c287-4089-a23c-bb5552882797",
   "metadata": {},
   "outputs": [
    {
     "data": {
      "text/html": [
       "<div>\n",
       "<style scoped>\n",
       "    .dataframe tbody tr th:only-of-type {\n",
       "        vertical-align: middle;\n",
       "    }\n",
       "\n",
       "    .dataframe tbody tr th {\n",
       "        vertical-align: top;\n",
       "    }\n",
       "\n",
       "    .dataframe thead th {\n",
       "        text-align: right;\n",
       "    }\n",
       "</style>\n",
       "<table border=\"1\" class=\"dataframe\">\n",
       "  <thead>\n",
       "    <tr style=\"text-align: right;\">\n",
       "      <th></th>\n",
       "      <th>StatCode5</th>\n",
       "      <th>ShipTypeLevel1</th>\n",
       "      <th>ShipTypeLevel2</th>\n",
       "      <th>ShipTypeLevel3</th>\n",
       "      <th>ShipTypeLevel4</th>\n",
       "      <th>ShipTypeLevel5</th>\n",
       "      <th>SubGroup</th>\n",
       "      <th>SubType</th>\n",
       "    </tr>\n",
       "  </thead>\n",
       "  <tbody>\n",
       "    <tr>\n",
       "      <th>0</th>\n",
       "      <td>A11A2TN</td>\n",
       "      <td>Cargo Carrying</td>\n",
       "      <td>Tankers</td>\n",
       "      <td>Liquefied Gas</td>\n",
       "      <td>LNG Tanker</td>\n",
       "      <td>LNG Tanker</td>\n",
       "      <td>Petroleum Products</td>\n",
       "      <td>LNG Tanker</td>\n",
       "    </tr>\n",
       "    <tr>\n",
       "      <th>1</th>\n",
       "      <td>A11A2TQ</td>\n",
       "      <td>Cargo Carrying</td>\n",
       "      <td>Tankers</td>\n",
       "      <td>Liquefied Gas</td>\n",
       "      <td>LNG Tanker</td>\n",
       "      <td>CNG Tanker</td>\n",
       "      <td>Petroleum Products</td>\n",
       "      <td>CNG Tanker</td>\n",
       "    </tr>\n",
       "  </tbody>\n",
       "</table>\n",
       "</div>"
      ],
      "text/plain": [
       "  StatCode5  ShipTypeLevel1 ShipTypeLevel2 ShipTypeLevel3 ShipTypeLevel4  \\\n",
       "0   A11A2TN  Cargo Carrying        Tankers  Liquefied Gas     LNG Tanker   \n",
       "1   A11A2TQ  Cargo Carrying        Tankers  Liquefied Gas     LNG Tanker   \n",
       "\n",
       "  ShipTypeLevel5            SubGroup     SubType  \n",
       "0     LNG Tanker  Petroleum Products  LNG Tanker  \n",
       "1     CNG Tanker  Petroleum Products  CNG Tanker  "
      ]
     },
     "execution_count": 10,
     "metadata": {},
     "output_type": "execute_result"
    }
   ],
   "source": [
    "ship_codes.head(2)"
   ]
  },
  {
   "cell_type": "code",
   "execution_count": 11,
   "id": "e18f6863-0387-42fd-8fa1-f0f54973847c",
   "metadata": {},
   "outputs": [
    {
     "data": {
      "text/html": [
       "<div>\n",
       "<style scoped>\n",
       "    .dataframe tbody tr th:only-of-type {\n",
       "        vertical-align: middle;\n",
       "    }\n",
       "\n",
       "    .dataframe tbody tr th {\n",
       "        vertical-align: top;\n",
       "    }\n",
       "\n",
       "    .dataframe thead th {\n",
       "        text-align: right;\n",
       "    }\n",
       "</style>\n",
       "<table border=\"1\" class=\"dataframe\">\n",
       "  <thead>\n",
       "    <tr style=\"text-align: right;\">\n",
       "      <th></th>\n",
       "      <th>StatCode5</th>\n",
       "      <th>MaritimeMobileServiceIdentityMMSINumber</th>\n",
       "      <th>ShipStatusEffectiveDate</th>\n",
       "      <th>ShiptypeLevel5</th>\n",
       "      <th>LRIMOShipNo</th>\n",
       "      <th>FuelConsumptionTotal</th>\n",
       "      <th>GrossTonnage</th>\n",
       "      <th>NetTonnage</th>\n",
       "    </tr>\n",
       "  </thead>\n",
       "  <tbody>\n",
       "    <tr>\n",
       "      <th>0</th>\n",
       "      <td>X11A2YP</td>\n",
       "      <td>NaN</td>\n",
       "      <td>19610000</td>\n",
       "      <td>Yacht</td>\n",
       "      <td>1000019</td>\n",
       "      <td>0.0</td>\n",
       "      <td>551</td>\n",
       "      <td>165</td>\n",
       "    </tr>\n",
       "    <tr>\n",
       "      <th>1</th>\n",
       "      <td>X11A2YP</td>\n",
       "      <td>NaN</td>\n",
       "      <td>19951000</td>\n",
       "      <td>Yacht</td>\n",
       "      <td>1000021</td>\n",
       "      <td>0.0</td>\n",
       "      <td>1980</td>\n",
       "      <td>588</td>\n",
       "    </tr>\n",
       "  </tbody>\n",
       "</table>\n",
       "</div>"
      ],
      "text/plain": [
       "  StatCode5  MaritimeMobileServiceIdentityMMSINumber  ShipStatusEffectiveDate  \\\n",
       "0   X11A2YP                                      NaN                 19610000   \n",
       "1   X11A2YP                                      NaN                 19951000   \n",
       "\n",
       "  ShiptypeLevel5  LRIMOShipNo  FuelConsumptionTotal  GrossTonnage  NetTonnage  \n",
       "0          Yacht      1000019                   0.0           551         165  \n",
       "1          Yacht      1000021                   0.0          1980         588  "
      ]
     },
     "execution_count": 11,
     "metadata": {},
     "output_type": "execute_result"
    }
   ],
   "source": [
    "ship_data.head(2)"
   ]
  },
  {
   "cell_type": "code",
   "execution_count": 90,
   "id": "c0b4b397-a379-46b5-8c13-1c314ed62d10",
   "metadata": {},
   "outputs": [
    {
     "data": {
      "text/plain": [
       "ShipTypeLevel1\n",
       "Cargo Carrying                 0.508045\n",
       "Work Vessel                    0.419286\n",
       "Non Merchant                   0.037187\n",
       "Non Seagoing Merchant Ships    0.014563\n",
       "Non Propelled                  0.012390\n",
       "Non Ship Structure             0.008528\n",
       "dtype: float64"
      ]
     },
     "execution_count": 90,
     "metadata": {},
     "output_type": "execute_result"
    }
   ],
   "source": [
    "ship_data_enriched = ship_data.merge(ship_codes, on = \"StatCode5\")\n",
    "ship_data_enriched.value_counts('ShipTypeLevel1', normalize = True)"
   ]
  },
  {
   "cell_type": "code",
   "execution_count": 54,
   "id": "0f11cb01-6731-4d96-9adc-9a570d197e2d",
   "metadata": {},
   "outputs": [],
   "source": [
    "AIS = pd.read_parquet(fs.open(f'{bucket}/AIS/ais_azov_20220101_20220107.parquet',\n",
    "                         mode='rb'))"
   ]
  },
  {
   "cell_type": "code",
   "execution_count": null,
   "id": "e1d59de6-127b-47c7-b5a9-fa0690629988",
   "metadata": {},
   "outputs": [],
   "source": [
    "import geopandas as gpd\n",
    "import contextily as ctx\n",
    "\n",
    "AIS_sample = AIS.loc[AIS['mmsi'] == 272168100]\n",
    "example = gpd.GeoDataFrame(\n",
    "    AIS_sample,\n",
    "    geometry = gpd.points_from_xy(AIS_sample.longitude, AIS_sample.latitude),\n",
    "    crs = 4326\n",
    ")\n",
    "\n",
    "ax = example.plot()\n",
    "ctx.add_basemap(ax, source = ctx.providers.Stamen.Watercolor, crs = 4326)\n",
    "ax.set_axis_off()"
   ]
  },
  {
   "cell_type": "code",
   "execution_count": 81,
   "id": "1b59b311-87a8-4503-ac40-529c226913b8",
   "metadata": {},
   "outputs": [],
   "source": [
    "import folium\n",
    "\n",
    "center = AIS_sample[['latitude', 'longitude']].mean().values.tolist()\n",
    "sw = AIS_sample[['latitude', 'longitude']].min().values.tolist()\n",
    "ne = AIS_sample[['latitude', 'longitude']].max().values.tolist()\n",
    "\n",
    "m = folium.Map(location = center, tiles='Stamen Toner')\n",
    "    \n",
    "for i in range(0,len(AIS_sample)):\n",
    "    folium.Marker([AIS_sample.iloc[i]['latitude'], AIS_sample.iloc[i]['longitude']]).add_to(m)\n",
    "\n",
    "#m"
   ]
  },
  {
   "cell_type": "code",
   "execution_count": 91,
   "id": "7fae1477-0ea5-48d6-8d20-2778beda4ea8",
   "metadata": {},
   "outputs": [
    {
     "data": {
      "text/html": [
       "<div>\n",
       "<style scoped>\n",
       "    .dataframe tbody tr th:only-of-type {\n",
       "        vertical-align: middle;\n",
       "    }\n",
       "\n",
       "    .dataframe tbody tr th {\n",
       "        vertical-align: top;\n",
       "    }\n",
       "\n",
       "    .dataframe thead th {\n",
       "        text-align: right;\n",
       "    }\n",
       "</style>\n",
       "<table border=\"1\" class=\"dataframe\">\n",
       "  <thead>\n",
       "    <tr style=\"text-align: right;\">\n",
       "      <th></th>\n",
       "      <th>StatCode5</th>\n",
       "      <th>MaritimeMobileServiceIdentityMMSINumber</th>\n",
       "      <th>ShipStatusEffectiveDate</th>\n",
       "      <th>ShiptypeLevel5</th>\n",
       "      <th>LRIMOShipNo</th>\n",
       "      <th>FuelConsumptionTotal</th>\n",
       "      <th>GrossTonnage</th>\n",
       "      <th>NetTonnage</th>\n",
       "      <th>ShipTypeLevel1</th>\n",
       "      <th>ShipTypeLevel2</th>\n",
       "      <th>ShipTypeLevel3</th>\n",
       "      <th>ShipTypeLevel4</th>\n",
       "      <th>ShipTypeLevel5</th>\n",
       "      <th>SubGroup</th>\n",
       "      <th>SubType</th>\n",
       "    </tr>\n",
       "  </thead>\n",
       "  <tbody>\n",
       "    <tr>\n",
       "      <th>32578</th>\n",
       "      <td>B11B2FV</td>\n",
       "      <td>525700898.0</td>\n",
       "      <td>19931211</td>\n",
       "      <td>Fishing Vessel</td>\n",
       "      <td>8547236</td>\n",
       "      <td>0.0</td>\n",
       "      <td>125</td>\n",
       "      <td>52</td>\n",
       "      <td>Work Vessel</td>\n",
       "      <td>Fishing</td>\n",
       "      <td>Fish Catching</td>\n",
       "      <td>Fishing Vessel</td>\n",
       "      <td>Fishing Vessel</td>\n",
       "      <td>Fishing</td>\n",
       "      <td>Fishing Vessel</td>\n",
       "    </tr>\n",
       "    <tr>\n",
       "      <th>127516</th>\n",
       "      <td>A13B2TP</td>\n",
       "      <td>NaN</td>\n",
       "      <td>20111230</td>\n",
       "      <td>Products Tanker</td>\n",
       "      <td>7383360</td>\n",
       "      <td>41.5</td>\n",
       "      <td>17679</td>\n",
       "      <td>9781</td>\n",
       "      <td>Cargo Carrying</td>\n",
       "      <td>Tankers</td>\n",
       "      <td>Oil</td>\n",
       "      <td>Oil Products Tanker</td>\n",
       "      <td>Products Tanker</td>\n",
       "      <td>Petroleum Products</td>\n",
       "      <td>Products Tanker</td>\n",
       "    </tr>\n",
       "    <tr>\n",
       "      <th>162419</th>\n",
       "      <td>A36A2PR</td>\n",
       "      <td>431005219.0</td>\n",
       "      <td>20210130</td>\n",
       "      <td>Passenger/Ro-Ro Ship (Vehicles)</td>\n",
       "      <td>9666699</td>\n",
       "      <td>0.0</td>\n",
       "      <td>5380</td>\n",
       "      <td>0</td>\n",
       "      <td>Cargo Carrying</td>\n",
       "      <td>Dry Cargo/Passenger</td>\n",
       "      <td>Passenger/Ro-Ro Cargo</td>\n",
       "      <td>Passenger/Ro-Ro Cargo Ship</td>\n",
       "      <td>Passenger/Ro-Ro Ship (Vehicles)</td>\n",
       "      <td>Passenger</td>\n",
       "      <td>Passenger/Ro-Ro Ship (Vehicles)</td>\n",
       "    </tr>\n",
       "  </tbody>\n",
       "</table>\n",
       "</div>"
      ],
      "text/plain": [
       "       StatCode5  MaritimeMobileServiceIdentityMMSINumber  \\\n",
       "32578    B11B2FV                              525700898.0   \n",
       "127516   A13B2TP                                      NaN   \n",
       "162419   A36A2PR                              431005219.0   \n",
       "\n",
       "        ShipStatusEffectiveDate                   ShiptypeLevel5  LRIMOShipNo  \\\n",
       "32578                  19931211                   Fishing Vessel      8547236   \n",
       "127516                 20111230                  Products Tanker      7383360   \n",
       "162419                 20210130  Passenger/Ro-Ro Ship (Vehicles)      9666699   \n",
       "\n",
       "        FuelConsumptionTotal  GrossTonnage  NetTonnage  ShipTypeLevel1  \\\n",
       "32578                    0.0           125          52     Work Vessel   \n",
       "127516                  41.5         17679        9781  Cargo Carrying   \n",
       "162419                   0.0          5380           0  Cargo Carrying   \n",
       "\n",
       "             ShipTypeLevel2         ShipTypeLevel3  \\\n",
       "32578               Fishing          Fish Catching   \n",
       "127516              Tankers                    Oil   \n",
       "162419  Dry Cargo/Passenger  Passenger/Ro-Ro Cargo   \n",
       "\n",
       "                    ShipTypeLevel4                   ShipTypeLevel5  \\\n",
       "32578               Fishing Vessel                   Fishing Vessel   \n",
       "127516         Oil Products Tanker                  Products Tanker   \n",
       "162419  Passenger/Ro-Ro Cargo Ship  Passenger/Ro-Ro Ship (Vehicles)   \n",
       "\n",
       "                  SubGroup                          SubType  \n",
       "32578              Fishing                   Fishing Vessel  \n",
       "127516  Petroleum Products                  Products Tanker  \n",
       "162419           Passenger  Passenger/Ro-Ro Ship (Vehicles)  "
      ]
     },
     "execution_count": 91,
     "metadata": {},
     "output_type": "execute_result"
    }
   ],
   "source": [
    "#(ship_data_enriched['FuelConsumptionTotal'] != 0).mean()\n",
    "ship_data_enriched.sample(3)"
   ]
  },
  {
   "cell_type": "code",
   "execution_count": 86,
   "id": "cc37ddd9-e4c2-45d9-89d4-b2ceecf9aa95",
   "metadata": {},
   "outputs": [
    {
     "data": {
      "text/html": [
       "<div>\n",
       "<style scoped>\n",
       "    .dataframe tbody tr th:only-of-type {\n",
       "        vertical-align: middle;\n",
       "    }\n",
       "\n",
       "    .dataframe tbody tr th {\n",
       "        vertical-align: top;\n",
       "    }\n",
       "\n",
       "    .dataframe thead th {\n",
       "        text-align: right;\n",
       "    }\n",
       "</style>\n",
       "<table border=\"1\" class=\"dataframe\">\n",
       "  <thead>\n",
       "    <tr style=\"text-align: right;\">\n",
       "      <th></th>\n",
       "      <th>hex_resolution</th>\n",
       "      <th>longitude</th>\n",
       "      <th>mmsi</th>\n",
       "      <th>eeid</th>\n",
       "      <th>H3_int_index_8</th>\n",
       "      <th>latitude</th>\n",
       "      <th>dt_insert_utc</th>\n",
       "      <th>polygon_name</th>\n",
       "    </tr>\n",
       "  </thead>\n",
       "  <tbody>\n",
       "    <tr>\n",
       "      <th>0</th>\n",
       "      <td>8</td>\n",
       "      <td>33.333333</td>\n",
       "      <td>272168100</td>\n",
       "      <td>5281533799698068644</td>\n",
       "      <td>613022282759012351</td>\n",
       "      <td>46.758333</td>\n",
       "      <td>2022-01-01 23:53:28</td>\n",
       "      <td>Polygon</td>\n",
       "    </tr>\n",
       "    <tr>\n",
       "      <th>1</th>\n",
       "      <td>8</td>\n",
       "      <td>32.910907</td>\n",
       "      <td>272686000</td>\n",
       "      <td>4861284512643996592</td>\n",
       "      <td>613022403708059647</td>\n",
       "      <td>46.107775</td>\n",
       "      <td>2022-01-01 21:25:23</td>\n",
       "      <td>Polygon</td>\n",
       "    </tr>\n",
       "  </tbody>\n",
       "</table>\n",
       "</div>"
      ],
      "text/plain": [
       "   hex_resolution  longitude       mmsi                 eeid  \\\n",
       "0               8  33.333333  272168100  5281533799698068644   \n",
       "1               8  32.910907  272686000  4861284512643996592   \n",
       "\n",
       "       H3_int_index_8   latitude       dt_insert_utc polygon_name  \n",
       "0  613022282759012351  46.758333 2022-01-01 23:53:28      Polygon  \n",
       "1  613022403708059647  46.107775 2022-01-01 21:25:23      Polygon  "
      ]
     },
     "execution_count": 86,
     "metadata": {},
     "output_type": "execute_result"
    }
   ],
   "source": [
    "AIS.head(2)"
   ]
  },
  {
   "cell_type": "markdown",
   "id": "8c1d29d9-5d2a-452c-b55c-2a7725397611",
   "metadata": {
    "tags": []
   },
   "source": [
    "# Nombre de bateaux"
   ]
  },
  {
   "cell_type": "code",
   "execution_count": 94,
   "id": "01638f76-6b72-4928-97f9-4d6a3c7dbcc7",
   "metadata": {},
   "outputs": [],
   "source": [
    "AIS_enriched = AIS.merge(\n",
    "    ship_data_enriched,left_on = 'mmsi',\n",
    "    right_on = \"MaritimeMobileServiceIdentityMMSINumber\")"
   ]
  },
  {
   "cell_type": "code",
   "execution_count": 109,
   "id": "9b6a602f-2b8c-4f81-bd03-8d2baf72d36b",
   "metadata": {},
   "outputs": [],
   "source": [
    "pd.set_option('display.max_colwidth', None)\n",
    "pd.set_option('display.max_columns', None)"
   ]
  },
  {
   "cell_type": "code",
   "execution_count": 124,
   "id": "23f0361d-c15a-4134-9940-25f17736232c",
   "metadata": {},
   "outputs": [
    {
     "data": {
      "text/plain": [
       "ShipTypeLevel1\n",
       "Cargo Carrying                 394\n",
       "Work Vessel                     88\n",
       "Non Seagoing Merchant Ships      4\n",
       "Non Propelled                    1\n",
       "dtype: int64"
      ]
     },
     "execution_count": 124,
     "metadata": {},
     "output_type": "execute_result"
    }
   ],
   "source": [
    "AIS_enriched.drop_duplicates(subset = \"mmsi\").value_counts(\"ShipTypeLevel1\")\n",
    "#AIS_enriched.filter(like='ShipTypeLevel').apply(pd.Series.value_counts, axis = 0)\n",
    "AIS_enriched.drop_duplicates(subset = \"mmsi\").value_counts(\"ShipTypeLevel1\")"
   ]
  },
  {
   "cell_type": "code",
   "execution_count": 125,
   "id": "8fcda403-b360-4437-99b7-7ac412601a96",
   "metadata": {},
   "outputs": [
    {
     "data": {
      "text/plain": [
       "ShipTypeLevel2\n",
       "Dry Cargo/Passenger            262\n",
       "Tankers                         91\n",
       "Miscellaneous                   82\n",
       "Bulk Carriers                   41\n",
       "Non-Seagoing Merchant Ships      4\n",
       "Fishing                          3\n",
       "Offshore                         3\n",
       "Non-Propelled                    1\n",
       "dtype: int64"
      ]
     },
     "execution_count": 125,
     "metadata": {},
     "output_type": "execute_result"
    }
   ],
   "source": [
    "AIS_enriched.drop_duplicates(subset = \"mmsi\").value_counts(\"ShipTypeLevel2\")"
   ]
  },
  {
   "cell_type": "code",
   "execution_count": 126,
   "id": "32f8cadb-df2e-4890-89f8-220759cc23ed",
   "metadata": {},
   "outputs": [
    {
     "data": {
      "text/plain": [
       "ShipTypeLevel3\n",
       "General Cargo            257\n",
       "Towing / Pushing          57\n",
       "Oil                       52\n",
       "Chemical                  35\n",
       "Bulk Dry                  35\n",
       "Other Activities          17\n",
       "Dredging                   7\n",
       "Bulk Dry / Oil             6\n",
       "Liquefied Gas              4\n",
       "Fish Catching              2\n",
       "Offshore Supply            2\n",
       "Container                  2\n",
       "Other Non-Seagoing         2\n",
       "Passenger/Ro-Ro Cargo      2\n",
       "Tanker                     2\n",
       "Other Fishing              1\n",
       "Other Offshore             1\n",
       "Other activities           1\n",
       "Ro-Ro Cargo                1\n",
       "Barge                      1\n",
       "dtype: int64"
      ]
     },
     "execution_count": 126,
     "metadata": {},
     "output_type": "execute_result"
    }
   ],
   "source": [
    "AIS_enriched.drop_duplicates(subset = \"mmsi\").value_counts(\"ShipTypeLevel3\")"
   ]
  },
  {
   "cell_type": "code",
   "execution_count": 127,
   "id": "f11e697c-2439-490b-aefa-4e914b6232f2",
   "metadata": {},
   "outputs": [
    {
     "data": {
      "text/plain": [
       "ShipTypeLevel4\n",
       "General Cargo Ship                   257\n",
       "Tug                                   46\n",
       "Oil Products Tanker                   44\n",
       "Bulk Carrier                          35\n",
       "Chemical/Oil Products Tanker          34\n",
       "Pusher Tug                            11\n",
       "Crude Oil Tanker                       8\n",
       "Hopper Dredger                         6\n",
       "Ore/Oil Carrier                        6\n",
       "Crane Ship                             5\n",
       "Motor Hopper                           4\n",
       "LPG Tanker                             4\n",
       "Pollution Control Vessel               4\n",
       "Pilot Vessel                           2\n",
       "Passenger/Ro-Ro Cargo Ship             2\n",
       "Container Ship                         2\n",
       "Icebreaker                             2\n",
       "Fishing Vessel                         2\n",
       "Inland Waterways Other Activities      2\n",
       "Bunkering Tanker                       1\n",
       "Inland Waterways Oil Tanker            1\n",
       "Non Propelled Barge                    1\n",
       "Offshore Tug/Supply Ship               1\n",
       "Chemical Tanker                        1\n",
       "Inland Waterways Chemical Tanker       1\n",
       "Pipe Layer                             1\n",
       "Platform Supply Ship                   1\n",
       "Fish Carrier                           1\n",
       "Dredger                                1\n",
       "Ro-Ro Cargo Ship                       1\n",
       "dtype: int64"
      ]
     },
     "execution_count": 127,
     "metadata": {},
     "output_type": "execute_result"
    }
   ],
   "source": [
    "AIS_enriched.drop_duplicates(subset = \"mmsi\").value_counts(\"ShipTypeLevel4\")"
   ]
  },
  {
   "cell_type": "markdown",
   "id": "5fecdf72-0b0f-4666-b1f1-80c683397d64",
   "metadata": {},
   "source": [
    "## Comparaison à la base générale des bateaux\n",
    "\n",
    "Etudes des bateaux dans cette région par rapport aux bateaux en circulation dans le monde.\n",
    "Bateaux médian dans AIS plus gros mais beaucoup moins de gros bateaux (probablement les tankers). "
   ]
  },
  {
   "cell_type": "markdown",
   "id": "20cdeaed-fa65-4d45-99b3-f2c479d0e58e",
   "metadata": {},
   "source": [
    "## Secteur"
   ]
  },
  {
   "cell_type": "code",
   "execution_count": 166,
   "id": "9d4724f9-5f07-4506-b3c6-5b264e18fb4c",
   "metadata": {},
   "outputs": [
    {
     "data": {
      "text/plain": [
       "<AxesSubplot: xlabel='ShipTypeLevel1', ylabel='count'>"
      ]
     },
     "execution_count": 166,
     "metadata": {},
     "output_type": "execute_result"
    },
    {
     "data": {
      "image/png": "[encoded data removed]",
      "text/plain": [
       "<Figure size 640x480 with 1 Axes>"
      ]
     },
     "metadata": {},
     "output_type": "display_data"
    }
   ],
   "source": [
    "x = AIS_enriched.value_counts(\"ShipTypeLevel1\", normalize = True)\n",
    "y = ship_data_enriched.value_counts(\"ShipTypeLevel1\", normalize = True)\n",
    "\n",
    "\n",
    "#import seaborn as sns\n",
    "#cm = sns.light_palette(\"green\", as_cmap=True)\n",
    "\n",
    "temp = pd.concat(\n",
    "    [x.reset_index().assign(source=\"AIS\"),y.reset_index().assign(source=\"Ukraine\")]\n",
    ")\n",
    "temp = temp.rename({0: \"count\"}, axis = 1)\n",
    "\n",
    "sns.barplot(data=temp, x = \"ShipTypeLevel1\", y = \"count\", hue = \"source\")\n",
    "#temp = temp.loc[temp['GrossTonnage'] > 0]"
   ]
  },
  {
   "cell_type": "markdown",
   "id": "f325d275-cab9-49be-ac60-2250342655e1",
   "metadata": {},
   "source": [
    "## Tonnage"
   ]
  },
  {
   "cell_type": "code",
   "execution_count": 132,
   "id": "643452f7-8e45-4bb7-9522-5a79e682e4f3",
   "metadata": {},
   "outputs": [
    {
     "data": {
      "text/html": [
       "<div>\n",
       "<style scoped>\n",
       "    .dataframe tbody tr th:only-of-type {\n",
       "        vertical-align: middle;\n",
       "    }\n",
       "\n",
       "    .dataframe tbody tr th {\n",
       "        vertical-align: top;\n",
       "    }\n",
       "\n",
       "    .dataframe thead th {\n",
       "        text-align: right;\n",
       "    }\n",
       "</style>\n",
       "<table border=\"1\" class=\"dataframe\">\n",
       "  <thead>\n",
       "    <tr style=\"text-align: right;\">\n",
       "      <th></th>\n",
       "      <th>index</th>\n",
       "      <th>GrossTonnage_x</th>\n",
       "      <th>GrossTonnage_y</th>\n",
       "    </tr>\n",
       "  </thead>\n",
       "  <tbody>\n",
       "    <tr>\n",
       "      <th>0</th>\n",
       "      <td>count</td>\n",
       "      <td>120028.000000</td>\n",
       "      <td>246724.000000</td>\n",
       "    </tr>\n",
       "    <tr>\n",
       "      <th>1</th>\n",
       "      <td>mean</td>\n",
       "      <td>7566.910804</td>\n",
       "      <td>10824.313930</td>\n",
       "    </tr>\n",
       "    <tr>\n",
       "      <th>2</th>\n",
       "      <td>std</td>\n",
       "      <td>14524.910267</td>\n",
       "      <td>25176.081685</td>\n",
       "    </tr>\n",
       "    <tr>\n",
       "      <th>3</th>\n",
       "      <td>min</td>\n",
       "      <td>80.000000</td>\n",
       "      <td>0.000000</td>\n",
       "    </tr>\n",
       "    <tr>\n",
       "      <th>4</th>\n",
       "      <td>25%</td>\n",
       "      <td>997.000000</td>\n",
       "      <td>207.000000</td>\n",
       "    </tr>\n",
       "    <tr>\n",
       "      <th>5</th>\n",
       "      <td>50%</td>\n",
       "      <td>2802.000000</td>\n",
       "      <td>773.000000</td>\n",
       "    </tr>\n",
       "    <tr>\n",
       "      <th>6</th>\n",
       "      <td>75%</td>\n",
       "      <td>5684.000000</td>\n",
       "      <td>7913.000000</td>\n",
       "    </tr>\n",
       "    <tr>\n",
       "      <th>7</th>\n",
       "      <td>max</td>\n",
       "      <td>91205.000000</td>\n",
       "      <td>499167.000000</td>\n",
       "    </tr>\n",
       "  </tbody>\n",
       "</table>\n",
       "</div>"
      ],
      "text/plain": [
       "   index  GrossTonnage_x  GrossTonnage_y\n",
       "0  count   120028.000000   246724.000000\n",
       "1   mean     7566.910804    10824.313930\n",
       "2    std    14524.910267    25176.081685\n",
       "3    min       80.000000        0.000000\n",
       "4    25%      997.000000      207.000000\n",
       "5    50%     2802.000000      773.000000\n",
       "6    75%     5684.000000     7913.000000\n",
       "7    max    91205.000000   499167.000000"
      ]
     },
     "execution_count": 132,
     "metadata": {},
     "output_type": "execute_result"
    }
   ],
   "source": [
    "AIS_enriched['GrossTonnage'].describe().reset_index().merge(\n",
    "    ship_data_enriched['GrossTonnage'].describe().reset_index(),\n",
    "    on = \"index\")"
   ]
  },
  {
   "cell_type": "code",
   "execution_count": 134,
   "id": "d822b9b1-5b3d-4347-bf8c-07bd17e2b484",
   "metadata": {},
   "outputs": [
    {
     "data": {
      "text/html": [
       "<div>\n",
       "<style scoped>\n",
       "    .dataframe tbody tr th:only-of-type {\n",
       "        vertical-align: middle;\n",
       "    }\n",
       "\n",
       "    .dataframe tbody tr th {\n",
       "        vertical-align: top;\n",
       "    }\n",
       "\n",
       "    .dataframe thead th {\n",
       "        text-align: right;\n",
       "    }\n",
       "</style>\n",
       "<table border=\"1\" class=\"dataframe\">\n",
       "  <thead>\n",
       "    <tr style=\"text-align: right;\">\n",
       "      <th></th>\n",
       "      <th>index</th>\n",
       "      <th>GrossTonnage_x</th>\n",
       "      <th>GrossTonnage_y</th>\n",
       "    </tr>\n",
       "  </thead>\n",
       "  <tbody>\n",
       "    <tr>\n",
       "      <th>0</th>\n",
       "      <td>count</td>\n",
       "      <td>84217.000000</td>\n",
       "      <td>125347.000000</td>\n",
       "    </tr>\n",
       "    <tr>\n",
       "      <th>1</th>\n",
       "      <td>mean</td>\n",
       "      <td>10488.142881</td>\n",
       "      <td>19730.784040</td>\n",
       "    </tr>\n",
       "    <tr>\n",
       "      <th>2</th>\n",
       "      <td>std</td>\n",
       "      <td>16474.478699</td>\n",
       "      <td>31711.833818</td>\n",
       "    </tr>\n",
       "    <tr>\n",
       "      <th>3</th>\n",
       "      <td>min</td>\n",
       "      <td>997.000000</td>\n",
       "      <td>0.000000</td>\n",
       "    </tr>\n",
       "    <tr>\n",
       "      <th>4</th>\n",
       "      <td>25%</td>\n",
       "      <td>2592.000000</td>\n",
       "      <td>999.000000</td>\n",
       "    </tr>\n",
       "    <tr>\n",
       "      <th>5</th>\n",
       "      <td>50%</td>\n",
       "      <td>4873.000000</td>\n",
       "      <td>6126.000000</td>\n",
       "    </tr>\n",
       "    <tr>\n",
       "      <th>6</th>\n",
       "      <td>75%</td>\n",
       "      <td>6988.000000</td>\n",
       "      <td>25710.000000</td>\n",
       "    </tr>\n",
       "    <tr>\n",
       "      <th>7</th>\n",
       "      <td>max</td>\n",
       "      <td>91205.000000</td>\n",
       "      <td>275268.000000</td>\n",
       "    </tr>\n",
       "  </tbody>\n",
       "</table>\n",
       "</div>"
      ],
      "text/plain": [
       "   index  GrossTonnage_x  GrossTonnage_y\n",
       "0  count    84217.000000   125347.000000\n",
       "1   mean    10488.142881    19730.784040\n",
       "2    std    16474.478699    31711.833818\n",
       "3    min      997.000000        0.000000\n",
       "4    25%     2592.000000      999.000000\n",
       "5    50%     4873.000000     6126.000000\n",
       "6    75%     6988.000000    25710.000000\n",
       "7    max    91205.000000   275268.000000"
      ]
     },
     "execution_count": 134,
     "metadata": {},
     "output_type": "execute_result"
    }
   ],
   "source": [
    "AIS_enriched.loc[AIS_enriched['ShipTypeLevel1'] == \"Cargo Carrying\"]['GrossTonnage'].describe().reset_index().merge(\n",
    "    ship_data_enriched.loc[ship_data_enriched['ShipTypeLevel1'] == \"Cargo Carrying\"]['GrossTonnage'].describe().reset_index(),\n",
    "    on = \"index\")"
   ]
  },
  {
   "cell_type": "code",
   "execution_count": 148,
   "id": "2f652fac-5c65-440c-adc1-9dde903d8110",
   "metadata": {},
   "outputs": [
    {
     "data": {
      "text/plain": [
       "<AxesSubplot: xlabel='GrossTonnage', ylabel='Count'>"
      ]
     },
     "execution_count": 148,
     "metadata": {},
     "output_type": "execute_result"
    },
    {
     "data": {
      "image/png": "[encoded data removed]",
      "text/plain": [
       "<Figure size 640x480 with 1 Axes>"
      ]
     },
     "metadata": {},
     "output_type": "display_data"
    }
   ],
   "source": [
    "import seaborn as sns\n",
    "import matplotlib.pyplot as plt\n",
    "\n",
    "x = AIS_enriched.loc[AIS_enriched['ShipTypeLevel1'] == \"Cargo Carrying\"]#['GrossTonnage']\n",
    "y = ship_data_enriched.loc[ship_data_enriched['ShipTypeLevel1'] == \"Cargo Carrying\"]#['GrossTonnage']\n",
    "\n",
    "temp = pd.concat(\n",
    "    [x.assign(source=\"AIS\"),y.assign(source=\"Ukraine\")]\n",
    ")\n",
    "temp = temp.loc[temp['GrossTonnage'] > 0]\n",
    "\n",
    "sns.histplot(data=temp, x = \"GrossTonnage\", hue = \"source\", log_scale=True)"
   ]
  }
 ],
 "metadata": {
  "kernelspec": {
   "display_name": "Python 3 (ipykernel)",
   "language": "python",
   "name": "python3"
  },
  "language_info": {
   "codemirror_mode": {
    "name": "ipython",
    "version": 3
   },
   "file_extension": ".py",
   "mimetype": "text/x-python",
   "name": "python",
   "nbconvert_exporter": "python",
   "pygments_lexer": "ipython3",
   "version": "3.10.4"
  }
 },
 "nbformat": 4,
 "nbformat_minor": 5
}
